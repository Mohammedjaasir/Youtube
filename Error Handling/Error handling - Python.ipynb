{
 "cells": [
  {
   "cell_type": "markdown",
   "id": "04dc5f01-5c4a-4ae2-8609-2e3d00579696",
   "metadata": {},
   "source": [
    "# Exception Handling In Python"
   ]
  },
  {
   "cell_type": "code",
   "execution_count": 5,
   "id": "0f16b764-a0ca-42fb-a567-d5f2959d7a60",
   "metadata": {},
   "outputs": [],
   "source": [
    "num = 10\n",
    "den = 0"
   ]
  },
  {
   "cell_type": "code",
   "execution_count": 6,
   "id": "1ec77485-5795-4e2d-b2b4-e14d6564ee4a",
   "metadata": {},
   "outputs": [
    {
     "ename": "ZeroDivisionError",
     "evalue": "division by zero",
     "output_type": "error",
     "traceback": [
      "\u001b[0;31m---------------------------------------------------------------------------\u001b[0m",
      "\u001b[0;31mZeroDivisionError\u001b[0m                         Traceback (most recent call last)",
      "Cell \u001b[0;32mIn[6], line 1\u001b[0m\n\u001b[0;32m----> 1\u001b[0m ans \u001b[38;5;241m=\u001b[39m num\u001b[38;5;241m/\u001b[39mden\n\u001b[1;32m      3\u001b[0m \u001b[38;5;28mprint\u001b[39m(\u001b[38;5;124m\"\u001b[39m\u001b[38;5;124mSome most important code\u001b[39m\u001b[38;5;124m\"\u001b[39m)\n\u001b[1;32m      5\u001b[0m \u001b[38;5;28mprint\u001b[39m(\u001b[38;5;124m\"\u001b[39m\u001b[38;5;124mimportant Code snippet 1\u001b[39m\u001b[38;5;124m\"\u001b[39m)\n",
      "\u001b[0;31mZeroDivisionError\u001b[0m: division by zero"
     ]
    }
   ],
   "source": [
    "ans = num/den\n",
    "\n",
    "print(\"Some most important code\")\n",
    "\n",
    "print(\"important Code snippet 1\")"
   ]
  },
  {
   "cell_type": "code",
   "execution_count": null,
   "id": "938d5f39-d2ae-4cb0-96c1-0ed52a586c4c",
   "metadata": {},
   "outputs": [],
   "source": [
    "print(num)"
   ]
  },
  {
   "cell_type": "code",
   "execution_count": null,
   "id": "67187849-6244-430a-bbab-b4ba3e6e7270",
   "metadata": {},
   "outputs": [],
   "source": []
  },
  {
   "cell_type": "code",
   "execution_count": null,
   "id": "090a10c1-4581-4912-a654-9ae839530425",
   "metadata": {},
   "outputs": [],
   "source": []
  },
  {
   "cell_type": "code",
   "execution_count": 9,
   "id": "49689c6a-f462-4134-a8bb-c8b1668b22d2",
   "metadata": {},
   "outputs": [
    {
     "ename": "SyntaxError",
     "evalue": "Missing parentheses in call to 'print'. Did you mean print(...)? (4148838965.py, line 1)",
     "output_type": "error",
     "traceback": [
      "\u001b[0;36m  Cell \u001b[0;32mIn[9], line 1\u001b[0;36m\u001b[0m\n\u001b[0;31m    print num\u001b[0m\n\u001b[0m    ^\u001b[0m\n\u001b[0;31mSyntaxError\u001b[0m\u001b[0;31m:\u001b[0m Missing parentheses in call to 'print'. Did you mean print(...)?\n"
     ]
    }
   ],
   "source": [
    "print num"
   ]
  },
  {
   "cell_type": "code",
   "execution_count": 11,
   "id": "094577d6-1633-4d06-931d-3018f07d9360",
   "metadata": {},
   "outputs": [
    {
     "ename": "NameError",
     "evalue": "name 'number' is not defined",
     "output_type": "error",
     "traceback": [
      "\u001b[0;31m---------------------------------------------------------------------------\u001b[0m",
      "\u001b[0;31mNameError\u001b[0m                                 Traceback (most recent call last)",
      "Cell \u001b[0;32mIn[11], line 1\u001b[0m\n\u001b[0;32m----> 1\u001b[0m \u001b[38;5;28mprint\u001b[39m(number)\n",
      "\u001b[0;31mNameError\u001b[0m: name 'number' is not defined"
     ]
    }
   ],
   "source": [
    "print(number)"
   ]
  },
  {
   "cell_type": "code",
   "execution_count": null,
   "id": "a222cc1c-b451-4abd-a215-068170a8860e",
   "metadata": {},
   "outputs": [],
   "source": []
  },
  {
   "cell_type": "code",
   "execution_count": 13,
   "id": "9d700d45-03b4-4431-878c-6f657e11882c",
   "metadata": {},
   "outputs": [
    {
     "ename": "SyntaxError",
     "evalue": "invalid syntax (1552369136.py, line 1)",
     "output_type": "error",
     "traceback": [
      "\u001b[0;36m  Cell \u001b[0;32mIn[13], line 1\u001b[0;36m\u001b[0m\n\u001b[0;31m    if\u001b[0m\n\u001b[0m       ^\u001b[0m\n\u001b[0;31mSyntaxError\u001b[0m\u001b[0;31m:\u001b[0m invalid syntax\n"
     ]
    }
   ],
   "source": [
    "if \n",
    "    num == 5"
   ]
  },
  {
   "cell_type": "code",
   "execution_count": 17,
   "id": "faeb5a3f-5104-4156-9ec7-3cc55f4bdd4c",
   "metadata": {},
   "outputs": [
    {
     "ename": "TypeError",
     "evalue": "unsupported operand type(s) for +: 'int' and 'str'",
     "output_type": "error",
     "traceback": [
      "\u001b[0;31m---------------------------------------------------------------------------\u001b[0m",
      "\u001b[0;31mTypeError\u001b[0m                                 Traceback (most recent call last)",
      "Cell \u001b[0;32mIn[17], line 1\u001b[0m\n\u001b[0;32m----> 1\u001b[0m \u001b[38;5;241m1\u001b[39m \u001b[38;5;241m+\u001b[39m \u001b[38;5;124m'\u001b[39m\u001b[38;5;124ma\u001b[39m\u001b[38;5;124m'\u001b[39m\n",
      "\u001b[0;31mTypeError\u001b[0m: unsupported operand type(s) for +: 'int' and 'str'"
     ]
    }
   ],
   "source": [
    "1 + 'a'"
   ]
  },
  {
   "cell_type": "code",
   "execution_count": 19,
   "id": "effbd86b-e150-45a7-b597-6a17480f77cb",
   "metadata": {},
   "outputs": [
    {
     "ename": "KeyError",
     "evalue": "'key2'",
     "output_type": "error",
     "traceback": [
      "\u001b[0;31m---------------------------------------------------------------------------\u001b[0m",
      "\u001b[0;31mKeyError\u001b[0m                                  Traceback (most recent call last)",
      "Cell \u001b[0;32mIn[19], line 5\u001b[0m\n\u001b[1;32m      1\u001b[0m \u001b[38;5;66;03m# Key Error\u001b[39;00m\n\u001b[1;32m      3\u001b[0m d \u001b[38;5;241m=\u001b[39m {\u001b[38;5;124m\"\u001b[39m\u001b[38;5;124mkey1\u001b[39m\u001b[38;5;124m\"\u001b[39m:\u001b[38;5;124m\"\u001b[39m\u001b[38;5;124mvalue1\u001b[39m\u001b[38;5;124m\"\u001b[39m}\n\u001b[0;32m----> 5\u001b[0m d[\u001b[38;5;124m\"\u001b[39m\u001b[38;5;124mkey2\u001b[39m\u001b[38;5;124m\"\u001b[39m]\n",
      "\u001b[0;31mKeyError\u001b[0m: 'key2'"
     ]
    }
   ],
   "source": [
    "# Key Error\n",
    "\n",
    "d = {\"key1\":\"value1\"}\n",
    "\n",
    "d[\"key2\"]"
   ]
  },
  {
   "cell_type": "code",
   "execution_count": 21,
   "id": "5c8ca42b-8192-44df-81d3-c8708d5b6d38",
   "metadata": {},
   "outputs": [
    {
     "ename": "IndexError",
     "evalue": "list index out of range",
     "output_type": "error",
     "traceback": [
      "\u001b[0;31m---------------------------------------------------------------------------\u001b[0m",
      "\u001b[0;31mIndexError\u001b[0m                                Traceback (most recent call last)",
      "Cell \u001b[0;32mIn[21], line 5\u001b[0m\n\u001b[1;32m      1\u001b[0m \u001b[38;5;66;03m# Index Error\u001b[39;00m\n\u001b[1;32m      3\u001b[0m l1 \u001b[38;5;241m=\u001b[39m [\u001b[38;5;241m1\u001b[39m,\u001b[38;5;241m2\u001b[39m,\u001b[38;5;241m3\u001b[39m,\u001b[38;5;241m4\u001b[39m]\n\u001b[0;32m----> 5\u001b[0m l1[\u001b[38;5;241m100\u001b[39m]\n",
      "\u001b[0;31mIndexError\u001b[0m: list index out of range"
     ]
    }
   ],
   "source": [
    "# Index Error\n",
    "\n",
    "l1 = [1,2,3,4]\n",
    "\n",
    "l1[100]"
   ]
  },
  {
   "cell_type": "code",
   "execution_count": 23,
   "id": "ee69794f-fecc-45e1-8265-4f9b0f05eba7",
   "metadata": {},
   "outputs": [
    {
     "ename": "ModuleNotFoundError",
     "evalue": "No module named 'mat'",
     "output_type": "error",
     "traceback": [
      "\u001b[0;31m---------------------------------------------------------------------------\u001b[0m",
      "\u001b[0;31mModuleNotFoundError\u001b[0m                       Traceback (most recent call last)",
      "Cell \u001b[0;32mIn[23], line 1\u001b[0m\n\u001b[0;32m----> 1\u001b[0m \u001b[38;5;28;01mimport\u001b[39;00m \u001b[38;5;21;01mmat\u001b[39;00m\n",
      "\u001b[0;31mModuleNotFoundError\u001b[0m: No module named 'mat'"
     ]
    }
   ],
   "source": [
    "import mat"
   ]
  },
  {
   "cell_type": "code",
   "execution_count": null,
   "id": "2cec9036-6b49-46f5-b483-b7aefb6cbae8",
   "metadata": {},
   "outputs": [],
   "source": []
  },
  {
   "cell_type": "markdown",
   "id": "e1d653e2-a4ec-40ba-9d44-1a601e8ad7f4",
   "metadata": {},
   "source": [
    "# Runtime Error"
   ]
  },
  {
   "cell_type": "code",
   "execution_count": 43,
   "id": "5e8bfd67-7750-43a5-b6d3-f52c5b37ad40",
   "metadata": {},
   "outputs": [],
   "source": [
    "numerator = 100\n"
   ]
  },
  {
   "cell_type": "code",
   "execution_count": 45,
   "id": "bfd9e92c-480a-4aef-89c4-f0395a1464d5",
   "metadata": {},
   "outputs": [
    {
     "name": "stdin",
     "output_type": "stream",
     "text": [
      "enter the denominator 0\n"
     ]
    }
   ],
   "source": [
    "denominator = int(input(\"enter the denominator\"))"
   ]
  },
  {
   "cell_type": "code",
   "execution_count": 47,
   "id": "18a5a0a3-f21c-4d6d-99fe-b9118f994eb2",
   "metadata": {},
   "outputs": [
    {
     "ename": "ZeroDivisionError",
     "evalue": "division by zero",
     "output_type": "error",
     "traceback": [
      "\u001b[0;31m---------------------------------------------------------------------------\u001b[0m",
      "\u001b[0;31mZeroDivisionError\u001b[0m                         Traceback (most recent call last)",
      "Cell \u001b[0;32mIn[47], line 1\u001b[0m\n\u001b[0;32m----> 1\u001b[0m ans \u001b[38;5;241m=\u001b[39m numerator\u001b[38;5;241m/\u001b[39mdenominator\n\u001b[1;32m      2\u001b[0m \u001b[38;5;28mprint\u001b[39m(ans)\n",
      "\u001b[0;31mZeroDivisionError\u001b[0m: division by zero"
     ]
    }
   ],
   "source": [
    "ans = numerator/denominator\n",
    "print(ans)"
   ]
  },
  {
   "cell_type": "code",
   "execution_count": null,
   "id": "ca4e4d03-4262-45b9-abfc-b54e002ccd52",
   "metadata": {},
   "outputs": [],
   "source": []
  },
  {
   "cell_type": "code",
   "execution_count": 49,
   "id": "e356b6ef-f355-4266-af86-074e86de7004",
   "metadata": {},
   "outputs": [
    {
     "ename": "ValueError",
     "evalue": "invalid literal for int() with base 10: 'abcd'",
     "output_type": "error",
     "traceback": [
      "\u001b[0;31m---------------------------------------------------------------------------\u001b[0m",
      "\u001b[0;31mValueError\u001b[0m                                Traceback (most recent call last)",
      "Cell \u001b[0;32mIn[49], line 4\u001b[0m\n\u001b[1;32m      1\u001b[0m username \u001b[38;5;241m=\u001b[39m \u001b[38;5;124m\"\u001b[39m\u001b[38;5;124mtestUser\u001b[39m\u001b[38;5;124m\"\u001b[39m\n\u001b[1;32m      2\u001b[0m password \u001b[38;5;241m=\u001b[39m \u001b[38;5;124m\"\u001b[39m\u001b[38;5;124mabcd\u001b[39m\u001b[38;5;124m\"\u001b[39m \u001b[38;5;66;03m# 1234\u001b[39;00m\n\u001b[0;32m----> 4\u001b[0m \u001b[38;5;28;01mif\u001b[39;00m(\u001b[38;5;28mint\u001b[39m(password)\u001b[38;5;241m==\u001b[39m\u001b[38;5;241m1234\u001b[39m):\n\u001b[1;32m      5\u001b[0m     \u001b[38;5;28mprint\u001b[39m(\u001b[38;5;124m\"\u001b[39m\u001b[38;5;124mwelcome to the System\u001b[39m\u001b[38;5;124m\"\u001b[39m)\n",
      "\u001b[0;31mValueError\u001b[0m: invalid literal for int() with base 10: 'abcd'"
     ]
    }
   ],
   "source": [
    "username = \"testUser\"\n",
    "password = \"abcd\" # 1234\n",
    "\n",
    "if(int(password)==1234):\n",
    "    print(\"welcome to the System\")\n",
    "\n",
    "\n"
   ]
  },
  {
   "cell_type": "code",
   "execution_count": null,
   "id": "38ca9a12-b7c6-4001-95d6-e29d5242b59a",
   "metadata": {},
   "outputs": [],
   "source": []
  },
  {
   "cell_type": "markdown",
   "id": "e12a759d-be62-498a-a7f4-d9e9dd673e7e",
   "metadata": {},
   "source": [
    "# Try and Except Block"
   ]
  },
  {
   "cell_type": "code",
   "execution_count": 92,
   "id": "da24ae78-0489-4686-8499-9612a15fcc37",
   "metadata": {},
   "outputs": [
    {
     "name": "stdin",
     "output_type": "stream",
     "text": [
      "Enter the denominator abc\n"
     ]
    },
    {
     "name": "stdout",
     "output_type": "stream",
     "text": [
      "An Error Occured\n",
      "OUTSIDE\n"
     ]
    }
   ],
   "source": [
    "\n",
    "num = 10\n",
    "try :\n",
    "    den = int(input(\"Enter the denominator\"))\n",
    "    print(num/den)\n",
    "except:\n",
    "    print(\"An Error Occured\")\n",
    "\n",
    "print(\"OUTSIDE\")"
   ]
  },
  {
   "cell_type": "code",
   "execution_count": null,
   "id": "c426d1ea-0eda-4370-b21e-92763fd25173",
   "metadata": {},
   "outputs": [],
   "source": []
  },
  {
   "cell_type": "code",
   "execution_count": 86,
   "id": "4d13ae9e-8c97-4763-98f5-616d26c66f6a",
   "metadata": {},
   "outputs": [
    {
     "name": "stdin",
     "output_type": "stream",
     "text": [
      "enter a number 0\n"
     ]
    },
    {
     "ename": "ZeroDivisionError",
     "evalue": "division by zero",
     "output_type": "error",
     "traceback": [
      "\u001b[0;31m---------------------------------------------------------------------------\u001b[0m",
      "\u001b[0;31mZeroDivisionError\u001b[0m                         Traceback (most recent call last)",
      "Cell \u001b[0;32mIn[86], line 3\u001b[0m\n\u001b[1;32m      1\u001b[0m a \u001b[38;5;241m=\u001b[39m \u001b[38;5;241m10\u001b[39m\n\u001b[1;32m      2\u001b[0m b \u001b[38;5;241m=\u001b[39m\u001b[38;5;28mint\u001b[39m(\u001b[38;5;28minput\u001b[39m(\u001b[38;5;124m\"\u001b[39m\u001b[38;5;124menter a number\u001b[39m\u001b[38;5;124m\"\u001b[39m))\n\u001b[0;32m----> 3\u001b[0m c\u001b[38;5;241m=\u001b[39m a\u001b[38;5;241m/\u001b[39mb\n\u001b[1;32m      4\u001b[0m \u001b[38;5;28mprint\u001b[39m(\u001b[38;5;124m\"\u001b[39m\u001b[38;5;124mdiv is \u001b[39m\u001b[38;5;124m\"\u001b[39m \u001b[38;5;241m+\u001b[39m \u001b[38;5;28mstr\u001b[39m(c))\n\u001b[1;32m      5\u001b[0m d \u001b[38;5;241m=\u001b[39m a\u001b[38;5;241m+\u001b[39mb\n",
      "\u001b[0;31mZeroDivisionError\u001b[0m: division by zero"
     ]
    }
   ],
   "source": [
    "a = 10\n",
    "b =int(input(\"enter a number\"))\n",
    "c= a/b\n",
    "print(\"div is \" + str(c))\n",
    "d = a+b\n",
    "print(\"sum is \" + str(d))"
   ]
  },
  {
   "cell_type": "code",
   "execution_count": 88,
   "id": "658bdd28-ab61-4c26-92e7-4d48ed9b9ad7",
   "metadata": {},
   "outputs": [
    {
     "name": "stdin",
     "output_type": "stream",
     "text": [
      "enter a number abc\n"
     ]
    },
    {
     "ename": "ValueError",
     "evalue": "invalid literal for int() with base 10: 'abc'",
     "output_type": "error",
     "traceback": [
      "\u001b[0;31m---------------------------------------------------------------------------\u001b[0m",
      "\u001b[0;31mValueError\u001b[0m                                Traceback (most recent call last)",
      "Cell \u001b[0;32mIn[88], line 2\u001b[0m\n\u001b[1;32m      1\u001b[0m a \u001b[38;5;241m=\u001b[39m \u001b[38;5;241m10\u001b[39m\n\u001b[0;32m----> 2\u001b[0m b \u001b[38;5;241m=\u001b[39m\u001b[38;5;28mint\u001b[39m(\u001b[38;5;28minput\u001b[39m(\u001b[38;5;124m\"\u001b[39m\u001b[38;5;124menter a number\u001b[39m\u001b[38;5;124m\"\u001b[39m))\n\u001b[1;32m      3\u001b[0m c\u001b[38;5;241m=\u001b[39m a\u001b[38;5;241m/\u001b[39mb\n\u001b[1;32m      4\u001b[0m \u001b[38;5;28mprint\u001b[39m(\u001b[38;5;124m\"\u001b[39m\u001b[38;5;124mdiv is \u001b[39m\u001b[38;5;124m\"\u001b[39m \u001b[38;5;241m+\u001b[39m \u001b[38;5;28mstr\u001b[39m(c))\n",
      "\u001b[0;31mValueError\u001b[0m: invalid literal for int() with base 10: 'abc'"
     ]
    }
   ],
   "source": [
    "a = 10\n",
    "b =int(input(\"enter a number\"))\n",
    "c= a/b\n",
    "print(\"div is \" + str(c))\n",
    "d = a+b\n",
    "print(\"sum is \" + str(d))"
   ]
  },
  {
   "cell_type": "code",
   "execution_count": null,
   "id": "4e788c2d-9ded-4631-9e06-f0ad40d2ab87",
   "metadata": {},
   "outputs": [],
   "source": []
  },
  {
   "cell_type": "code",
   "execution_count": 108,
   "id": "0ab5c1f8-789a-41d3-9807-9f08781ce74b",
   "metadata": {},
   "outputs": [
    {
     "name": "stdin",
     "output_type": "stream",
     "text": [
      "Enter the denominator abc\n"
     ]
    },
    {
     "name": "stdout",
     "output_type": "stream",
     "text": [
      "invalid literal for int() with base 10: 'abc'\n"
     ]
    }
   ],
   "source": [
    "\n",
    "num = 10\n",
    "try :\n",
    "    den = int(input(\"Enter the denominator\"))\n",
    "    print(num/den)\n",
    "except Exception as e:\n",
    "    print(e) \n",
    "    # print(\"An Error Occured\")"
   ]
  },
  {
   "cell_type": "code",
   "execution_count": 112,
   "id": "0ed05e23-5543-4998-b353-e3b5e1bf6fe6",
   "metadata": {},
   "outputs": [
    {
     "name": "stdin",
     "output_type": "stream",
     "text": [
      "Enter the denominator abc\n"
     ]
    },
    {
     "ename": "ValueError",
     "evalue": "invalid literal for int() with base 10: 'abc'",
     "output_type": "error",
     "traceback": [
      "\u001b[0;31m---------------------------------------------------------------------------\u001b[0m",
      "\u001b[0;31mValueError\u001b[0m                                Traceback (most recent call last)",
      "Cell \u001b[0;32mIn[112], line 3\u001b[0m\n\u001b[1;32m      1\u001b[0m num \u001b[38;5;241m=\u001b[39m \u001b[38;5;241m10\u001b[39m\n\u001b[1;32m      2\u001b[0m \u001b[38;5;28;01mtry\u001b[39;00m :\n\u001b[0;32m----> 3\u001b[0m     den \u001b[38;5;241m=\u001b[39m \u001b[38;5;28mint\u001b[39m(\u001b[38;5;28minput\u001b[39m(\u001b[38;5;124m\"\u001b[39m\u001b[38;5;124mEnter the denominator\u001b[39m\u001b[38;5;124m\"\u001b[39m))\n\u001b[1;32m      4\u001b[0m     \u001b[38;5;28mprint\u001b[39m(num\u001b[38;5;241m/\u001b[39mden)\n\u001b[1;32m      5\u001b[0m \u001b[38;5;28;01mexcept\u001b[39;00m \u001b[38;5;167;01mZeroDivisionError\u001b[39;00m \u001b[38;5;28;01mas\u001b[39;00m e:\n",
      "\u001b[0;31mValueError\u001b[0m: invalid literal for int() with base 10: 'abc'"
     ]
    }
   ],
   "source": [
    "\n",
    "num = 10\n",
    "try :\n",
    "    den = int(input(\"Enter the denominator\"))\n",
    "    print(num/den)\n",
    "except ZeroDivisionError as e:\n",
    "    print(\"Please don't set denominator to 0\") \n",
    "    # print(\"An Error Occured\")"
   ]
  },
  {
   "cell_type": "code",
   "execution_count": 116,
   "id": "13df857b-4591-4911-9bdd-74d65c9de6e8",
   "metadata": {},
   "outputs": [
    {
     "name": "stdin",
     "output_type": "stream",
     "text": [
      "Enter the denominator abc\n"
     ]
    },
    {
     "name": "stdout",
     "output_type": "stream",
     "text": [
      "Please provide an integer\n"
     ]
    }
   ],
   "source": [
    "\n",
    "num = 10\n",
    "try :\n",
    "    den = int(input(\"Enter the denominator\"))\n",
    "    print(num/den)\n",
    "except ValueError as e:\n",
    "    print(\"Please provide an integer\") \n",
    "    # print(\"An Error Occured\")"
   ]
  },
  {
   "cell_type": "code",
   "execution_count": 120,
   "id": "e7bf2c0b-2c1f-42f9-95f2-cb08c59febd2",
   "metadata": {},
   "outputs": [
    {
     "name": "stdout",
     "output_type": "stream",
     "text": [
      "Please use a valid Module\n"
     ]
    }
   ],
   "source": [
    "\n",
    "num = 10\n",
    "try :\n",
    "    import mat\n",
    "    den = int(input(\"Enter the denominator\"))\n",
    "    print(num/den)\n",
    "except ModuleNotFoundError as e:\n",
    "    print(\"Please use a valid Module\") \n",
    "    # print(\"An Error Occured\")"
   ]
  },
  {
   "cell_type": "code",
   "execution_count": null,
   "id": "a201eb99-4568-48d7-869f-7eb916384cd2",
   "metadata": {},
   "outputs": [],
   "source": []
  },
  {
   "cell_type": "code",
   "execution_count": 122,
   "id": "1a5a6bda-c219-4136-ba7e-3adcc0d2ca8d",
   "metadata": {},
   "outputs": [
    {
     "name": "stdout",
     "output_type": "stream",
     "text": [
      "['ArithmeticError', 'AssertionError', 'AttributeError', 'BaseException', 'BaseExceptionGroup', 'BlockingIOError', 'BrokenPipeError', 'BufferError', 'BytesWarning', 'ChildProcessError', 'ConnectionAbortedError', 'ConnectionError', 'ConnectionRefusedError', 'ConnectionResetError', 'DeprecationWarning', 'EOFError', 'Ellipsis', 'EncodingWarning', 'EnvironmentError', 'Exception', 'ExceptionGroup', 'False', 'FileExistsError', 'FileNotFoundError', 'FloatingPointError', 'FutureWarning', 'GeneratorExit', 'IOError', 'ImportError', 'ImportWarning', 'IndentationError', 'IndexError', 'InterruptedError', 'IsADirectoryError', 'KeyError', 'KeyboardInterrupt', 'LookupError', 'MemoryError', 'ModuleNotFoundError', 'NameError', 'None', 'NotADirectoryError', 'NotImplemented', 'NotImplementedError', 'OSError', 'OverflowError', 'PendingDeprecationWarning', 'PermissionError', 'ProcessLookupError', 'RecursionError', 'ReferenceError', 'ResourceWarning', 'RuntimeError', 'RuntimeWarning', 'StopAsyncIteration', 'StopIteration', 'SyntaxError', 'SyntaxWarning', 'SystemError', 'SystemExit', 'TabError', 'TimeoutError', 'True', 'TypeError', 'UnboundLocalError', 'UnicodeDecodeError', 'UnicodeEncodeError', 'UnicodeError', 'UnicodeTranslateError', 'UnicodeWarning', 'UserWarning', 'ValueError', 'Warning', 'ZeroDivisionError', '__IPYTHON__', '__build_class__', '__debug__', '__doc__', '__import__', '__loader__', '__name__', '__package__', '__spec__', 'abs', 'aiter', 'all', 'anext', 'any', 'ascii', 'bin', 'bool', 'breakpoint', 'bytearray', 'bytes', 'callable', 'chr', 'classmethod', 'compile', 'complex', 'copyright', 'credits', 'delattr', 'dict', 'dir', 'display', 'divmod', 'enumerate', 'eval', 'exec', 'execfile', 'filter', 'float', 'format', 'frozenset', 'get_ipython', 'getattr', 'globals', 'hasattr', 'hash', 'help', 'hex', 'id', 'input', 'int', 'isinstance', 'issubclass', 'iter', 'len', 'license', 'list', 'locals', 'map', 'max', 'memoryview', 'min', 'next', 'object', 'oct', 'open', 'ord', 'pow', 'print', 'property', 'range', 'repr', 'reversed', 'round', 'runfile', 'set', 'setattr', 'slice', 'sorted', 'staticmethod', 'str', 'sum', 'super', 'tuple', 'type', 'vars', 'zip']\n"
     ]
    }
   ],
   "source": [
    "# list exception and your Warning\n",
    "\n",
    "print(dir(locals()['__builtins__']))"
   ]
  },
  {
   "cell_type": "code",
   "execution_count": null,
   "id": "629c1d53-ce97-42bb-a846-0cc0d451774e",
   "metadata": {},
   "outputs": [],
   "source": []
  },
  {
   "cell_type": "code",
   "execution_count": null,
   "id": "9385c604-a628-46b9-b9a0-e876dee0f59a",
   "metadata": {},
   "outputs": [],
   "source": [
    "# https://www.programiz.com/python-programming/exceptions"
   ]
  },
  {
   "cell_type": "code",
   "execution_count": 130,
   "id": "2e550816-5d11-426a-9304-704b7de6fe2e",
   "metadata": {},
   "outputs": [
    {
     "ename": "ModuleNotFoundError",
     "evalue": "No module named 'mat'",
     "output_type": "error",
     "traceback": [
      "\u001b[0;31m---------------------------------------------------------------------------\u001b[0m",
      "\u001b[0;31mModuleNotFoundError\u001b[0m                       Traceback (most recent call last)",
      "Cell \u001b[0;32mIn[130], line 3\u001b[0m\n\u001b[1;32m      1\u001b[0m num \u001b[38;5;241m=\u001b[39m \u001b[38;5;241m10\u001b[39m\n\u001b[1;32m      2\u001b[0m \u001b[38;5;28;01mtry\u001b[39;00m :\n\u001b[0;32m----> 3\u001b[0m     \u001b[38;5;28;01mimport\u001b[39;00m \u001b[38;5;21;01mmat\u001b[39;00m\n\u001b[1;32m      4\u001b[0m     den \u001b[38;5;241m=\u001b[39m \u001b[38;5;28mint\u001b[39m(\u001b[38;5;28minput\u001b[39m(\u001b[38;5;124m\"\u001b[39m\u001b[38;5;124mEnter the denominator\u001b[39m\u001b[38;5;124m\"\u001b[39m))\n\u001b[1;32m      5\u001b[0m     \u001b[38;5;28mprint\u001b[39m(num\u001b[38;5;241m/\u001b[39mden)\n",
      "\u001b[0;31mModuleNotFoundError\u001b[0m: No module named 'mat'"
     ]
    }
   ],
   "source": [
    "\n",
    "num = 10\n",
    "try :\n",
    "    import mat\n",
    "    den = int(input(\"Enter the denominator\"))\n",
    "    print(num/den)\n",
    "except ValueError as e:\n",
    "    print(\"Please provide an integer\")\n",
    "except ZeroDivisionError as e:\n",
    "    print(\"Please don't set denominator to 0\") \n",
    "    # print(\"An Error Occured\")"
   ]
  },
  {
   "cell_type": "code",
   "execution_count": null,
   "id": "35b28cce-8838-4d5f-84f5-068b96b3d453",
   "metadata": {},
   "outputs": [],
   "source": []
  },
  {
   "cell_type": "code",
   "execution_count": 132,
   "id": "6dc82ad5-a9c3-40d8-8690-73282e8e2b40",
   "metadata": {},
   "outputs": [],
   "source": [
    "# Parent class: Polygon\n",
    "class Polygon:\n",
    "    def __init__(self, sides):\n",
    "        self.sides = sides\n",
    "\n",
    "    def show_sides(self):\n",
    "        print(f\"This polygon has {self.sides} sides.\")\n",
    "\n",
    "# Child class: Triangle\n",
    "class Triangle(Polygon):\n",
    "    def __init__(self):\n",
    "        super().__init__(3)  # A triangle has 3 sides\n",
    "\n",
    "# Child class: Square\n",
    "class Square(Polygon):\n",
    "    def __init__(self):\n",
    "        super().__init__(4)  # A square has 4 sides"
   ]
  },
  {
   "cell_type": "code",
   "execution_count": 140,
   "id": "a4c6b5d0-d66b-4443-8f87-14e32ac96696",
   "metadata": {},
   "outputs": [],
   "source": [
    "\n",
    "# Function to demonstrate casting\n",
    "def check_polygon_type(polygon):\n",
    "    if isinstance(polygon, Polygon):  # Checking if it's a parent class (Polygon)\n",
    "        print(\"True\")\n",
    "        # polygon.show_sides()\n",
    "    else:\n",
    "        print(\"Not a valid polygon.\")"
   ]
  },
  {
   "cell_type": "code",
   "execution_count": 142,
   "id": "6509bfde-8c1c-45a9-a9d1-f757fe7de2e9",
   "metadata": {},
   "outputs": [
    {
     "name": "stdout",
     "output_type": "stream",
     "text": [
      "True\n",
      "True\n"
     ]
    }
   ],
   "source": [
    "tri = Triangle()\n",
    "sq = Square()\n",
    "\n",
    "# Casting child to parent (allowed)\n",
    "check_polygon_type(tri)  # Triangle is cast to Polygon\n",
    "check_polygon_type(sq)   # Square is cast to Polygon\n"
   ]
  },
  {
   "cell_type": "code",
   "execution_count": 146,
   "id": "f176c2bc-fd86-497b-89eb-e42f2b2dfeed",
   "metadata": {},
   "outputs": [],
   "source": [
    "# Function to demonstrate casting\n",
    "def check_square_type(square):\n",
    "    if isinstance(square, Square):  # Checking if it's a parent class (Polygon)\n",
    "        square.show_sides()\n",
    "    else:\n",
    "        print(\"Not a valid Square.\")"
   ]
  },
  {
   "cell_type": "code",
   "execution_count": 152,
   "id": "d7432d28-7252-45d6-9d9f-851ef9a4c403",
   "metadata": {},
   "outputs": [
    {
     "name": "stdout",
     "output_type": "stream",
     "text": [
      "Not a valid Square.\n"
     ]
    }
   ],
   "source": [
    "pol = Polygon(5)\n",
    "check_square_type(pol)"
   ]
  },
  {
   "cell_type": "code",
   "execution_count": null,
   "id": "72b65fce-eb56-4aa0-895c-e5acd1528a00",
   "metadata": {},
   "outputs": [],
   "source": []
  },
  {
   "cell_type": "code",
   "execution_count": null,
   "id": "e2b37c7b-88ba-4488-99a4-8276818f3073",
   "metadata": {},
   "outputs": [],
   "source": []
  },
  {
   "cell_type": "code",
   "execution_count": null,
   "id": "0509cdf3-7979-4c41-8267-62fd05039156",
   "metadata": {},
   "outputs": [],
   "source": []
  },
  {
   "cell_type": "code",
   "execution_count": 163,
   "id": "f251c70a-d9cf-4557-9939-0f35ede2071d",
   "metadata": {},
   "outputs": [
    {
     "name": "stdout",
     "output_type": "stream",
     "text": [
      "Got an Error\n"
     ]
    }
   ],
   "source": [
    "\n",
    "num = 10\n",
    "try :\n",
    "    import mat\n",
    "    den = int(input(\"Enter the denominator\"))\n",
    "    print(num/den)\n",
    "except ValueError as e:\n",
    "    print(\"Please provide an integer\")\n",
    "except ZeroDivisionError as e:\n",
    "    print(\"Please don't set denominator to 0\") \n",
    "except Exception as e:\n",
    "    print(\"Got an Error\")\n"
   ]
  },
  {
   "cell_type": "code",
   "execution_count": null,
   "id": "af274ddb-d070-4447-a075-1b965a7843e2",
   "metadata": {},
   "outputs": [],
   "source": []
  },
  {
   "cell_type": "code",
   "execution_count": null,
   "id": "0653e435-f085-41d5-a2d6-865f290f48b9",
   "metadata": {},
   "outputs": [],
   "source": []
  },
  {
   "cell_type": "code",
   "execution_count": null,
   "id": "d513dc1f-a7bc-4b41-a920-399560ae01a7",
   "metadata": {},
   "outputs": [],
   "source": [
    "if square:\n",
    "    pass\n",
    "elif rectangle:\n",
    "    pass\n",
    "elif quadrilateral:\n",
    "    pass"
   ]
  },
  {
   "cell_type": "code",
   "execution_count": null,
   "id": "19aa5adf-2ce9-4e63-b222-ff345a5583c7",
   "metadata": {},
   "outputs": [],
   "source": []
  },
  {
   "cell_type": "code",
   "execution_count": 166,
   "id": "25c12f60-8597-4bdf-a8fd-d5b7e908f958",
   "metadata": {},
   "outputs": [
    {
     "name": "stdin",
     "output_type": "stream",
     "text": [
      "enter a number 0\n"
     ]
    },
    {
     "name": "stdout",
     "output_type": "stream",
     "text": [
      "ARTH\n",
      "HERE\n"
     ]
    }
   ],
   "source": [
    "try: \n",
    "    a = 10\n",
    "    b = int(input(\"enter a number\"))\n",
    "    d = a+b\n",
    "    c= a/b\n",
    "    print(\"div is \" + str(c))\n",
    "    print(\"sum is \" + str(d))\n",
    "except ArithmeticError:\n",
    "    print(\"ARTH\")\n",
    "except ZeroDivisionError:\n",
    "    print(\"NOT-0\")\n",
    "    \n",
    "print(\"HERE\")"
   ]
  },
  {
   "cell_type": "code",
   "execution_count": 182,
   "id": "3cec6bb1-0c00-46cd-a7b8-1ac15ea3b13a",
   "metadata": {
    "scrolled": true
   },
   "outputs": [
    {
     "ename": "TypeError",
     "evalue": "unsupported operand type(s) for +: 'int' and 'str'",
     "output_type": "error",
     "traceback": [
      "\u001b[0;31m---------------------------------------------------------------------------\u001b[0m",
      "\u001b[0;31mTypeError\u001b[0m                                 Traceback (most recent call last)",
      "Cell \u001b[0;32mIn[182], line 1\u001b[0m\n\u001b[0;32m----> 1\u001b[0m \u001b[38;5;241m1\u001b[39m \u001b[38;5;241m+\u001b[39m \u001b[38;5;124m'\u001b[39m\u001b[38;5;124m0\u001b[39m\u001b[38;5;124m'\u001b[39m\n",
      "\u001b[0;31mTypeError\u001b[0m: unsupported operand type(s) for +: 'int' and 'str'"
     ]
    }
   ],
   "source": [
    "1 + '0'"
   ]
  },
  {
   "cell_type": "code",
   "execution_count": 186,
   "id": "2ca93d30-6300-4be2-a89f-cf5018f06c2e",
   "metadata": {},
   "outputs": [
    {
     "ename": "ZeroDivisionError",
     "evalue": "division by zero",
     "output_type": "error",
     "traceback": [
      "\u001b[0;31m---------------------------------------------------------------------------\u001b[0m",
      "\u001b[0;31mZeroDivisionError\u001b[0m                         Traceback (most recent call last)",
      "Cell \u001b[0;32mIn[186], line 1\u001b[0m\n\u001b[0;32m----> 1\u001b[0m \u001b[38;5;241m1\u001b[39m\u001b[38;5;241m/\u001b[39m\u001b[38;5;241m0\u001b[39m\n",
      "\u001b[0;31mZeroDivisionError\u001b[0m: division by zero"
     ]
    }
   ],
   "source": [
    "1/0"
   ]
  },
  {
   "cell_type": "code",
   "execution_count": 184,
   "id": "44b04af2-ac15-4733-b17d-ee8304e240e4",
   "metadata": {},
   "outputs": [
    {
     "ename": "ValueError",
     "evalue": "invalid literal for int() with base 10: 'abc'",
     "output_type": "error",
     "traceback": [
      "\u001b[0;31m---------------------------------------------------------------------------\u001b[0m",
      "\u001b[0;31mValueError\u001b[0m                                Traceback (most recent call last)",
      "Cell \u001b[0;32mIn[184], line 1\u001b[0m\n\u001b[0;32m----> 1\u001b[0m \u001b[38;5;28mint\u001b[39m(\u001b[38;5;124m'\u001b[39m\u001b[38;5;124mabc\u001b[39m\u001b[38;5;124m'\u001b[39m)\n",
      "\u001b[0;31mValueError\u001b[0m: invalid literal for int() with base 10: 'abc'"
     ]
    }
   ],
   "source": [
    "int('abc')"
   ]
  },
  {
   "cell_type": "code",
   "execution_count": 192,
   "id": "8a389334-f8ce-4e02-973f-15f509644e87",
   "metadata": {},
   "outputs": [
    {
     "name": "stdin",
     "output_type": "stream",
     "text": [
      "enter a number 0\n"
     ]
    },
    {
     "name": "stdout",
     "output_type": "stream",
     "text": [
      "NOT-0\n"
     ]
    }
   ],
   "source": [
    "try: \n",
    "    a = 10\n",
    "    b =int(input(\"enter a number\"))\n",
    "    d = a+b\n",
    "    c= a/b\n",
    "    print(\"div is \" + str(c))\n",
    "    print(\"sum is \" + str(d))\n",
    "except TypeError:\n",
    "    print(\"NOT-TYPE\")\n",
    "except ValueError:\n",
    "    print(\"give right Value\")\n",
    "except Exception:\n",
    "    print(\"NOT-0\")"
   ]
  },
  {
   "cell_type": "code",
   "execution_count": null,
   "id": "23cbf6d0-91ef-49bb-95aa-10aa83cb5bd5",
   "metadata": {},
   "outputs": [],
   "source": []
  },
  {
   "cell_type": "code",
   "execution_count": null,
   "id": "1bb697d4-3b79-4785-9ec6-c184ed62512b",
   "metadata": {},
   "outputs": [],
   "source": []
  },
  {
   "cell_type": "code",
   "execution_count": null,
   "id": "331b3a00-5348-402b-a687-31a3171fb64b",
   "metadata": {},
   "outputs": [],
   "source": []
  },
  {
   "cell_type": "code",
   "execution_count": null,
   "id": "f88d8966-2895-464e-8c4f-a6bf853589e6",
   "metadata": {},
   "outputs": [],
   "source": []
  },
  {
   "cell_type": "code",
   "execution_count": 203,
   "id": "3dd67756-9a9e-4a99-a3cd-bb91e800a266",
   "metadata": {},
   "outputs": [
    {
     "name": "stdin",
     "output_type": "stream",
     "text": [
      "enter a number 10\n"
     ]
    },
    {
     "name": "stdout",
     "output_type": "stream",
     "text": [
      "div is 1.0\n",
      "sum is 20\n",
      "Some error Occured\n",
      "Great, you have given a good number\n"
     ]
    }
   ],
   "source": [
    "try: \n",
    "    a = 10\n",
    "    b =int(input(\"enter a number\"))\n",
    "    d = a+b\n",
    "    c= a/b\n",
    "    print(\"div is \" + str(c))\n",
    "    print(\"sum is \" + str(d))\n",
    "except TypeError:\n",
    "    print(\"NOT-TYPE\")\n",
    "except ValueError:\n",
    "    print(\"give right Value\")\n",
    "except Exception:\n",
    "    print(\"NOT-0\")\n",
    "else:\n",
    "    try:\n",
    "        print(1/0)\n",
    "    except:\n",
    "        print(\"Some error Occured\")\n",
    "    print(\"Great, you have given a good number\")\n",
    "\n"
   ]
  },
  {
   "cell_type": "code",
   "execution_count": null,
   "id": "6efeaee2-79a5-49a0-aaa9-aabb7e4506f2",
   "metadata": {},
   "outputs": [],
   "source": []
  },
  {
   "cell_type": "code",
   "execution_count": null,
   "id": "a8feca7a-8f1f-4501-9bf5-246903d4a9a3",
   "metadata": {},
   "outputs": [],
   "source": []
  },
  {
   "cell_type": "code",
   "execution_count": null,
   "id": "2d5c5a7d-db23-4e0b-b46c-3ccc2225443c",
   "metadata": {},
   "outputs": [],
   "source": []
  },
  {
   "cell_type": "markdown",
   "id": "4422ebc3-8c7e-411a-a869-783e14ad4cff",
   "metadata": {},
   "source": [
    "# Finally"
   ]
  },
  {
   "cell_type": "code",
   "execution_count": 224,
   "id": "75a6820a-7b7b-49cf-bbe3-3e49686df02d",
   "metadata": {},
   "outputs": [
    {
     "name": "stdin",
     "output_type": "stream",
     "text": [
      "enter a number 100\n"
     ]
    },
    {
     "name": "stdout",
     "output_type": "stream",
     "text": [
      "ANS0.1\n",
      "FINAL\n"
     ]
    }
   ],
   "source": [
    "try: \n",
    "    a = 10\n",
    "    b =int(input(\"enter a number\"))\n",
    "    c= a/b\n",
    "    print(\"ANS\" + str(c))\n",
    "except Exception as e:\n",
    "    print (f\"The error is  {e}\")\n",
    "finally :\n",
    "    print(\"FINAL\")"
   ]
  },
  {
   "cell_type": "code",
   "execution_count": 226,
   "id": "11bcfaa5-a2f9-4320-8d0f-9db4494fac76",
   "metadata": {},
   "outputs": [
    {
     "name": "stdin",
     "output_type": "stream",
     "text": [
      "enter a number 100\n"
     ]
    },
    {
     "name": "stdout",
     "output_type": "stream",
     "text": [
      "ANS0.1\n",
      "FINAL\n"
     ]
    }
   ],
   "source": [
    "try: \n",
    "    a = 10\n",
    "    b =int(input(\"enter a number\"))\n",
    "    d = a+b\n",
    "    c= a/b\n",
    "    print(\"ANS\" + str(c))\n",
    "except Exception as e:\n",
    "    print (f\"The error is  {e}\")\n",
    "\n",
    "\n",
    "print(\"FINAL\")"
   ]
  },
  {
   "cell_type": "code",
   "execution_count": null,
   "id": "87412a11-741e-4f59-8c4f-6f795a15642d",
   "metadata": {},
   "outputs": [],
   "source": []
  },
  {
   "cell_type": "markdown",
   "id": "1743cc95-b25c-4b06-8e04-d2b630e9e2a2",
   "metadata": {},
   "source": [
    "# Why is then finally required.\n",
    "\n",
    "1. It runs even when error is not cached\n",
    "2. It runs even when flow is returned"
   ]
  },
  {
   "cell_type": "code",
   "execution_count": 239,
   "id": "abd9d73d-e5d8-4a1a-b879-bca164d2dbc2",
   "metadata": {
    "scrolled": true
   },
   "outputs": [
    {
     "name": "stdin",
     "output_type": "stream",
     "text": [
      "enter a number abc\n"
     ]
    },
    {
     "name": "stdout",
     "output_type": "stream",
     "text": [
      "FINAL\n"
     ]
    },
    {
     "ename": "ValueError",
     "evalue": "invalid literal for int() with base 10: 'abc'",
     "output_type": "error",
     "traceback": [
      "\u001b[0;31m---------------------------------------------------------------------------\u001b[0m",
      "\u001b[0;31mValueError\u001b[0m                                Traceback (most recent call last)",
      "Cell \u001b[0;32mIn[239], line 3\u001b[0m\n\u001b[1;32m      1\u001b[0m \u001b[38;5;28;01mtry\u001b[39;00m: \n\u001b[1;32m      2\u001b[0m     a \u001b[38;5;241m=\u001b[39m \u001b[38;5;241m10\u001b[39m\n\u001b[0;32m----> 3\u001b[0m     b \u001b[38;5;241m=\u001b[39m\u001b[38;5;28mint\u001b[39m(\u001b[38;5;28minput\u001b[39m(\u001b[38;5;124m\"\u001b[39m\u001b[38;5;124menter a number\u001b[39m\u001b[38;5;124m\"\u001b[39m))\n\u001b[1;32m      4\u001b[0m     d \u001b[38;5;241m=\u001b[39m a\u001b[38;5;241m+\u001b[39mb\n\u001b[1;32m      5\u001b[0m     c\u001b[38;5;241m=\u001b[39m a\u001b[38;5;241m/\u001b[39mb\n",
      "\u001b[0;31mValueError\u001b[0m: invalid literal for int() with base 10: 'abc'"
     ]
    }
   ],
   "source": [
    "try: \n",
    "    a = 10\n",
    "    b =int(input(\"enter a number\"))\n",
    "    d = a+b\n",
    "    c= a/b\n",
    "    print(\"ANS\" + str(c))\n",
    "except ZeroDivisionError as e:\n",
    "    print (f\"The error is  {e}\")\n",
    "finally:\n",
    "    print(\"FINAL\")"
   ]
  },
  {
   "cell_type": "code",
   "execution_count": null,
   "id": "66ff330b-3b34-4c18-995a-a3be897bdad4",
   "metadata": {},
   "outputs": [],
   "source": []
  },
  {
   "cell_type": "code",
   "execution_count": null,
   "id": "cc6f3063-2de8-4ffa-a288-416a7dd834ef",
   "metadata": {},
   "outputs": [],
   "source": []
  },
  {
   "cell_type": "code",
   "execution_count": 247,
   "id": "76c99cf0-4808-436b-9c38-4680cab0a349",
   "metadata": {},
   "outputs": [],
   "source": [
    "class DB:\n",
    "    def conn(self):\n",
    "        print (\"connected\")\n",
    "    def close(self):\n",
    "        print (\"connection closed\")\n",
    "    def get(self):\n",
    "        print (\"here are your 500 records\")"
   ]
  },
  {
   "cell_type": "code",
   "execution_count": 251,
   "id": "6aa7d514-9400-41f2-a97b-85b2563a4c7e",
   "metadata": {},
   "outputs": [
    {
     "name": "stdout",
     "output_type": "stream",
     "text": [
      "connected\n",
      "here are your 500 records\n",
      "connection closed\n"
     ]
    },
    {
     "ename": "ZeroDivisionError",
     "evalue": "division by zero",
     "output_type": "error",
     "traceback": [
      "\u001b[0;31m---------------------------------------------------------------------------\u001b[0m",
      "\u001b[0;31mZeroDivisionError\u001b[0m                         Traceback (most recent call last)",
      "Cell \u001b[0;32mIn[251], line 5\u001b[0m\n\u001b[1;32m      3\u001b[0m     db\u001b[38;5;241m.\u001b[39mconn()\n\u001b[1;32m      4\u001b[0m     db\u001b[38;5;241m.\u001b[39mget()\n\u001b[0;32m----> 5\u001b[0m     \u001b[38;5;28mprint\u001b[39m(\u001b[38;5;241m1\u001b[39m\u001b[38;5;241m/\u001b[39m\u001b[38;5;241m0\u001b[39m)\n\u001b[1;32m      6\u001b[0m \u001b[38;5;28;01mexcept\u001b[39;00m \u001b[38;5;167;01mValueError\u001b[39;00m \u001b[38;5;28;01mas\u001b[39;00m e:\n\u001b[1;32m      7\u001b[0m     \u001b[38;5;28mprint\u001b[39m(\u001b[38;5;124m\"\u001b[39m\u001b[38;5;124mError Occured\u001b[39m\u001b[38;5;124m\"\u001b[39m)\n",
      "\u001b[0;31mZeroDivisionError\u001b[0m: division by zero"
     ]
    }
   ],
   "source": [
    "try:\n",
    "    db = DB()\n",
    "    db.conn()\n",
    "    db.get()\n",
    "    print(1/0)\n",
    "except ValueError as e:\n",
    "    print(\"Error Occured\")\n",
    "finally:\n",
    "    db.close()\n",
    "        "
   ]
  },
  {
   "cell_type": "code",
   "execution_count": null,
   "id": "0648d8f5-2fff-4f80-89b5-c83ff4679e57",
   "metadata": {},
   "outputs": [],
   "source": []
  },
  {
   "cell_type": "code",
   "execution_count": null,
   "id": "09929b8a-b5ba-4fcb-918c-7fb103d6d38e",
   "metadata": {},
   "outputs": [],
   "source": []
  },
  {
   "cell_type": "code",
   "execution_count": null,
   "id": "5df992ab-9f22-4e10-aa91-a1df29b72ba3",
   "metadata": {},
   "outputs": [],
   "source": []
  },
  {
   "cell_type": "code",
   "execution_count": 263,
   "id": "65dd3bbd-f25e-4aee-a505-cb106f0099a3",
   "metadata": {},
   "outputs": [],
   "source": [
    "def ErrHandle():\n",
    "    try:\n",
    "        print(\"I am here, opening all the files\")\n",
    "        return \"Success, got all files\"\n",
    "    except ZeroDivisionError as e:\n",
    "        print(e)\n",
    "    finally:\n",
    "        print(\"Closing all the files\")"
   ]
  },
  {
   "cell_type": "code",
   "execution_count": 267,
   "id": "091e4c66-a63f-4df6-95fe-ecbad5f0e47f",
   "metadata": {},
   "outputs": [
    {
     "name": "stdout",
     "output_type": "stream",
     "text": [
      "I am here, opening all the files\n",
      "Closing all the files\n"
     ]
    },
    {
     "data": {
      "text/plain": [
       "'Success, got all files'"
      ]
     },
     "execution_count": 267,
     "metadata": {},
     "output_type": "execute_result"
    }
   ],
   "source": [
    "ErrHandle()"
   ]
  },
  {
   "cell_type": "code",
   "execution_count": null,
   "id": "0a79b1ca-44a5-4892-8139-25bf1595165b",
   "metadata": {},
   "outputs": [],
   "source": []
  },
  {
   "cell_type": "code",
   "execution_count": null,
   "id": "9c03147b-33cb-4387-8558-cf4769a9a6e0",
   "metadata": {},
   "outputs": [],
   "source": []
  },
  {
   "cell_type": "code",
   "execution_count": 287,
   "id": "f518e73b-e3cc-4597-b089-7ad887b56bc0",
   "metadata": {},
   "outputs": [
    {
     "ename": "ValueError",
     "evalue": "invalid literal for int() with base 10: 'abc'",
     "output_type": "error",
     "traceback": [
      "\u001b[0;31m---------------------------------------------------------------------------\u001b[0m",
      "\u001b[0;31mValueError\u001b[0m                                Traceback (most recent call last)",
      "Cell \u001b[0;32mIn[287], line 1\u001b[0m\n\u001b[0;32m----> 1\u001b[0m \u001b[38;5;28mint\u001b[39m(\u001b[38;5;124m\"\u001b[39m\u001b[38;5;124mabc\u001b[39m\u001b[38;5;124m\"\u001b[39m)\n",
      "\u001b[0;31mValueError\u001b[0m: invalid literal for int() with base 10: 'abc'"
     ]
    }
   ],
   "source": [
    "int(\"abc\")"
   ]
  },
  {
   "cell_type": "markdown",
   "id": "aa49a945-6366-4cb6-b16e-173bb85eb7a4",
   "metadata": {},
   "source": [
    "# Raise"
   ]
  },
  {
   "cell_type": "code",
   "execution_count": 295,
   "id": "3bb9a013-3d47-4009-aa78-37c710e8192b",
   "metadata": {},
   "outputs": [
    {
     "name": "stdin",
     "output_type": "stream",
     "text": [
      "please enter age 15\n"
     ]
    },
    {
     "name": "stdout",
     "output_type": "stream",
     "text": [
      "Please enter a age which is greater than 18\n"
     ]
    }
   ],
   "source": [
    "try:\n",
    "    age = int(input(\"please enter age\"))\n",
    "    if(age<18):\n",
    "        raise Exception(\"Please enter a age which is greater than 18\")\n",
    "except TypeError as e:\n",
    "    print(e)\n",
    "except ValueError as e:\n",
    "    print(e)\n",
    "except Exception as e:\n",
    "    print(e)\n"
   ]
  },
  {
   "cell_type": "code",
   "execution_count": null,
   "id": "0cb09ab7-5339-4fae-a720-a23e6ce05dc6",
   "metadata": {},
   "outputs": [],
   "source": []
  },
  {
   "cell_type": "code",
   "execution_count": null,
   "id": "ec908feb-5b7e-4cde-968c-9a5d54eb711d",
   "metadata": {},
   "outputs": [],
   "source": []
  },
  {
   "cell_type": "code",
   "execution_count": 301,
   "id": "6b371e4c-3dce-4ba1-8bab-147f46a511cd",
   "metadata": {},
   "outputs": [
    {
     "name": "stdin",
     "output_type": "stream",
     "text": [
      "Enter den 100\n"
     ]
    },
    {
     "name": "stdout",
     "output_type": "stream",
     "text": [
      "0.1\n"
     ]
    }
   ],
   "source": [
    "num = 10\n",
    "try:\n",
    "    den = int(input(\"Enter den\"))\n",
    "    if(den==0):\n",
    "        raise ZeroDivisionError(\"Please enter a number which is not 0\")\n",
    "    print(num/den)\n",
    "except ZeroDivisionError as e:\n",
    "    print(e)"
   ]
  },
  {
   "cell_type": "code",
   "execution_count": null,
   "id": "5746aca2-3800-4fa8-8a3e-24c53940c1a6",
   "metadata": {},
   "outputs": [],
   "source": []
  },
  {
   "cell_type": "code",
   "execution_count": null,
   "id": "d29b7f3e-1d29-43df-819d-133afdaa2e77",
   "metadata": {},
   "outputs": [],
   "source": []
  },
  {
   "cell_type": "code",
   "execution_count": null,
   "id": "0a78c2e5-4a9b-4b92-b777-ca1d9104e9ce",
   "metadata": {},
   "outputs": [],
   "source": []
  },
  {
   "cell_type": "markdown",
   "id": "9c53647b-1c98-4f3b-850c-d2847eeacc8d",
   "metadata": {},
   "source": [
    "# Create Custom Error\n"
   ]
  },
  {
   "cell_type": "code",
   "execution_count": 364,
   "id": "fe81ec23-40f7-4afc-9ea6-756a810fe175",
   "metadata": {},
   "outputs": [],
   "source": [
    "class WrongEmailError(Exception):\n",
    "    pass"
   ]
  },
  {
   "cell_type": "code",
   "execution_count": 370,
   "id": "fa30adf1-3916-422a-9f5b-b7e6fb6a1d62",
   "metadata": {},
   "outputs": [],
   "source": [
    "class Person:\n",
    "    def __init__(self,salary,email):\n",
    "        if(salary>10000000000):\n",
    "            raise ValueError(\"Please enter a valid Salary\")\n",
    "        self.salary = salary\n",
    "        if('@gmail' not in email):\n",
    "            raise WrongEmailError(\"Please enter a valid email\")\n",
    "        self.email = email\n",
    "    def show_salary(self):\n",
    "        print(self.salary)\n",
    "    def show_email(self):\n",
    "        print(self.email)"
   ]
  },
  {
   "cell_type": "code",
   "execution_count": 328,
   "id": "a40e2c16-65fb-4f8e-928d-0eb341af95a3",
   "metadata": {},
   "outputs": [],
   "source": [
    "p1 = Person(100000,\"abc@test.com\")\n"
   ]
  },
  {
   "cell_type": "code",
   "execution_count": 382,
   "id": "fb313166-e413-4fd8-ac96-e2e23665a29d",
   "metadata": {},
   "outputs": [
    {
     "name": "stdout",
     "output_type": "stream",
     "text": [
      "Email is not valid\n",
      "Please enter a valid email\n"
     ]
    }
   ],
   "source": [
    "try:\n",
    "    p2 = Person(100000,\"def@test.com\")\n",
    "except WrongEmailError as e:\n",
    "    print(\"Email is not valid\")\n",
    "    print(e)\n",
    "else:\n",
    "    print(\"Welcome\")\n"
   ]
  },
  {
   "cell_type": "code",
   "execution_count": 320,
   "id": "343f1b28-5b80-4df9-a94b-c54dcefb06f5",
   "metadata": {},
   "outputs": [
    {
     "name": "stdout",
     "output_type": "stream",
     "text": [
      "100000\n"
     ]
    }
   ],
   "source": [
    "p1.show_salary()"
   ]
  },
  {
   "cell_type": "code",
   "execution_count": 322,
   "id": "16043d27-6d17-4b08-9d4b-09cf89a507ba",
   "metadata": {},
   "outputs": [
    {
     "name": "stdout",
     "output_type": "stream",
     "text": [
      "100000000000000000\n"
     ]
    }
   ],
   "source": [
    "p2.show_salary()"
   ]
  },
  {
   "cell_type": "code",
   "execution_count": null,
   "id": "bda7a6fc-24bd-461d-ad88-f9323eb29a7c",
   "metadata": {},
   "outputs": [],
   "source": []
  },
  {
   "cell_type": "code",
   "execution_count": null,
   "id": "f001033b-c4fb-4551-abc3-b0428684adab",
   "metadata": {},
   "outputs": [],
   "source": []
  },
  {
   "cell_type": "code",
   "execution_count": 414,
   "id": "b8672db6-75e5-4b77-9741-f12c2aa4c5eb",
   "metadata": {},
   "outputs": [],
   "source": [
    "class InvalidEmailError(Exception):\n",
    "    pass"
   ]
  },
  {
   "cell_type": "code",
   "execution_count": 416,
   "id": "5fbb7a55-d5b5-49b3-ba16-644d973fc0b6",
   "metadata": {},
   "outputs": [
    {
     "ename": "InvalidEmailError",
     "evalue": "abc@text.com",
     "output_type": "error",
     "traceback": [
      "\u001b[0;31m---------------------------------------------------------------------------\u001b[0m",
      "\u001b[0;31mInvalidEmailError\u001b[0m                         Traceback (most recent call last)",
      "Cell \u001b[0;32mIn[416], line 1\u001b[0m\n\u001b[0;32m----> 1\u001b[0m \u001b[38;5;28;01mraise\u001b[39;00m InvalidEmailError(\u001b[38;5;124m\"\u001b[39m\u001b[38;5;124mabc@text.com\u001b[39m\u001b[38;5;124m\"\u001b[39m)\n",
      "\u001b[0;31mInvalidEmailError\u001b[0m: abc@text.com"
     ]
    }
   ],
   "source": [
    "raise InvalidEmailError(\"abc@text.com\")"
   ]
  },
  {
   "cell_type": "code",
   "execution_count": 420,
   "id": "eddba994-5f0d-478d-a0b5-a36e44bc2bdc",
   "metadata": {},
   "outputs": [],
   "source": [
    "# Define custom exceptions\n",
    "class InvalidAgeError(Exception):\n",
    "    \"\"\"Exception raised for invalid age.\"\"\"\n",
    "    def __init__(self, age):\n",
    "        self.age = age\n",
    "        super().__init__(f\"Invalid age: {age}. Age must be a positive integer.\")\n",
    "\n",
    "\n",
    "class InvalidEmailError(Exception):\n",
    "    \"\"\"Exception raised for invalid email format.\"\"\"\n",
    "    def __init__(self, email):\n",
    "        self.email = email\n",
    "        super().__init__(f\"Invalid email format: {email}. Email must be in the format 'username@example.com'.\")\n"
   ]
  },
  {
   "cell_type": "code",
   "execution_count": 426,
   "id": "ca2bbc37-7841-4716-8229-b2cf3afd5c76",
   "metadata": {},
   "outputs": [
    {
     "name": "stdout",
     "output_type": "stream",
     "text": [
      "Invalid age: -25. Age must be a positive integer.\n"
     ]
    }
   ],
   "source": [
    "\n",
    "\n",
    "# Define the Person class\n",
    "class Person:\n",
    "    def __init__(self, name, age, email):\n",
    "        self.name = name\n",
    "        # Validate age\n",
    "\n",
    "        \n",
    "        if age <= 0:\n",
    "            raise InvalidAgeError(age)\n",
    "        self.age = age\n",
    "        # Validate email format\n",
    "        if \"@\" not in email or \".\" not in email:\n",
    "            raise InvalidEmailError(email)\n",
    "        self.email = email\n",
    "\n",
    "\n",
    "# Example usage\n",
    "try:\n",
    "    # Trying to create a person with invalid age\n",
    "    person1 = Person(\"Alice\", -25, \"alice@example.com\")\n",
    "except InvalidAgeError as e:\n",
    "    print(e)\n"
   ]
  },
  {
   "cell_type": "code",
   "execution_count": null,
   "id": "9ce012d7-7fb2-42e6-8772-85c1e792d3eb",
   "metadata": {},
   "outputs": [],
   "source": []
  },
  {
   "cell_type": "code",
   "execution_count": 428,
   "id": "ddfd72bd-9154-445f-9114-ce0e30049ab6",
   "metadata": {},
   "outputs": [
    {
     "name": "stdout",
     "output_type": "stream",
     "text": [
      "Invalid email format: bobexample.com. Email must be in the format 'username@example.com'.\n"
     ]
    }
   ],
   "source": [
    "\n",
    "try:\n",
    "    # Trying to create a person with invalid email format\n",
    "    person2 = Person(\"Bob\", 30, \"bobexample.com\")\n",
    "except InvalidEmailError as e:\n",
    "    print(e)\n"
   ]
  }
 ],
 "metadata": {
  "kernelspec": {
   "display_name": "Python 3 (ipykernel)",
   "language": "python",
   "name": "python3"
  },
  "language_info": {
   "codemirror_mode": {
    "name": "ipython",
    "version": 3
   },
   "file_extension": ".py",
   "mimetype": "text/x-python",
   "name": "python",
   "nbconvert_exporter": "python",
   "pygments_lexer": "ipython3",
   "version": "3.11.5"
  }
 },
 "nbformat": 4,
 "nbformat_minor": 5
}
