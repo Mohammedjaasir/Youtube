{
 "cells": [
  {
   "cell_type": "markdown",
   "id": "1e13a6f6",
   "metadata": {},
   "source": [
    "# Exception Handling in Python\n",
    "In this notebook, we will cover the following topics:\n",
    "- Types of Errors\n",
    "  - Syntax Errors\n",
    "  - Exceptions\n",
    "- Ways to Handle Exceptions in Python\n",
    "  - try\n",
    "  - except\n",
    "  - else\n",
    "  - finally\n",
    "- Raising an Error\n",
    "- Defining a Custom Error\n"
   ]
  },
  {
   "cell_type": "markdown",
   "id": "b6cf19ec",
   "metadata": {},
   "source": [
    "## 1. Types of Errors\n",
    "Errors in Python can be categorized into two major types:\n",
    "1. **Syntax Errors**\n",
    "2. **Exceptions**"
   ]
  },
  {
   "cell_type": "markdown",
   "id": "f1e1c69f",
   "metadata": {},
   "source": [
    "### a) Syntax Errors\n",
    "- Syntax errors, also known as parsing errors, occur when the parser detects a syntactic error.\n",
    "- These errors are caused when the Python interpreter fails to understand a line of code due to incorrect syntax.\n",
    "- These are detected before the program is executed.\n",
    "- Common causes include missing colons, incorrect indentation, etc.\n"
   ]
  },
  {
   "cell_type": "code",
   "execution_count": null,
   "id": "1f5b333e",
   "metadata": {},
   "outputs": [],
   "source": [
    "# Example of a Syntax Error\n",
    "if True\n",
    "    print(\"Hello World\")  # This will raise a SyntaxError because a colon (:) is missing after 'if True'"
   ]
  },
  {
   "cell_type": "markdown",
   "id": "22010fe8",
   "metadata": {},
   "source": [
    "### b) Exceptions\n",
    "- Exceptions occur when a syntactically correct code results in an error during execution.\n",
    "- Unlike syntax errors, exceptions are detected while the program is running.\n",
    "- Common examples include division by zero, accessing a file that does not exist, etc."
   ]
  },
  {
   "cell_type": "code",
   "execution_count": null,
   "id": "1dc32a20",
   "metadata": {},
   "outputs": [],
   "source": [
    "# Example of an Exception\n",
    "num = 10\n",
    "denom = 0\n",
    "result = num / denom  # This will raise a ZeroDivisionError because division by zero is not allowed"
   ]
  },
  {
   "cell_type": "markdown",
   "id": "1f6b288e",
   "metadata": {},
   "source": [
    "## 2. Ways to Handle Exceptions in Python\n",
    "Python provides a way to handle exceptions using `try`, `except`, `else`, and `finally` blocks."
   ]
  },
  {
   "cell_type": "markdown",
   "id": "efe63af5",
   "metadata": {},
   "source": [
    "### a) Try\n",
    "- The `try` block contains the code that might throw an exception.\n",
    "- If an exception occurs in this block, it is passed to the `except` block for handling."
   ]
  },
  {
   "cell_type": "code",
   "execution_count": null,
   "id": "b0a2e057",
   "metadata": {},
   "outputs": [],
   "source": [
    "# Example of try block\n",
    "try:\n",
    "    print(5 / 0)  # This code might throw an exception\n",
    "except ZeroDivisionError:\n",
    "    print(\"Cannot divide by zero!\")"
   ]
  },
  {
   "cell_type": "markdown",
   "id": "b1a2006b",
   "metadata": {},
   "source": [
    "### b) Except\n",
    "- The `except` block is used to catch and handle exceptions that occur in the `try` block.\n",
    "- You can have multiple `except` blocks for different types of exceptions.\n",
    "- If an exception occurs, the `except` block executes."
   ]
  },
  {
   "cell_type": "code",
   "execution_count": null,
   "id": "7495fd14",
   "metadata": {},
   "outputs": [],
   "source": [
    "# Example of multiple except blocks\n",
    "try:\n",
    "    number = int(\"xyz\")  # This will raise a ValueError\n",
    "except ValueError:\n",
    "    print(\"Invalid value. Please enter a valid number.\")\n",
    "except TypeError:\n",
    "    print(\"Type error occurred\")"
   ]
  },
  {
   "cell_type": "markdown",
   "id": "a519ae5b",
   "metadata": {},
   "source": [
    "### c) Else\n",
    "- The `else` block is executed if the `try` block does not raise an exception.\n",
    "- It is a good place to put code that should only run if no exceptions were raised."
   ]
  },
  {
   "cell_type": "code",
   "execution_count": null,
   "id": "9e9cbed0",
   "metadata": {},
   "outputs": [],
   "source": [
    "# Example of else block\n",
    "try:\n",
    "    result = 10 / 2\n",
    "except ZeroDivisionError:\n",
    "    print(\"Cannot divide by zero!\")\n",
    "else:\n",
    "    print(f\"The result is {result}\")"
   ]
  },
  {
   "cell_type": "markdown",
   "id": "626ebc7b",
   "metadata": {},
   "source": [
    "### d) Finally\n",
    "- The `finally` block is always executed, whether an exception is raised or not.\n",
    "- It is often used for cleanup actions, like closing files or releasing resources."
   ]
  },
  {
   "cell_type": "code",
   "execution_count": null,
   "id": "80f1b74c",
   "metadata": {},
   "outputs": [],
   "source": [
    "# Example of finally block\n",
    "try:\n",
    "    file = open('nonexistent_file.txt', 'r')\n",
    "except FileNotFoundError:\n",
    "    print(\"File not found.\")\n",
    "finally:\n",
    "    print(\"Executing the cleanup process.\")"
   ]
  },
  {
   "cell_type": "markdown",
   "id": "6b279c8b",
   "metadata": {},
   "source": [
    "## 3. Raising an Error\n",
    "- Python allows you to manually raise exceptions using the `raise` keyword.\n",
    "- This is useful when you want to enforce certain conditions in your program."
   ]
  },
  {
   "cell_type": "code",
   "execution_count": null,
   "id": "c63ed2f1",
   "metadata": {},
   "outputs": [],
   "source": [
    "# Example of raising an error\n",
    "def check_age(age):\n",
    "    if age < 18:\n",
    "        raise ValueError(\"Age must be 18 or above.\")\n",
    "    return \"Access granted\"\n",
    "\n",
    "# This will raise a ValueError\n",
    "check_age(16)"
   ]
  },
  {
   "cell_type": "markdown",
   "id": "2c17eb02",
   "metadata": {},
   "source": [
    "## 4. Defining a Custom Error\n",
    "- You can define your own custom exceptions by creating a new class that inherits from `Exception`.\n",
    "- This allows you to create meaningful error messages specific to your application's needs."
   ]
  },
  {
   "cell_type": "code",
   "execution_count": null,
   "id": "9c5c2e15",
   "metadata": {},
   "outputs": [],
   "source": [
    "# Example of defining a custom error\n",
    "class InsufficientBalanceError(Exception):\n",
    "    pass\n",
    "\n",
    "def withdraw(balance, amount):\n",
    "    if amount > balance:\n",
    "        raise InsufficientBalanceError(\"You don't have enough funds!\")\n",
    "    return balance - amount\n",
    "\n",
    "# This will raise an InsufficientBalanceError\n",
    "withdraw(500, 600)"
   ]
  },
  {
   "cell_type": "markdown",
   "id": "d16ece46",
   "metadata": {},
   "source": [
    "## Summary\n",
    "In this notebook, we explored different types of errors in Python and how to handle them using `try`, `except`, `else`, and `finally` blocks. We also learned how to raise exceptions manually and create custom error classes."
   ]
  }
 ],
 "metadata": {
  "kernelspec": {
   "display_name": "Python 3 (ipykernel)",
   "language": "python",
   "name": "python3"
  },
  "language_info": {
   "codemirror_mode": {
    "name": "ipython",
    "version": 3
   },
   "file_extension": ".py",
   "mimetype": "text/x-python",
   "name": "python",
   "nbconvert_exporter": "python",
   "pygments_lexer": "ipython3",
   "version": "3.11.5"
  }
 },
 "nbformat": 4,
 "nbformat_minor": 5
}
