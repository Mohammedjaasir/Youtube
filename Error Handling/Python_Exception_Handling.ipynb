{
 "cells": [
  {
   "cell_type": "markdown",
   "id": "f2c2342a",
   "metadata": {},
   "source": [
    "### AssertionError\n",
    "**Cause of Error**: Raised when an assert statement fails.\n"
   ]
  },
  {
   "cell_type": "code",
   "execution_count": null,
   "id": "de5abd92",
   "metadata": {},
   "outputs": [],
   "source": [
    "# Example of AssertionError\n",
    "try:\n",
    "    # Add your specific example code that would raise AssertionError\n",
    "    pass  # Replace with the logic that raises AssertionError\n",
    "except AssertionError as e:\n",
    "    print(f\"Handled AssertionError: {str(e)}\")\n",
    "    "
   ]
  },
  {
   "cell_type": "markdown",
   "id": "1ed7e0d5",
   "metadata": {},
   "source": [
    "### AttributeError\n",
    "**Cause of Error**: Raised when attribute assignment or reference fails.\n"
   ]
  },
  {
   "cell_type": "code",
   "execution_count": null,
   "id": "a5816264",
   "metadata": {},
   "outputs": [],
   "source": [
    "# Example of AttributeError\n",
    "try:\n",
    "    # Add your specific example code that would raise AttributeError\n",
    "    pass  # Replace with the logic that raises AttributeError\n",
    "except AttributeError as e:\n",
    "    print(f\"Handled AttributeError: {str(e)}\")\n",
    "    "
   ]
  },
  {
   "cell_type": "markdown",
   "id": "af088300",
   "metadata": {},
   "source": [
    "### EOFError\n",
    "**Cause of Error**: Raised when the input() function hits end-of-file condition.\n"
   ]
  },
  {
   "cell_type": "code",
   "execution_count": null,
   "id": "25d53263",
   "metadata": {},
   "outputs": [],
   "source": [
    "# Example of EOFError\n",
    "try:\n",
    "    # Add your specific example code that would raise EOFError\n",
    "    pass  # Replace with the logic that raises EOFError\n",
    "except EOFError as e:\n",
    "    print(f\"Handled EOFError: {str(e)}\")\n",
    "    "
   ]
  },
  {
   "cell_type": "markdown",
   "id": "d5ddeb39",
   "metadata": {},
   "source": [
    "### FloatingPointError\n",
    "**Cause of Error**: Raised when a floating point operation fails.\n"
   ]
  },
  {
   "cell_type": "code",
   "execution_count": null,
   "id": "e390f203",
   "metadata": {},
   "outputs": [],
   "source": [
    "# Example of FloatingPointError\n",
    "try:\n",
    "    # Add your specific example code that would raise FloatingPointError\n",
    "    pass  # Replace with the logic that raises FloatingPointError\n",
    "except FloatingPointError as e:\n",
    "    print(f\"Handled FloatingPointError: {str(e)}\")\n",
    "    "
   ]
  },
  {
   "cell_type": "markdown",
   "id": "94ac09d8",
   "metadata": {},
   "source": [
    "### GeneratorExit\n",
    "**Cause of Error**: Raised when a generator's close() method is called.\n"
   ]
  },
  {
   "cell_type": "code",
   "execution_count": null,
   "id": "ca84dd3e",
   "metadata": {},
   "outputs": [],
   "source": [
    "# Example of GeneratorExit\n",
    "try:\n",
    "    # Add your specific example code that would raise GeneratorExit\n",
    "    pass  # Replace with the logic that raises GeneratorExit\n",
    "except GeneratorExit as e:\n",
    "    print(f\"Handled GeneratorExit: {str(e)}\")\n",
    "    "
   ]
  },
  {
   "cell_type": "markdown",
   "id": "99beb8c0",
   "metadata": {},
   "source": [
    "### ImportError\n",
    "**Cause of Error**: Raised when the imported module is not found.\n"
   ]
  },
  {
   "cell_type": "code",
   "execution_count": null,
   "id": "b815943a",
   "metadata": {},
   "outputs": [],
   "source": [
    "# Example of ImportError\n",
    "try:\n",
    "    # Add your specific example code that would raise ImportError\n",
    "    pass  # Replace with the logic that raises ImportError\n",
    "except ImportError as e:\n",
    "    print(f\"Handled ImportError: {str(e)}\")\n",
    "    "
   ]
  },
  {
   "cell_type": "markdown",
   "id": "18932341",
   "metadata": {},
   "source": [
    "### IndexError\n",
    "**Cause of Error**: Raised when the index of a sequence is out of range.\n"
   ]
  },
  {
   "cell_type": "code",
   "execution_count": null,
   "id": "497541ef",
   "metadata": {},
   "outputs": [],
   "source": [
    "# Example of IndexError\n",
    "try:\n",
    "    # Add your specific example code that would raise IndexError\n",
    "    pass  # Replace with the logic that raises IndexError\n",
    "except IndexError as e:\n",
    "    print(f\"Handled IndexError: {str(e)}\")\n",
    "    "
   ]
  },
  {
   "cell_type": "markdown",
   "id": "bc412b20",
   "metadata": {},
   "source": [
    "### KeyError\n",
    "**Cause of Error**: Raised when a key is not found in a dictionary.\n"
   ]
  },
  {
   "cell_type": "code",
   "execution_count": null,
   "id": "b74f5d9d",
   "metadata": {},
   "outputs": [],
   "source": [
    "# Example of KeyError\n",
    "try:\n",
    "    # Add your specific example code that would raise KeyError\n",
    "    pass  # Replace with the logic that raises KeyError\n",
    "except KeyError as e:\n",
    "    print(f\"Handled KeyError: {str(e)}\")\n",
    "    "
   ]
  },
  {
   "cell_type": "markdown",
   "id": "cc1c4ebc",
   "metadata": {},
   "source": [
    "### KeyboardInterrupt\n",
    "**Cause of Error**: Raised when the user hits the interrupt key (Ctrl+C or Delete).\n"
   ]
  },
  {
   "cell_type": "code",
   "execution_count": null,
   "id": "128ad9aa",
   "metadata": {},
   "outputs": [],
   "source": [
    "# Example of KeyboardInterrupt\n",
    "try:\n",
    "    # Add your specific example code that would raise KeyboardInterrupt\n",
    "    pass  # Replace with the logic that raises KeyboardInterrupt\n",
    "except KeyboardInterrupt as e:\n",
    "    print(f\"Handled KeyboardInterrupt: {str(e)}\")\n",
    "    "
   ]
  },
  {
   "cell_type": "markdown",
   "id": "4122fcbe",
   "metadata": {},
   "source": [
    "### MemoryError\n",
    "**Cause of Error**: Raised when an operation runs out of memory.\n"
   ]
  },
  {
   "cell_type": "code",
   "execution_count": null,
   "id": "a64c7dca",
   "metadata": {},
   "outputs": [],
   "source": [
    "# Example of MemoryError\n",
    "try:\n",
    "    # Add your specific example code that would raise MemoryError\n",
    "    pass  # Replace with the logic that raises MemoryError\n",
    "except MemoryError as e:\n",
    "    print(f\"Handled MemoryError: {str(e)}\")\n",
    "    "
   ]
  },
  {
   "cell_type": "markdown",
   "id": "b1fcf8b3",
   "metadata": {},
   "source": [
    "### NameError\n",
    "**Cause of Error**: Raised when a variable is not found in local or global scope.\n"
   ]
  },
  {
   "cell_type": "code",
   "execution_count": null,
   "id": "8e202c72",
   "metadata": {},
   "outputs": [],
   "source": [
    "# Example of NameError\n",
    "try:\n",
    "    # Add your specific example code that would raise NameError\n",
    "    pass  # Replace with the logic that raises NameError\n",
    "except NameError as e:\n",
    "    print(f\"Handled NameError: {str(e)}\")\n",
    "    "
   ]
  },
  {
   "cell_type": "markdown",
   "id": "50e70b0c",
   "metadata": {},
   "source": [
    "### NotImplementedError\n",
    "**Cause of Error**: Raised by abstract methods.\n"
   ]
  },
  {
   "cell_type": "code",
   "execution_count": null,
   "id": "fe14ceb5",
   "metadata": {},
   "outputs": [],
   "source": [
    "# Example of NotImplementedError\n",
    "try:\n",
    "    # Add your specific example code that would raise NotImplementedError\n",
    "    pass  # Replace with the logic that raises NotImplementedError\n",
    "except NotImplementedError as e:\n",
    "    print(f\"Handled NotImplementedError: {str(e)}\")\n",
    "    "
   ]
  },
  {
   "cell_type": "markdown",
   "id": "b996b72d",
   "metadata": {},
   "source": [
    "### OSError\n",
    "**Cause of Error**: Raised when system operation causes a system-related error.\n"
   ]
  },
  {
   "cell_type": "code",
   "execution_count": null,
   "id": "f8384c4f",
   "metadata": {},
   "outputs": [],
   "source": [
    "# Example of OSError\n",
    "try:\n",
    "    # Add your specific example code that would raise OSError\n",
    "    pass  # Replace with the logic that raises OSError\n",
    "except OSError as e:\n",
    "    print(f\"Handled OSError: {str(e)}\")\n",
    "    "
   ]
  },
  {
   "cell_type": "markdown",
   "id": "982ca0a6",
   "metadata": {},
   "source": [
    "### OverflowError\n",
    "**Cause of Error**: Raised when the result of an arithmetic operation is too large to be represented.\n"
   ]
  },
  {
   "cell_type": "code",
   "execution_count": null,
   "id": "97b22ec2",
   "metadata": {},
   "outputs": [],
   "source": [
    "# Example of OverflowError\n",
    "try:\n",
    "    # Add your specific example code that would raise OverflowError\n",
    "    pass  # Replace with the logic that raises OverflowError\n",
    "except OverflowError as e:\n",
    "    print(f\"Handled OverflowError: {str(e)}\")\n",
    "    "
   ]
  },
  {
   "cell_type": "markdown",
   "id": "7d12cd88",
   "metadata": {},
   "source": [
    "### ReferenceError\n",
    "**Cause of Error**: Raised when a weak reference proxy is used to access a garbage collected referent.\n"
   ]
  },
  {
   "cell_type": "code",
   "execution_count": null,
   "id": "d60d3e79",
   "metadata": {},
   "outputs": [],
   "source": [
    "# Example of ReferenceError\n",
    "try:\n",
    "    # Add your specific example code that would raise ReferenceError\n",
    "    pass  # Replace with the logic that raises ReferenceError\n",
    "except ReferenceError as e:\n",
    "    print(f\"Handled ReferenceError: {str(e)}\")\n",
    "    "
   ]
  },
  {
   "cell_type": "markdown",
   "id": "3d74fc9b",
   "metadata": {},
   "source": [
    "### RuntimeError\n",
    "**Cause of Error**: Raised when an error does not fall under any other category.\n"
   ]
  },
  {
   "cell_type": "code",
   "execution_count": null,
   "id": "419c40cc",
   "metadata": {},
   "outputs": [],
   "source": [
    "# Example of RuntimeError\n",
    "try:\n",
    "    # Add your specific example code that would raise RuntimeError\n",
    "    pass  # Replace with the logic that raises RuntimeError\n",
    "except RuntimeError as e:\n",
    "    print(f\"Handled RuntimeError: {str(e)}\")\n",
    "    "
   ]
  },
  {
   "cell_type": "markdown",
   "id": "2ace4f45",
   "metadata": {},
   "source": [
    "### StopIteration\n",
    "**Cause of Error**: Raised by next() function to indicate no further items to be returned by iterator.\n"
   ]
  },
  {
   "cell_type": "code",
   "execution_count": null,
   "id": "2a95a00f",
   "metadata": {},
   "outputs": [],
   "source": [
    "# Example of StopIteration\n",
    "try:\n",
    "    # Add your specific example code that would raise StopIteration\n",
    "    pass  # Replace with the logic that raises StopIteration\n",
    "except StopIteration as e:\n",
    "    print(f\"Handled StopIteration: {str(e)}\")\n",
    "    "
   ]
  },
  {
   "cell_type": "markdown",
   "id": "6a028c0f",
   "metadata": {},
   "source": [
    "### SyntaxError\n",
    "**Cause of Error**: Raised by parser when a syntax error is encountered.\n"
   ]
  },
  {
   "cell_type": "code",
   "execution_count": null,
   "id": "c4f3174b",
   "metadata": {},
   "outputs": [],
   "source": [
    "# Example of SyntaxError\n",
    "try:\n",
    "    # Add your specific example code that would raise SyntaxError\n",
    "    pass  # Replace with the logic that raises SyntaxError\n",
    "except SyntaxError as e:\n",
    "    print(f\"Handled SyntaxError: {str(e)}\")\n",
    "    "
   ]
  },
  {
   "cell_type": "markdown",
   "id": "f0073599",
   "metadata": {},
   "source": [
    "### IndentationError\n",
    "**Cause of Error**: Raised when there is incorrect indentation.\n"
   ]
  },
  {
   "cell_type": "code",
   "execution_count": null,
   "id": "4801ce14",
   "metadata": {},
   "outputs": [],
   "source": [
    "# Example of IndentationError\n",
    "try:\n",
    "    # Add your specific example code that would raise IndentationError\n",
    "    pass  # Replace with the logic that raises IndentationError\n",
    "except IndentationError as e:\n",
    "    print(f\"Handled IndentationError: {str(e)}\")\n",
    "    "
   ]
  },
  {
   "cell_type": "markdown",
   "id": "a36a53ce",
   "metadata": {},
   "source": [
    "### TabError\n",
    "**Cause of Error**: Raised when indentation consists of inconsistent tabs and spaces.\n"
   ]
  },
  {
   "cell_type": "code",
   "execution_count": null,
   "id": "06ed09e1",
   "metadata": {},
   "outputs": [],
   "source": [
    "# Example of TabError\n",
    "try:\n",
    "    # Add your specific example code that would raise TabError\n",
    "    pass  # Replace with the logic that raises TabError\n",
    "except TabError as e:\n",
    "    print(f\"Handled TabError: {str(e)}\")\n",
    "    "
   ]
  },
  {
   "cell_type": "markdown",
   "id": "16431c4d",
   "metadata": {},
   "source": [
    "### SystemError\n",
    "**Cause of Error**: Raised when the interpreter detects an internal error.\n"
   ]
  },
  {
   "cell_type": "code",
   "execution_count": null,
   "id": "1b4e21cc",
   "metadata": {},
   "outputs": [],
   "source": [
    "# Example of SystemError\n",
    "try:\n",
    "    # Add your specific example code that would raise SystemError\n",
    "    pass  # Replace with the logic that raises SystemError\n",
    "except SystemError as e:\n",
    "    print(f\"Handled SystemError: {str(e)}\")\n",
    "    "
   ]
  },
  {
   "cell_type": "markdown",
   "id": "5105b977",
   "metadata": {},
   "source": [
    "### SystemExit\n",
    "**Cause of Error**: Raised by sys.exit() function.\n"
   ]
  },
  {
   "cell_type": "code",
   "execution_count": null,
   "id": "8681cc6d",
   "metadata": {},
   "outputs": [],
   "source": [
    "# Example of SystemExit\n",
    "try:\n",
    "    # Add your specific example code that would raise SystemExit\n",
    "    pass  # Replace with the logic that raises SystemExit\n",
    "except SystemExit as e:\n",
    "    print(f\"Handled SystemExit: {str(e)}\")\n",
    "    "
   ]
  },
  {
   "cell_type": "markdown",
   "id": "5c8b5a44",
   "metadata": {},
   "source": [
    "### TypeError\n",
    "**Cause of Error**: Raised when a function or operation is applied to an object of incorrect type.\n"
   ]
  },
  {
   "cell_type": "code",
   "execution_count": null,
   "id": "595e3f06",
   "metadata": {},
   "outputs": [],
   "source": [
    "# Example of TypeError\n",
    "try:\n",
    "    # Add your specific example code that would raise TypeError\n",
    "    pass  # Replace with the logic that raises TypeError\n",
    "except TypeError as e:\n",
    "    print(f\"Handled TypeError: {str(e)}\")\n",
    "    "
   ]
  },
  {
   "cell_type": "markdown",
   "id": "711f188c",
   "metadata": {},
   "source": [
    "### UnboundLocalError\n",
    "**Cause of Error**: Raised when a reference is made to a local variable in a function/method without binding a value to it.\n"
   ]
  },
  {
   "cell_type": "code",
   "execution_count": null,
   "id": "a2d15072",
   "metadata": {},
   "outputs": [],
   "source": [
    "# Example of UnboundLocalError\n",
    "try:\n",
    "    # Add your specific example code that would raise UnboundLocalError\n",
    "    pass  # Replace with the logic that raises UnboundLocalError\n",
    "except UnboundLocalError as e:\n",
    "    print(f\"Handled UnboundLocalError: {str(e)}\")\n",
    "    "
   ]
  },
  {
   "cell_type": "markdown",
   "id": "2e156c76",
   "metadata": {},
   "source": [
    "### UnicodeError\n",
    "**Cause of Error**: Raised when a Unicode-related encoding or decoding error occurs.\n"
   ]
  },
  {
   "cell_type": "code",
   "execution_count": null,
   "id": "f504941b",
   "metadata": {},
   "outputs": [],
   "source": [
    "# Example of UnicodeError\n",
    "try:\n",
    "    # Add your specific example code that would raise UnicodeError\n",
    "    pass  # Replace with the logic that raises UnicodeError\n",
    "except UnicodeError as e:\n",
    "    print(f\"Handled UnicodeError: {str(e)}\")\n",
    "    "
   ]
  },
  {
   "cell_type": "markdown",
   "id": "40524cbb",
   "metadata": {},
   "source": [
    "### UnicodeEncodeError\n",
    "**Cause of Error**: Raised when a Unicode-related error occurs during encoding.\n"
   ]
  },
  {
   "cell_type": "code",
   "execution_count": null,
   "id": "114c5e19",
   "metadata": {},
   "outputs": [],
   "source": [
    "# Example of UnicodeEncodeError\n",
    "try:\n",
    "    # Add your specific example code that would raise UnicodeEncodeError\n",
    "    pass  # Replace with the logic that raises UnicodeEncodeError\n",
    "except UnicodeEncodeError as e:\n",
    "    print(f\"Handled UnicodeEncodeError: {str(e)}\")\n",
    "    "
   ]
  },
  {
   "cell_type": "markdown",
   "id": "b8096fdd",
   "metadata": {},
   "source": [
    "### UnicodeDecodeError\n",
    "**Cause of Error**: Raised when a Unicode-related error occurs during decoding.\n"
   ]
  },
  {
   "cell_type": "code",
   "execution_count": null,
   "id": "dcebda2c",
   "metadata": {},
   "outputs": [],
   "source": [
    "# Example of UnicodeDecodeError\n",
    "try:\n",
    "    # Add your specific example code that would raise UnicodeDecodeError\n",
    "    pass  # Replace with the logic that raises UnicodeDecodeError\n",
    "except UnicodeDecodeError as e:\n",
    "    print(f\"Handled UnicodeDecodeError: {str(e)}\")\n",
    "    "
   ]
  },
  {
   "cell_type": "markdown",
   "id": "d93d1528",
   "metadata": {},
   "source": [
    "### UnicodeTranslateError\n",
    "**Cause of Error**: Raised when a Unicode-related error occurs during translating.\n"
   ]
  },
  {
   "cell_type": "code",
   "execution_count": null,
   "id": "ecbe0cd4",
   "metadata": {},
   "outputs": [],
   "source": [
    "# Example of UnicodeTranslateError\n",
    "try:\n",
    "    # Add your specific example code that would raise UnicodeTranslateError\n",
    "    pass  # Replace with the logic that raises UnicodeTranslateError\n",
    "except UnicodeTranslateError as e:\n",
    "    print(f\"Handled UnicodeTranslateError: {str(e)}\")\n",
    "    "
   ]
  },
  {
   "cell_type": "markdown",
   "id": "3aded6be",
   "metadata": {},
   "source": [
    "### ValueError\n",
    "**Cause of Error**: Raised when a function gets an argument of correct type but improper value.\n"
   ]
  },
  {
   "cell_type": "code",
   "execution_count": null,
   "id": "05c64448",
   "metadata": {},
   "outputs": [],
   "source": [
    "# Example of ValueError\n",
    "try:\n",
    "    # Add your specific example code that would raise ValueError\n",
    "    pass  # Replace with the logic that raises ValueError\n",
    "except ValueError as e:\n",
    "    print(f\"Handled ValueError: {str(e)}\")\n",
    "    "
   ]
  },
  {
   "cell_type": "markdown",
   "id": "6b98a6af",
   "metadata": {},
   "source": [
    "### ZeroDivisionError\n",
    "**Cause of Error**: Raised when the second operand of division or modulo operation is zero.\n"
   ]
  },
  {
   "cell_type": "code",
   "execution_count": null,
   "id": "798d75a9",
   "metadata": {},
   "outputs": [],
   "source": [
    "# Example of ZeroDivisionError\n",
    "try:\n",
    "    # Add your specific example code that would raise ZeroDivisionError\n",
    "    pass  # Replace with the logic that raises ZeroDivisionError\n",
    "except ZeroDivisionError as e:\n",
    "    print(f\"Handled ZeroDivisionError: {str(e)}\")\n",
    "    "
   ]
  }
 ],
 "metadata": {},
 "nbformat": 4,
 "nbformat_minor": 5
}
