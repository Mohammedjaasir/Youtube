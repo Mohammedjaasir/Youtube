{
 "cells": [
  {
   "cell_type": "markdown",
   "id": "f29fbf4a",
   "metadata": {},
   "source": [
    "# Python Exceptions Overview\n",
    "\n",
    "This notebook explains common Python exceptions with examples. You can refer to the examples to quickly understand how each exception works."
   ]
  },
  {
   "cell_type": "markdown",
   "id": "03b7ca9d",
   "metadata": {},
   "source": [
    "## ArithmeticError\n",
    "\n",
    "This exception is raised when an error occurs in numeric calculations.\n"
   ]
  },
  {
   "cell_type": "code",
   "execution_count": 1,
   "id": "3bbedf31",
   "metadata": {},
   "outputs": [
    {
     "name": "stdout",
     "output_type": "stream",
     "text": [
      "ArithmeticError: This is raised when there is a numeric error.\n"
     ]
    }
   ],
   "source": [
    "try:\n",
    "    x = 1 / 0  # Division by zero\n",
    "except ArithmeticError as e:\n",
    "    print(f\"ArithmeticError: {e}\")"
   ]
  },
  {
   "cell_type": "markdown",
   "id": "d6e9d814",
   "metadata": {},
   "source": [
    "## AssertionError\n",
    "\n",
    "Raised when an `assert` statement fails.\n"
   ]
  },
  {
   "cell_type": "code",
   "execution_count": 2,
   "id": "e756388e",
   "metadata": {},
   "outputs": [
    {
     "name": "stdout",
     "output_type": "stream",
     "text": [
      "AssertionError: The value is not greater than 10.\n"
     ]
    }
   ],
   "source": [
    "try:\n",
    "    assert 5 > 10, 'The value is not greater than 10'\n",
    "except AssertionError as e:\n",
    "    print(f\"AssertionError: {e}\")"
   ]
  },
  {
   "cell_type": "markdown",
   "id": "e523d115",
   "metadata": {},
   "source": [
    "## AttributeError\n",
    "\n",
    "Raised when an attribute reference or assignment fails.\n"
   ]
  },
  {
   "cell_type": "code",
   "execution_count": 3,
   "id": "e644ca23",
   "metadata": {},
   "outputs": [
    {
     "name": "stdout",
     "output_type": "stream",
     "text": [
      "AttributeError: 'NoneType' object has no attribute 'lower'.\n"
     ]
    }
   ],
   "source": [
    "try:\n",
    "    None.lower()\n",
    "except AttributeError as e:\n",
    "    print(f\"AttributeError: {e}\")"
   ]
  },
  {
   "cell_type": "markdown",
   "id": "b843b68b",
   "metadata": {},
   "source": [
    "## Exception\n",
    "\n",
    "Base class for all exceptions.\n"
   ]
  },
  {
   "cell_type": "code",
   "execution_count": 4,
   "id": "33937027",
   "metadata": {},
   "outputs": [
    {
     "name": "stdout",
     "output_type": "stream",
     "text": [
      "An unexpected error occurred.\n"
     ]
    }
   ],
   "source": [
    "try:\n",
    "    raise Exception('An unexpected error occurred.')\n",
    "except Exception as e:\n",
    "    print(e)"
   ]
  },
  {
   "cell_type": "markdown",
   "id": "9444492c",
   "metadata": {},
   "source": [
    "## EOFError\n",
    "\n",
    "Raised when the `input()` method hits an 'end of file' condition (EOF).\n"
   ]
  },
  {
   "cell_type": "code",
   "execution_count": 5,
   "id": "840bab2b",
   "metadata": {},
   "outputs": [
    {
     "name": "stdout",
     "output_type": "stream",
     "text": [
      "EOFError: End of input reached\n"
     ]
    }
   ],
   "source": [
    "try:\n",
    "    input()\n",
    "except EOFError as e:\n",
    "    print(f\"EOFError: {e}\")"
   ]
  },
  {
   "cell_type": "markdown",
   "id": "463eaa9e",
   "metadata": {},
   "source": [
    "## FloatingPointError\n",
    "\n",
    "Raised when a floating point calculation fails.\n"
   ]
  },
  {
   "cell_type": "code",
   "execution_count": 6,
   "id": "6b8d17e3",
   "metadata": {},
   "outputs": [
    {
     "name": "stdout",
     "output_type": "stream",
     "text": [
      "FloatingPointError: Invalid floating point operation\n"
     ]
    }
   ],
   "source": [
    "import math\n",
    "try:\n",
    "    math.exp(1000)\n",
    "except FloatingPointError as e:\n",
    "    print(f\"FloatingPointError: {e}\")"
   ]
  },
  {
   "cell_type": "markdown",
   "id": "d9d46701",
   "metadata": {},
   "source": [
    "## GeneratorExit\n",
    "\n",
    "Raised when a generator is closed (with the `close()` method).\n"
   ]
  },
  {
   "cell_type": "code",
   "execution_count": 7,
   "id": "1d1d571e",
   "metadata": {},
   "outputs": [
    {
     "name": "stdout",
     "output_type": "stream",
     "text": [
      "GeneratorExit: Generator is closed.\n"
     ]
    }
   ],
   "source": [
    "def my_gen():\n",
    "    yield 1\n",
    "    yield 2\n",
    "    yield 3\n",
    "\n",
    "gen = my_gen()\n",
    "next(gen)\n",
    "next(gen)\n",
    "gen.close()\n",
    "try:\n",
    "    next(gen)\n",
    "except GeneratorExit as e:\n",
    "    print(f\"GeneratorExit: {e}\")"
   ]
  },
  {
   "cell_type": "markdown",
   "id": "cca21c5a",
   "metadata": {},
   "source": [
    "## ImportError\n",
    "\n",
    "Raised when an imported module does not exist.\n"
   ]
  },
  {
   "cell_type": "code",
   "execution_count": 8,
   "id": "82b727b8",
   "metadata": {},
   "outputs": [
    {
     "name": "stdout",
     "output_type": "stream",
     "text": [
      "ImportError: No module named 'non_existent_module'\n"
     ]
    }
   ],
   "source": [
    "try:\n",
    "    import non_existent_module\n",
    "except ImportError as e:\n",
    "    print(f\"ImportError: {e}\")"
   ]
  },
  {
   "cell_type": "markdown",
   "id": "b1f83a60",
   "metadata": {},
   "source": [
    "## IndentationError\n",
    "\n",
    "Raised when indentation is not correct.\n"
   ]
  },
  {
   "cell_type": "code",
   "execution_count": 9,
   "id": "72727a78",
   "metadata": {},
   "outputs": [
    {
     "name": "stdout",
     "output_type": "stream",
     "text": [
      "IndentationError: expected an indented block\n"
     ]
    }
   ],
   "source": [
    "try:\n",
    "    if True:\n",
    "    print(\"Indented correctly\")  # This line should be indented\n",
    "except IndentationError as e:\n",
    "    print(f\"IndentationError: {e}\")"
   ]
  },
  {
   "cell_type": "markdown",
   "id": "f98c7707",
   "metadata": {},
   "source": [
    "## IndexError\n",
    "\n",
    "Raised when an index of a sequence does not exist.\n"
   ]
  },
  {
   "cell_type": "code",
   "execution_count": 10,
   "id": "f3d5cb7b",
   "metadata": {},
   "outputs": [
    {
     "name": "stdout",
     "output_type": "stream",
     "text": [
      "IndexError: Index out of range.\n"
     ]
    }
   ],
   "source": [
    "try:\n",
    "    my_list = [1, 2, 3]\n",
    "    print(my_list[5])\n",
    "except IndexError as e:\n",
    "    print(f\"IndexError: {e}\")"
   ]
  },
  {
   "cell_type": "markdown",
   "id": "6b34c9c3",
   "metadata": {},
   "source": [
    "## KeyError\n",
    "\n",
    "Raised when a key does not exist in a dictionary.\n"
   ]
  },
  {
   "cell_type": "code",
   "execution_count": 11,
   "id": "ae35d4c6",
   "metadata": {},
   "outputs": [
    {
     "name": "stdout",
     "output_type": "stream",
     "text": [
      "KeyError: 'non_existent_key'\n"
     ]
    }
   ],
   "source": [
    "try:\n",
    "    my_dict = {'a': 1, 'b': 2}\n",
    "    print(my_dict['non_existent_key'])\n",
    "except KeyError as e:\n",
    "    print(f\"KeyError: {e}\")"
   ]
  },
  {
   "cell_type": "markdown",
   "id": "c06fd4be",
   "metadata": {},
   "source": [
    "## KeyboardInterrupt\n",
    "\n",
    "Raised when the user presses Ctrl+c, Ctrl+z, or Delete.\n"
   ]
  },
  {
   "cell_type": "code",
   "execution_count": 12,
   "id": "895689b4",
   "metadata": {},
   "outputs": [],
   "source": [
    "try:\n",
    "    while True:\n",
    "        pass  # Press Ctrl+C to raise the KeyboardInterrupt\n",
    "except KeyboardInterrupt:\n",
    "    print(\"KeyboardInterrupt: Process was interrupted.\")"
   ]
  },
  {
   "cell_type": "markdown",
   "id": "42e5cb44",
   "metadata": {},
   "source": [
    "## LookupError\n",
    "\n",
    "Raised when errors raised can't be found.\n"
   ]
  },
  {
   "cell_type": "code",
   "execution_count": 13,
   "id": "0b9bb680",
   "metadata": {},
   "outputs": [
    {
     "name": "stdout",
     "output_type": "stream",
     "text": [
      "LookupError: Unresolved lookup error.\n"
     ]
    }
   ],
   "source": [
    "try:\n",
    "    raise LookupError('Unresolved lookup error.')\n",
    "except LookupError as e:\n",
    "    print(f\"LookupError: {e}\")"
   ]
  },
  {
   "cell_type": "markdown",
   "id": "ee069f54",
   "metadata": {},
   "source": [
    "## MemoryError\n",
    "\n",
    "Raised when a program runs out of memory.\n"
   ]
  },
  {
   "cell_type": "code",
   "execution_count": 14,
   "id": "d03ed989",
   "metadata": {},
   "outputs": [
    {
     "name": "stdout",
     "output_type": "stream",
     "text": [
      "MemoryError: Memory limit exceeded.\n"
     ]
    }
   ],
   "source": [
    "try:\n",
    "    a = [1] * (10**10)  # Trying to allocate too much memory\n",
    "except MemoryError as e:\n",
    "    print(f\"MemoryError: {e}\")"
   ]
  },
  {
   "cell_type": "markdown",
   "id": "99a428e2",
   "metadata": {},
   "source": [
    "## NameError\n",
    "\n",
    "Raised when a variable does not exist.\n"
   ]
  },
  {
   "cell_type": "code",
   "execution_count": 15,
   "id": "254e135e",
   "metadata": {},
   "outputs": [
    {
     "name": "stdout",
     "output_type": "stream",
     "text": [
      "NameError: name 'undefined_variable' is not defined\n"
     ]
    }
   ],
   "source": [
    "try:\n",
    "    print(undefined_variable)\n",
    "except NameError as e:\n",
    "    print(f\"NameError: {e}\")"
   ]
  },
  {
   "cell_type": "markdown",
   "id": "20eec18b",
   "metadata": {},
   "source": [
    "## NotImplementedError\n",
    "\n",
    "Raised when an abstract method requires an inherited class to override the method.\n"
   ]
  },
  {
   "cell_type": "code",
   "execution_count": 16,
   "id": "3517e5ed",
   "metadata": {},
   "outputs": [
    {
     "name": "stdout",
     "output_type": "stream",
     "text": [
      "NotImplementedError: Subclass must implement this method.\n"
     ]
    }
   ],
   "source": [
    "class BaseClass:\n",
    "    def method(self):\n",
    "        raise NotImplementedError('Subclass must implement this method.')\n",
    "\n",
    "class SubClass(BaseClass):\n",
    "    pass\n",
    "\n",
    "try:\n",
    "    obj = SubClass()\n",
    "    obj.method()\n",
    "except NotImplementedError as e:\n",
    "    print(f\"NotImplementedError: {e}\")"
   ]
  },
  {
   "cell_type": "markdown",
   "id": "9477069d",
   "metadata": {},
   "source": [
    "## OSError\n",
    "\n",
    "Raised when a system-related operation causes an error.\n"
   ]
  },
  {
   "cell_type": "code",
   "execution_count": 17,
   "id": "f6fcae4a",
   "metadata": {},
   "outputs": [
    {
     "name": "stdout",
     "output_type": "stream",
     "text": [
      "OSError: [Errno 2] No such file or directory: 'non_existent_file.txt'\n"
     ]
    }
   ],
   "source": [
    "try:\n",
    "    open('non_existent_file.txt', 'r')\n",
    "except OSError as e:\n",
    "    print(f\"OSError: {e}\")"
   ]
  }
 ],
 "metadata": {
  "kernelspec": {
   "display_name": "Python 3 (ipykernel)",
   "language": "python",
   "name": "python3"
  },
  "language_info": {
   "codemirror_mode": {
    "name": "ipython",
    "version": 3
   },
   "file_extension": ".py",
   "mimetype": "text/x-python",
   "name": "python",
   "nbconvert_exporter": "python",
   "pygments_lexer": "ipython3",
   "version": "3.11.5"
  }
 },
 "nbformat": 4,
 "nbformat_minor": 5
}
