{
 "cells": [
  {
   "cell_type": "markdown",
   "id": "3ebc504e",
   "metadata": {},
   "source": [
    "# Exception Handling Exercises\n",
    "\n",
    "Here are 5 exercises to help you understand exception handling in Python. "
   ]
  },
  {
   "cell_type": "markdown",
   "id": "5974b9c7",
   "metadata": {},
   "source": [
    "# Question 1\n",
    "\n",
    "Write code that takes two numbers from the user and divides them. Handle the following exceptions:\n",
    "- `ZeroDivisionError`: When the second number is zero.\n",
    "- `ValueError`: When the user enters a non-numeric input.\n",
    "- Catch any other general exception."
   ]
  },
  {
   "cell_type": "code",
   "execution_count": null,
   "id": "916191c9",
   "metadata": {},
   "outputs": [],
   "source": [
    "try:\n",
    "    a = int(input('Enter the first number: '))\n",
    "    b = int(input('Enter the second number: '))\n",
    "    result = a / b\n",
    "    print('Result is: ', result)\n",
    "except ZeroDivisionError:\n",
    "    print('Cannot divide by zero!')\n",
    "except ValueError:\n",
    "    print('Please enter valid integers!')\n",
    "except Exception as e:\n",
    "    print('An error occurred: ', e)"
   ]
  },
  {
   "cell_type": "markdown",
   "id": "525a6176",
   "metadata": {},
   "source": [
    "# Question 2\n",
    "\n",
    "Write code that reads a file. Handle the following exceptions:\n",
    "- `FileNotFoundError`: If the file does not exist.\n",
    "- `PermissionError`: If the program does not have permission to read the file."
   ]
  },
  {
   "cell_type": "code",
   "execution_count": null,
   "id": "ccd37f1b",
   "metadata": {},
   "outputs": [],
   "source": [
    "try:\n",
    "    file_name = input('Enter the file name: ')\n",
    "    with open(file_name, 'r') as file:\n",
    "        content = file.read()\n",
    "    print(content)\n",
    "except FileNotFoundError:\n",
    "    print('File not found!')\n",
    "except PermissionError:\n",
    "    print('Permission denied to read the file!')"
   ]
  },
  {
   "cell_type": "markdown",
   "id": "f304397d",
   "metadata": {},
   "source": [
    "# Question 3\n",
    "\n",
    "Write code that converts a string to an integer. Handle the following exceptions:\n",
    "- `ValueError`: When the string cannot be converted to an integer."
   ]
  },
  {
   "cell_type": "code",
   "execution_count": null,
   "id": "8e30eb79",
   "metadata": {},
   "outputs": [],
   "source": [
    "try:\n",
    "    s = input('Enter a string to convert to an integer: ')\n",
    "    num = int(s)\n",
    "    print('Converted number:', num)\n",
    "except ValueError:\n",
    "    print('Cannot convert to an integer!')"
   ]
  },
  {
   "cell_type": "markdown",
   "id": "7bf24100",
   "metadata": {},
   "source": [
    "# Question 4\n",
    "\n",
    "Write code that takes a list of numbers and divides each element by a given number. Handle the following exceptions:\n",
    "- `ZeroDivisionError`: If the user tries to divide by zero.\n",
    "- `TypeError`: If the list contains non-numeric elements."
   ]
  },
  {
   "cell_type": "code",
   "execution_count": null,
   "id": "ec6361fc",
   "metadata": {},
   "outputs": [],
   "source": [
    "numbers = [10, 20, 'a', 40]\n",
    "divisor = int(input('Enter the divisor: '))\n",
    "try:\n",
    "    for num in numbers:\n",
    "        result = num / divisor\n",
    "        print(f'Result of dividing {num}: {result}')\n",
    "except ZeroDivisionError:\n",
    "    print('Cannot divide by zero!')\n",
    "except TypeError:\n",
    "    print('List contains non-numeric values!')"
   ]
  },
  {
   "cell_type": "markdown",
   "id": "7a2de180",
   "metadata": {},
   "source": [
    "# Question 5\n",
    "\n",
    "Write code that raises a custom exception when a user enters a negative number.\n",
    "- Raise an exception `NegativeNumberError` if the input is negative."
   ]
  },
  {
   "cell_type": "code",
   "execution_count": null,
   "id": "b16b03f0",
   "metadata": {},
   "outputs": [],
   "source": [
    "class NegativeNumberError(Exception):\n",
    "    pass\n",
    "\n",
    "try:\n",
    "    num = int(input('Enter a number: '))\n",
    "    if num < 0:\n",
    "        raise NegativeNumberError('Negative number entered!')\n",
    "    print(f'The number is: {num}')\n",
    "except NegativeNumberError as e:\n",
    "    print(e)"
   ]
  }
 ],
 "metadata": {
  "kernelspec": {
   "display_name": "Python 3 (ipykernel)",
   "language": "python",
   "name": "python3"
  },
  "language_info": {
   "codemirror_mode": {
    "name": "ipython",
    "version": 3
   },
   "file_extension": ".py",
   "mimetype": "text/x-python",
   "name": "python",
   "nbconvert_exporter": "python",
   "pygments_lexer": "ipython3",
   "version": "3.11.5"
  }
 },
 "nbformat": 4,
 "nbformat_minor": 5
}
