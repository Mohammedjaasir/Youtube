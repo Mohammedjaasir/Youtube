{
 "cells": [
  {
   "cell_type": "code",
   "execution_count": 1,
   "id": "1dead61f-03f3-48a7-bc75-68e39b855774",
   "metadata": {},
   "outputs": [],
   "source": [
    "\n",
    "def HPython():\n",
    "    print(\"Hello Python to learn Python\")\n",
    "\n",
    "def HDSA(num):\n",
    "    print(\"Hello DSA\",num)\n",
    "    if(num==5):\n",
    "        return\n",
    "    else:    \n",
    "        HDSA(num+1)\n",
    "\n"
   ]
  },
  {
   "cell_type": "code",
   "execution_count": 3,
   "id": "acb1e181-8afe-4605-ae11-2a783bf94816",
   "metadata": {},
   "outputs": [
    {
     "name": "stdout",
     "output_type": "stream",
     "text": [
      "Hello DSA 1\n",
      "Hello DSA 2\n",
      "Hello DSA 3\n",
      "Hello DSA 4\n",
      "Hello DSA 5\n"
     ]
    }
   ],
   "source": [
    "\n",
    "a = 10\n",
    "HDSA(1)"
   ]
  },
  {
   "cell_type": "code",
   "execution_count": null,
   "id": "e9d0a0e0-80f6-4180-9d66-447e107f71fc",
   "metadata": {},
   "outputs": [],
   "source": []
  },
  {
   "cell_type": "code",
   "execution_count": null,
   "id": "201d6d8e-f733-409d-b7e7-ca4f5f063a09",
   "metadata": {},
   "outputs": [],
   "source": []
  },
  {
   "cell_type": "markdown",
   "id": "b5c61c36-c6d0-4623-90a6-bee46ae92777",
   "metadata": {},
   "source": [
    "# Factorial "
   ]
  },
  {
   "cell_type": "code",
   "execution_count": 21,
   "id": "e01cca63-a6c7-4f8b-a543-9d9de75f59c7",
   "metadata": {},
   "outputs": [],
   "source": [
    "import sys\n",
    "\n",
    "sys.getrecursionlimit()\n",
    "sys.setrecursionlimit(200)"
   ]
  },
  {
   "cell_type": "code",
   "execution_count": 27,
   "id": "b6d11df7-39d3-4d44-b8c7-5313408a213a",
   "metadata": {},
   "outputs": [],
   "source": [
    "def fact5(n):\n",
    "\n",
    "    sAns = fact4(n-1)\n",
    "    ans = n * sAns\n",
    "    return ans\n",
    "\n",
    "def fact4(n):\n",
    "\n",
    "    sAns = fact3(n-1)\n",
    "    ans = n * sAns\n",
    "    return ans\n",
    "\n",
    "def fact3(n):\n",
    "\n",
    "    sAns = fact2(n-1)\n",
    "    ans = n * sAns\n",
    "    return ans\n",
    "\n",
    "def fact2(n):\n",
    "\n",
    "    sAns = fact1(n-1)\n",
    "    ans = n * sAns\n",
    "    return ans\n",
    "\n",
    "def fact1(n):\n",
    "    return 1\n",
    "\n",
    "\n"
   ]
  },
  {
   "cell_type": "code",
   "execution_count": 29,
   "id": "a3b94117-8be8-4b55-925b-e59337085a17",
   "metadata": {},
   "outputs": [
    {
     "name": "stdout",
     "output_type": "stream",
     "text": [
      "5\n",
      "4\n",
      "3\n",
      "2\n",
      "1\n"
     ]
    },
    {
     "data": {
      "text/plain": [
       "120"
      ]
     },
     "execution_count": 29,
     "metadata": {},
     "output_type": "execute_result"
    }
   ],
   "source": [
    "fact(5)"
   ]
  },
  {
   "cell_type": "code",
   "execution_count": null,
   "id": "c3372d5d-baf2-43e5-bf41-aa6059f9f025",
   "metadata": {},
   "outputs": [],
   "source": []
  },
  {
   "cell_type": "code",
   "execution_count": 33,
   "id": "2c25cd44-29c6-440a-a5b9-31a63569be1e",
   "metadata": {},
   "outputs": [],
   "source": [
    "def fact(n):\n",
    "    if(n==1): #Base case\n",
    "        return 1\n",
    "\n",
    "    sAns = fact(n-1)\n",
    "\n",
    "    ans = n * sAns\n",
    "    return ans"
   ]
  },
  {
   "cell_type": "code",
   "execution_count": 35,
   "id": "f7ad58a7-bb8b-4730-a78b-235cd080f557",
   "metadata": {},
   "outputs": [
    {
     "data": {
      "text/plain": [
       "120"
      ]
     },
     "execution_count": 35,
     "metadata": {},
     "output_type": "execute_result"
    }
   ],
   "source": [
    "fact(5)"
   ]
  },
  {
   "cell_type": "code",
   "execution_count": null,
   "id": "dac7017b-0fa6-4050-9305-69ef3f8f570c",
   "metadata": {},
   "outputs": [],
   "source": []
  },
  {
   "cell_type": "code",
   "execution_count": null,
   "id": "5b53574c-3722-4c30-b7c0-417b849660af",
   "metadata": {},
   "outputs": [],
   "source": []
  },
  {
   "cell_type": "code",
   "execution_count": null,
   "id": "0e2b2472-fad6-4a7f-9e5b-1998cf3c7ac2",
   "metadata": {},
   "outputs": [],
   "source": []
  },
  {
   "cell_type": "code",
   "execution_count": 39,
   "id": "a1395530-be78-4d24-9e65-2684137c5f6b",
   "metadata": {},
   "outputs": [],
   "source": [
    "def pow2(n):\n",
    "    #base case\n",
    "    if(n==1):\n",
    "        return 2\n",
    "\n",
    "    sAns = pow2(n-1)\n",
    "\n",
    "    ans = 2 * sAns\n",
    "\n",
    "    return ans    \n",
    "        "
   ]
  },
  {
   "cell_type": "code",
   "execution_count": 41,
   "id": "71d37186-2eb6-45d8-b8f3-391ea83687a4",
   "metadata": {},
   "outputs": [
    {
     "data": {
      "text/plain": [
       "32"
      ]
     },
     "execution_count": 41,
     "metadata": {},
     "output_type": "execute_result"
    }
   ],
   "source": [
    "pow2(5)"
   ]
  },
  {
   "cell_type": "code",
   "execution_count": null,
   "id": "65b2c978-b264-4528-845c-043a33f8e9a8",
   "metadata": {},
   "outputs": [],
   "source": [
    "dig(0) = 0"
   ]
  },
  {
   "cell_type": "code",
   "execution_count": 57,
   "id": "5abb6bd2-3d5b-4b48-a16f-de9429351c0d",
   "metadata": {},
   "outputs": [],
   "source": [
    "def dig(n):\n",
    "    if(n>0 and n<10):\n",
    "        return 1\n",
    "    elif(n==0):\n",
    "        return 0\n",
    "\n",
    "    smallN = int(n/10)\n",
    "\n",
    "    sAns = dig(smallN)\n",
    "\n",
    "    return 1 + sAns\n",
    "\n",
    "    "
   ]
  },
  {
   "cell_type": "code",
   "execution_count": 59,
   "id": "d8cd38de-d6f9-4679-ba4d-271892080d9a",
   "metadata": {},
   "outputs": [
    {
     "data": {
      "text/plain": [
       "3"
      ]
     },
     "execution_count": 59,
     "metadata": {},
     "output_type": "execute_result"
    }
   ],
   "source": [
    "dig(234)"
   ]
  },
  {
   "cell_type": "code",
   "execution_count": 49,
   "id": "12ff32ad-c4b9-4437-832f-762eb3d15d49",
   "metadata": {},
   "outputs": [
    {
     "data": {
      "text/plain": [
       "23"
      ]
     },
     "execution_count": 49,
     "metadata": {},
     "output_type": "execute_result"
    }
   ],
   "source": [
    "int(234/10)"
   ]
  },
  {
   "cell_type": "code",
   "execution_count": 1,
   "id": "f7bbe34c-0143-420f-92c4-bcc60a844984",
   "metadata": {},
   "outputs": [
    {
     "data": {
      "text/plain": [
       "2"
      ]
     },
     "execution_count": 1,
     "metadata": {},
     "output_type": "execute_result"
    }
   ],
   "source": [
    "int(23/10)"
   ]
  },
  {
   "cell_type": "code",
   "execution_count": null,
   "id": "46fbeafe-60c2-469c-887c-40412b61fe73",
   "metadata": {},
   "outputs": [],
   "source": []
  },
  {
   "cell_type": "markdown",
   "id": "5bc6c3e9-1166-4eab-b63f-b875d06638af",
   "metadata": {},
   "source": [
    "# Fibonicci"
   ]
  },
  {
   "cell_type": "code",
   "execution_count": 37,
   "id": "b78c6173-6508-4c5b-ad65-39696fd87b74",
   "metadata": {},
   "outputs": [],
   "source": []
  },
  {
   "cell_type": "code",
   "execution_count": 53,
   "id": "2d6cf896-0105-456d-b5b9-cd80d850bc64",
   "metadata": {},
   "outputs": [],
   "source": [
    "callOfFunction = 1\n",
    "def fib(n):\n",
    "    \n",
    "    global callOfFunction\n",
    "    print(\"Function's Call\", callOfFunction,'---->',n)\n",
    "    callOfFunction+=1\n",
    "    if(n==0):\n",
    "        return 1\n",
    "    if(n==1):\n",
    "        return 1\n",
    "\n",
    "    last = fib(n-1)\n",
    "    secondLast = fib(n-2)\n",
    "\n",
    "    ans = last + secondLast\n",
    "    return ans"
   ]
  },
  {
   "cell_type": "code",
   "execution_count": null,
   "id": "c5f7b91b-1a78-4f31-88c6-45ec2e8de6d2",
   "metadata": {},
   "outputs": [],
   "source": []
  },
  {
   "cell_type": "code",
   "execution_count": 55,
   "id": "47718548-bbf9-4463-b5fd-eb81989926e2",
   "metadata": {},
   "outputs": [
    {
     "name": "stdout",
     "output_type": "stream",
     "text": [
      "Function's Call 1 ----> 5\n",
      "Function's Call 2 ----> 4\n",
      "Function's Call 3 ----> 3\n",
      "Function's Call 4 ----> 2\n",
      "Function's Call 5 ----> 1\n",
      "Function's Call 6 ----> 0\n",
      "Function's Call 7 ----> 1\n",
      "Function's Call 8 ----> 2\n",
      "Function's Call 9 ----> 1\n",
      "Function's Call 10 ----> 0\n",
      "Function's Call 11 ----> 3\n",
      "Function's Call 12 ----> 2\n",
      "Function's Call 13 ----> 1\n",
      "Function's Call 14 ----> 0\n",
      "Function's Call 15 ----> 1\n",
      "ans 8\n"
     ]
    }
   ],
   "source": [
    "print(\"ans\", fib(5))"
   ]
  },
  {
   "cell_type": "code",
   "execution_count": null,
   "id": "3792e99a-ebdf-45a0-a973-01873fed324c",
   "metadata": {},
   "outputs": [],
   "source": []
  },
  {
   "cell_type": "code",
   "execution_count": 61,
   "id": "d2c9d5ef-8812-4e1b-8223-bc7d4079bb95",
   "metadata": {},
   "outputs": [],
   "source": [
    "callOfFunction = 1\n",
    "def fib2(n):\n",
    "    \n",
    "    global callOfFunction\n",
    "    print(\"Function's Call\", callOfFunction,'---->',n)\n",
    "    callOfFunction+=1\n",
    "    if(n==0):\n",
    "        return 1\n",
    "    if(n==1):\n",
    "        return 1\n",
    "    \n",
    "    secondLast = fib(n-2)\n",
    "    last = fib(n-1)\n",
    "\n",
    "    ans = last + secondLast\n",
    "    return ans"
   ]
  },
  {
   "cell_type": "code",
   "execution_count": null,
   "id": "037ae09a-49c5-41a4-a38e-390374e779df",
   "metadata": {},
   "outputs": [],
   "source": [
    "fib2(5)"
   ]
  },
  {
   "cell_type": "code",
   "execution_count": null,
   "id": "5be6006c-1bf6-4bab-b055-bf0c2e2fdecd",
   "metadata": {},
   "outputs": [],
   "source": []
  },
  {
   "cell_type": "code",
   "execution_count": null,
   "id": "7de566ee-f4c3-46a3-929c-f94ed896c158",
   "metadata": {},
   "outputs": [],
   "source": []
  },
  {
   "cell_type": "code",
   "execution_count": null,
   "id": "34ef545c-7f35-47ca-ae98-e3c83a6555a8",
   "metadata": {},
   "outputs": [],
   "source": []
  },
  {
   "cell_type": "code",
   "execution_count": null,
   "id": "8a33e5b2-d18e-479f-b10a-530ce52db59c",
   "metadata": {},
   "outputs": [],
   "source": []
  },
  {
   "cell_type": "code",
   "execution_count": 75,
   "id": "f8b379b2-2fdf-4e51-b483-9721e4a6bcfe",
   "metadata": {},
   "outputs": [],
   "source": [
    "def print1toN(n):\n",
    "\n",
    "    if(n==0):\n",
    "        return\n",
    "\n",
    "    print1toN(n-1)\n",
    "\n",
    "    print(n)"
   ]
  },
  {
   "cell_type": "code",
   "execution_count": 77,
   "id": "6dfbc542-e9de-4456-9ee4-58a14959aea8",
   "metadata": {},
   "outputs": [
    {
     "name": "stdout",
     "output_type": "stream",
     "text": [
      "1\n",
      "2\n",
      "3\n",
      "4\n",
      "5\n"
     ]
    }
   ],
   "source": [
    "print1toN(5)"
   ]
  },
  {
   "cell_type": "code",
   "execution_count": null,
   "id": "62243f5b-903b-4a20-ac35-9899da9911b3",
   "metadata": {},
   "outputs": [],
   "source": []
  },
  {
   "cell_type": "code",
   "execution_count": 87,
   "id": "f52dabd3-a0f9-41e4-8e3b-3f0e11c6f582",
   "metadata": {},
   "outputs": [],
   "source": [
    "def printNto1(n):\n",
    "\n",
    "    if(n==0):\n",
    "        return\n",
    "    print(n)\n",
    "    printNto1(n-1)\n",
    "\n",
    "\n",
    "    "
   ]
  },
  {
   "cell_type": "code",
   "execution_count": 91,
   "id": "d23282c3-5292-4238-a185-4a674b88749e",
   "metadata": {},
   "outputs": [
    {
     "name": "stdout",
     "output_type": "stream",
     "text": [
      "5\n",
      "4\n",
      "3\n",
      "2\n",
      "1\n"
     ]
    }
   ],
   "source": [
    "printNto1(5)"
   ]
  },
  {
   "cell_type": "code",
   "execution_count": 96,
   "id": "3fdcd26f-3f25-470c-9d5e-aca6024d0359",
   "metadata": {},
   "outputs": [
    {
     "data": {
      "text/plain": [
       "23.4"
      ]
     },
     "execution_count": 96,
     "metadata": {},
     "output_type": "execute_result"
    }
   ],
   "source": [
    "234/10\n"
   ]
  },
  {
   "cell_type": "code",
   "execution_count": 94,
   "id": "bd9190e6-40bf-4538-aeb2-dd81dc9c3cb7",
   "metadata": {},
   "outputs": [
    {
     "data": {
      "text/plain": [
       "234"
      ]
     },
     "execution_count": 94,
     "metadata": {},
     "output_type": "execute_result"
    }
   ],
   "source": [
    "234 \n",
    "\n"
   ]
  },
  {
   "cell_type": "code",
   "execution_count": 106,
   "id": "52689d28-d10b-44c5-8482-45b5c981349b",
   "metadata": {},
   "outputs": [],
   "source": [
    "def sumallHead(n):\n",
    "    if(n==0):\n",
    "        return 0\n",
    "        \n",
    "    sumOfAllExceptLast = sumallHead(int(n/10))\n",
    "    ans = sumOfAllExceptLast + int(n%10)\n",
    "    return ans"
   ]
  },
  {
   "cell_type": "code",
   "execution_count": 110,
   "id": "727db030-ce43-4ae7-92a0-a802dcbb00c9",
   "metadata": {},
   "outputs": [
    {
     "data": {
      "text/plain": [
       "9"
      ]
     },
     "execution_count": 110,
     "metadata": {},
     "output_type": "execute_result"
    }
   ],
   "source": [
    "sumallHead(234)"
   ]
  },
  {
   "cell_type": "code",
   "execution_count": 112,
   "id": "6667cbfc-d159-45f3-89d8-de9a4875cb0f",
   "metadata": {},
   "outputs": [],
   "source": [
    "def sumallTail(n,ans):\n",
    "    if(n==0):\n",
    "        return 0 + ans\n",
    "    meraAns = ans + n%10\n",
    "    return sumallTail(int(n/10),meraAns)\n",
    "    "
   ]
  },
  {
   "cell_type": "code",
   "execution_count": 114,
   "id": "0e2d9ec7-93b7-4d8a-a25b-c63eb0bcdaea",
   "metadata": {},
   "outputs": [
    {
     "data": {
      "text/plain": [
       "9"
      ]
     },
     "execution_count": 114,
     "metadata": {},
     "output_type": "execute_result"
    }
   ],
   "source": [
    "sumallTail(234,0)"
   ]
  }
 ],
 "metadata": {
  "kernelspec": {
   "display_name": "Python 3 (ipykernel)",
   "language": "python",
   "name": "python3"
  },
  "language_info": {
   "codemirror_mode": {
    "name": "ipython",
    "version": 3
   },
   "file_extension": ".py",
   "mimetype": "text/x-python",
   "name": "python",
   "nbconvert_exporter": "python",
   "pygments_lexer": "ipython3",
   "version": "3.11.5"
  }
 },
 "nbformat": 4,
 "nbformat_minor": 5
}
