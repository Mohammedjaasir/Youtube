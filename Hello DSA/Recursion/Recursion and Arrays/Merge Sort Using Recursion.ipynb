{
 "cells": [
  {
   "cell_type": "code",
   "execution_count": 55,
   "id": "deb85dc4-1f58-431d-99df-775ef6453ffb",
   "metadata": {},
   "outputs": [],
   "source": [
    "def merge(l1,s,m,e):\n",
    "    i = s\n",
    "    j = m+1\n",
    "    \n",
    "    ans = []\n",
    "\n",
    "    while(i<=m and j<=e):\n",
    "        if(l1[i]<l1[j]):\n",
    "            ans.append(l1[i])\n",
    "            i+=1\n",
    "        elif(l1[i]>l1[j]):\n",
    "            ans.append(l1[j])\n",
    "            j+=1\n",
    "        elif(l1[i]==l1[j]):\n",
    "            ans.append(l1[i])\n",
    "            ans.append(l1[j])\n",
    "            i+=1\n",
    "            j+=1\n",
    "    \n",
    "    while(i<=m):\n",
    "        ans.append(l1[i])\n",
    "        i+=1\n",
    "\n",
    "    while(j<=e):\n",
    "        ans.append(l1[j])\n",
    "        j+=1\n",
    "\n",
    "    startOfAns = 0\n",
    "    startOfMainList = s\n",
    "\n",
    "    while(startOfMainList <=e):\n",
    "        l1[startOfMainList] = ans[startOfAns]\n",
    "        startOfAns+=1\n",
    "        startOfMainList+=1\n",
    "\n",
    "    return "
   ]
  },
  {
   "cell_type": "code",
   "execution_count": 57,
   "id": "9c874442-18ac-4c1e-8d76-2b4d845670fe",
   "metadata": {},
   "outputs": [],
   "source": [
    "def MergeSort(l1,s,e):\n",
    "    if(s>=e):\n",
    "        return\n",
    "\n",
    "    m = s+ (e-s)//2\n",
    "\n",
    "    MergeSort(l1,s,m)\n",
    "    MergeSort(l1,m+1,e)\n",
    "\n",
    "    merge(l1,s,m,e)\n",
    "\n",
    "    return"
   ]
  },
  {
   "cell_type": "code",
   "execution_count": 63,
   "id": "b0786ac5-bebe-454e-987d-879aebdbdce8",
   "metadata": {},
   "outputs": [
    {
     "data": {
      "text/plain": [
       "[5, 8, 10]"
      ]
     },
     "execution_count": 63,
     "metadata": {},
     "output_type": "execute_result"
    }
   ],
   "source": [
    "l1 = [10,5,8]\n",
    "MergeSort(l1,0,len(l1)-1)\n",
    "l1"
   ]
  }
 ],
 "metadata": {
  "kernelspec": {
   "display_name": "Python 3 (ipykernel)",
   "language": "python",
   "name": "python3"
  },
  "language_info": {
   "codemirror_mode": {
    "name": "ipython",
    "version": 3
   },
   "file_extension": ".py",
   "mimetype": "text/x-python",
   "name": "python",
   "nbconvert_exporter": "python",
   "pygments_lexer": "ipython3",
   "version": "3.11.5"
  }
 },
 "nbformat": 4,
 "nbformat_minor": 5
}
