{
 "cells": [
  {
   "cell_type": "code",
   "execution_count": 40,
   "id": "28fd26fa-e2b1-4074-af4b-b8f0fd2144f4",
   "metadata": {},
   "outputs": [],
   "source": [
    "def partition(l1,s,e):\n",
    "    pivot = l1[e]\n",
    "\n",
    "    i = s\n",
    "    c = s\n",
    "\n",
    "    while(i<=e-1):\n",
    "        if(l1[i]<pivot):\n",
    "            c+=1\n",
    "        i+=1\n",
    "    \n",
    "    l1[c],l1[e] = l1[e],l1[c]\n",
    "    \n",
    "    pivotIndex = c\n",
    "\n",
    "    i = s \n",
    "    j = e\n",
    "\n",
    "    while(i<pivotIndex and j > pivotIndex):\n",
    "        if(l1[i] < pivot):\n",
    "            i+=1\n",
    "        elif (l1[j] >= pivot):\n",
    "            j-=1\n",
    "        else:\n",
    "            l1[i],l1[j] = l1[j],l1[i]\n",
    "            i+=1\n",
    "            j-=1\n",
    "\n",
    "    return pivotIndex"
   ]
  },
  {
   "cell_type": "code",
   "execution_count": 1,
   "id": "a6d47c8d-6306-481e-b8b8-92b64653e385",
   "metadata": {},
   "outputs": [],
   "source": [
    "def QuickSort(l1,s,e):\n",
    "    if(s>=e):\n",
    "        return\n",
    "\n",
    "    pivotRightIndex = partition(l1,s,e)\n",
    "\n",
    "    QuickSort(l1,s,pivotRightIndex-1)\n",
    "    QuickSort(l1,pivotRightIndex+1,e)\n",
    "    return"
   ]
  },
  {
   "cell_type": "code",
   "execution_count": 46,
   "id": "3b940bc8-d69e-4cdf-ab4f-f226f0e2e445",
   "metadata": {},
   "outputs": [
    {
     "data": {
      "text/plain": [
       "([3, 2, 1, 4, 7, 4, 5, 6], 3)"
      ]
     },
     "execution_count": 46,
     "metadata": {},
     "output_type": "execute_result"
    }
   ],
   "source": [
    "l1 = [3,6,7,2,1,4,5,4]\n",
    "\n",
    "pivotIndex = partition(l1,0,len(l1)-1)\n",
    "l1, pivotIndex"
   ]
  },
  {
   "cell_type": "code",
   "execution_count": 25,
   "id": "7a339bde-b5e4-4527-be82-ced40032ce1b",
   "metadata": {},
   "outputs": [
    {
     "data": {
      "text/plain": [
       "[-20, -5, -3]"
      ]
     },
     "execution_count": 25,
     "metadata": {},
     "output_type": "execute_result"
    }
   ],
   "source": [
    "l1 = [-5,-3,-20]\n",
    "QuickSort(l1,0,len(l1)-1)\n",
    "l1"
   ]
  }
 ],
 "metadata": {
  "kernelspec": {
   "display_name": "Python 3 (ipykernel)",
   "language": "python",
   "name": "python3"
  },
  "language_info": {
   "codemirror_mode": {
    "name": "ipython",
    "version": 3
   },
   "file_extension": ".py",
   "mimetype": "text/x-python",
   "name": "python",
   "nbconvert_exporter": "python",
   "pygments_lexer": "ipython3",
   "version": "3.11.5"
  }
 },
 "nbformat": 4,
 "nbformat_minor": 5
}
