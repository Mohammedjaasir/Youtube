{
 "cells": [
  {
   "cell_type": "markdown",
   "id": "e0c01413-95fd-4711-ac9c-c32bd26c27a0",
   "metadata": {},
   "source": [
    "# recursion with Arrays/List"
   ]
  },
  {
   "cell_type": "code",
   "execution_count": 24,
   "id": "842bd814-7a95-4dc8-908c-0ee1e1f62322",
   "metadata": {},
   "outputs": [
    {
     "ename": "SyntaxError",
     "evalue": "invalid syntax (4090688720.py, line 1)",
     "output_type": "error",
     "traceback": [
      "\u001b[0;36m  Cell \u001b[0;32mIn[24], line 1\u001b[0;36m\u001b[0m\n\u001b[0;31m    Work on below question by removing last element from list in subsequent calls\u001b[0m\n\u001b[0m         ^\u001b[0m\n\u001b[0;31mSyntaxError\u001b[0m\u001b[0;31m:\u001b[0m invalid syntax\n"
     ]
    }
   ],
   "source": [
    "Work on below question by removing last element from list in subsequent calls"
   ]
  },
  {
   "cell_type": "code",
   "execution_count": null,
   "id": "560fb3b2-e93a-40d7-9d5e-d5c5553e1b6b",
   "metadata": {},
   "outputs": [],
   "source": [
    "\n",
    "def sumOfArrayTailHelper(l1,sum):\n",
    "    if(len(l1)==0):\n",
    "        return sum\n",
    "\n",
    "    sum = sum + l1[0]\n",
    "\n",
    "    return sumOfArrayTailHelper(l1[1:],sum)\n",
    "\n",
    "\n",
    "def sumOfArrayTail(l1):\n",
    "\n",
    "    # Helper Function \n",
    "    return sumOfArrayTailHelper(l1,0):"
   ]
  },
  {
   "cell_type": "code",
   "execution_count": 18,
   "id": "1ea681f6-e142-4a53-a7e1-9e0ce679c1be",
   "metadata": {},
   "outputs": [],
   "source": [
    "def sumOfArray(l1): # Function parameter can have value which I want to send across functions\n",
    "    if(len(l1) == 0):\n",
    "        return 0\n",
    "\n",
    "    sumOfLeftOverArray = sumOfArray(l1[1:]) # Will get the answer\n",
    "\n",
    "\n",
    "    ans = l1[0] + sumOfLeftOverArray\n",
    "\n",
    "    return ans"
   ]
  },
  {
   "cell_type": "code",
   "execution_count": null,
   "id": "e1724379-9367-499b-8d3a-75f862b215a7",
   "metadata": {},
   "outputs": [],
   "source": []
  },
  {
   "cell_type": "code",
   "execution_count": 20,
   "id": "f2b26499-6d35-440a-97c6-10d8ad582185",
   "metadata": {},
   "outputs": [
    {
     "name": "stdout",
     "output_type": "stream",
     "text": [
      "15\n"
     ]
    }
   ],
   "source": [
    "\n",
    "l1 = [1,2,3,4,5]\n",
    "print(sumOfArray(l1))"
   ]
  },
  {
   "cell_type": "code",
   "execution_count": 8,
   "id": "5465940c-3e56-4401-96c1-d136e19dce7c",
   "metadata": {},
   "outputs": [],
   "source": [
    "l1 = [1,2,3,4,5]"
   ]
  },
  {
   "cell_type": "code",
   "execution_count": 36,
   "id": "4856223e-c290-4309-bf3a-346273fda9bd",
   "metadata": {},
   "outputs": [
    {
     "data": {
      "text/plain": [
       "([2, 3, 4, 5], 1)"
      ]
     },
     "execution_count": 36,
     "metadata": {},
     "output_type": "execute_result"
    }
   ],
   "source": [
    "l1[1:],l1[0]"
   ]
  },
  {
   "cell_type": "code",
   "execution_count": null,
   "id": "ef28bd57-224e-4edd-ae5a-c40571b3462b",
   "metadata": {},
   "outputs": [],
   "source": []
  },
  {
   "cell_type": "code",
   "execution_count": null,
   "id": "750d353f-c04e-4fa7-86de-6d240adc2bb3",
   "metadata": {},
   "outputs": [],
   "source": []
  },
  {
   "cell_type": "code",
   "execution_count": null,
   "id": "0a3c668d-bc40-4621-a4da-8e659bc5f88e",
   "metadata": {},
   "outputs": [],
   "source": []
  },
  {
   "cell_type": "markdown",
   "id": "fe31ddd1-c441-433f-b31c-9ae33c6c19ae",
   "metadata": {},
   "source": [
    "# Check Sorting"
   ]
  },
  {
   "cell_type": "code",
   "execution_count": 43,
   "id": "bc69bb29-781b-47cc-920d-6ac87b63ca78",
   "metadata": {},
   "outputs": [],
   "source": [
    "def sortedArrayWithRecursionBetter(l1):\n",
    "    \n",
    "    if(len(l1)==0 or len(l1)==1):\n",
    "        return True\n",
    "\n",
    "    if(l1[0]>l1[1]):\n",
    "        return False\n",
    "\n",
    "    return sortedArrayWithRecursionBetter(l1[1:])"
   ]
  },
  {
   "cell_type": "code",
   "execution_count": 47,
   "id": "9ced5a60-e67c-470e-917d-f5efa37da217",
   "metadata": {},
   "outputs": [],
   "source": [
    "def sortedArrayWithRecursion(l1):\n",
    "\n",
    "    if(len(l1)==0 or len(l1)==1):\n",
    "        return True\n",
    "\n",
    "    restArraySorted = sortedArrayWithRecursion(l1[1:])\n",
    "\n",
    "    if(restArraySorted==False):\n",
    "        return False\n",
    "\n",
    "    if(l1[0] < l1[1]):\n",
    "        return True\n",
    "    else:\n",
    "        return False\n",
    "\n"
   ]
  },
  {
   "cell_type": "code",
   "execution_count": 55,
   "id": "c0fc0092-c0de-40e2-93f9-dcb6a15684f1",
   "metadata": {},
   "outputs": [
    {
     "data": {
      "text/plain": [
       "False"
      ]
     },
     "execution_count": 55,
     "metadata": {},
     "output_type": "execute_result"
    }
   ],
   "source": [
    "sortedArrayWithRecursion([10,2,5,7,9,10])"
   ]
  },
  {
   "cell_type": "code",
   "execution_count": null,
   "id": "e3b6c7eb-eeee-4af3-b406-3e8cef423e2a",
   "metadata": {},
   "outputs": [],
   "source": []
  },
  {
   "cell_type": "code",
   "execution_count": null,
   "id": "14a28fac-1058-4f7a-bf4e-4e44111b5edf",
   "metadata": {},
   "outputs": [],
   "source": []
  },
  {
   "cell_type": "code",
   "execution_count": null,
   "id": "4fa2fc67-1d9d-4028-832d-f3a27602db4c",
   "metadata": {},
   "outputs": [],
   "source": []
  },
  {
   "cell_type": "code",
   "execution_count": 73,
   "id": "794404f7-b9be-444e-be70-e1b4565eba36",
   "metadata": {},
   "outputs": [],
   "source": [
    "# First Indices\n"
   ]
  },
  {
   "cell_type": "code",
   "execution_count": null,
   "id": "6eebc129-fc72-478c-8eec-fb3921d36239",
   "metadata": {},
   "outputs": [],
   "source": [
    "1 , \"Not Found\""
   ]
  },
  {
   "cell_type": "code",
   "execution_count": null,
   "id": "441b4eaf-e3b3-4d21-babf-c4142f3355d5",
   "metadata": {},
   "outputs": [],
   "source": [
    "def LastIndicesOfNumber(l1,x):\n",
    "    if(len(l1)==0):\n",
    "        return -1\n",
    "\n",
    "    lastIndiceInLeftOver = lastIndicesOfNumber(l1[1:],x)\n",
    "\n",
    "    if(firstIndiceInLeftOver == -1):\n",
    "        return -1\n",
    "    else:\n",
    "        return firstIndiceInLeftOver + 1\n",
    "\n",
    "    \n",
    "        "
   ]
  },
  {
   "cell_type": "code",
   "execution_count": 82,
   "id": "65248276-65de-4526-983e-b4027f06e34d",
   "metadata": {},
   "outputs": [],
   "source": [
    "def firstIndicesOfNumber(l1,x):\n",
    "    if(len(l1)==0):\n",
    "        return -1\n",
    "\n",
    "    if(l1[0]==x):\n",
    "        return 0\n",
    "\n",
    "    firstIndiceInLeftOver = firstIndicesOfNumber(l1[1:],x)\n",
    "\n",
    "    if(firstIndiceInLeftOver == -1):\n",
    "        return -1\n",
    "    else:\n",
    "        return firstIndiceInLeftOver + 1\n",
    "        "
   ]
  },
  {
   "cell_type": "code",
   "execution_count": 132,
   "id": "40e61c25-d0ef-48e3-9e94-23248eec21b3",
   "metadata": {},
   "outputs": [],
   "source": [
    "def LastIndicesOfNumber(l1,x):\n",
    "    if(len(l1)==0):\n",
    "        return -1\n",
    "\n",
    "    lastIndiceInLeftOver = LastIndicesOfNumber(l1[1:],x)\n",
    "\n",
    "    if(lastIndiceInLeftOver == -1):\n",
    "        if(l1[0]==x):\n",
    "            return 0\n",
    "        return -1\n",
    "    else:\n",
    "       return lastIndiceInLeftOver + 1\n",
    "    \n",
    "    \n",
    "        "
   ]
  },
  {
   "cell_type": "code",
   "execution_count": 144,
   "id": "45c24f10-f737-4b20-a6bd-ef5812c98116",
   "metadata": {},
   "outputs": [
    {
     "data": {
      "text/plain": [
       "-1"
      ]
     },
     "execution_count": 144,
     "metadata": {},
     "output_type": "execute_result"
    }
   ],
   "source": [
    "LastIndicesOfNumber([3,2,5,2,8,2,1],10)"
   ]
  },
  {
   "cell_type": "code",
   "execution_count": null,
   "id": "45652d03-ba2a-4550-9566-e44d3dddf8a2",
   "metadata": {},
   "outputs": [],
   "source": []
  },
  {
   "cell_type": "code",
   "execution_count": null,
   "id": "6dda7988-c353-4b07-a265-668db9550ffb",
   "metadata": {},
   "outputs": [],
   "source": []
  },
  {
   "cell_type": "code",
   "execution_count": null,
   "id": "6f4a1820-9469-4996-9526-1e604595410e",
   "metadata": {},
   "outputs": [],
   "source": []
  },
  {
   "cell_type": "code",
   "execution_count": 16,
   "id": "6c070b59-3435-4ba3-8197-2856e803c80b",
   "metadata": {},
   "outputs": [
    {
     "name": "stdout",
     "output_type": "stream",
     "text": [
      "5\n",
      "3\n",
      "1\n"
     ]
    }
   ],
   "source": [
    "def PrintAllIndexOfANumber(l1,x,index):\n",
    "    \n",
    "    \n",
    "    if(len(l1)==index):\n",
    "        return\n",
    "\n",
    "    PrintAllIndexOfANumber(l1,x,index+1)\n",
    "    \n",
    "    \n",
    "    if(l1[index]==x):\n",
    "        print(index)\n",
    "    \n",
    "PrintAllIndexOfANumber([3,2,5,2,8,2,1],2,0)"
   ]
  },
  {
   "cell_type": "code",
   "execution_count": 48,
   "id": "06399ed2-c900-487b-8968-69e32c89e872",
   "metadata": {},
   "outputs": [],
   "source": [
    "def ReturnGivenListOfAllIndicesOfANumber(l1,x,index):\n",
    "    if(index == len(l1)):\n",
    "        return\n",
    "\n",
    "    if(l1[index]==x):\n",
    "        ansList.append(index)\n",
    "    \n",
    "    ReturnGivenListOfAllIndicesOfANumber(l1,x,index+1)\n",
    "    \n",
    "\n",
    "\n",
    "    "
   ]
  },
  {
   "cell_type": "code",
   "execution_count": 50,
   "id": "c3f68eb6-f4e6-4aa3-b5a6-9b87e8639b3a",
   "metadata": {},
   "outputs": [],
   "source": [
    "\n",
    "ansList = []\n",
    "ReturnGivenListOfAllIndicesOfANumber([3,2,5,2,8,2,1],2,0)"
   ]
  },
  {
   "cell_type": "code",
   "execution_count": 52,
   "id": "7970956b-19d8-4774-835e-1a626f4d6553",
   "metadata": {},
   "outputs": [
    {
     "data": {
      "text/plain": [
       "[1, 3, 5]"
      ]
     },
     "execution_count": 52,
     "metadata": {},
     "output_type": "execute_result"
    }
   ],
   "source": [
    "ansList"
   ]
  },
  {
   "cell_type": "code",
   "execution_count": null,
   "id": "7e121c6f-0d56-4f3c-92d2-34dbc88c47c9",
   "metadata": {},
   "outputs": [],
   "source": []
  },
  {
   "cell_type": "code",
   "execution_count": null,
   "id": "d5b40fe4-854f-4cdf-9278-245f1136279c",
   "metadata": {},
   "outputs": [],
   "source": [
    "l2.extend"
   ]
  },
  {
   "cell_type": "code",
   "execution_count": 70,
   "id": "26c450da-98ae-437a-9d91-c8ac59321f4e",
   "metadata": {},
   "outputs": [
    {
     "data": {
      "text/plain": [
       "[2, 3, 4, 4]"
      ]
     },
     "execution_count": 70,
     "metadata": {},
     "output_type": "execute_result"
    }
   ],
   "source": [
    "l2=[2,3,4]\n",
    "l2.extend([4])\n",
    "l2"
   ]
  },
  {
   "cell_type": "code",
   "execution_count": null,
   "id": "1ed45386-d476-4a57-b3c6-61f0c380ee06",
   "metadata": {},
   "outputs": [],
   "source": [
    "l2.insert"
   ]
  },
  {
   "cell_type": "code",
   "execution_count": 76,
   "id": "a7f0f587-ca84-40e7-a69c-a1270a76dcd3",
   "metadata": {},
   "outputs": [],
   "source": [
    "def ReturnNewListOfAllIndicesOfANumber(l1,x,index):\n",
    "    ansList2 = []\n",
    "    if(index == len(l1)):\n",
    "        return ansList2\n",
    "\n",
    "    smallList = ReturnNewListOfAllIndicesOfANumber(l1,x,index+1)\n",
    "\n",
    "    if(l1[index]==x): \n",
    "        ansList2.append(index)\n",
    "        \n",
    "    # ansList2.extend(smallList)\n",
    "\n",
    "    finalList = ansList2 + smallList\n",
    "    return finalList"
   ]
  },
  {
   "cell_type": "code",
   "execution_count": 84,
   "id": "0a758bb5-9246-4f50-8853-1d7e93a472e2",
   "metadata": {},
   "outputs": [
    {
     "data": {
      "text/plain": [
       "[6, 7]"
      ]
     },
     "execution_count": 84,
     "metadata": {},
     "output_type": "execute_result"
    }
   ],
   "source": [
    "ansListReturned = ReturnNewListOfAllIndicesOfANumber([3,2,5,2,8,2,1,1],1,0)\n",
    "ansListReturned"
   ]
  }
 ],
 "metadata": {
  "kernelspec": {
   "display_name": "Python 3 (ipykernel)",
   "language": "python",
   "name": "python3"
  },
  "language_info": {
   "codemirror_mode": {
    "name": "ipython",
    "version": 3
   },
   "file_extension": ".py",
   "mimetype": "text/x-python",
   "name": "python",
   "nbconvert_exporter": "python",
   "pygments_lexer": "ipython3",
   "version": "3.11.5"
  }
 },
 "nbformat": 4,
 "nbformat_minor": 5
}
