{
 "cells": [
  {
   "cell_type": "code",
   "execution_count": null,
   "id": "4bb4d963-5700-46f1-b9f0-3ae88899f9a0",
   "metadata": {},
   "outputs": [],
   "source": [
    "import sys\n",
    "\n",
    "sys.setrecursionlimit(10001)\n",
    "\n",
    "def LinearSearchUsingRecursion(l1,x,index):\n",
    "    if(len(l1)==index):\n",
    "        return False\n",
    "\n",
    "    if(l1[index]==x):\n",
    "        return True\n",
    "\n",
    "    return LinearSearchUsingRecursion(l1,x,index+1)\n",
    "\n",
    "    \n",
    "\n",
    "l2 =[i for i in range(1000)]\n",
    "\n",
    "\n",
    "print(LinearSearchUsingRecursion(l2,-1,0))\n",
    "\n",
    "print(LinearSearchUsingRecursion([1,2,3,5,7,0,2,5],10,0))"
   ]
  },
  {
   "cell_type": "code",
   "execution_count": 135,
   "id": "1b739642-8a74-4786-8b18-954afe5c3d45",
   "metadata": {},
   "outputs": [],
   "source": [
    "l2 =[i for i in range(1000000)]\n"
   ]
  },
  {
   "cell_type": "code",
   "execution_count": null,
   "id": "9dc09034-ae15-46bf-b697-449b2ac7c7fe",
   "metadata": {},
   "outputs": [],
   "source": [
    "6,5,12,10,9,1"
   ]
  },
  {
   "cell_type": "code",
   "execution_count": 121,
   "id": "6072ddb8-e16d-4f75-9964-295393e92bf0",
   "metadata": {},
   "outputs": [],
   "source": [
    "def BinarySearchUsingRecursionHelper(l1,x,s,e):\n",
    "\n",
    "    if(s>e):\n",
    "        return False\n",
    "\n",
    "    m = int(s +(e-s)/2) # s + (e-s)//2\n",
    "\n",
    "    if(l1[m]==x):\n",
    "        return True\n",
    "\n",
    "    if(x > l1[m]):\n",
    "        return BinarySearchUsingRecursionHelper(l1,x,m+1,e)\n",
    "\n",
    "    return BinarySearchUsingRecursionHelper(l1,x,s,m-1)\n",
    "    "
   ]
  },
  {
   "cell_type": "code",
   "execution_count": 123,
   "id": "88f27ec6-c155-44c1-b0fc-c058a74054d3",
   "metadata": {},
   "outputs": [],
   "source": [
    "def BinarySearchUsingRecursion(l1,x):\n",
    "    return BinarySearchUsingRecursionHelper(l1,x,0,len(l1)-1)"
   ]
  },
  {
   "cell_type": "code",
   "execution_count": 141,
   "id": "2a6d461b-50e2-4493-a602-8582235bd0d8",
   "metadata": {},
   "outputs": [
    {
     "name": "stdout",
     "output_type": "stream",
     "text": [
      "True\n",
      "False\n"
     ]
    }
   ],
   "source": [
    "print(BinarySearchUsingRecursion(l2,500))\n",
    "\n",
    "print(BinarySearchUsingRecursion([1,2,3,5,7],71))"
   ]
  }
 ],
 "metadata": {
  "kernelspec": {
   "display_name": "Python 3 (ipykernel)",
   "language": "python",
   "name": "python3"
  },
  "language_info": {
   "codemirror_mode": {
    "name": "ipython",
    "version": 3
   },
   "file_extension": ".py",
   "mimetype": "text/x-python",
   "name": "python",
   "nbconvert_exporter": "python",
   "pygments_lexer": "ipython3",
   "version": "3.11.5"
  }
 },
 "nbformat": 4,
 "nbformat_minor": 5
}
