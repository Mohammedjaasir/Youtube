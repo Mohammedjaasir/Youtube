{
 "cells": [
  {
   "cell_type": "code",
   "execution_count": 25,
   "id": "40229f3f-a90a-47d5-a750-8f491ddfb369",
   "metadata": {},
   "outputs": [],
   "source": [
    "def print_permutations(s,takenSoFar):\n",
    "    if(len(s)==0):\n",
    "        print(takenSoFar)\n",
    "        return \n",
    "        \n",
    "    firstDish = s[0]\n",
    "    for i in range(0,len(takenSoFar)+1):\n",
    "        print_permutations(s[1:], takenSoFar[0:i]+firstDish+takenSoFar[i:])\n",
    "    return"
   ]
  },
  {
   "cell_type": "code",
   "execution_count": 27,
   "id": "f50f7050-ff00-4be8-80b7-885d6cfe367b",
   "metadata": {},
   "outputs": [
    {
     "name": "stdout",
     "output_type": "stream",
     "text": [
      "cba\n",
      "bca\n",
      "bac\n",
      "cab\n",
      "acb\n",
      "abc\n"
     ]
    }
   ],
   "source": [
    "print_permutations('abc','')"
   ]
  },
  {
   "cell_type": "code",
   "execution_count": null,
   "id": "75b1e185-eb38-4af2-8273-4a4574aa2da6",
   "metadata": {},
   "outputs": [],
   "source": []
  },
  {
   "cell_type": "code",
   "execution_count": 7,
   "id": "5a916cba-8920-4472-9c32-4a86eb2b312b",
   "metadata": {},
   "outputs": [],
   "source": [
    "plate = 'bc'"
   ]
  },
  {
   "cell_type": "code",
   "execution_count": 15,
   "id": "35fc8e17-a6b1-4f3a-b6d8-0052e624e7f9",
   "metadata": {},
   "outputs": [
    {
     "data": {
      "text/plain": [
       "'abc'"
      ]
     },
     "execution_count": 15,
     "metadata": {},
     "output_type": "execute_result"
    }
   ],
   "source": [
    "plate[0:0] + 'a' + plate[0:]"
   ]
  },
  {
   "cell_type": "code",
   "execution_count": 21,
   "id": "60eaa7d4-742f-43ea-922d-420e54617bed",
   "metadata": {},
   "outputs": [
    {
     "data": {
      "text/plain": [
       "'bac'"
      ]
     },
     "execution_count": 21,
     "metadata": {},
     "output_type": "execute_result"
    }
   ],
   "source": [
    "plate[0:1] + 'a' + plate[1:]"
   ]
  },
  {
   "cell_type": "code",
   "execution_count": 23,
   "id": "fb254cef-88ab-4b7f-9eca-80c2e4dc2774",
   "metadata": {},
   "outputs": [
    {
     "data": {
      "text/plain": [
       "'bca'"
      ]
     },
     "execution_count": 23,
     "metadata": {},
     "output_type": "execute_result"
    }
   ],
   "source": [
    "plate[0:2] + 'a' + plate[2:]"
   ]
  },
  {
   "cell_type": "code",
   "execution_count": null,
   "id": "d6da7d4d-2b78-4e29-8725-d6f8a62b5d21",
   "metadata": {},
   "outputs": [],
   "source": []
  },
  {
   "cell_type": "code",
   "execution_count": null,
   "id": "90dff05a-a4b4-4152-9bf4-f5994024915a",
   "metadata": {},
   "outputs": [],
   "source": []
  },
  {
   "cell_type": "code",
   "execution_count": 48,
   "id": "1f183e4c-4737-4e91-8c5b-49a34e4310b8",
   "metadata": {},
   "outputs": [],
   "source": [
    "def return_permutations(s,takenSoFar):\n",
    "    if(len(s)==0 or s==''):\n",
    "        ans = []\n",
    "        ans.append(takenSoFar)\n",
    "        return ans\n",
    "        \n",
    "    ans = [] \n",
    "    firstDish = s[0]\n",
    "    for i in range(0,len(takenSoFar)+1):\n",
    "        ans.extend(return_permutations(s[1:], takenSoFar[0:i]+firstDish+takenSoFar[i:]))\n",
    "    return ans"
   ]
  },
  {
   "cell_type": "code",
   "execution_count": 52,
   "id": "23fddbaa-37c4-4dee-9ba7-80162b5ab634",
   "metadata": {},
   "outputs": [
    {
     "data": {
      "text/plain": [
       "['cba', 'bca', 'bac', 'cab', 'acb', 'abc']"
      ]
     },
     "execution_count": 52,
     "metadata": {},
     "output_type": "execute_result"
    }
   ],
   "source": [
    "return_permutations('abc','')"
   ]
  },
  {
   "cell_type": "code",
   "execution_count": null,
   "id": "2f7c2d10-6262-488e-8345-dde973bdcab0",
   "metadata": {},
   "outputs": [],
   "source": []
  },
  {
   "cell_type": "code",
   "execution_count": 74,
   "id": "ea19abe5-da04-4bd3-bf28-e9ca2196e1fb",
   "metadata": {},
   "outputs": [],
   "source": [
    "def permutations_return_list(s):\n",
    "    if(s==''):\n",
    "        ans = ['']\n",
    "        return ans\n",
    "\n",
    "    permutationsOfSmall =  permutations_return_list(s[1:]) #[bc, cb]\n",
    "    \n",
    "    ans = []\n",
    "    \n",
    "    for eachPerm in permutationsOfSmall:\n",
    "        for j in range(0,len(eachPerm)+1):\n",
    "            ans.append( eachPerm[0:j]+s[0]+eachPerm[j:])\n",
    "\n",
    "    return ans"
   ]
  },
  {
   "cell_type": "code",
   "execution_count": 76,
   "id": "0d1628dc-7914-4e82-b25a-830364d33ce2",
   "metadata": {},
   "outputs": [
    {
     "data": {
      "text/plain": [
       "['abc', 'bac', 'bca', 'acb', 'cab', 'cba']"
      ]
     },
     "execution_count": 76,
     "metadata": {},
     "output_type": "execute_result"
    }
   ],
   "source": [
    "permutations_return_list('abc')"
   ]
  },
  {
   "cell_type": "code",
   "execution_count": null,
   "id": "00085843-d7f2-45e2-a101-44257eae9607",
   "metadata": {},
   "outputs": [],
   "source": []
  }
 ],
 "metadata": {
  "kernelspec": {
   "display_name": "Python 3 (ipykernel)",
   "language": "python",
   "name": "python3"
  },
  "language_info": {
   "codemirror_mode": {
    "name": "ipython",
    "version": 3
   },
   "file_extension": ".py",
   "mimetype": "text/x-python",
   "name": "python",
   "nbconvert_exporter": "python",
   "pygments_lexer": "ipython3",
   "version": "3.11.5"
  }
 },
 "nbformat": 4,
 "nbformat_minor": 5
}
