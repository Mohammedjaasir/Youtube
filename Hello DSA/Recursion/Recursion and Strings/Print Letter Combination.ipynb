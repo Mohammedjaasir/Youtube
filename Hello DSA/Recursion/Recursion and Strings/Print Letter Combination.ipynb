{
 "cells": [
  {
   "cell_type": "code",
   "execution_count": 11,
   "id": "d25b6ea7-ccb5-41bc-81b4-ff59109409bb",
   "metadata": {},
   "outputs": [],
   "source": [
    "keys = {'1':'','2':'abc','3':'def','4':'ghi','5':'jkl','6':'mno','7':'pqrs','8':'tuv','9':\"wxyz\"}"
   ]
  },
  {
   "cell_type": "code",
   "execution_count": 21,
   "id": "79dec911-eb4e-489f-9b35-f1abbf307829",
   "metadata": {},
   "outputs": [],
   "source": [
    "def print_combination(s1,outputSoFar):\n",
    "    if(s1==\"\"):\n",
    "        print(outputSoFar)\n",
    "        return\n",
    "\n",
    "    keysLetter = keys[s1[0]]\n",
    "\n",
    "    for i in keysLetter:\n",
    "        print_combination(s1[1:],outputSoFar+i)\n",
    "\n",
    "    return\n",
    "    \n",
    "    "
   ]
  },
  {
   "cell_type": "code",
   "execution_count": 25,
   "id": "af8cf430-f013-4c03-8c8a-ef97fac92621",
   "metadata": {},
   "outputs": [
    {
     "name": "stdout",
     "output_type": "stream",
     "text": [
      "ad\n",
      "ae\n",
      "af\n",
      "bd\n",
      "be\n",
      "bf\n",
      "cd\n",
      "ce\n",
      "cf\n"
     ]
    }
   ],
   "source": [
    "print_combination('23','')"
   ]
  },
  {
   "cell_type": "code",
   "execution_count": null,
   "id": "f0ec3cea-4bca-4da7-9a21-b2f754e03f8e",
   "metadata": {},
   "outputs": [],
   "source": []
  },
  {
   "cell_type": "code",
   "execution_count": null,
   "id": "79df32e8-e60d-4f00-a2de-7e3e807aefb1",
   "metadata": {},
   "outputs": [],
   "source": []
  },
  {
   "cell_type": "code",
   "execution_count": 33,
   "id": "1f97d105-e79e-4122-9ed7-4ef2ea5ee81f",
   "metadata": {},
   "outputs": [],
   "source": [
    "def return_combination(s1,outputSoFar):\n",
    "    ans = []\n",
    "    if(s1==\"\"):\n",
    "        ans.append(outputSoFar)\n",
    "        return ans\n",
    "\n",
    "    keysLetter = keys[s1[0]]\n",
    "\n",
    "    for i in keysLetter:\n",
    "        ans.extend(return_combination(s1[1:],outputSoFar+i))\n",
    "\n",
    "    return ans\n",
    "    \n",
    "    "
   ]
  },
  {
   "cell_type": "code",
   "execution_count": 41,
   "id": "49ea2d2b-78a2-4dce-97d8-02a4ae8bc9bd",
   "metadata": {},
   "outputs": [
    {
     "data": {
      "text/plain": [
       "['ad', 'ae', 'af', 'bd', 'be', 'bf', 'cd', 'ce', 'cf']"
      ]
     },
     "execution_count": 41,
     "metadata": {},
     "output_type": "execute_result"
    }
   ],
   "source": [
    "return_combination('23','')"
   ]
  },
  {
   "cell_type": "code",
   "execution_count": null,
   "id": "d6ff31e0-886f-479e-a54f-5cd37a89f2df",
   "metadata": {},
   "outputs": [],
   "source": []
  },
  {
   "cell_type": "code",
   "execution_count": null,
   "id": "5b8de1c1-c83d-44af-a7b9-a5233932a314",
   "metadata": {},
   "outputs": [],
   "source": []
  },
  {
   "cell_type": "code",
   "execution_count": 45,
   "id": "02918035-eb80-45ff-8f34-ac7c46a198dc",
   "metadata": {},
   "outputs": [],
   "source": [
    "def return_without_output(s1):\n",
    "    ans = []\n",
    "    if(s1==''):\n",
    "        return ['']\n",
    "\n",
    "    small_answers = return_without_output(s1[1:]) # ['d','e','f']\n",
    "    keysLetter = keys[s1[0]]\n",
    "\n",
    "    for i in keysLetter:\n",
    "\n",
    "        for j in small_answers:\n",
    "            ans.append(i+j)\n",
    "\n",
    "    return ans\n",
    "    "
   ]
  },
  {
   "cell_type": "code",
   "execution_count": 47,
   "id": "95887b7c-7a18-4540-90b3-c496cddf128a",
   "metadata": {},
   "outputs": [
    {
     "data": {
      "text/plain": [
       "['ad', 'ae', 'af', 'bd', 'be', 'bf', 'cd', 'ce', 'cf']"
      ]
     },
     "execution_count": 47,
     "metadata": {},
     "output_type": "execute_result"
    }
   ],
   "source": [
    "return_without_output('23')"
   ]
  }
 ],
 "metadata": {
  "kernelspec": {
   "display_name": "Python 3 (ipykernel)",
   "language": "python",
   "name": "python3"
  },
  "language_info": {
   "codemirror_mode": {
    "name": "ipython",
    "version": 3
   },
   "file_extension": ".py",
   "mimetype": "text/x-python",
   "name": "python",
   "nbconvert_exporter": "python",
   "pygments_lexer": "ipython3",
   "version": "3.11.5"
  }
 },
 "nbformat": 4,
 "nbformat_minor": 5
}
