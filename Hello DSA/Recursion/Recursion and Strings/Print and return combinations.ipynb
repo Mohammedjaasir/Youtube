{
 "cells": [
  {
   "cell_type": "code",
   "execution_count": 1,
   "id": "1698d353-4405-40a8-bfe2-5c7de6339e45",
   "metadata": {},
   "outputs": [
    {
     "ename": "TypeError",
     "evalue": "unsupported operand type(s) for -: 'int' and 'str'",
     "output_type": "error",
     "traceback": [
      "\u001b[0;31m---------------------------------------------------------------------------\u001b[0m",
      "\u001b[0;31mTypeError\u001b[0m                                 Traceback (most recent call last)",
      "Cell \u001b[0;32mIn[1], line 1\u001b[0m\n\u001b[0;32m----> 1\u001b[0m \u001b[38;5;241m1\u001b[39m\u001b[38;5;241m-\u001b[39m\u001b[38;5;124m'\u001b[39m\u001b[38;5;124ma\u001b[39m\u001b[38;5;124m'\u001b[39m , \u001b[38;5;241m2\u001b[39m\u001b[38;5;241m-\u001b[39m\u001b[38;5;124m'\u001b[39m\u001b[38;5;124mb\u001b[39m\u001b[38;5;124m'\u001b[39m\n",
      "\u001b[0;31mTypeError\u001b[0m: unsupported operand type(s) for -: 'int' and 'str'"
     ]
    }
   ],
   "source": [
    "1-'a' , 2-'b'"
   ]
  },
  {
   "cell_type": "code",
   "execution_count": null,
   "id": "63f776a4-8f02-46be-aa26-02c7e9c9254c",
   "metadata": {},
   "outputs": [],
   "source": [
    "97 + 1 - 1"
   ]
  },
  {
   "cell_type": "code",
   "execution_count": 1,
   "id": "63a86776-39b9-4682-bbe2-8290ef20a4ed",
   "metadata": {},
   "outputs": [],
   "source": [
    "def get_char(value):\n",
    "    if(value<=0 or value>26):\n",
    "        return \"\"\n",
    "    \n",
    "    return chr(97+value-1)"
   ]
  },
  {
   "cell_type": "code",
   "execution_count": 33,
   "id": "7a410afb-4ce0-470b-9ab1-4d9f40993ac3",
   "metadata": {},
   "outputs": [
    {
     "data": {
      "text/plain": [
       "''"
      ]
     },
     "execution_count": 33,
     "metadata": {},
     "output_type": "execute_result"
    }
   ],
   "source": [
    "get_char(0)"
   ]
  },
  {
   "cell_type": "code",
   "execution_count": null,
   "id": "8654ecf4-281a-4667-b0e2-00d9741c8270",
   "metadata": {},
   "outputs": [],
   "source": []
  },
  {
   "cell_type": "code",
   "execution_count": 39,
   "id": "5aad9c49-dfad-4a8b-94e3-485a971082ad",
   "metadata": {},
   "outputs": [],
   "source": [
    "s1 = '3'"
   ]
  },
  {
   "cell_type": "code",
   "execution_count": 41,
   "id": "c000d393-2d01-431b-b3e5-f730c221c111",
   "metadata": {},
   "outputs": [
    {
     "data": {
      "text/plain": [
       "'c'"
      ]
     },
     "execution_count": 41,
     "metadata": {},
     "output_type": "execute_result"
    }
   ],
   "source": [
    "get_char(int(s1))"
   ]
  },
  {
   "cell_type": "code",
   "execution_count": 37,
   "id": "58458b32-3d23-4b60-936b-d7ae30d0ea2e",
   "metadata": {},
   "outputs": [
    {
     "data": {
      "text/plain": [
       "'3'"
      ]
     },
     "execution_count": 37,
     "metadata": {},
     "output_type": "execute_result"
    }
   ],
   "source": [
    "s1[0:2]"
   ]
  },
  {
   "cell_type": "code",
   "execution_count": 53,
   "id": "14b6a412-c2ee-47ea-9392-988f9bbc4cca",
   "metadata": {},
   "outputs": [],
   "source": [
    "def print_all_combinations(s1,answerSoFar):\n",
    "    if(s1==\"\"):\n",
    "        print(answerSoFar)\n",
    "        return\n",
    "    if(len(s1)==1):\n",
    "        print(answerSoFar + get_char(int(s1)))\n",
    "        return\n",
    "\n",
    "    singleDigit = int(s1[0:1]) \n",
    "    doubleDigit = int(s1[0:2])\n",
    "\n",
    "    print_all_combinations(s1[1:],answerSoFar + get_char(singleDigit))\n",
    "    \n",
    "    if(doubleDigit >=10 and doubleDigit<=26):\n",
    "        print_all_combinations(s1[2:],answerSoFar + get_char(doubleDigit))\n",
    "\n",
    "    return"
   ]
  },
  {
   "cell_type": "code",
   "execution_count": 61,
   "id": "869c1508-b5d1-4df4-82eb-a4ad1af7aa2d",
   "metadata": {},
   "outputs": [
    {
     "name": "stdout",
     "output_type": "stream",
     "text": [
      "abc\n",
      "aw\n",
      "lc\n"
     ]
    }
   ],
   "source": [
    "print_all_combinations('123','')"
   ]
  },
  {
   "cell_type": "code",
   "execution_count": null,
   "id": "91e49d8e-9c8f-44b9-8cce-7fba05d99269",
   "metadata": {},
   "outputs": [],
   "source": []
  },
  {
   "cell_type": "code",
   "execution_count": null,
   "id": "2c8c8fb8-79f5-4981-a71d-281e39c41bfb",
   "metadata": {},
   "outputs": [],
   "source": []
  },
  {
   "cell_type": "code",
   "execution_count": null,
   "id": "addc5b1c-6774-4d91-bc58-a7c9eead2e7a",
   "metadata": {},
   "outputs": [],
   "source": []
  },
  {
   "cell_type": "code",
   "execution_count": 63,
   "id": "9265b1c2-ff7c-469a-953e-3529b36ea807",
   "metadata": {},
   "outputs": [
    {
     "ename": "SyntaxError",
     "evalue": "invalid syntax (1854800151.py, line 3)",
     "output_type": "error",
     "traceback": [
      "\u001b[0;36m  Cell \u001b[0;32mIn[63], line 3\u001b[0;36m\u001b[0m\n\u001b[0;31m    1 1 2 3 - aabc\u001b[0m\n\u001b[0m      ^\u001b[0m\n\u001b[0;31mSyntaxError\u001b[0m\u001b[0;31m:\u001b[0m invalid syntax\n"
     ]
    }
   ],
   "source": [
    "1123\n",
    "\n",
    "1 1 2 3 - aabc\n",
    "1 1 23  - aaw\n",
    "1 12 3 - alc\n",
    "11 2 3 - kbc\n",
    "11 23 - kw"
   ]
  },
  {
   "cell_type": "code",
   "execution_count": null,
   "id": "72a54e6a-0317-4e86-966e-bb0e98f81406",
   "metadata": {},
   "outputs": [],
   "source": []
  },
  {
   "cell_type": "code",
   "execution_count": null,
   "id": "19d5d567-62a3-4020-992f-577a6f231488",
   "metadata": {},
   "outputs": [],
   "source": []
  },
  {
   "cell_type": "code",
   "execution_count": 70,
   "id": "bc5b27aa-5c87-4331-a7aa-9ba466f07fdf",
   "metadata": {},
   "outputs": [],
   "source": [
    "def return_all_combinations(s1,answerSoFar):\n",
    "    ans = []\n",
    "    if(s1==\"\"):\n",
    "        ans.append(answerSoFar)\n",
    "        return ans\n",
    "    if(len(s1)==1):\n",
    "        ans.append(answerSoFar + get_char(int(s1)))\n",
    "        return ans\n",
    "\n",
    "    singleDigit = int(s1[0:1]) \n",
    "    doubleDigit = int(s1[0:2])\n",
    "\n",
    "    ans.extend(return_all_combinations(s1[1:],answerSoFar + get_char(singleDigit)))\n",
    "    \n",
    "    if(doubleDigit >=10 and doubleDigit<=26):\n",
    "        ans.extend(return_all_combinations(s1[2:],answerSoFar + get_char(doubleDigit)))\n",
    "\n",
    "    return ans"
   ]
  },
  {
   "cell_type": "code",
   "execution_count": 76,
   "id": "be9e134a-5d92-48b2-a5fc-89c7e10c0108",
   "metadata": {},
   "outputs": [
    {
     "data": {
      "text/plain": [
       "['aabc', 'aaw', 'alc', 'kbc', 'kw']"
      ]
     },
     "execution_count": 76,
     "metadata": {},
     "output_type": "execute_result"
    }
   ],
   "source": [
    "return_all_combinations('1123','')"
   ]
  },
  {
   "cell_type": "code",
   "execution_count": null,
   "id": "e676c731-679d-4575-ab22-5fe37bee0171",
   "metadata": {},
   "outputs": [],
   "source": []
  },
  {
   "cell_type": "code",
   "execution_count": 3,
   "id": "1e48d8e5-3ea2-443e-8267-15825779d2a2",
   "metadata": {},
   "outputs": [],
   "source": [
    "def get_char(value):\n",
    "    if(value<=0 or value>26):\n",
    "        return \"\"\n",
    "    \n",
    "    return chr(97+value-1)"
   ]
  },
  {
   "cell_type": "code",
   "execution_count": 19,
   "id": "c3235b83-1f7f-492c-8027-161922049d68",
   "metadata": {},
   "outputs": [],
   "source": [
    "def return_all_combinations_without_output(s1):\n",
    "    ans = []\n",
    "    if(s1==\"\"):\n",
    "        ans.append('')\n",
    "        return ans\n",
    "        \n",
    "    if(len(s1)==1):\n",
    "        ans.append(get_char(int(s1)))\n",
    "        return ans\n",
    "\n",
    "    singleDigit = int(s1[0:1]) \n",
    "    doubleDigit = int(s1[0:2])\n",
    "\n",
    "    a1 = return_all_combinations_without_output(s1[1:])\n",
    "\n",
    "    for i in a1:\n",
    "        ans.append(get_char(singleDigit) + i)\n",
    "    \n",
    "    if(doubleDigit >=10 and doubleDigit<=26):\n",
    "        a2 = return_all_combinations_without_output(s1[2:])\n",
    "        for i in a2:\n",
    "            ans.append(get_char(doubleDigit) + i)\n",
    "\n",
    "    return ans"
   ]
  },
  {
   "cell_type": "code",
   "execution_count": 27,
   "id": "897a017e-9116-4c63-bb05-982648b459c6",
   "metadata": {},
   "outputs": [
    {
     "data": {
      "text/plain": [
       "['abc', 'aw', 'lc']"
      ]
     },
     "execution_count": 27,
     "metadata": {},
     "output_type": "execute_result"
    }
   ],
   "source": [
    "return_all_combinations_without_output('123')"
   ]
  }
 ],
 "metadata": {
  "kernelspec": {
   "display_name": "Python 3 (ipykernel)",
   "language": "python",
   "name": "python3"
  },
  "language_info": {
   "codemirror_mode": {
    "name": "ipython",
    "version": 3
   },
   "file_extension": ".py",
   "mimetype": "text/x-python",
   "name": "python",
   "nbconvert_exporter": "python",
   "pygments_lexer": "ipython3",
   "version": "3.11.5"
  }
 },
 "nbformat": 4,
 "nbformat_minor": 5
}
