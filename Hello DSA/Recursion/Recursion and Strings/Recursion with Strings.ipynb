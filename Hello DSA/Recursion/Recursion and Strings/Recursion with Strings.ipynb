{
 "cells": [
  {
   "cell_type": "code",
   "execution_count": 15,
   "id": "0ee8907a-bab5-43b6-bcda-7e36a224daec",
   "metadata": {},
   "outputs": [],
   "source": [
    "def removeZ(s1):\n",
    "    if(len(s1)==0):\n",
    "        return s1\n",
    "\n",
    "    recursionAnswer = removeZ(s1[1:])\n",
    "\n",
    "    if(s1[0]=='z' or s1[0]=='Z'):   # in 'zZ'\n",
    "        return recursionAnswer\n",
    "\n",
    "    return s1[0]+recursionAnswer"
   ]
  },
  {
   "cell_type": "code",
   "execution_count": null,
   "id": "d3f555c5-dcac-4ec3-8a11-65cb774a1f58",
   "metadata": {},
   "outputs": [],
   "source": [
    "def removeZ2(s1):\n",
    "    if(len(s1)==0):\n",
    "        return s1\n",
    "\n",
    "    if(s1[0] in 'zZ'):\n",
    "        return removeZ(s1[1:])\n",
    "        \n",
    "    return s1[0]+recursionAnswer"
   ]
  },
  {
   "cell_type": "code",
   "execution_count": 17,
   "id": "e4dc034f-e100-467d-b82f-7f524934b57a",
   "metadata": {},
   "outputs": [
    {
     "data": {
      "text/plain": [
       "'Dragon Ball '"
      ]
     },
     "execution_count": 17,
     "metadata": {},
     "output_type": "execute_result"
    }
   ],
   "source": [
    "s = 'Dragon Ball Z'\n",
    "\n",
    "removeZ(s)"
   ]
  },
  {
   "cell_type": "code",
   "execution_count": null,
   "id": "82dc8187-8f02-4578-a180-0b8fc4d372e5",
   "metadata": {},
   "outputs": [],
   "source": []
  },
  {
   "cell_type": "markdown",
   "id": "afc4b539-1bce-4494-91fa-ed70e677457a",
   "metadata": {},
   "source": [
    "# palindrome"
   ]
  },
  {
   "cell_type": "code",
   "execution_count": 103,
   "id": "91ead5cf-a9eb-40b1-90de-0180d2cc3234",
   "metadata": {},
   "outputs": [],
   "source": [
    "def is_palindrome_helper(s1,s,e):\n",
    "    if(s>=e):\n",
    "        return True\n",
    "\n",
    "    ansFromRecursion =  is_palindrome_helper(s1,s+1,e-1)\n",
    "\n",
    "    if(ansFromRecursion==False):\n",
    "        return ansFromRecursion\n",
    "    return s1[s] == s1[e]"
   ]
  },
  {
   "cell_type": "code",
   "execution_count": 124,
   "id": "698cd1d0-4c24-4f1d-b215-a9824be9cf83",
   "metadata": {},
   "outputs": [],
   "source": [
    "def is_palindrome_helper(s1,s,e):\n",
    "    if( s>=e):\n",
    "        return True\n",
    "    if(s1[s] != s1[e]):\n",
    "        return False\n",
    "\n",
    "    return is_palindrome_helper(s1,s+1,e-1)\n",
    "    \n",
    "def is_palindrome(s1): \n",
    "    # return s1 == s1[::-1] # Don't Do this\n",
    "\n",
    "    if(len(s1)<=1):\n",
    "        return True\n",
    "\n",
    "    s1 = \"\".join(i for i in s1 if i.isalnum()==True).lower()\n",
    "\n",
    "    return is_palindrome_helper(s1,0,len(s1)-1)\n",
    "    "
   ]
  },
  {
   "cell_type": "code",
   "execution_count": 136,
   "id": "07687004-1aea-4497-a593-76ca43b2a57f",
   "metadata": {},
   "outputs": [
    {
     "data": {
      "text/plain": [
       "True"
      ]
     },
     "execution_count": 136,
     "metadata": {},
     "output_type": "execute_result"
    }
   ],
   "source": [
    "is_palindrome('race a ecar')"
   ]
  },
  {
   "cell_type": "code",
   "execution_count": 61,
   "id": "44e2da56-19e6-41ca-838e-3d6cc2c5a2a0",
   "metadata": {},
   "outputs": [],
   "source": [
    "s2 = ' '"
   ]
  },
  {
   "cell_type": "code",
   "execution_count": 63,
   "id": "ebbed8b7-9772-401e-bc05-ae1eac191c9b",
   "metadata": {},
   "outputs": [
    {
     "data": {
      "text/plain": [
       "False"
      ]
     },
     "execution_count": 63,
     "metadata": {},
     "output_type": "execute_result"
    }
   ],
   "source": [
    "s2.isalnum()"
   ]
  },
  {
   "cell_type": "code",
   "execution_count": 93,
   "id": "b27e6618-2d79-43b5-99bf-cc70e5fe2738",
   "metadata": {},
   "outputs": [
    {
     "data": {
      "text/plain": [
       "'raceacar'"
      ]
     },
     "execution_count": 93,
     "metadata": {},
     "output_type": "execute_result"
    }
   ],
   "source": [
    "\"\".join(i for i in 'race a car' if i.isalnum()==True).lower()"
   ]
  }
 ],
 "metadata": {
  "kernelspec": {
   "display_name": "Python 3 (ipykernel)",
   "language": "python",
   "name": "python3"
  },
  "language_info": {
   "codemirror_mode": {
    "name": "ipython",
    "version": 3
   },
   "file_extension": ".py",
   "mimetype": "text/x-python",
   "name": "python",
   "nbconvert_exporter": "python",
   "pygments_lexer": "ipython3",
   "version": "3.11.5"
  }
 },
 "nbformat": 4,
 "nbformat_minor": 5
}
