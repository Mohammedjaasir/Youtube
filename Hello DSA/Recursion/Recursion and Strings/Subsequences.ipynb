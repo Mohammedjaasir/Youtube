{
 "cells": [
  {
   "cell_type": "code",
   "execution_count": null,
   "id": "e1ace502-04c6-4ead-9414-aa3ba582742b",
   "metadata": {},
   "outputs": [],
   "source": []
  },
  {
   "cell_type": "code",
   "execution_count": 3,
   "id": "529fc98e-569f-4d2c-9603-6bcb33607649",
   "metadata": {},
   "outputs": [],
   "source": [
    "s = 'abc'"
   ]
  },
  {
   "cell_type": "code",
   "execution_count": 23,
   "id": "835f649d-3001-4e79-85db-ca7e30002e73",
   "metadata": {},
   "outputs": [],
   "source": [
    "def print_all_subsequences(input,takenSoFar):\n",
    "    if(input==\"\" or len(input)==0):\n",
    "        print(takenSoFar)\n",
    "        return\n",
    "\n",
    "    shortInput = input[1:]\n",
    "    print_all_subsequences(shortInput, takenSoFar+input[0])\n",
    "    print_all_subsequences(shortInput,takenSoFar)\n",
    "    return"
   ]
  },
  {
   "cell_type": "code",
   "execution_count": 25,
   "id": "90d4d2ee-d69b-4dcb-a79b-9ddc8dbfe26e",
   "metadata": {},
   "outputs": [
    {
     "name": "stdout",
     "output_type": "stream",
     "text": [
      "abc\n",
      "ab\n",
      "ac\n",
      "a\n",
      "bc\n",
      "b\n",
      "c\n",
      "\n"
     ]
    }
   ],
   "source": [
    "print_all_subsequences(s,\"\")"
   ]
  },
  {
   "cell_type": "code",
   "execution_count": 36,
   "id": "f3d43f26-6461-4cf6-a23e-7e9f1a1f7b0c",
   "metadata": {},
   "outputs": [],
   "source": [
    "l1 = [1,2,3]\n",
    "l1.extend([4])"
   ]
  },
  {
   "cell_type": "code",
   "execution_count": 38,
   "id": "b3ab8283-4089-4ec9-a9d8-1956b2c6257d",
   "metadata": {},
   "outputs": [
    {
     "data": {
      "text/plain": [
       "[1, 2, 3, 4]"
      ]
     },
     "execution_count": 38,
     "metadata": {},
     "output_type": "execute_result"
    }
   ],
   "source": [
    "l1"
   ]
  },
  {
   "cell_type": "code",
   "execution_count": 44,
   "id": "29d906f1-95d3-41c8-aad9-abedc6554533",
   "metadata": {},
   "outputs": [],
   "source": [
    "def return_all_subsequences(input,takenSoFar):\n",
    "    if(input==\"\" or len(input)==0):\n",
    "        ans = []\n",
    "        ans.append(takenSoFar)\n",
    "        return ans\n",
    "\n",
    "    # Induction Step\n",
    "    shortInput = input[1:]\n",
    "    a1 = return_all_subsequences(shortInput, takenSoFar+input[0])\n",
    "    a2 = return_all_subsequences(shortInput,takenSoFar)\n",
    "\n",
    "    ans = []\n",
    "    ans.extend(a1)\n",
    "    ans.extend(a2)\n",
    "    \n",
    "    return ans"
   ]
  },
  {
   "cell_type": "code",
   "execution_count": 46,
   "id": "8a50390a-f356-4829-bf43-7d25c47bbdd8",
   "metadata": {},
   "outputs": [],
   "source": [
    "AllPermutations = return_all_subsequences(s,\"\")"
   ]
  },
  {
   "cell_type": "code",
   "execution_count": 48,
   "id": "985f1e36-02d2-4066-bb59-0867f344604e",
   "metadata": {},
   "outputs": [
    {
     "data": {
      "text/plain": [
       "['abc', 'ab', 'ac', 'a', 'bc', 'b', 'c', '']"
      ]
     },
     "execution_count": 48,
     "metadata": {},
     "output_type": "execute_result"
    }
   ],
   "source": [
    "AllPermutations"
   ]
  },
  {
   "cell_type": "code",
   "execution_count": null,
   "id": "db195d90-04a9-4f6f-942c-f4af2dc0b982",
   "metadata": {},
   "outputs": [],
   "source": []
  },
  {
   "cell_type": "code",
   "execution_count": 50,
   "id": "4e951090-87c3-4f89-9f23-5346491c0e0f",
   "metadata": {},
   "outputs": [],
   "source": [
    "def return_Subsequences_as_a_list(input):\n",
    "    if(input==\"\"):\n",
    "        ans=['']\n",
    "        return ans\n",
    "\n",
    "    smallAns = return_Subsequences_as_a_list(input[1:])\n",
    "\n",
    "    ans = []\n",
    "    ans.extend(smallAns.copy())\n",
    "\n",
    "    for eachPermutation in smallAns:\n",
    "        ans.append(input[0]+eachPermutation)\n",
    "\n",
    "    return ans"
   ]
  },
  {
   "cell_type": "code",
   "execution_count": 52,
   "id": "8860d259-93bf-4775-aec9-4b002135ba12",
   "metadata": {},
   "outputs": [
    {
     "data": {
      "text/plain": [
       "['', 'c', 'b', 'bc', 'a', 'ac', 'ab', 'abc']"
      ]
     },
     "execution_count": 52,
     "metadata": {},
     "output_type": "execute_result"
    }
   ],
   "source": [
    "return_Subsequences_as_a_list(s)"
   ]
  },
  {
   "cell_type": "code",
   "execution_count": null,
   "id": "617a4e7e-da54-4879-a22f-4a53cf8166da",
   "metadata": {},
   "outputs": [],
   "source": [
    "abc \n",
    "\n",
    "bc -> '' , b, c, bc"
   ]
  }
 ],
 "metadata": {
  "kernelspec": {
   "display_name": "Python 3 (ipykernel)",
   "language": "python",
   "name": "python3"
  },
  "language_info": {
   "codemirror_mode": {
    "name": "ipython",
    "version": 3
   },
   "file_extension": ".py",
   "mimetype": "text/x-python",
   "name": "python",
   "nbconvert_exporter": "python",
   "pygments_lexer": "ipython3",
   "version": "3.11.5"
  }
 },
 "nbformat": 4,
 "nbformat_minor": 5
}
