{
 "cells": [
  {
   "cell_type": "code",
   "execution_count": 11,
   "id": "67a64f92-53f5-4339-9548-1fb3cdb637f3",
   "metadata": {},
   "outputs": [],
   "source": [
    "def tower_of_hanoi(n,s,a,d):\n",
    "    if(n==0):\n",
    "        return\n",
    "    if(n==1):\n",
    "        print(s,'-->',d)\n",
    "        return\n",
    "    # if(n==2):\n",
    "    #     print(s,'-->',a)\n",
    "    #     print(s,'-->',d)\n",
    "    #     print(a,'-->',d)\n",
    "    #     return\n",
    "\n",
    "    \n",
    "    tower_of_hanoi(n-1,s,d,a)\n",
    "    print(s,'-->',d)\n",
    "    tower_of_hanoi(n-1,a,s,d)\n",
    "    return\n",
    "    \n"
   ]
  },
  {
   "cell_type": "code",
   "execution_count": 13,
   "id": "b212a675-5a0f-481c-9c08-c140b8a08875",
   "metadata": {},
   "outputs": [
    {
     "name": "stdout",
     "output_type": "stream",
     "text": [
      "s --> a\n",
      "s --> d\n",
      "a --> d\n"
     ]
    }
   ],
   "source": [
    "tower_of_hanoi(2,'s','a','d')"
   ]
  }
 ],
 "metadata": {
  "kernelspec": {
   "display_name": "Python 3 (ipykernel)",
   "language": "python",
   "name": "python3"
  },
  "language_info": {
   "codemirror_mode": {
    "name": "ipython",
    "version": 3
   },
   "file_extension": ".py",
   "mimetype": "text/x-python",
   "name": "python",
   "nbconvert_exporter": "python",
   "pygments_lexer": "ipython3",
   "version": "3.11.5"
  }
 },
 "nbformat": 4,
 "nbformat_minor": 5
}
