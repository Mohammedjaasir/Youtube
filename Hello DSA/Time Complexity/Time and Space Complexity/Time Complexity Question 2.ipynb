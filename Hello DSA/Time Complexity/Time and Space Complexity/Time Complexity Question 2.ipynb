{
 "cells": [
  {
   "cell_type": "markdown",
   "metadata": {},
   "source": [
    "# Time Complexity Analysis Questions\n",
    "\n",
    "In this notebook, we present a series of Python questions that focus on understanding and analyzing time complexity.\n",
    "These questions are designed to increase in complexity, providing a comprehensive understanding of the concept."
   ]
  },
  {
   "cell_type": "markdown",
   "metadata": {},
   "source": [
    "### 1. What is the time complexity of the following code?\n",
    "\n",
    "```python\n",
    "int a = 0;\n",
    "for (i = 0; i < N; i++) {\n",
    "    a = a + i;\n",
    "}\n",
    "```\n",
    "\n",
    "Write your analysis below:\n"
   ]
  },
  {
   "cell_type": "markdown",
   "metadata": {},
   "source": [
    "### 2. What is the time complexity of the following code?\n",
    "\n",
    "```python\n",
    "int a = 0;\n",
    "for (i = 0; i < N; i++) {\n",
    "    for (j = 0; j < N; j++) {\n",
    "        a = a + i + j;\n",
    "    }\n",
    "}\n",
    "```\n",
    "\n",
    "Write your analysis below:\n"
   ]
  },
  {
   "cell_type": "markdown",
   "metadata": {},
   "source": [
    "### 3. What is the time complexity of the following code?\n",
    "\n",
    "```python\n",
    "int a = 0;\n",
    "for (i = 0; i < N; i++) {\n",
    "    for (j = 0; j < i; j++) {\n",
    "        a = a + i + j;\n",
    "    }\n",
    "}\n",
    "```\n",
    "\n",
    "Write your analysis below:\n"
   ]
  },
  {
   "cell_type": "markdown",
   "metadata": {},
   "source": [
    "### 4. What is the time complexity of the following code?\n",
    "\n",
    "```python\n",
    "int a = 0;\n",
    "for (i = 0; i < N; i++) {\n",
    "    for (j = N; j > i; j--) {\n",
    "        a = a + i + j;\n",
    "    }\n",
    "}\n",
    "```\n",
    "\n",
    "Write your analysis below:\n"
   ]
  },
  {
   "cell_type": "markdown",
   "metadata": {},
   "source": [
    "### 5. What is the time complexity of the following code?\n",
    "\n",
    "```python\n",
    "int a = 0;\n",
    "for (i = 0; i < N; i++) {\n",
    "    for (j = 0; j < N; j++) {\n",
    "        for (k = 0; k < N; k++) {\n",
    "            a = a + i + j + k;\n",
    "        }\n",
    "    }\n",
    "}\n",
    "```\n",
    "\n",
    "Write your analysis below:\n"
   ]
  },
  {
   "cell_type": "markdown",
   "metadata": {},
   "source": [
    "### 6. What is the time complexity of the following code?\n",
    "\n",
    "```python\n",
    "int a = 0;\n",
    "for (i = 1; i < N; i *= 2) {\n",
    "    a = a + i;\n",
    "}\n",
    "```\n",
    "\n",
    "Write your analysis below:\n"
   ]
  },
  {
   "cell_type": "code",
   "execution_count": 52,
   "metadata": {},
   "outputs": [
    {
     "name": "stdout",
     "output_type": "stream",
     "text": [
      "24\n"
     ]
    }
   ],
   "source": [
    "i = 1\n",
    "n = 100000000000\n",
    "k =0\n",
    "while(i<n):\n",
    "    i*=3\n",
    "    k+=1\n",
    "print(k)"
   ]
  },
  {
   "cell_type": "markdown",
   "metadata": {},
   "source": [
    "print(\"Very Important Question\")"
   ]
  },
  {
   "cell_type": "code",
   "execution_count": null,
   "metadata": {},
   "outputs": [],
   "source": [
    "for i in range(0,n):\n",
    "    for j in range(1,10000000000):\n",
    "        print(i)"
   ]
  },
  {
   "cell_type": "markdown",
   "metadata": {},
   "source": [
    "### 7. What is the time complexity of the following code?\n",
    "\n",
    "```python\n",
    "int a = 0;\n",
    "for (i = 1; i < N; i *= 3) {\n",
    "    a = a + i;\n",
    "}\n",
    "```\n",
    "\n",
    "Write your analysis below:\n"
   ]
  },
  {
   "cell_type": "markdown",
   "metadata": {},
   "source": [
    "### 8. What is the time complexity of the following code?\n",
    "\n",
    "```python\n",
    "int a = 0;\n",
    "for (i = 0; i < N; i++) {\n",
    "    for (j = i; j < N; j++) {\n",
    "        for (k = j; k < N; k++) {\n",
    "            a = a + i + j + k;\n",
    "        }\n",
    "    }\n",
    "}\n",
    "```\n",
    "\n",
    "Write your analysis below:\n"
   ]
  },
  {
   "cell_type": "markdown",
   "metadata": {},
   "source": [
    "### 9. What is the time complexity of the following recursive function?\n",
    "\n",
    "```python\n",
    "def recursive_function(n):\n",
    "    if n <= 1:\n",
    "        return 1\n",
    "    else:\n",
    "        return recursive_function(n-1) + recursive_function(n-1)\n",
    "```\n",
    "\n",
    "Write your analysis below:\n"
   ]
  },
  {
   "cell_type": "markdown",
   "metadata": {},
   "source": [
    "### 10. What is the time complexity of the following code?\n",
    "\n",
    "```python\n",
    "int a = 0;\n",
    "for (i = 0; i < N; i++) {\n",
    "    for (j = 0; j < sqrt(N); j++) {\n",
    "        a = a + i + j;\n",
    "    }\n",
    "}\n",
    "```\n",
    "\n",
    "Write your analysis below:\n",
    "\n"
   ]
  },
  {
   "cell_type": "code",
   "execution_count": null,
   "metadata": {},
   "outputs": [],
   "source": [
    "def divide(a,b):\n",
    "    if(a<=0):\n",
    "        return -1\n",
    "\n",
    "    ans=a//b\n",
    "\n",
    "    for i in range(0,n):\n",
    "        for j in range(0,m):\n",
    "\n",
    "        \n",
    "    return a*ans - b"
   ]
  },
  {
   "cell_type": "markdown",
   "metadata": {},
   "source": [
    "## Solutions"
   ]
  },
  {
   "cell_type": "markdown",
   "metadata": {},
   "source": [
    "### 1. Solution\n",
    "**Code:**\n",
    "```python\n",
    "int a = 0;\n",
    "for (i = 0; i < N; i++) {\n",
    "    a = a + i;\n",
    "}\n",
    "```\n",
    "**Explanation:** This code runs a loop N times, so the time complexity is **O(N)**."
   ]
  },
  {
   "cell_type": "markdown",
   "metadata": {},
   "source": [
    "### 2. Solution\n",
    "**Code:**\n",
    "```python\n",
    "int a = 0;\n",
    "for (i = 0; i < N; i++) {\n",
    "    for (j = 0; j < N; j++) {\n",
    "        a = a + i + j;\n",
    "    }\n",
    "}\n",
    "```\n",
    "**Explanation:** The nested loops each run N times, resulting in a time complexity of **O(N^2)**."
   ]
  },
  {
   "cell_type": "markdown",
   "metadata": {},
   "source": [
    "### 3. Solution\n",
    "**Code:**\n",
    "```python\n",
    "int a = 0;\n",
    "for (i = 0; i < N; i++) {\n",
    "    for (j = 0; j < i; j++) {\n",
    "        a = a + i + j;\n",
    "    }\n",
    "}\n",
    "```\n",
    "**Explanation:** The outer loop runs N times, while the inner loop runs i times. The total time complexity is **O(N^2)**."
   ]
  },
  {
   "cell_type": "markdown",
   "metadata": {},
   "source": [
    "### 4. Solution\n",
    "**Code:**\n",
    "```python\n",
    "int a = 0;\n",
    "for (i = 0; i < N; i++) {\n",
    "    for (j = N; j > i; j--) {\n",
    "        a = a + i + j;\n",
    "    }\n",
    "}\n",
    "```\n",
    "**Explanation:** The outer loop runs N times, and the inner loop runs (N - i) times. This results in a time complexity of **O(N^2)**."
   ]
  },
  {
   "cell_type": "markdown",
   "metadata": {},
   "source": [
    "### 5. Solution\n",
    "**Code:**\n",
    "```python\n",
    "int a = 0;\n",
    "for (i = 0; i < N; i++) {\n",
    "    for (j = 0; j < N; j++) {\n",
    "        for (k = 0; k < N; k++) {\n",
    "            a = a + i + j + k;\n",
    "        }\n",
    "    }\n",
    "}\n",
    "```\n",
    "**Explanation:** Three nested loops each run N times, resulting in a time complexity of **O(N^3)**."
   ]
  },
  {
   "cell_type": "markdown",
   "metadata": {},
   "source": [
    "### 6. Solution\n",
    "**Code:**\n",
    "```python\n",
    "int a = 0;\n",
    "for (i = 0; i < N; i *= 2) {\n",
    "    a = a + i;\n",
    "}\n",
    "```\n",
    "**Explanation:** The loop runs log(N) times because `i` is doubling each iteration. The time complexity is **O(log N)**."
   ]
  },
  {
   "cell_type": "markdown",
   "metadata": {},
   "source": [
    "### 7. Solution\n",
    "**Code:**\n",
    "```python\n",
    "int a = 0;\n",
    "for (i = 1; i < N; i *= 3) {\n",
    "    a = a + i;\n",
    "}\n",
    "```\n",
    "**Explanation:** The loop runs log(N) base 3 times because `i` is tripling each iteration. The time complexity is **O(log N)**."
   ]
  },
  {
   "cell_type": "markdown",
   "metadata": {},
   "source": [
    "### 8. Solution\n",
    "**Code:**\n",
    "```python\n",
    "int a = 0;\n",
    "for (i = 0; i < N; i++) {\n",
    "    for (j = i; j < N; j++) {\n",
    "        for (k = j; k < N; k++) {\n",
    "            a = a + i + j + k;\n",
    "        }\n",
    "    }\n",
    "}\n",
    "```\n",
    "**Explanation:** The complexity for this nested loop structure is **O(N^3)** as the number of iterations increases at each nested level."
   ]
  },
  {
   "cell_type": "markdown",
   "metadata": {},
   "source": [
    "### 9. Solution\n",
    "**Code:**\n",
    "```python\n",
    "def recursive_function(n):\n",
    "    if n <= 1:\n",
    "        return 1\n",
    "    else:\n",
    "        return recursive_function(n-1) + recursive_function(n-1)\n",
    "```\n",
    "**Explanation:** This recursive function has two recursive calls per execution. Therefore, the time complexity is **O(2^N)**."
   ]
  },
  {
   "cell_type": "markdown",
   "metadata": {},
   "source": [
    "### 10. Solution\n",
    "**Code:**\n",
    "```python\n",
    "int a = 0;\n",
    "for (i = 0; i < N; i++) {\n",
    "    for (j = 0; j < sqrt(N); j++) {\n",
    "        a = a + i + j;\n",
    "    }\n",
    "}\n",
    "```\n",
    "**Explanation:** The outer loop runs N times, and the inner loop runs sqrt(N) times. The overall time complexity is **O(N * sqrt(N))**."
   ]
  }
 ],
 "metadata": {
  "kernelspec": {
   "display_name": "Python 3 (ipykernel)",
   "language": "python",
   "name": "python3"
  },
  "language_info": {
   "codemirror_mode": {
    "name": "ipython",
    "version": 3
   },
   "file_extension": ".py",
   "mimetype": "text/x-python",
   "name": "python",
   "nbconvert_exporter": "python",
   "pygments_lexer": "ipython3",
   "version": "3.11.5"
  }
 },
 "nbformat": 4,
 "nbformat_minor": 4
}
