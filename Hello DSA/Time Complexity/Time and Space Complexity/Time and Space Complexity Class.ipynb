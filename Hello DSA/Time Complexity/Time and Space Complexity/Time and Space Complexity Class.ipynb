{
 "cells": [
  {
   "cell_type": "markdown",
   "id": "9029c118-82d5-4db3-85cd-e47bab0a9928",
   "metadata": {},
   "source": [
    "# Time and Space Complexity"
   ]
  },
  {
   "cell_type": "markdown",
   "id": "2749d8cf-7e46-4912-bcc0-544869282ac2",
   "metadata": {},
   "source": []
  },
  {
   "cell_type": "code",
   "execution_count": null,
   "id": "9cdc7ccb-cace-42d5-bfbf-faceedade684",
   "metadata": {},
   "outputs": [],
   "source": []
  },
  {
   "cell_type": "code",
   "execution_count": null,
   "id": "6604f6ec-3c74-41a1-a88c-b3e02b0097ea",
   "metadata": {},
   "outputs": [],
   "source": []
  },
  {
   "cell_type": "code",
   "execution_count": null,
   "id": "b831b33a-d7a1-4cb1-8c25-45a2f5bc0941",
   "metadata": {},
   "outputs": [],
   "source": []
  },
  {
   "cell_type": "code",
   "execution_count": null,
   "id": "3c5ba314-f9b4-4d07-8eba-db1127648e94",
   "metadata": {},
   "outputs": [],
   "source": []
  },
  {
   "cell_type": "code",
   "execution_count": null,
   "id": "1e800928-5071-496a-bf61-60b18e4dff3f",
   "metadata": {},
   "outputs": [],
   "source": []
  },
  {
   "cell_type": "code",
   "execution_count": null,
   "id": "48e5a6d3-e2fe-47ee-a993-53e05b3398d7",
   "metadata": {},
   "outputs": [],
   "source": []
  },
  {
   "cell_type": "code",
   "execution_count": null,
   "id": "2b0c040d-2313-4375-aad4-cb60f78b0002",
   "metadata": {},
   "outputs": [],
   "source": []
  },
  {
   "cell_type": "code",
   "execution_count": null,
   "id": "0aecaf35-222e-444b-8d3e-1ead15e7169f",
   "metadata": {},
   "outputs": [],
   "source": []
  },
  {
   "cell_type": "code",
   "execution_count": null,
   "id": "c56b33e1-dce5-42db-a15e-e4bffea6d5b1",
   "metadata": {},
   "outputs": [],
   "source": []
  },
  {
   "cell_type": "code",
   "execution_count": null,
   "id": "be8431b0-f57e-4d0e-bedc-fb135deae4eb",
   "metadata": {},
   "outputs": [],
   "source": []
  },
  {
   "cell_type": "code",
   "execution_count": 3,
   "id": "aec80547-3f9d-4698-83d1-19d1c2af671b",
   "metadata": {},
   "outputs": [],
   "source": [
    "# Merge Sort Algo"
   ]
  },
  {
   "cell_type": "code",
   "execution_count": 63,
   "id": "7ffb5aec-f3cf-4d65-bd83-697da4e438ef",
   "metadata": {},
   "outputs": [
    {
     "name": "stdout",
     "output_type": "stream",
     "text": [
      "Time taken to sort an array of size 10: 243000 nanoseconds\n",
      "Time taken to sort an array of size 100: 549000 nanoseconds\n",
      "Time taken to sort an array of size 1000: 3738000 nanoseconds\n",
      "Time taken to sort an array of size 10000: 49878000 nanoseconds\n",
      "Time taken to sort an array of size 100000: 283714000 nanoseconds\n",
      "Time taken to sort an array of size 1000000: 3312612000 nanoseconds\n"
     ]
    }
   ],
   "source": [
    "import time\n",
    "import numpy as np\n",
    "\n",
    "\n",
    "\n",
    "def merge_sort(arr):\n",
    "    # Merge Sort algorithm to sort the array\n",
    "    if len(arr) > 1:\n",
    "        mid = len(arr) // 2  # Find the middle of the array\n",
    "        left_half = arr[:mid]  # Divide the array elements into two halves\n",
    "        right_half = arr[mid:]\n",
    "\n",
    "        merge_sort(left_half)  # Sort the first half\n",
    "        merge_sort(right_half)  # Sort the second half\n",
    "\n",
    "\n",
    "        i = j = k = 0\n",
    "\n",
    "     # Copy data to temp arrays L[] and R[]\n",
    "        while i < len(left_half) and j < len(right_half):\n",
    "            if left_half[i] < right_half[j]:\n",
    "                arr[k] = left_half[i]\n",
    "                i += 1\n",
    "            else:\n",
    "                arr[k] = right_half[j]\n",
    "                j += 1\n",
    "            k += 1\n",
    "    \n",
    "        # Checking if any element was left\n",
    "        while i < len(left_half):\n",
    "            arr[k] = left_half[i]\n",
    "            i += 1\n",
    "            k += 1\n",
    "    \n",
    "        while j < len(right_half):\n",
    "            arr[k] = right_half[j]\n",
    "            j += 1\n",
    "            k += 1\n",
    "\n",
    "       \n",
    "\n",
    "def measure_time_merge_sort():\n",
    "    # Measure the time taken for merge sort for different input sizes\n",
    "    input_sizes = [10**i for i in range(1, 7)]  # Input sizes: 10, 100, 1000, ..., 10^6\n",
    "    \n",
    "    for size in input_sizes:\n",
    "        arr = np.arange(size, 0, -1)  # Create an array from size to 1\n",
    "        start_time = time.time_ns()  # Get the start time in nanoseconds\n",
    "        merge_sort(arr)  # Sort the array using merge sort\n",
    "        end_time = time.time_ns()  # Get the end time in nanoseconds\n",
    "        print(f\"Time taken to sort an array of size {size}: {(end_time - start_time)} nanoseconds\")\n",
    "\n",
    "if __name__ == \"__main__\":\n",
    "    measure_time_merge_sort()\n"
   ]
  },
  {
   "cell_type": "code",
   "execution_count": 40,
   "id": "b1b45488-8d20-43d5-b8ba-099df55ef717",
   "metadata": {},
   "outputs": [
    {
     "name": "stdout",
     "output_type": "stream",
     "text": [
      "Time taken to sort an array of size 10: 52000 nanoseconds\n",
      "Time taken to sort an array of size 100: 4632000 nanoseconds\n",
      "Time taken to sort an array of size 1000: 159400000 nanoseconds\n",
      "Time taken to sort an array of size 10000: 13535372000 nanoseconds\n",
      "Unexpected exception formatting exception. Falling back to standard exception\n"
     ]
    },
    {
     "name": "stderr",
     "output_type": "stream",
     "text": [
      "Traceback (most recent call last):\n",
      "  File \"/Users/admin/anaconda3/lib/python3.11/site-packages/IPython/core/interactiveshell.py\", line 3553, in run_code\n",
      "    exec(code_obj, self.user_global_ns, self.user_ns)\n",
      "  File \"/var/folders/xf/_6g19cpx1kb599118n7gc7yw0000gn/T/ipykernel_6060/3023573412.py\", line 26, in <module>\n",
      "    measure_time_bubble_sort()\n",
      "  File \"/var/folders/xf/_6g19cpx1kb599118n7gc7yw0000gn/T/ipykernel_6060/3023573412.py\", line 22, in measure_time_bubble_sort\n",
      "    bubble_sort(arr)  # Sort the array using bubble sort\n",
      "    ^^^^^^^^^^^^^^^^\n",
      "  File \"/var/folders/xf/_6g19cpx1kb599118n7gc7yw0000gn/T/ipykernel_6060/3023573412.py\", line -1, in bubble_sort\n",
      "KeyboardInterrupt\n",
      "\n",
      "During handling of the above exception, another exception occurred:\n",
      "\n",
      "Traceback (most recent call last):\n",
      "  File \"/Users/admin/anaconda3/lib/python3.11/site-packages/IPython/core/interactiveshell.py\", line 2144, in showtraceback\n",
      "    stb = self.InteractiveTB.structured_traceback(\n",
      "          ^^^^^^^^^^^^^^^^^^^^^^^^^^^^^^^^^^^^^^^^\n",
      "  File \"/Users/admin/anaconda3/lib/python3.11/site-packages/IPython/core/ultratb.py\", line 1435, in structured_traceback\n",
      "    return FormattedTB.structured_traceback(\n",
      "           ^^^^^^^^^^^^^^^^^^^^^^^^^^^^^^^^^\n",
      "  File \"/Users/admin/anaconda3/lib/python3.11/site-packages/IPython/core/ultratb.py\", line 1326, in structured_traceback\n",
      "    return VerboseTB.structured_traceback(\n",
      "           ^^^^^^^^^^^^^^^^^^^^^^^^^^^^^^^\n",
      "  File \"/Users/admin/anaconda3/lib/python3.11/site-packages/IPython/core/ultratb.py\", line 1173, in structured_traceback\n",
      "    formatted_exception = self.format_exception_as_a_whole(etype, evalue, etb, number_of_lines_of_context,\n",
      "                          ^^^^^^^^^^^^^^^^^^^^^^^^^^^^^^^^^^^^^^^^^^^^^^^^^^^^^^^^^^^^^^^^^^^^^^^^^^^^^^^^\n",
      "  File \"/Users/admin/anaconda3/lib/python3.11/site-packages/IPython/core/ultratb.py\", line 1088, in format_exception_as_a_whole\n",
      "    frames.append(self.format_record(record))\n",
      "                  ^^^^^^^^^^^^^^^^^^^^^^^^^^\n",
      "  File \"/Users/admin/anaconda3/lib/python3.11/site-packages/IPython/core/ultratb.py\", line 970, in format_record\n",
      "    frame_info.lines, Colors, self.has_colors, lvals\n",
      "    ^^^^^^^^^^^^^^^^\n",
      "  File \"/Users/admin/anaconda3/lib/python3.11/site-packages/IPython/core/ultratb.py\", line 792, in lines\n",
      "    return self._sd.lines\n",
      "           ^^^^^^^^^^^^^^\n",
      "  File \"/Users/admin/anaconda3/lib/python3.11/site-packages/stack_data/utils.py\", line 145, in cached_property_wrapper\n",
      "    value = obj.__dict__[self.func.__name__] = self.func(obj)\n",
      "                                               ^^^^^^^^^^^^^^\n",
      "  File \"/Users/admin/anaconda3/lib/python3.11/site-packages/stack_data/core.py\", line 698, in lines\n",
      "    pieces = self.included_pieces\n",
      "             ^^^^^^^^^^^^^^^^^^^^\n",
      "  File \"/Users/admin/anaconda3/lib/python3.11/site-packages/stack_data/utils.py\", line 145, in cached_property_wrapper\n",
      "    value = obj.__dict__[self.func.__name__] = self.func(obj)\n",
      "                                               ^^^^^^^^^^^^^^\n",
      "  File \"/Users/admin/anaconda3/lib/python3.11/site-packages/stack_data/core.py\", line 649, in included_pieces\n",
      "    pos = scope_pieces.index(self.executing_piece)\n",
      "                             ^^^^^^^^^^^^^^^^^^^^\n",
      "  File \"/Users/admin/anaconda3/lib/python3.11/site-packages/stack_data/utils.py\", line 145, in cached_property_wrapper\n",
      "    value = obj.__dict__[self.func.__name__] = self.func(obj)\n",
      "                                               ^^^^^^^^^^^^^^\n",
      "  File \"/Users/admin/anaconda3/lib/python3.11/site-packages/stack_data/core.py\", line 628, in executing_piece\n",
      "    return only(\n",
      "           ^^^^^\n",
      "  File \"/Users/admin/anaconda3/lib/python3.11/site-packages/executing/executing.py\", line 164, in only\n",
      "    raise NotOneValueFound('Expected one value, found 0')\n",
      "executing.executing.NotOneValueFound: Expected one value, found 0\n"
     ]
    }
   ],
   "source": [
    "import time\n",
    "import numpy as np\n",
    "\n",
    "def bubble_sort(arr):\n",
    "\n",
    "    # Bubble Sort algorithm to sort the array\n",
    "    n = len(arr)\n",
    "    for i in range(n):\n",
    "        # Traverse the array from 0 to n-i-1\n",
    "        for j in range(0, n-i-1):\n",
    "            # Swap if the element found is greater than the next element\n",
    "            if arr[j] > arr[j+1]:\n",
    "                arr[j], arr[j+1] = arr[j+1], arr[j]\n",
    "\n",
    "def measure_time_bubble_sort():\n",
    "    # Measure the time taken for bubble sort for different input sizes\n",
    "    input_sizes = [10**i for i in range(1, 7)]  # Input sizes: 10, 100, 1000, ..., 10^6\n",
    "    \n",
    "    for size in input_sizes:\n",
    "        arr = np.arange(size, 0, -1)  # Create an array from size to 1\n",
    "        start_time = time.time_ns()  # Get the start time in nanoseconds\n",
    "        bubble_sort(arr)  # Sort the array using bubble sort\n",
    "        end_time = time.time_ns()  # Get the end time in nanoseconds\n",
    "        print(f\"Time taken to sort an array of size {size}: {end_time - start_time} nanoseconds\")\n",
    "\n",
    "measure_time_bubble_sort()\n"
   ]
  },
  {
   "cell_type": "code",
   "execution_count": 42,
   "id": "bd750a34-ea23-4b90-9e5d-638f601e1d73",
   "metadata": {},
   "outputs": [
    {
     "name": "stdout",
     "output_type": "stream",
     "text": [
      "\n"
     ]
    }
   ],
   "source": [
    "print()"
   ]
  },
  {
   "cell_type": "code",
   "execution_count": null,
   "id": "a643900f-f926-4ddd-b920-4504ec794c3f",
   "metadata": {},
   "outputs": [],
   "source": []
  },
  {
   "cell_type": "code",
   "execution_count": null,
   "id": "1bad3c69-b610-4780-ade3-f22d738d6858",
   "metadata": {},
   "outputs": [],
   "source": []
  },
  {
   "cell_type": "code",
   "execution_count": null,
   "id": "fb2bad5b-2238-4a4c-b22d-c20df7101050",
   "metadata": {},
   "outputs": [],
   "source": []
  },
  {
   "cell_type": "code",
   "execution_count": null,
   "id": "80ccd576-92c4-4bdd-a0ae-b74af499c06f",
   "metadata": {},
   "outputs": [],
   "source": []
  },
  {
   "cell_type": "code",
   "execution_count": null,
   "id": "3b17c365-c281-4fd3-8013-662473708d6e",
   "metadata": {},
   "outputs": [],
   "source": []
  },
  {
   "cell_type": "code",
   "execution_count": null,
   "id": "62b245a7-3975-4a53-a306-9dae0ffdf04e",
   "metadata": {},
   "outputs": [],
   "source": []
  },
  {
   "cell_type": "code",
   "execution_count": 50,
   "id": "7bef0afc-02a8-46a2-91ee-808a9d643711",
   "metadata": {},
   "outputs": [
    {
     "name": "stdout",
     "output_type": "stream",
     "text": [
      "Time taken to sort an array of size 10: 1356000 nanoseconds\n",
      "Time taken to sort an array of size 100: 1456000 nanoseconds\n",
      "Time taken to sort an array of size 1000: 154723000 nanoseconds\n",
      "Time taken to sort an array of size 10000: 13500175000 nanoseconds\n",
      "Unexpected exception formatting exception. Falling back to standard exception\n"
     ]
    },
    {
     "name": "stderr",
     "output_type": "stream",
     "text": [
      "Traceback (most recent call last):\n",
      "  File \"/Users/admin/anaconda3/lib/python3.11/site-packages/IPython/core/interactiveshell.py\", line 3553, in run_code\n",
      "    exec(code_obj, self.user_global_ns, self.user_ns)\n",
      "  File \"/var/folders/xf/_6g19cpx1kb599118n7gc7yw0000gn/T/ipykernel_6060/3023573412.py\", line 26, in <module>\n",
      "    measure_time_bubble_sort()\n",
      "  File \"/var/folders/xf/_6g19cpx1kb599118n7gc7yw0000gn/T/ipykernel_6060/3023573412.py\", line 22, in measure_time_bubble_sort\n",
      "    bubble_sort(arr)  # Sort the array using bubble sort\n",
      "    ^^^^^^^^^^^^^^^^\n",
      "  File \"/var/folders/xf/_6g19cpx1kb599118n7gc7yw0000gn/T/ipykernel_6060/3023573412.py\", line -1, in bubble_sort\n",
      "KeyboardInterrupt\n",
      "\n",
      "During handling of the above exception, another exception occurred:\n",
      "\n",
      "Traceback (most recent call last):\n",
      "  File \"/Users/admin/anaconda3/lib/python3.11/site-packages/IPython/core/interactiveshell.py\", line 2144, in showtraceback\n",
      "    stb = self.InteractiveTB.structured_traceback(\n",
      "          ^^^^^^^^^^^^^^^^^^^^^^^^^^^^^^^^^^^^^^^^\n",
      "  File \"/Users/admin/anaconda3/lib/python3.11/site-packages/IPython/core/ultratb.py\", line 1435, in structured_traceback\n",
      "    return FormattedTB.structured_traceback(\n",
      "           ^^^^^^^^^^^^^^^^^^^^^^^^^^^^^^^^^\n",
      "  File \"/Users/admin/anaconda3/lib/python3.11/site-packages/IPython/core/ultratb.py\", line 1326, in structured_traceback\n",
      "    return VerboseTB.structured_traceback(\n",
      "           ^^^^^^^^^^^^^^^^^^^^^^^^^^^^^^^\n",
      "  File \"/Users/admin/anaconda3/lib/python3.11/site-packages/IPython/core/ultratb.py\", line 1173, in structured_traceback\n",
      "    formatted_exception = self.format_exception_as_a_whole(etype, evalue, etb, number_of_lines_of_context,\n",
      "                          ^^^^^^^^^^^^^^^^^^^^^^^^^^^^^^^^^^^^^^^^^^^^^^^^^^^^^^^^^^^^^^^^^^^^^^^^^^^^^^^^\n",
      "  File \"/Users/admin/anaconda3/lib/python3.11/site-packages/IPython/core/ultratb.py\", line 1088, in format_exception_as_a_whole\n",
      "    frames.append(self.format_record(record))\n",
      "                  ^^^^^^^^^^^^^^^^^^^^^^^^^^\n",
      "  File \"/Users/admin/anaconda3/lib/python3.11/site-packages/IPython/core/ultratb.py\", line 970, in format_record\n",
      "    frame_info.lines, Colors, self.has_colors, lvals\n",
      "    ^^^^^^^^^^^^^^^^\n",
      "  File \"/Users/admin/anaconda3/lib/python3.11/site-packages/IPython/core/ultratb.py\", line 792, in lines\n",
      "    return self._sd.lines\n",
      "           ^^^^^^^^^^^^^^\n",
      "  File \"/Users/admin/anaconda3/lib/python3.11/site-packages/stack_data/utils.py\", line 145, in cached_property_wrapper\n",
      "    value = obj.__dict__[self.func.__name__] = self.func(obj)\n",
      "                                               ^^^^^^^^^^^^^^\n",
      "  File \"/Users/admin/anaconda3/lib/python3.11/site-packages/stack_data/core.py\", line 698, in lines\n",
      "    pieces = self.included_pieces\n",
      "             ^^^^^^^^^^^^^^^^^^^^\n",
      "  File \"/Users/admin/anaconda3/lib/python3.11/site-packages/stack_data/utils.py\", line 145, in cached_property_wrapper\n",
      "    value = obj.__dict__[self.func.__name__] = self.func(obj)\n",
      "                                               ^^^^^^^^^^^^^^\n",
      "  File \"/Users/admin/anaconda3/lib/python3.11/site-packages/stack_data/core.py\", line 649, in included_pieces\n",
      "    pos = scope_pieces.index(self.executing_piece)\n",
      "                             ^^^^^^^^^^^^^^^^^^^^\n",
      "  File \"/Users/admin/anaconda3/lib/python3.11/site-packages/stack_data/utils.py\", line 145, in cached_property_wrapper\n",
      "    value = obj.__dict__[self.func.__name__] = self.func(obj)\n",
      "                                               ^^^^^^^^^^^^^^\n",
      "  File \"/Users/admin/anaconda3/lib/python3.11/site-packages/stack_data/core.py\", line 628, in executing_piece\n",
      "    return only(\n",
      "           ^^^^^\n",
      "  File \"/Users/admin/anaconda3/lib/python3.11/site-packages/executing/executing.py\", line 164, in only\n",
      "    raise NotOneValueFound('Expected one value, found 0')\n",
      "executing.executing.NotOneValueFound: Expected one value, found 0\n"
     ]
    }
   ],
   "source": [
    "import time\n",
    "import numpy as np\n",
    "\n",
    "def bubble_sort(arr):\n",
    "\n",
    "    # Bubble Sort algorithm to sort the array\n",
    "    n = len(arr)\n",
    "    for i in range(n):\n",
    "        # Traverse the array from 0 to n-i-1\n",
    "        for j in range(0, n-i-1):\n",
    "            # Swap if the element found is greater than the next element\n",
    "            if arr[j] > arr[j+1]:\n",
    "                arr[j], arr[j+1] = arr[j+1], arr[j]\n",
    "\n",
    "def measure_time_bubble_sort():\n",
    "    # Measure the time taken for bubble sort for different input sizes\n",
    "    input_sizes = [10**i for i in range(1, 7)]  # Input sizes: 10, 100, 1000, ..., 10^6\n",
    "    \n",
    "    for size in input_sizes:\n",
    "        arr = np.arange(size, 0, -1)  # Create an array from size to 1\n",
    "        start_time = time.time_ns()  # Get the start time in nanoseconds\n",
    "        bubble_sort(arr)  # Sort the array using bubble sort\n",
    "        end_time = time.time_ns()  # Get the end time in nanoseconds\n",
    "        print(f\"Time taken to sort an array of size {size}: {end_time - start_time} nanoseconds\")\n",
    "\n",
    "measure_time_bubble_sort()\n"
   ]
  },
  {
   "cell_type": "code",
   "execution_count": null,
   "id": "8422816d-038f-4329-abfc-352c2a8a218d",
   "metadata": {},
   "outputs": [],
   "source": []
  },
  {
   "cell_type": "code",
   "execution_count": null,
   "id": "22989d41-b58b-45de-99eb-fa14ca456a65",
   "metadata": {},
   "outputs": [],
   "source": []
  },
  {
   "cell_type": "code",
   "execution_count": null,
   "id": "b8f98344-6b99-4a3d-8e87-fcd19b545591",
   "metadata": {},
   "outputs": [],
   "source": [
    "a = 28\n",
    "import sys\n",
    "sys.getsizeof(a)"
   ]
  },
  {
   "cell_type": "code",
   "execution_count": null,
   "id": "0cbb294c-943d-4994-9fdd-9d532e23879c",
   "metadata": {},
   "outputs": [],
   "source": []
  }
 ],
 "metadata": {
  "kernelspec": {
   "display_name": "Python 3 (ipykernel)",
   "language": "python",
   "name": "python3"
  },
  "language_info": {
   "codemirror_mode": {
    "name": "ipython",
    "version": 3
   },
   "file_extension": ".py",
   "mimetype": "text/x-python",
   "name": "python",
   "nbconvert_exporter": "python",
   "pygments_lexer": "ipython3",
   "version": "3.11.5"
  }
 },
 "nbformat": 4,
 "nbformat_minor": 5
}
