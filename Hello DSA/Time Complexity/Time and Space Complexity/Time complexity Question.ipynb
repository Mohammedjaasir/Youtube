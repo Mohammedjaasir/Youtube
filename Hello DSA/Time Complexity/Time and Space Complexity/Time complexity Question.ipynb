{
 "cells": [
  {
   "cell_type": "markdown",
   "metadata": {},
   "source": [
    "# Time Complexity Analysis Questions\n",
    "\n",
    "In this notebook, we present a series of Python questions that focus on understanding and analyzing time complexity.\n",
    "These questions are designed to increase in complexity, providing a comprehensive understanding of the concept."
   ]
  },
  {
   "cell_type": "markdown",
   "metadata": {},
   "source": [
    "### 1. What is the time complexity of the following code?\n",
    "\n",
    "```python\n",
    "int a = 0;\n",
    "for (i = 0; i < N; i++) {\n",
    "    a = a + i;\n",
    "}\n",
    "```\n",
    "\n",
    "Write your analysis below:\n"
   ]
  },
  {
   "cell_type": "markdown",
   "metadata": {},
   "source": [
    "**Explanation:** This code runs a loop N times, so the time complexity is **O(N)**."
   ]
  },
  {
   "cell_type": "markdown",
   "metadata": {},
   "source": [
    "### 2. What is the time complexity of the following code?\n",
    "\n",
    "```python\n",
    "int a = 0;\n",
    "for (i = 0; i < N; i++) {\n",
    "    for (j = 0; j < N; j++) {\n",
    "        a = a + i + j;\n",
    "    }\n",
    "}\n",
    "```\n",
    "\n",
    "Write your analysis below:\n"
   ]
  },
  {
   "cell_type": "markdown",
   "metadata": {},
   "source": [
    "**Explanation:** The nested loops each run N times, resulting in a time complexity of **O(N^2)**."
   ]
  },
  {
   "cell_type": "markdown",
   "metadata": {},
   "source": [
    "### 3. What is the time complexity of the following code?\n",
    "\n",
    "```python\n",
    "int a = 0;\n",
    "for (i = 0; i < N; i++) {\n",
    "    for (j = 0; j < i; j++) {\n",
    "        a = a + i + j;\n",
    "    }\n",
    "}\n",
    "```\n",
    "\n",
    "Write your analysis below:\n"
   ]
  },
  {
   "cell_type": "markdown",
   "metadata": {},
   "source": [
    "**Explanation:** The outer loop runs N times, while the inner loop runs i times. The total time complexity is **O(N^2)**."
   ]
  },
  {
   "cell_type": "markdown",
   "metadata": {},
   "source": [
    "### 4. What is the time complexity of the following code?\n",
    "\n",
    "```python\n",
    "int a = 0;\n",
    "for (i = 0; i < N; i++) {\n",
    "    for (j = N; j > i; j--) {\n",
    "        a = a + i + j;\n",
    "    }\n",
    "}\n",
    "```\n",
    "\n",
    "Write your analysis below:\n"
   ]
  },
  {
   "cell_type": "markdown",
   "metadata": {},
   "source": [
    "**Explanation:** Like the previous example, this code also has a time complexity of **O(N^2)**."
   ]
  },
  {
   "cell_type": "markdown",
   "metadata": {},
   "source": [
    "### 5. What is the time complexity of the following code?\n",
    "\n",
    "```python\n",
    "int a = 0;\n",
    "for (i = 0; i < N; i++) {\n",
    "    for (j = 0; j < N; j++) {\n",
    "        for (k = 0; k < N; k++) {\n",
    "            a = a + i + j + k;\n",
    "        }\n",
    "    }\n",
    "}\n",
    "```\n",
    "\n",
    "Write your analysis below:\n"
   ]
  },
  {
   "cell_type": "markdown",
   "metadata": {},
   "source": [
    "**Explanation:** With three nested loops, each running N times, the time complexity is **O(N^3)**."
   ]
  },
  {
   "cell_type": "markdown",
   "metadata": {},
   "source": [
    "### 6. What is the time complexity of the following code?\n",
    "\n",
    "```python\n",
    "int a = 0;\n",
    "for (i = 0; i < N; i *= 2) {\n",
    "    a = a + i;\n",
    "}\n",
    "```\n",
    "\n",
    "Write your analysis below:\n"
   ]
  },
  {
   "cell_type": "markdown",
   "metadata": {},
   "source": [
    "**Explanation:** The loop condition doubles i each time, resulting in logarithmic growth. The time complexity is **O(log N)**."
   ]
  },
  {
   "cell_type": "markdown",
   "metadata": {},
   "source": [
    "### 7. What is the time complexity of the following code?\n",
    "\n",
    "```python\n",
    "int a = 0;\n",
    "for (i = 1; i < N; i *= 3) {\n",
    "    a = a + i;\n",
    "}\n",
    "```\n",
    "\n",
    "Write your analysis below:\n"
   ]
  },
  {
   "cell_type": "markdown",
   "metadata": {},
   "source": [
    "**Explanation:** This loop condition increases i by a factor of 3 each time, resulting in a time complexity of **O(log N)** base 3."
   ]
  },
  {
   "cell_type": "markdown",
   "metadata": {},
   "source": [
    "### 8. What is the time complexity of the following code?\n",
    "\n",
    "```python\n",
    "int a = 0;\n",
    "for (i = 0; i < N; i++) {\n",
    "    for (j = i; j < N; j++) {\n",
    "        for (k = j; k < N; k++) {\n",
    "            a = a + i + j + k;\n",
    "        }\n",
    "    }\n",
    "}\n",
    "```\n",
    "\n",
    "Write your analysis below:\n"
   ]
  },
  {
   "cell_type": "markdown",
   "metadata": {},
   "source": [
    "**Explanation:** The nested loops each reduce the range of iterations, but overall, the time complexity remains **O(N^3)**."
   ]
  },
  {
   "cell_type": "markdown",
   "metadata": {},
   "source": [
    "### 9. What is the time complexity of the following recursive function?\n",
    "\n",
    "```python\n",
    "def recursive_function(n):\n",
    "    if n <= 1:\n",
    "        return 1\n",
    "    else:\n",
    "        return recursive_function(n-1) + recursive_function(n-1)\n",
    "```\n",
    "\n",
    "Write your analysis below:\n"
   ]
  },
  {
   "cell_type": "markdown",
   "metadata": {},
   "source": [
    "**Explanation:** The function makes two recursive calls for each value of n. This results in an exponential time complexity of **O(2^N)**."
   ]
  },
  {
   "cell_type": "markdown",
   "metadata": {},
   "source": [
    "### 10. What is the time complexity of the following code?\n",
    "\n",
    "```python\n",
    "int a = 0;\n",
    "for (i = 0; i < N; i++) {\n",
    "    for (j = 0; j < sqrt(N); j++) {\n",
    "        a = a + i + j;\n",
    "    }\n",
    "}\n",
    "```\n",
    "\n",
    "Write your analysis below:\n"
   ]
  },
  {
   "cell_type": "markdown",
   "metadata": {},
   "source": [
    "**Explanation:** The outer loop runs N times, and the inner loop runs sqrt(N) times. Therefore, the time complexity is **O(N * sqrt(N))**."
   ]
  }
 ],
 "metadata": {
  "kernelspec": {
   "display_name": "Python 3 (ipykernel)",
   "language": "python",
   "name": "python3"
  },
  "language_info": {
   "codemirror_mode": {
    "name": "ipython",
    "version": 3
   },
   "file_extension": ".py",
   "mimetype": "text/x-python",
   "name": "python",
   "nbconvert_exporter": "python",
   "pygments_lexer": "ipython3",
   "version": "3.11.5"
  }
 },
 "nbformat": 4,
 "nbformat_minor": 4
}
