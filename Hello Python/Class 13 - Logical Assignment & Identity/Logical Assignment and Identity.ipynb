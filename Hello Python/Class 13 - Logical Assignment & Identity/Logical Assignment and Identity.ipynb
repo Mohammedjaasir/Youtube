{
 "cells": [
  {
   "cell_type": "markdown",
   "id": "7694ea14-8947-4d6b-84a8-d375e880f256",
   "metadata": {},
   "source": [
    "# Logical Operators"
   ]
  },
  {
   "cell_type": "code",
   "execution_count": 1,
   "id": "00637d19-1182-4c96-a3b3-81506899a301",
   "metadata": {},
   "outputs": [],
   "source": [
    "a = 6\n",
    "b = 20\n",
    "c = 50\n"
   ]
  },
  {
   "cell_type": "code",
   "execution_count": 5,
   "id": "554d48a5-7dec-4911-bb4f-91bf271ed463",
   "metadata": {},
   "outputs": [
    {
     "name": "stdout",
     "output_type": "stream",
     "text": [
      "True\n"
     ]
    }
   ],
   "source": [
    "\n",
    "# Using 'and' operator\n",
    "print(a < b and b < c)  # True because both conditions are true\n",
    "\n",
    "# True And True"
   ]
  },
  {
   "cell_type": "code",
   "execution_count": 7,
   "id": "d91a1fa1-55ce-49d2-9a63-753f6cfe9f0a",
   "metadata": {},
   "outputs": [
    {
     "name": "stdout",
     "output_type": "stream",
     "text": [
      "True\n"
     ]
    }
   ],
   "source": [
    "# Using 'or' operator\n",
    "print(a > b or b < c)   # True because one of the conditions is true\n",
    "\n",
    "# False or True"
   ]
  },
  {
   "cell_type": "code",
   "execution_count": 11,
   "id": "289246ee-b4e9-414f-9ea4-b4c3ffe88b99",
   "metadata": {},
   "outputs": [
    {
     "name": "stdout",
     "output_type": "stream",
     "text": [
      "True\n"
     ]
    }
   ],
   "source": [
    "\n",
    "# Using 'not' operator\n",
    "print(not (a > b))      # True because the condition is false and 'not' negates it"
   ]
  },
  {
   "cell_type": "code",
   "execution_count": null,
   "id": "c89f84c5-2832-4b4f-aae2-fe5f3ce31cdb",
   "metadata": {},
   "outputs": [],
   "source": []
  },
  {
   "cell_type": "code",
   "execution_count": null,
   "id": "ffef2bd8-623e-4772-9d04-44d8605fe966",
   "metadata": {},
   "outputs": [],
   "source": []
  },
  {
   "cell_type": "code",
   "execution_count": null,
   "id": "9b0a5fbe-a982-43f3-b2ef-ae9093630e50",
   "metadata": {},
   "outputs": [],
   "source": []
  },
  {
   "cell_type": "code",
   "execution_count": 24,
   "id": "d62f900e-9f08-4ff4-966d-fe7469521b93",
   "metadata": {},
   "outputs": [
    {
     "ename": "ValueError",
     "evalue": "not enough values to unpack (expected 3, got 2)",
     "output_type": "error",
     "traceback": [
      "\u001b[0;31m---------------------------------------------------------------------------\u001b[0m",
      "\u001b[0;31mValueError\u001b[0m                                Traceback (most recent call last)",
      "Cell \u001b[0;32mIn[24], line 1\u001b[0m\n\u001b[0;32m----> 1\u001b[0m x,y,z \u001b[38;5;241m=\u001b[39m \u001b[38;5;241m10\u001b[39m,\u001b[38;5;241m20\u001b[39m\n",
      "\u001b[0;31mValueError\u001b[0m: not enough values to unpack (expected 3, got 2)"
     ]
    }
   ],
   "source": [
    "x,y,z = 10,20"
   ]
  },
  {
   "cell_type": "code",
   "execution_count": null,
   "id": "726567e3-2cf0-44d4-928d-1eef6c723045",
   "metadata": {},
   "outputs": [],
   "source": []
  },
  {
   "cell_type": "code",
   "execution_count": null,
   "id": "532bbf5b-6585-444f-80e7-bbe065e83fca",
   "metadata": {},
   "outputs": [],
   "source": []
  },
  {
   "cell_type": "code",
   "execution_count": 30,
   "id": "4aa8ba40-099f-4d8e-a402-2556df3cb738",
   "metadata": {},
   "outputs": [
    {
     "data": {
      "text/plain": [
       "(10, 20, 30)"
      ]
     },
     "execution_count": 30,
     "metadata": {},
     "output_type": "execute_result"
    }
   ],
   "source": [
    "x,y,z"
   ]
  },
  {
   "cell_type": "code",
   "execution_count": null,
   "id": "d17be2c7-3c53-4391-bde2-d5f04ed1d08c",
   "metadata": {},
   "outputs": [],
   "source": []
  },
  {
   "cell_type": "code",
   "execution_count": null,
   "id": "25aa95bf-6e0f-4474-a628-37fb64f0ce0c",
   "metadata": {},
   "outputs": [],
   "source": []
  },
  {
   "cell_type": "code",
   "execution_count": 38,
   "id": "7b44568f-1fb0-42b4-9bf2-12f87adaa100",
   "metadata": {},
   "outputs": [
    {
     "data": {
      "text/plain": [
       "10"
      ]
     },
     "execution_count": 38,
     "metadata": {},
     "output_type": "execute_result"
    }
   ],
   "source": [
    "x "
   ]
  },
  {
   "cell_type": "code",
   "execution_count": 40,
   "id": "2f4f937e-8c42-4099-9245-c4b925947473",
   "metadata": {},
   "outputs": [
    {
     "data": {
      "text/plain": [
       "20"
      ]
     },
     "execution_count": 40,
     "metadata": {},
     "output_type": "execute_result"
    }
   ],
   "source": [
    "x = x+10\n",
    "x"
   ]
  },
  {
   "cell_type": "code",
   "execution_count": 42,
   "id": "777e908c-dc83-4577-903a-147fcfd0f39d",
   "metadata": {},
   "outputs": [],
   "source": [
    "x+=10"
   ]
  },
  {
   "cell_type": "code",
   "execution_count": 44,
   "id": "a9b44afb-b660-4189-9a77-cc2ccd8734d4",
   "metadata": {},
   "outputs": [
    {
     "data": {
      "text/plain": [
       "30"
      ]
     },
     "execution_count": 44,
     "metadata": {},
     "output_type": "execute_result"
    }
   ],
   "source": [
    "x"
   ]
  },
  {
   "cell_type": "code",
   "execution_count": 48,
   "id": "81346518-3b7c-4395-9e38-b188c555f95e",
   "metadata": {},
   "outputs": [
    {
     "data": {
      "text/plain": [
       "30"
      ]
     },
     "execution_count": 48,
     "metadata": {},
     "output_type": "execute_result"
    }
   ],
   "source": [
    "x"
   ]
  },
  {
   "cell_type": "code",
   "execution_count": 51,
   "id": "3c241808-a038-42a1-aed7-d53f59d535b0",
   "metadata": {},
   "outputs": [
    {
     "data": {
      "text/plain": [
       "30"
      ]
     },
     "execution_count": 51,
     "metadata": {},
     "output_type": "execute_result"
    }
   ],
   "source": [
    "++x"
   ]
  },
  {
   "cell_type": "code",
   "execution_count": 53,
   "id": "6f09c7a6-67ca-4acd-9dcf-247d293df6d9",
   "metadata": {},
   "outputs": [
    {
     "data": {
      "text/plain": [
       "30"
      ]
     },
     "execution_count": 53,
     "metadata": {},
     "output_type": "execute_result"
    }
   ],
   "source": [
    "--x"
   ]
  },
  {
   "cell_type": "code",
   "execution_count": 55,
   "id": "ed1b47ed-c8eb-4f6d-a113-f0647c9f1cd5",
   "metadata": {},
   "outputs": [
    {
     "data": {
      "text/plain": [
       "-30"
      ]
     },
     "execution_count": 55,
     "metadata": {},
     "output_type": "execute_result"
    }
   ],
   "source": [
    "---x"
   ]
  },
  {
   "cell_type": "code",
   "execution_count": null,
   "id": "9cf717e3-78eb-4ee3-acf6-a3d69d0ac1bc",
   "metadata": {},
   "outputs": [],
   "source": []
  },
  {
   "cell_type": "code",
   "execution_count": 65,
   "id": "651d727f-53fd-4aaa-9d2a-846ed25c2f11",
   "metadata": {},
   "outputs": [
    {
     "ename": "SyntaxError",
     "evalue": "invalid syntax (1015499630.py, line 1)",
     "output_type": "error",
     "traceback": [
      "\u001b[0;36m  Cell \u001b[0;32mIn[65], line 1\u001b[0;36m\u001b[0m\n\u001b[0;31m    x++\u001b[0m\n\u001b[0m       ^\u001b[0m\n\u001b[0;31mSyntaxError\u001b[0m\u001b[0;31m:\u001b[0m invalid syntax\n"
     ]
    }
   ],
   "source": [
    "x++"
   ]
  },
  {
   "cell_type": "code",
   "execution_count": null,
   "id": "898c114a-e243-43f7-90be-7292a30b7780",
   "metadata": {},
   "outputs": [],
   "source": []
  },
  {
   "cell_type": "code",
   "execution_count": null,
   "id": "2822546a-4a43-4e0b-b5a7-f3316ec9b051",
   "metadata": {},
   "outputs": [],
   "source": []
  },
  {
   "cell_type": "code",
   "execution_count": null,
   "id": "2d31ee03-035b-411c-a705-ec27280e3cea",
   "metadata": {},
   "outputs": [],
   "source": []
  },
  {
   "cell_type": "markdown",
   "id": "2d18da34-0d21-48be-8b2a-ca9849fb3d87",
   "metadata": {},
   "source": [
    "# Identity Opearator"
   ]
  },
  {
   "cell_type": "code",
   "execution_count": 73,
   "id": "50ba8d0a-0ac5-44b9-a5d7-dac98b3c6347",
   "metadata": {},
   "outputs": [],
   "source": [
    "a = 5"
   ]
  },
  {
   "cell_type": "code",
   "execution_count": 75,
   "id": "3aa7a5af-5a1b-400b-8203-ed88bd83aac0",
   "metadata": {},
   "outputs": [],
   "source": [
    "b = 5"
   ]
  },
  {
   "cell_type": "code",
   "execution_count": 77,
   "id": "3f871f5a-fa10-4f65-b096-13bed5c8b827",
   "metadata": {},
   "outputs": [
    {
     "data": {
      "text/plain": [
       "4339000664"
      ]
     },
     "execution_count": 77,
     "metadata": {},
     "output_type": "execute_result"
    }
   ],
   "source": [
    "id(a)"
   ]
  },
  {
   "cell_type": "code",
   "execution_count": 79,
   "id": "8643d8fe-f338-44ac-8b58-ed712d962a8b",
   "metadata": {},
   "outputs": [
    {
     "data": {
      "text/plain": [
       "4339000664"
      ]
     },
     "execution_count": 79,
     "metadata": {},
     "output_type": "execute_result"
    }
   ],
   "source": [
    "id(b)"
   ]
  },
  {
   "cell_type": "code",
   "execution_count": 81,
   "id": "4a3d877d-3f84-4ae0-b845-09e0c7041f10",
   "metadata": {},
   "outputs": [
    {
     "data": {
      "text/plain": [
       "4339000824"
      ]
     },
     "execution_count": 81,
     "metadata": {},
     "output_type": "execute_result"
    }
   ],
   "source": [
    "c = 10\n",
    "id(c)"
   ]
  },
  {
   "cell_type": "code",
   "execution_count": 83,
   "id": "73a7f743-7047-41b8-9c85-99e427261fe5",
   "metadata": {},
   "outputs": [
    {
     "data": {
      "text/plain": [
       "True"
      ]
     },
     "execution_count": 83,
     "metadata": {},
     "output_type": "execute_result"
    }
   ],
   "source": [
    "a is b"
   ]
  },
  {
   "cell_type": "code",
   "execution_count": 85,
   "id": "37756462-8577-4e85-a9b6-d92c38b3fa65",
   "metadata": {},
   "outputs": [
    {
     "data": {
      "text/plain": [
       "False"
      ]
     },
     "execution_count": 85,
     "metadata": {},
     "output_type": "execute_result"
    }
   ],
   "source": [
    "c is a"
   ]
  },
  {
   "cell_type": "code",
   "execution_count": 87,
   "id": "aa0c2923-dc2e-431d-893d-feeae18f3366",
   "metadata": {},
   "outputs": [
    {
     "data": {
      "text/plain": [
       "True"
      ]
     },
     "execution_count": 87,
     "metadata": {},
     "output_type": "execute_result"
    }
   ],
   "source": [
    "c is not a"
   ]
  },
  {
   "cell_type": "code",
   "execution_count": 91,
   "id": "4ba497f3-ffb4-4427-b223-62d80ac70b6e",
   "metadata": {},
   "outputs": [
    {
     "data": {
      "text/plain": [
       "False"
      ]
     },
     "execution_count": 91,
     "metadata": {},
     "output_type": "execute_result"
    }
   ],
   "source": [
    "type(c) is float"
   ]
  },
  {
   "cell_type": "code",
   "execution_count": 93,
   "id": "48d81e32-f4af-4839-bd28-5f26c01974d0",
   "metadata": {},
   "outputs": [
    {
     "data": {
      "text/plain": [
       "False"
      ]
     },
     "execution_count": 93,
     "metadata": {},
     "output_type": "execute_result"
    }
   ],
   "source": [
    "a is int"
   ]
  },
  {
   "cell_type": "code",
   "execution_count": 95,
   "id": "5d5bee0b-1c8c-4ef5-aed4-24f534fc682c",
   "metadata": {},
   "outputs": [
    {
     "data": {
      "text/plain": [
       "True"
      ]
     },
     "execution_count": 95,
     "metadata": {},
     "output_type": "execute_result"
    }
   ],
   "source": [
    "type(a) is int"
   ]
  },
  {
   "cell_type": "code",
   "execution_count": null,
   "id": "ff6753d7-4f09-4553-a49b-bb648862701d",
   "metadata": {},
   "outputs": [],
   "source": []
  },
  {
   "cell_type": "code",
   "execution_count": 99,
   "id": "ce25e542-2f8d-4806-b41a-04098768cf6a",
   "metadata": {},
   "outputs": [],
   "source": [
    "l1 = [[1],[2],[3]]"
   ]
  },
  {
   "cell_type": "code",
   "execution_count": 101,
   "id": "fcf9ad22-8200-4e55-8213-8a928ab248e9",
   "metadata": {},
   "outputs": [],
   "source": [
    "l2 = [[1],[2],[3]]"
   ]
  },
  {
   "cell_type": "code",
   "execution_count": 103,
   "id": "868ff8ba-79d1-4845-9a13-76941cbe27c4",
   "metadata": {},
   "outputs": [
    {
     "data": {
      "text/plain": [
       "True"
      ]
     },
     "execution_count": 103,
     "metadata": {},
     "output_type": "execute_result"
    }
   ],
   "source": [
    "l1 == l2"
   ]
  },
  {
   "cell_type": "code",
   "execution_count": 105,
   "id": "6c2740e0-7bd1-446a-addb-2dcb9507fad9",
   "metadata": {},
   "outputs": [
    {
     "data": {
      "text/plain": [
       "False"
      ]
     },
     "execution_count": 105,
     "metadata": {},
     "output_type": "execute_result"
    }
   ],
   "source": [
    "l1 is l2"
   ]
  },
  {
   "cell_type": "code",
   "execution_count": 107,
   "id": "26eb59c4-326d-4371-8019-cbc4d726b1ce",
   "metadata": {},
   "outputs": [
    {
     "data": {
      "text/plain": [
       "5095536704"
      ]
     },
     "execution_count": 107,
     "metadata": {},
     "output_type": "execute_result"
    }
   ],
   "source": [
    "id(l1)"
   ]
  },
  {
   "cell_type": "code",
   "execution_count": 109,
   "id": "301fbd7d-11f6-448f-8876-153c3fb973e6",
   "metadata": {},
   "outputs": [
    {
     "data": {
      "text/plain": [
       "5095290112"
      ]
     },
     "execution_count": 109,
     "metadata": {},
     "output_type": "execute_result"
    }
   ],
   "source": [
    "id(l2)"
   ]
  }
 ],
 "metadata": {
  "kernelspec": {
   "display_name": "Python 3 (ipykernel)",
   "language": "python",
   "name": "python3"
  },
  "language_info": {
   "codemirror_mode": {
    "name": "ipython",
    "version": 3
   },
   "file_extension": ".py",
   "mimetype": "text/x-python",
   "name": "python",
   "nbconvert_exporter": "python",
   "pygments_lexer": "ipython3",
   "version": "3.11.5"
  }
 },
 "nbformat": 4,
 "nbformat_minor": 5
}
