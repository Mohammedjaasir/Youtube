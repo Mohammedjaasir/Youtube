{
 "cells": [
  {
   "cell_type": "markdown",
   "id": "472b7742-254d-48fc-b171-ee03a8c2b61c",
   "metadata": {},
   "source": [
    "# Membership Operator"
   ]
  },
  {
   "cell_type": "code",
   "execution_count": 8,
   "id": "2d6aa557-d68d-4610-bb3f-0ecbf0cddca4",
   "metadata": {},
   "outputs": [],
   "source": [
    "s = \"Mayank\""
   ]
  },
  {
   "cell_type": "code",
   "execution_count": 6,
   "id": "8bcfd8f4-0285-4961-8d4e-4acaa241e43e",
   "metadata": {},
   "outputs": [
    {
     "data": {
      "text/plain": [
       "True"
      ]
     },
     "execution_count": 6,
     "metadata": {},
     "output_type": "execute_result"
    }
   ],
   "source": [
    "'aya' in s"
   ]
  },
  {
   "cell_type": "code",
   "execution_count": 10,
   "id": "8272469e-69c3-4190-8f72-2e0630c70250",
   "metadata": {},
   "outputs": [
    {
     "data": {
      "text/plain": [
       "False"
      ]
     },
     "execution_count": 10,
     "metadata": {},
     "output_type": "execute_result"
    }
   ],
   "source": [
    "'may' in s"
   ]
  },
  {
   "cell_type": "code",
   "execution_count": null,
   "id": "25dab9e7-6419-49c6-9bea-cc1c9e1ac480",
   "metadata": {},
   "outputs": [],
   "source": []
  },
  {
   "cell_type": "code",
   "execution_count": 12,
   "id": "0c3c9652-ec78-42f7-8c09-478206f0beb3",
   "metadata": {},
   "outputs": [],
   "source": [
    "l1 = [1,12,5]"
   ]
  },
  {
   "cell_type": "code",
   "execution_count": 14,
   "id": "480850b9-66e3-4187-bb32-10d779fb987f",
   "metadata": {},
   "outputs": [
    {
     "data": {
      "text/plain": [
       "True"
      ]
     },
     "execution_count": 14,
     "metadata": {},
     "output_type": "execute_result"
    }
   ],
   "source": [
    "11 not in l1"
   ]
  },
  {
   "cell_type": "code",
   "execution_count": 16,
   "id": "6fba28e0-1714-409c-88a5-c54fad0dec68",
   "metadata": {},
   "outputs": [],
   "source": [
    "a = \"mayank 123 python\""
   ]
  },
  {
   "cell_type": "code",
   "execution_count": 20,
   "id": "5c6adb91-3317-4f09-9103-a0f647a8c579",
   "metadata": {},
   "outputs": [
    {
     "data": {
      "text/plain": [
       "True"
      ]
     },
     "execution_count": 20,
     "metadata": {},
     "output_type": "execute_result"
    }
   ],
   "source": [
    "'1' in a"
   ]
  },
  {
   "cell_type": "code",
   "execution_count": 22,
   "id": "24967984-daec-468d-9d75-10c0f16860c9",
   "metadata": {},
   "outputs": [],
   "source": [
    "b = 1324"
   ]
  },
  {
   "cell_type": "code",
   "execution_count": 24,
   "id": "a7bd41fe-b3a2-406f-beae-55df01691e89",
   "metadata": {},
   "outputs": [
    {
     "ename": "TypeError",
     "evalue": "argument of type 'int' is not iterable",
     "output_type": "error",
     "traceback": [
      "\u001b[0;31m---------------------------------------------------------------------------\u001b[0m",
      "\u001b[0;31mTypeError\u001b[0m                                 Traceback (most recent call last)",
      "Cell \u001b[0;32mIn[24], line 1\u001b[0m\n\u001b[0;32m----> 1\u001b[0m \u001b[38;5;241m13\u001b[39m \u001b[38;5;129;01min\u001b[39;00m b\n",
      "\u001b[0;31mTypeError\u001b[0m: argument of type 'int' is not iterable"
     ]
    }
   ],
   "source": [
    "13 in b"
   ]
  },
  {
   "cell_type": "code",
   "execution_count": null,
   "id": "77996f80-2ff6-42c8-b620-1c61c090f8fc",
   "metadata": {},
   "outputs": [],
   "source": []
  },
  {
   "cell_type": "code",
   "execution_count": null,
   "id": "5ae004ab-1557-420d-b7f0-ced0d57159b6",
   "metadata": {},
   "outputs": [],
   "source": []
  },
  {
   "cell_type": "code",
   "execution_count": null,
   "id": "bf1c9331-a177-4539-98df-e3e9cf3dc506",
   "metadata": {},
   "outputs": [],
   "source": []
  },
  {
   "cell_type": "code",
   "execution_count": null,
   "id": "e162b9f2-7c91-4508-b22c-9a4cd5f823d0",
   "metadata": {},
   "outputs": [],
   "source": []
  },
  {
   "cell_type": "markdown",
   "id": "8f45200c-e0b9-40e3-b778-6ee9fd8b83b6",
   "metadata": {},
   "source": [
    "# Binary"
   ]
  },
  {
   "cell_type": "code",
   "execution_count": null,
   "id": "12fc0059-1b0a-4001-8174-53c8398f9215",
   "metadata": {},
   "outputs": [],
   "source": []
  },
  {
   "cell_type": "code",
   "execution_count": 34,
   "id": "f1a8a855-7a93-423c-8b75-fed156e5be91",
   "metadata": {},
   "outputs": [],
   "source": [
    "a = 5 \n",
    "b= 4\n"
   ]
  },
  {
   "cell_type": "code",
   "execution_count": 38,
   "id": "b1c8a518-6ed4-4374-91a4-bd61630180ee",
   "metadata": {},
   "outputs": [
    {
     "data": {
      "text/plain": [
       "4"
      ]
     },
     "execution_count": 38,
     "metadata": {},
     "output_type": "execute_result"
    }
   ],
   "source": [
    "a & b"
   ]
  },
  {
   "cell_type": "code",
   "execution_count": 42,
   "id": "32ca1583-96c1-4963-9280-3b51cc907e56",
   "metadata": {},
   "outputs": [
    {
     "data": {
      "text/plain": [
       "5"
      ]
     },
     "execution_count": 42,
     "metadata": {},
     "output_type": "execute_result"
    }
   ],
   "source": [
    "a | b"
   ]
  },
  {
   "cell_type": "code",
   "execution_count": 46,
   "id": "0d557db5-2919-438f-899c-8370bed939f2",
   "metadata": {},
   "outputs": [
    {
     "data": {
      "text/plain": [
       "1"
      ]
     },
     "execution_count": 46,
     "metadata": {},
     "output_type": "execute_result"
    }
   ],
   "source": [
    "a ^ b"
   ]
  },
  {
   "cell_type": "code",
   "execution_count": 50,
   "id": "f01c2e95-259d-434c-b0e3-09bcbefed8bd",
   "metadata": {},
   "outputs": [
    {
     "data": {
      "text/plain": [
       "10"
      ]
     },
     "execution_count": 50,
     "metadata": {},
     "output_type": "execute_result"
    }
   ],
   "source": [
    "5<< 1"
   ]
  },
  {
   "cell_type": "code",
   "execution_count": 54,
   "id": "53a28b7c-e305-4b34-aa7c-068379d38470",
   "metadata": {},
   "outputs": [
    {
     "data": {
      "text/plain": [
       "20"
      ]
     },
     "execution_count": 54,
     "metadata": {},
     "output_type": "execute_result"
    }
   ],
   "source": [
    "5 << 2"
   ]
  },
  {
   "cell_type": "code",
   "execution_count": 58,
   "id": "d639232f-7e0f-4ca6-b28b-93ecb8272856",
   "metadata": {},
   "outputs": [
    {
     "data": {
      "text/plain": [
       "2"
      ]
     },
     "execution_count": 58,
     "metadata": {},
     "output_type": "execute_result"
    }
   ],
   "source": [
    "5 >> 1"
   ]
  },
  {
   "cell_type": "code",
   "execution_count": 62,
   "id": "7c320874-d9fe-420e-9000-a6c5bf4ac851",
   "metadata": {},
   "outputs": [
    {
     "data": {
      "text/plain": [
       "1"
      ]
     },
     "execution_count": 62,
     "metadata": {},
     "output_type": "execute_result"
    }
   ],
   "source": [
    "5 >> 2"
   ]
  },
  {
   "cell_type": "code",
   "execution_count": 68,
   "id": "8930cae8-fac9-4461-8937-826e87833c39",
   "metadata": {},
   "outputs": [
    {
     "data": {
      "text/plain": [
       "5"
      ]
     },
     "execution_count": 68,
     "metadata": {},
     "output_type": "execute_result"
    }
   ],
   "source": [
    "20 >> 2"
   ]
  },
  {
   "cell_type": "code",
   "execution_count": null,
   "id": "63a15b03-655d-4bf9-b1c8-06d63e827309",
   "metadata": {},
   "outputs": [],
   "source": []
  },
  {
   "cell_type": "code",
   "execution_count": 70,
   "id": "b172920e-f75f-400e-8357-425c4bb91895",
   "metadata": {},
   "outputs": [],
   "source": [
    "c = 5\n"
   ]
  },
  {
   "cell_type": "code",
   "execution_count": 72,
   "id": "834b5d41-4041-4b88-91e3-d5d6c2a8b0bb",
   "metadata": {},
   "outputs": [
    {
     "data": {
      "text/plain": [
       "-6"
      ]
     },
     "execution_count": 72,
     "metadata": {},
     "output_type": "execute_result"
    }
   ],
   "source": [
    "~c"
   ]
  },
  {
   "cell_type": "code",
   "execution_count": 74,
   "id": "118b8d59-312b-4358-80de-0d8947680c0a",
   "metadata": {},
   "outputs": [
    {
     "ename": "SyntaxError",
     "evalue": "leading zeros in decimal integer literals are not permitted; use an 0o prefix for octal integers (1110146476.py, line 3)",
     "output_type": "error",
     "traceback": [
      "\u001b[0;36m  Cell \u001b[0;32mIn[74], line 3\u001b[0;36m\u001b[0m\n\u001b[0;31m    compliment(4) -> 011\u001b[0m\n\u001b[0m                     ^\u001b[0m\n\u001b[0;31mSyntaxError\u001b[0m\u001b[0;31m:\u001b[0m leading zeros in decimal integer literals are not permitted; use an 0o prefix for octal integers\n"
     ]
    }
   ],
   "source": [
    "4 = 100\n",
    "\n",
    "compliment(4) -> 011\n",
    "Compliment (4) -> 100\n",
    "\n",
    "adding + 1 to the result - 100\n",
    "                             1\n",
    "                           101"
   ]
  },
  {
   "cell_type": "code",
   "execution_count": 78,
   "id": "0f017e46-f1be-4085-83ae-6109bde36a47",
   "metadata": {},
   "outputs": [
    {
     "data": {
      "text/plain": [
       "-5"
      ]
     },
     "execution_count": 78,
     "metadata": {},
     "output_type": "execute_result"
    }
   ],
   "source": [
    "~4"
   ]
  },
  {
   "cell_type": "code",
   "execution_count": null,
   "id": "a1a53030-63e9-4f2a-9011-c0959d9d9754",
   "metadata": {},
   "outputs": [],
   "source": [
    "7 = 111\n",
    "add + 1 = 0111\n"
   ]
  },
  {
   "cell_type": "code",
   "execution_count": 80,
   "id": "fc298aa4-4cc9-4cdf-90f2-3b109515df4b",
   "metadata": {},
   "outputs": [
    {
     "data": {
      "text/plain": [
       "-8"
      ]
     },
     "execution_count": 80,
     "metadata": {},
     "output_type": "execute_result"
    }
   ],
   "source": [
    "~7"
   ]
  }
 ],
 "metadata": {
  "kernelspec": {
   "display_name": "Python 3 (ipykernel)",
   "language": "python",
   "name": "python3"
  },
  "language_info": {
   "codemirror_mode": {
    "name": "ipython",
    "version": 3
   },
   "file_extension": ".py",
   "mimetype": "text/x-python",
   "name": "python",
   "nbconvert_exporter": "python",
   "pygments_lexer": "ipython3",
   "version": "3.11.5"
  }
 },
 "nbformat": 4,
 "nbformat_minor": 5
}
