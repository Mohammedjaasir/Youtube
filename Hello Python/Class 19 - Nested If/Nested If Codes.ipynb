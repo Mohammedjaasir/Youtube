{
 "cells": [
  {
   "cell_type": "markdown",
   "id": "8db70c45-b69a-4478-b1cd-f188d726355e",
   "metadata": {},
   "source": [
    "# nested If Statement"
   ]
  },
  {
   "cell_type": "code",
   "execution_count": 23,
   "id": "36c41e26-bf22-410e-848e-0a8c2f1368b2",
   "metadata": {},
   "outputs": [],
   "source": [
    "hungry = True\n",
    "Money = 1200\n",
    "\n",
    "restaurantOpen = False"
   ]
  },
  {
   "cell_type": "code",
   "execution_count": 27,
   "id": "fd278f2a-65e5-4f7d-a5a5-ed481aca1920",
   "metadata": {},
   "outputs": [
    {
     "name": "stdout",
     "output_type": "stream",
     "text": [
      "we will try to eat\n",
      "have a party\n"
     ]
    }
   ],
   "source": [
    "if(hungry):\n",
    "    print(\"we will try to eat\")\n",
    "    if(Money == 0):\n",
    "        print(\"Just sleep\")\n",
    "    elif(Money > 1000):\n",
    "        print(\"have a party\")\n",
    "    elif(Money > 100 and Money < 500):\n",
    "        print(\"have something great\")\n",
    "        if(restaurantOpen):\n",
    "            print(\" ORder from restro\")\n",
    "        else:\n",
    "            print(\" just sleep\")\n",
    "    else:\n",
    "        print(\"order in\")\n",
    "        \n",
    "else :\n",
    "    print(\"we won't eat\")"
   ]
  },
  {
   "cell_type": "code",
   "execution_count": null,
   "id": "c2b85f88-3182-4e44-9f7e-c11b2e215d71",
   "metadata": {},
   "outputs": [],
   "source": []
  },
  {
   "cell_type": "markdown",
   "id": "51158b67-7488-4764-a5a3-888105112050",
   "metadata": {},
   "source": [
    "# We will be taking a input from the user, first we will check if its a character ( a-z , A-z , 0-9) and then what exactly it is ?"
   ]
  },
  {
   "cell_type": "code",
   "execution_count": 32,
   "id": "f0430684-f5df-4af2-9ab5-fe9ebb99ef86",
   "metadata": {},
   "outputs": [
    {
     "name": "stdin",
     "output_type": "stream",
     "text": [
      " c\n"
     ]
    }
   ],
   "source": [
    "ch = input()"
   ]
  },
  {
   "cell_type": "code",
   "execution_count": null,
   "id": "f4bcbb71-047e-4fd7-ba17-b63c5813a190",
   "metadata": {},
   "outputs": [],
   "source": []
  },
  {
   "cell_type": "code",
   "execution_count": null,
   "id": "4188b7f7-cc15-471b-9585-6b2abd1588df",
   "metadata": {},
   "outputs": [],
   "source": [
    "if((c>='a' and c<= 'z') or (c >='A' and c<='Z') or (c>='0' and c<='9')):\n",
    "\n",
    "else:\n",
    "    "
   ]
  }
 ],
 "metadata": {
  "kernelspec": {
   "display_name": "Python 3 (ipykernel)",
   "language": "python",
   "name": "python3"
  },
  "language_info": {
   "codemirror_mode": {
    "name": "ipython",
    "version": 3
   },
   "file_extension": ".py",
   "mimetype": "text/x-python",
   "name": "python",
   "nbconvert_exporter": "python",
   "pygments_lexer": "ipython3",
   "version": "3.11.5"
  }
 },
 "nbformat": 4,
 "nbformat_minor": 5
}
