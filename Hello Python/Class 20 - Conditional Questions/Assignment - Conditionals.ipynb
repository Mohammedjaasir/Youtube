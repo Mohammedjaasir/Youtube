{
 "cells": [
  {
   "cell_type": "markdown",
   "metadata": {},
   "source": [
    "# Python Conditionals Practice\n",
    "\n",
    "This notebook contains 10 questions on conditionals in Python, arranged in increasing order of difficulty. Each question is followed by a code cell where you can write your solution. Good luck!"
   ]
  },
  {
   "cell_type": "markdown",
   "metadata": {},
   "source": [
    "## Question 1: Even or Odd\n",
    "\n",
    "Write code that takes a number as input and prints whether it's even or odd."
   ]
  },
  {
   "cell_type": "code",
   "execution_count": null,
   "metadata": {},
   "outputs": [],
   "source": [
    "# Your code here\n"
   ]
  },
  {
   "cell_type": "markdown",
   "metadata": {},
   "source": [
    "## Question 2: Positive, Negative, or Zero\n",
    "\n",
    "Write code that takes a number as input and prints whether it's positive, negative, or zero."
   ]
  },
  {
   "cell_type": "code",
   "execution_count": null,
   "metadata": {},
   "outputs": [],
   "source": [
    "# Your code here\n"
   ]
  },
  {
   "cell_type": "markdown",
   "metadata": {},
   "source": [
    "## Question 3: Grading System\n",
    "\n",
    "Write code that takes a student's score (0-100) as input and prints their grade according to the following scale:\n",
    "- A: 90-100\n",
    "- B: 80-89\n",
    "- C: 70-79\n",
    "- D: 60-69\n",
    "- F: Below 60"
   ]
  },
  {
   "cell_type": "code",
   "execution_count": null,
   "metadata": {},
   "outputs": [],
   "source": [
    "# Your code here\n"
   ]
  },
  {
   "cell_type": "markdown",
   "metadata": {},
   "source": [
    "## Question 4: Leap Year Checker\n",
    "\n",
    "Write code that takes a year as input and prints whether it's a leap year or not. A leap year is divisible by 4, except for century years, which must be divisible by 400 to be a leap year."
   ]
  },
  {
   "cell_type": "code",
   "execution_count": null,
   "metadata": {},
   "outputs": [],
   "source": [
    "# Your code here\n"
   ]
  },
  {
   "cell_type": "markdown",
   "metadata": {},
   "source": [
    "## Question 5: Triangle Type\n",
    "\n",
    "Write code that takes the lengths of three sides of a triangle as input and prints whether it's equilateral (all sides equal), isosceles (two sides equal), or scalene (no sides equal)."
   ]
  },
  {
   "cell_type": "code",
   "execution_count": null,
   "metadata": {},
   "outputs": [],
   "source": [
    "# Your code here\n"
   ]
  },
  {
   "cell_type": "markdown",
   "metadata": {},
   "source": [
    "## Question 6: Rock, Paper, Scissors\n",
    "\n",
    "Write code for a simple Rock, Paper, Scissors game. Take inputs from two players and determine the winner based on the rules: Rock beats Scissors, Scissors beats Paper, and Paper beats Rock."
   ]
  },
  {
   "cell_type": "code",
   "execution_count": null,
   "metadata": {},
   "outputs": [],
   "source": [
    "# Your code here\n"
   ]
  },
  {
   "cell_type": "markdown",
   "metadata": {},
   "source": [
    "## Question 7: Days in a Month\n",
    "\n",
    "Write code that takes a month (as a number 1-12) and a year as input, then prints the number of days in that month. Remember to account for leap years affecting February."
   ]
  },
  {
   "cell_type": "code",
   "execution_count": null,
   "metadata": {},
   "outputs": [],
   "source": [
    "# Your code here\n"
   ]
  },
  {
   "cell_type": "markdown",
   "metadata": {},
   "source": [
    "## Question 8: Quadratic Equation Solver\n",
    "\n",
    "Write code that solves a quadratic equation. Take coefficients a, b, and c as input and print the roots. Handle all cases: two distinct real roots, one real root (double root), and complex roots."
   ]
  },
  {
   "cell_type": "code",
   "execution_count": null,
   "metadata": {},
   "outputs": [],
   "source": [
    "# Your code here\n"
   ]
  },
  {
   "cell_type": "markdown",
   "metadata": {},
   "source": [
    "## Question 9: Tax Calculator\n",
    "\n",
    "Write code for a simple tax calculator. Take annual income as input and calculate tax based on the following brackets:\n",
    "- Up to $10,000: 0%\n",
    "- $10,001 to $50,000: 10%\n",
    "- $50,001 to $100,000: 20%\n",
    "- Above $100,000: 30%\n",
    "\n",
    "Print both the tax amount and the net income after tax."
   ]
  },
  {
   "cell_type": "code",
   "execution_count": null,
   "metadata": {},
   "outputs": [],
   "source": [
    "# Your code here\n"
   ]
  },
  {
   "cell_type": "markdown",
   "metadata": {},
   "source": [
    "## Question 10: Credit Card Validator\n",
    "\n",
    "Write code that implements the Luhn algorithm to validate a credit card number. Take a credit card number as input (as a string) and print whether it's valid or not. The Luhn algorithm works as follows:\n",
    "1. Double every second digit from right to left. If doubling results in a two-digit number, add up those digits.\n",
    "2. Add all the untouched digits and the doubled digits.\n",
    "3. The total should be a multiple of 10 for the card to be valid."
   ]
  },
  {
   "cell_type": "code",
   "execution_count": null,
   "metadata": {},
   "outputs": [],
   "source": [
    "# Your code here\n"
   ]
  }
 ],
 "metadata": {
  "kernelspec": {
   "display_name": "Python 3 (ipykernel)",
   "language": "python",
   "name": "python3"
  },
  "language_info": {
   "codemirror_mode": {
    "name": "ipython",
    "version": 3
   },
   "file_extension": ".py",
   "mimetype": "text/x-python",
   "name": "python",
   "nbconvert_exporter": "python",
   "pygments_lexer": "ipython3",
   "version": "3.11.5"
  }
 },
 "nbformat": 4,
 "nbformat_minor": 4
}
