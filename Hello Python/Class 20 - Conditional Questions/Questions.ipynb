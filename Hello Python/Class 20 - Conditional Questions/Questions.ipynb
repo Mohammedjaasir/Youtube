{
 "cells": [
  {
   "cell_type": "markdown",
   "id": "7a1ed483-9b3d-49f8-8ea8-a893acbfaa81",
   "metadata": {},
   "source": [
    "# Question 1"
   ]
  },
  {
   "cell_type": "raw",
   "id": "e18e5147-bae0-4028-b3f7-e03491081f4f",
   "metadata": {},
   "source": [
    "Implement the `check_loan_eligibility` function that determines a person's loan eligibility based on their age, annual income, and credit score. Use nested if statements to implement the following logic:\n",
    "\n",
    "-   The person must be at least 18 years old.\n",
    "-   If income is $30,000 or more:\n",
    "    -   Credit score 700+: Prime loan\n",
    "    -   Credit score 600-699: Standard loan\n",
    "    -   Credit score below 600: High-risk loan\n",
    "-   If income is $20,000-$29,999:\n",
    "    -   Credit score 700+: Standard loan\n",
    "    -   Credit score 600-699: High-risk loan\n",
    "    -   Credit score below 600: Not eligible\n",
    "-   If income is below $20,000: Not eligible"
   ]
  },
  {
   "cell_type": "code",
   "execution_count": 13,
   "id": "31fc1ba3-549c-4a69-a24c-73ee0727f45b",
   "metadata": {},
   "outputs": [],
   "source": [
    "age = 25\n",
    "income = 35000\n",
    "creditScore = 750\n"
   ]
  },
  {
   "cell_type": "code",
   "execution_count": 15,
   "id": "5a6085bb-4051-40b9-82d2-5ac52f405aa4",
   "metadata": {},
   "outputs": [
    {
     "name": "stdout",
     "output_type": "stream",
     "text": [
      "Prime loan\n"
     ]
    }
   ],
   "source": [
    "if(age >=18): # at least\n",
    "    if(income >=30000):\n",
    "        if creditScore >= 700:\n",
    "            print(\"Prime loan\")\n",
    "        elif (creditScore >=600 and creditScore<700):\n",
    "            print(\"Standard Loan\")\n",
    "        elif (creditScore >=0 and creditScore<600):\n",
    "            print(\"High Risk Loan\")        \n",
    "    else:\n",
    "        print(\"Not Eligible\")\n",
    "    \n",
    "else:\n",
    "    print(\"Not eligible\")"
   ]
  },
  {
   "cell_type": "code",
   "execution_count": null,
   "id": "adbd915f-fae2-48ea-982f-b9493b30b23a",
   "metadata": {},
   "outputs": [],
   "source": []
  },
  {
   "cell_type": "code",
   "execution_count": null,
   "id": "a1156641-318f-44b7-8978-e7812bdfc8f3",
   "metadata": {},
   "outputs": [],
   "source": []
  },
  {
   "cell_type": "code",
   "execution_count": null,
   "id": "e4b38800-2b2e-4f5e-a379-c2e2a8572e49",
   "metadata": {},
   "outputs": [],
   "source": []
  },
  {
   "cell_type": "code",
   "execution_count": null,
   "id": "25b7d61e-0a7a-4898-8a1c-c7f46d99e8ce",
   "metadata": {},
   "outputs": [],
   "source": []
  },
  {
   "cell_type": "code",
   "execution_count": null,
   "id": "efccd764-dc8d-428a-bcfc-9301411690ef",
   "metadata": {},
   "outputs": [],
   "source": []
  },
  {
   "cell_type": "code",
   "execution_count": null,
   "id": "8fe31752-4fc7-4161-afee-6b3db3256681",
   "metadata": {},
   "outputs": [],
   "source": []
  },
  {
   "cell_type": "code",
   "execution_count": null,
   "id": "5209cdd1-a358-42f2-ad10-6a401b59fbf4",
   "metadata": {},
   "outputs": [],
   "source": []
  },
  {
   "cell_type": "code",
   "execution_count": null,
   "id": "0b48853f-87ee-4559-94f6-ce0e2934ec1d",
   "metadata": {},
   "outputs": [],
   "source": []
  },
  {
   "cell_type": "code",
   "execution_count": null,
   "id": "e32178b5-370b-4c9d-bd7b-1fa503ec2fda",
   "metadata": {},
   "outputs": [],
   "source": []
  },
  {
   "cell_type": "code",
   "execution_count": null,
   "id": "ab082218-787a-437c-910d-2ac971dbec52",
   "metadata": {},
   "outputs": [],
   "source": []
  },
  {
   "cell_type": "code",
   "execution_count": null,
   "id": "ad7faba5-d0eb-4384-9482-e1d24453efb4",
   "metadata": {},
   "outputs": [],
   "source": []
  },
  {
   "cell_type": "markdown",
   "id": "3d91b030-b932-42e2-b9b9-068d99f2f2e8",
   "metadata": {},
   "source": [
    "# Question 2"
   ]
  },
  {
   "cell_type": "markdown",
   "id": "dad05198-cfc8-4a84-a2aa-c3f7a31fd43b",
   "metadata": {},
   "source": [
    "Write a Python Code that determines whether \n",
    "a given year is a leap year or not. \n",
    "\n",
    "The function should take a year as input and print True if it's a leap year, and False otherwise."
   ]
  },
  {
   "cell_type": "markdown",
   "id": "1d0815a3-d6f4-4f1d-9935-05db7348dcef",
   "metadata": {},
   "source": [
    "### Explanation of Leap Year Condition"
   ]
  },
  {
   "cell_type": "raw",
   "id": "c4982114-a902-4b7b-8457-01d45a18d234",
   "metadata": {},
   "source": [
    "A leap year is a year that has 366 days instead of the usual 365 days. The extra day is added to the month of February, making it 29 days long instead of 28. Leap years are added to keep our calendar aligned with the Earth's revolutions around the Sun.\n",
    "The rules for determining a leap year are as follows:\n",
    "\n",
    "A year is a leap year if it is divisible by 4.\n",
    "However, if the year is also divisible by 100, it is NOT a leap year, unless...\n",
    "The year is also divisible by 400. Then it is a leap year.\n",
    "\n",
    "To put it simply:\n",
    "\n",
    "Most years divisible by 4 are leap years.\n",
    "Century years (years ending with 00) are not leap years, unless they are divisible by 400.\n",
    "\n",
    "For example:\n",
    "\n",
    "2000 was a leap year (divisible by 400)\n",
    "1900 was not a leap year (divisible by 100 but not by 400)\n",
    "2020 was a leap year (divisible by 4 but not by 100)\n",
    "2100 will not be a leap year (divisible by 100 but not by 400)"
   ]
  },
  {
   "cell_type": "raw",
   "id": "b8a67837-385a-4b34-93d7-15c768fe3976",
   "metadata": {},
   "source": []
  },
  {
   "cell_type": "code",
   "execution_count": 63,
   "id": "5b6a5cf6-3fe7-4774-ab14-427fd127a366",
   "metadata": {},
   "outputs": [],
   "source": [
    "year = 1900\n"
   ]
  },
  {
   "cell_type": "code",
   "execution_count": 69,
   "id": "7dbffac4-c2da-4b1c-b3e2-ff604bca064a",
   "metadata": {},
   "outputs": [
    {
     "name": "stdout",
     "output_type": "stream",
     "text": [
      "Not a leap year\n"
     ]
    }
   ],
   "source": [
    "if(year %4==0):\n",
    "    if(year%100==0):\n",
    "        if(year%400 == 0):\n",
    "            print(\"its a leap year\")\n",
    "        else:\n",
    "            print(\"Not a leap year\")\n",
    "    else:\n",
    "        print(\"Its a leap Year\")    \n",
    "else:\n",
    "    print(\"its not a leap year\")"
   ]
  },
  {
   "cell_type": "code",
   "execution_count": null,
   "id": "7a10e9c3-76b9-490c-8fbe-6ede0a312570",
   "metadata": {},
   "outputs": [],
   "source": []
  },
  {
   "cell_type": "code",
   "execution_count": null,
   "id": "5d964d33-93fc-4f92-aa2d-3cd00d4a5d2a",
   "metadata": {},
   "outputs": [],
   "source": []
  },
  {
   "cell_type": "code",
   "execution_count": null,
   "id": "f04ccd41-308e-4c77-aed8-2011ac9df0b8",
   "metadata": {},
   "outputs": [],
   "source": []
  },
  {
   "cell_type": "code",
   "execution_count": null,
   "id": "7389842c-e133-4cff-a0a4-fb2f36b8aecf",
   "metadata": {},
   "outputs": [],
   "source": []
  },
  {
   "cell_type": "code",
   "execution_count": null,
   "id": "25e9a615-70b2-4015-9204-fdcc6b557b38",
   "metadata": {},
   "outputs": [],
   "source": []
  },
  {
   "cell_type": "markdown",
   "id": "44c96d86-c41b-45c7-8f50-e73ba8568cb5",
   "metadata": {},
   "source": [
    "# Explanation"
   ]
  },
  {
   "cell_type": "raw",
   "id": "635f0524-a29b-4760-ac05-84ecc64d3146",
   "metadata": {},
   "source": [
    "In the Gregorian calendar, a normal year consists of 365 days. Because the actual length of a sidereal year (the time required for the Earth to revolve once about the Sun) is actually 365.2425 days, a \"leap year\" of 366 days is used once every four years to eliminate the error caused by three normal (but short) years. Any year that is evenly divisible by 4 is a leap year: for example, 1988, 1992, and 1996 are leap years.\n",
    "\n",
    "However, there is still a small error that must be accounted for. To eliminate this error, the Gregorian calendar stipulates that a year that is evenly divisible by 100 (for example, 1900) is a leap year only if it is also evenly divisible by 400.\n",
    "\n",
    "For this reason, the following years are not leap years:\n",
    "\n",
    "1700, 1800, 1900, 2100, 2200, 2300, 2500, 2600\n",
    "\n",
    "This is because they are evenly divisible by 100 but not by 400.\n",
    "\n",
    "The following years are leap years: 1600, 2000, 2400\n",
    "\n",
    "This is because they are evenly divisible by both 100 and 400."
   ]
  }
 ],
 "metadata": {
  "kernelspec": {
   "display_name": "Python 3 (ipykernel)",
   "language": "python",
   "name": "python3"
  },
  "language_info": {
   "codemirror_mode": {
    "name": "ipython",
    "version": 3
   },
   "file_extension": ".py",
   "mimetype": "text/x-python",
   "name": "python",
   "nbconvert_exporter": "python",
   "pygments_lexer": "ipython3",
   "version": "3.11.7"
  }
 },
 "nbformat": 4,
 "nbformat_minor": 5
}
