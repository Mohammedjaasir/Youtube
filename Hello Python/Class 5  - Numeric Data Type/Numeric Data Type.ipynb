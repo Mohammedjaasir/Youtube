{
 "cells": [
  {
   "cell_type": "code",
   "execution_count": 4,
   "id": "87bf5d05-cf98-48ff-a7cc-19093dc8d9f2",
   "metadata": {},
   "outputs": [],
   "source": [
    "a = 5"
   ]
  },
  {
   "cell_type": "code",
   "execution_count": 6,
   "id": "5df39111-747b-4399-b00c-29d2eb0a4364",
   "metadata": {},
   "outputs": [
    {
     "data": {
      "text/plain": [
       "int"
      ]
     },
     "execution_count": 6,
     "metadata": {},
     "output_type": "execute_result"
    }
   ],
   "source": [
    "type(a)"
   ]
  },
  {
   "cell_type": "code",
   "execution_count": 10,
   "id": "54880b7f-6032-4cbb-8cf3-cba7431d7075",
   "metadata": {},
   "outputs": [
    {
     "data": {
      "text/plain": [
       "int"
      ]
     },
     "execution_count": 10,
     "metadata": {},
     "output_type": "execute_result"
    }
   ],
   "source": [
    "b = -5\n",
    "type(b)"
   ]
  },
  {
   "cell_type": "code",
   "execution_count": 14,
   "id": "7fd62370-a60b-4e9c-8ea6-5f489b9f09a1",
   "metadata": {},
   "outputs": [],
   "source": [
    "c = 5.5"
   ]
  },
  {
   "cell_type": "code",
   "execution_count": 17,
   "id": "479c5dd8-c5f4-4b6b-907f-c97369b1b11a",
   "metadata": {},
   "outputs": [
    {
     "data": {
      "text/plain": [
       "float"
      ]
     },
     "execution_count": 17,
     "metadata": {},
     "output_type": "execute_result"
    }
   ],
   "source": [
    "type(c)"
   ]
  },
  {
   "cell_type": "code",
   "execution_count": 21,
   "id": "cd8a95c8-ab05-473c-8a23-42ab869a7de8",
   "metadata": {},
   "outputs": [
    {
     "data": {
      "text/plain": [
       "float"
      ]
     },
     "execution_count": 21,
     "metadata": {},
     "output_type": "execute_result"
    }
   ],
   "source": [
    "d = 3.1341\n",
    "type(d)"
   ]
  },
  {
   "cell_type": "code",
   "execution_count": 23,
   "id": "d5f3595a-b2a1-4d40-9155-bd11fa5b14f7",
   "metadata": {},
   "outputs": [],
   "source": [
    "e = 1e5"
   ]
  },
  {
   "cell_type": "code",
   "execution_count": 25,
   "id": "96b12167-e32c-469a-909e-654b2778bf42",
   "metadata": {},
   "outputs": [
    {
     "data": {
      "text/plain": [
       "100000.0"
      ]
     },
     "execution_count": 25,
     "metadata": {},
     "output_type": "execute_result"
    }
   ],
   "source": [
    "e"
   ]
  },
  {
   "cell_type": "code",
   "execution_count": 29,
   "id": "cdc0a36f-0bb6-4753-b72f-64de7e89bd62",
   "metadata": {},
   "outputs": [
    {
     "data": {
      "text/plain": [
       "float"
      ]
     },
     "execution_count": 29,
     "metadata": {},
     "output_type": "execute_result"
    }
   ],
   "source": [
    "type(e)"
   ]
  },
  {
   "cell_type": "code",
   "execution_count": 31,
   "id": "9fa927fa-4f7f-418a-8650-825987c59a54",
   "metadata": {},
   "outputs": [],
   "source": [
    "f = 1e-3"
   ]
  },
  {
   "cell_type": "code",
   "execution_count": 33,
   "id": "28c6a3e5-3f6e-409c-a556-21420552000e",
   "metadata": {},
   "outputs": [
    {
     "data": {
      "text/plain": [
       "0.001"
      ]
     },
     "execution_count": 33,
     "metadata": {},
     "output_type": "execute_result"
    }
   ],
   "source": [
    "f\n"
   ]
  },
  {
   "cell_type": "code",
   "execution_count": 35,
   "id": "a1aae6b7-09f3-444e-b13d-d4838a85b0ce",
   "metadata": {},
   "outputs": [
    {
     "data": {
      "text/plain": [
       "float"
      ]
     },
     "execution_count": 35,
     "metadata": {},
     "output_type": "execute_result"
    }
   ],
   "source": [
    "type(f)"
   ]
  },
  {
   "cell_type": "code",
   "execution_count": 41,
   "id": "043a1111-4b8f-4c47-af0c-442b371be8c7",
   "metadata": {},
   "outputs": [
    {
     "data": {
      "text/plain": [
       "complex"
      ]
     },
     "execution_count": 41,
     "metadata": {},
     "output_type": "execute_result"
    }
   ],
   "source": [
    "c1 = 3+4j\n",
    "type(c1)"
   ]
  },
  {
   "cell_type": "code",
   "execution_count": 49,
   "id": "199da0a1-a4be-4bc6-b1d3-7feef412b5ac",
   "metadata": {},
   "outputs": [],
   "source": [
    "c2 = 5+ 5j"
   ]
  },
  {
   "cell_type": "code",
   "execution_count": 53,
   "id": "afc07f47-0485-4809-ae2e-af05ff89769d",
   "metadata": {},
   "outputs": [],
   "source": [
    "c3 = 4+ 6.5j"
   ]
  },
  {
   "cell_type": "code",
   "execution_count": 55,
   "id": "c2a9b730-e93f-4c3f-97fe-40768d51fb6b",
   "metadata": {},
   "outputs": [],
   "source": [
    "c4 = 5.4+4.54j"
   ]
  },
  {
   "cell_type": "code",
   "execution_count": 61,
   "id": "bb40ca57-632f-4844-9d7a-56127a7429f3",
   "metadata": {},
   "outputs": [
    {
     "data": {
      "text/plain": [
       "5.4"
      ]
     },
     "execution_count": 61,
     "metadata": {},
     "output_type": "execute_result"
    }
   ],
   "source": [
    "c4.real"
   ]
  },
  {
   "cell_type": "code",
   "execution_count": 65,
   "id": "f70fbd35-cd77-4c56-8256-85496fd71cf4",
   "metadata": {},
   "outputs": [
    {
     "data": {
      "text/plain": [
       "4.54"
      ]
     },
     "execution_count": 65,
     "metadata": {},
     "output_type": "execute_result"
    }
   ],
   "source": [
    "c4.imag"
   ]
  }
 ],
 "metadata": {
  "kernelspec": {
   "display_name": "Python 3 (ipykernel)",
   "language": "python",
   "name": "python3"
  },
  "language_info": {
   "codemirror_mode": {
    "name": "ipython",
    "version": 3
   },
   "file_extension": ".py",
   "mimetype": "text/x-python",
   "name": "python",
   "nbconvert_exporter": "python",
   "pygments_lexer": "ipython3",
   "version": "3.11.5"
  }
 },
 "nbformat": 4,
 "nbformat_minor": 5
}
