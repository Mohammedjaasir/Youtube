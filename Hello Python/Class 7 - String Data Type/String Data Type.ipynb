{
 "cells": [
  {
   "cell_type": "markdown",
   "id": "47cd1d51-b7f5-47b2-99f0-323af0fc4a48",
   "metadata": {},
   "source": [
    "# String"
   ]
  },
  {
   "cell_type": "code",
   "execution_count": 3,
   "id": "f98cb911-e890-404f-89f2-6fd1d268fab1",
   "metadata": {},
   "outputs": [],
   "source": [
    "ch = 'c'"
   ]
  },
  {
   "cell_type": "code",
   "execution_count": 7,
   "id": "9f33912b-128b-404b-b471-7672c7e6d7d3",
   "metadata": {},
   "outputs": [
    {
     "data": {
      "text/plain": [
       "str"
      ]
     },
     "execution_count": 7,
     "metadata": {},
     "output_type": "execute_result"
    }
   ],
   "source": [
    "type(ch)"
   ]
  },
  {
   "cell_type": "code",
   "execution_count": 9,
   "id": "4b47d4f8-4570-463f-b5bc-33dfc5c98c48",
   "metadata": {},
   "outputs": [],
   "source": [
    "single_quote_string = \"python\""
   ]
  },
  {
   "cell_type": "code",
   "execution_count": 11,
   "id": "df8efa58-7f8d-4d81-80d3-dd7442750a01",
   "metadata": {},
   "outputs": [],
   "source": [
    "double_quote_string = \"mayank\""
   ]
  },
  {
   "cell_type": "code",
   "execution_count": 13,
   "id": "c9c963fe-d179-4d05-b8e3-9604e56a77b4",
   "metadata": {},
   "outputs": [
    {
     "name": "stdout",
     "output_type": "stream",
     "text": [
      "python\n"
     ]
    }
   ],
   "source": [
    "print(single_quote_string)"
   ]
  },
  {
   "cell_type": "code",
   "execution_count": 17,
   "id": "c6bef30a-3df8-4cbe-a0b7-1a093e9982bd",
   "metadata": {},
   "outputs": [
    {
     "name": "stdout",
     "output_type": "stream",
     "text": [
      "mayank\n"
     ]
    }
   ],
   "source": [
    "print(double_quote_string)"
   ]
  },
  {
   "cell_type": "code",
   "execution_count": 21,
   "id": "8179864d-eb11-427f-bda1-de8cbeddbf19",
   "metadata": {},
   "outputs": [
    {
     "name": "stdout",
     "output_type": "stream",
     "text": [
      "c\n"
     ]
    }
   ],
   "source": [
    "print(ch)"
   ]
  },
  {
   "cell_type": "code",
   "execution_count": 23,
   "id": "0a95e7ff-f6f4-4547-a964-68a6ee55d3ab",
   "metadata": {},
   "outputs": [
    {
     "ename": "SyntaxError",
     "evalue": "unterminated string literal (detected at line 1) (4058742530.py, line 1)",
     "output_type": "error",
     "traceback": [
      "\u001b[0;36m  Cell \u001b[0;32mIn[23], line 1\u001b[0;36m\u001b[0m\n\u001b[0;31m    multi_line_string= \" this\u001b[0m\n\u001b[0m                       ^\u001b[0m\n\u001b[0;31mSyntaxError\u001b[0m\u001b[0;31m:\u001b[0m unterminated string literal (detected at line 1)\n"
     ]
    }
   ],
   "source": [
    "multi_line_string= \" this \n",
    "isa  \n",
    "a \""
   ]
  },
  {
   "cell_type": "code",
   "execution_count": 25,
   "id": "5a71631d-60cd-4640-bef1-0c1eb1a322a7",
   "metadata": {},
   "outputs": [],
   "source": [
    "# \\n -> new line\n",
    "# \\b -> backspace\n",
    "# \\t -> tab"
   ]
  },
  {
   "cell_type": "code",
   "execution_count": 29,
   "id": "c0aa0d35-2907-43cb-80e4-441bd5ad9f80",
   "metadata": {},
   "outputs": [],
   "source": [
    "multi_line_string = \" this is \\n a \\n multi line \\n string\""
   ]
  },
  {
   "cell_type": "code",
   "execution_count": 35,
   "id": "e84277f0-13c8-460f-801c-827225ecf3a1",
   "metadata": {},
   "outputs": [
    {
     "name": "stdout",
     "output_type": "stream",
     "text": [
      " this is \n",
      " a \n",
      " multi line \n",
      " string\n"
     ]
    }
   ],
   "source": [
    "print(multi_line_string)"
   ]
  },
  {
   "cell_type": "code",
   "execution_count": null,
   "id": "8490d19f-cc8f-46b6-9af2-50248db4913f",
   "metadata": {},
   "outputs": [],
   "source": []
  },
  {
   "cell_type": "code",
   "execution_count": 38,
   "id": "ba04760f-f271-42e9-bfc4-6f43cb99bf03",
   "metadata": {},
   "outputs": [],
   "source": [
    "multi_line_string2 = ''' This is\n",
    "a \n",
    "multi \n",
    "line string\n",
    "'''"
   ]
  },
  {
   "cell_type": "code",
   "execution_count": 40,
   "id": "b366abfb-761f-4250-8ecb-22e4ceb3a96b",
   "metadata": {},
   "outputs": [
    {
     "name": "stdout",
     "output_type": "stream",
     "text": [
      " This is\n",
      "a \n",
      "multi \n",
      "line string\n",
      "\n"
     ]
    }
   ],
   "source": [
    "print(multi_line_string2)"
   ]
  }
 ],
 "metadata": {
  "kernelspec": {
   "display_name": "Python 3 (ipykernel)",
   "language": "python",
   "name": "python3"
  },
  "language_info": {
   "codemirror_mode": {
    "name": "ipython",
    "version": 3
   },
   "file_extension": ".py",
   "mimetype": "text/x-python",
   "name": "python",
   "nbconvert_exporter": "python",
   "pygments_lexer": "ipython3",
   "version": "3.11.5"
  }
 },
 "nbformat": 4,
 "nbformat_minor": 5
}
