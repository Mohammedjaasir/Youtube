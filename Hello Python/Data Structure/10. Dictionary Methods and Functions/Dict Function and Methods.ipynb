{
 "cells": [
  {
   "cell_type": "code",
   "execution_count": 13,
   "id": "ee3a3b7f-c47f-4447-84fd-3bfa9bf97362",
   "metadata": {},
   "outputs": [],
   "source": [
    "d1 = {'id' : 123,'name':'mayank','course':'HelloPython',1000:'Done'}"
   ]
  },
  {
   "cell_type": "code",
   "execution_count": 15,
   "id": "55309e96-9d4b-4eee-b2f9-f516aa2a5167",
   "metadata": {},
   "outputs": [
    {
     "data": {
      "text/plain": [
       "123"
      ]
     },
     "execution_count": 15,
     "metadata": {},
     "output_type": "execute_result"
    }
   ],
   "source": [
    "d1['id']"
   ]
  },
  {
   "cell_type": "code",
   "execution_count": 17,
   "id": "19fe480b-dc61-4d9c-abb0-02c5e8c56658",
   "metadata": {},
   "outputs": [],
   "source": [
    "d1['id'] = 234"
   ]
  },
  {
   "cell_type": "code",
   "execution_count": 21,
   "id": "3943bc9b-d556-43a2-96c4-5d8b65861c3d",
   "metadata": {},
   "outputs": [
    {
     "data": {
      "text/plain": [
       "{'id': 234, 'name': 'mayank', 'course': 'HelloPython', 1000: 'Done'}"
      ]
     },
     "execution_count": 21,
     "metadata": {},
     "output_type": "execute_result"
    }
   ],
   "source": [
    "d1"
   ]
  },
  {
   "cell_type": "code",
   "execution_count": 23,
   "id": "2dbea240-2d24-4ba2-886d-cbff67762e7e",
   "metadata": {},
   "outputs": [],
   "source": [
    "d1['age'] = 24"
   ]
  },
  {
   "cell_type": "code",
   "execution_count": 25,
   "id": "383196c6-80d1-4596-80fb-ab29b2e72da8",
   "metadata": {},
   "outputs": [
    {
     "data": {
      "text/plain": [
       "{'id': 234, 'name': 'mayank', 'course': 'HelloPython', 1000: 'Done', 'age': 24}"
      ]
     },
     "execution_count": 25,
     "metadata": {},
     "output_type": "execute_result"
    }
   ],
   "source": [
    "d1"
   ]
  },
  {
   "cell_type": "code",
   "execution_count": 27,
   "id": "733d81db-db11-4eb4-986d-e8831a51820c",
   "metadata": {},
   "outputs": [],
   "source": [
    "del d1['age']"
   ]
  },
  {
   "cell_type": "code",
   "execution_count": 29,
   "id": "c9e69109-fc7f-4a30-9647-cbd44bfbc788",
   "metadata": {},
   "outputs": [
    {
     "data": {
      "text/plain": [
       "{'id': 234, 'name': 'mayank', 'course': 'HelloPython', 1000: 'Done'}"
      ]
     },
     "execution_count": 29,
     "metadata": {},
     "output_type": "execute_result"
    }
   ],
   "source": [
    "d1"
   ]
  },
  {
   "cell_type": "code",
   "execution_count": 31,
   "id": "5229fa01-2525-4fd1-844f-fbb3014f511a",
   "metadata": {},
   "outputs": [
    {
     "ename": "KeyError",
     "evalue": "'123'",
     "output_type": "error",
     "traceback": [
      "\u001b[0;31m---------------------------------------------------------------------------\u001b[0m",
      "\u001b[0;31mKeyError\u001b[0m                                  Traceback (most recent call last)",
      "Cell \u001b[0;32mIn[31], line 1\u001b[0m\n\u001b[0;32m----> 1\u001b[0m \u001b[38;5;28;01mdel\u001b[39;00m d1[\u001b[38;5;124m'\u001b[39m\u001b[38;5;124m123\u001b[39m\u001b[38;5;124m'\u001b[39m]\n",
      "\u001b[0;31mKeyError\u001b[0m: '123'"
     ]
    }
   ],
   "source": [
    "del d1['123']"
   ]
  },
  {
   "cell_type": "code",
   "execution_count": 33,
   "id": "5c072407-554d-44aa-b2b7-8a77353ca26e",
   "metadata": {},
   "outputs": [],
   "source": [
    "del d1[1000]"
   ]
  },
  {
   "cell_type": "code",
   "execution_count": 1,
   "id": "d05fbd3d-55d5-4cb8-9f83-f5f8ae3aff65",
   "metadata": {},
   "outputs": [
    {
     "ename": "NameError",
     "evalue": "name 'd1' is not defined",
     "output_type": "error",
     "traceback": [
      "\u001b[0;31m---------------------------------------------------------------------------\u001b[0m",
      "\u001b[0;31mNameError\u001b[0m                                 Traceback (most recent call last)",
      "Cell \u001b[0;32mIn[1], line 1\u001b[0m\n\u001b[0;32m----> 1\u001b[0m d1\n",
      "\u001b[0;31mNameError\u001b[0m: name 'd1' is not defined"
     ]
    }
   ],
   "source": [
    "d1"
   ]
  },
  {
   "cell_type": "code",
   "execution_count": null,
   "id": "7ededf1c-c14a-46e7-99df-e7cbb66bbba8",
   "metadata": {},
   "outputs": [],
   "source": []
  },
  {
   "cell_type": "code",
   "execution_count": 50,
   "id": "41470f95-0f20-423d-a777-ad69ff9b8685",
   "metadata": {},
   "outputs": [],
   "source": [
    "d1.get('id2')"
   ]
  },
  {
   "cell_type": "code",
   "execution_count": 54,
   "id": "cbaf9f58-552b-4ead-8a32-a50e6ff591d4",
   "metadata": {},
   "outputs": [
    {
     "name": "stdout",
     "output_type": "stream",
     "text": [
      "key not present\n"
     ]
    }
   ],
   "source": [
    "if d1.get('id2',False) == False:\n",
    "    print(\"key not present\")"
   ]
  },
  {
   "cell_type": "code",
   "execution_count": 58,
   "id": "47bebe4f-3c98-4e0b-8ccf-7ed82b5dff5a",
   "metadata": {},
   "outputs": [
    {
     "data": {
      "text/plain": [
       "{'id': 123, 'name': 'mayank', 'course': 'HelloPython', 1000: 'Done'}"
      ]
     },
     "execution_count": 58,
     "metadata": {},
     "output_type": "execute_result"
    }
   ],
   "source": [
    "d123"
   ]
  },
  {
   "cell_type": "code",
   "execution_count": 60,
   "id": "b5d264e7-207a-466b-88c0-b8b955f35279",
   "metadata": {},
   "outputs": [],
   "source": [
    "d123.clear()"
   ]
  },
  {
   "cell_type": "code",
   "execution_count": 64,
   "id": "85160baf-db5d-4b52-a999-70b81189eb89",
   "metadata": {},
   "outputs": [
    {
     "data": {
      "text/plain": [
       "{'id': 234, 'name': 'mayank', 'course': 'HelloPython'}"
      ]
     },
     "execution_count": 64,
     "metadata": {},
     "output_type": "execute_result"
    }
   ],
   "source": [
    "d1"
   ]
  },
  {
   "cell_type": "code",
   "execution_count": 68,
   "id": "3885f7af-5733-413d-ad18-7144eb424d1a",
   "metadata": {},
   "outputs": [],
   "source": [
    "d2 = d1"
   ]
  },
  {
   "cell_type": "code",
   "execution_count": 76,
   "id": "88693aa3-e6d7-47c5-8901-c6483d04836d",
   "metadata": {},
   "outputs": [],
   "source": [
    "d2['id2'] = 10000000"
   ]
  },
  {
   "cell_type": "code",
   "execution_count": 78,
   "id": "a240a16b-1273-48a8-ac74-8feeb332fd16",
   "metadata": {},
   "outputs": [
    {
     "data": {
      "text/plain": [
       "{'id': 234, 'name': 'mayank', 'course': 'HelloPython', 'id2': 10000000}"
      ]
     },
     "execution_count": 78,
     "metadata": {},
     "output_type": "execute_result"
    }
   ],
   "source": [
    "d1"
   ]
  },
  {
   "cell_type": "code",
   "execution_count": 80,
   "id": "ea65c338-1e28-4112-9649-62743ba069fa",
   "metadata": {},
   "outputs": [
    {
     "data": {
      "text/plain": [
       "{'id': 234, 'name': 'mayank', 'course': 'HelloPython', 'id2': 10000000}"
      ]
     },
     "execution_count": 80,
     "metadata": {},
     "output_type": "execute_result"
    }
   ],
   "source": [
    "d2"
   ]
  },
  {
   "cell_type": "code",
   "execution_count": 19,
   "id": "81863e00-15e2-4e7e-a5aa-f1519c96744d",
   "metadata": {},
   "outputs": [],
   "source": [
    "d3 = d1.copy()"
   ]
  },
  {
   "cell_type": "code",
   "execution_count": 21,
   "id": "e869deab-041f-4b3f-81e6-f8443e8cf2e5",
   "metadata": {},
   "outputs": [
    {
     "data": {
      "text/plain": [
       "{'id': 234, 'name': 'mayank', 'course': 'HelloPython', 1000: 'Done'}"
      ]
     },
     "execution_count": 21,
     "metadata": {},
     "output_type": "execute_result"
    }
   ],
   "source": [
    "d3"
   ]
  },
  {
   "cell_type": "code",
   "execution_count": 23,
   "id": "498f8420-e92a-4bdc-8f0a-306c295cad7d",
   "metadata": {},
   "outputs": [],
   "source": [
    "d3['id3'] = 1000000000000"
   ]
  },
  {
   "cell_type": "code",
   "execution_count": 25,
   "id": "47a1d894-9f96-43d0-b4a6-255ae740b905",
   "metadata": {},
   "outputs": [
    {
     "data": {
      "text/plain": [
       "{'id': 234, 'name': 'mayank', 'course': 'HelloPython', 1000: 'Done'}"
      ]
     },
     "execution_count": 25,
     "metadata": {},
     "output_type": "execute_result"
    }
   ],
   "source": [
    "d1"
   ]
  },
  {
   "cell_type": "code",
   "execution_count": 27,
   "id": "6f4fddee-a268-4bb0-bfb6-a08d608c45d6",
   "metadata": {},
   "outputs": [
    {
     "data": {
      "text/plain": [
       "{'id': 234,\n",
       " 'name': 'mayank',\n",
       " 'course': 'HelloPython',\n",
       " 1000: 'Done',\n",
       " 'id3': 1000000000000}"
      ]
     },
     "execution_count": 27,
     "metadata": {},
     "output_type": "execute_result"
    }
   ],
   "source": [
    "d3"
   ]
  },
  {
   "cell_type": "code",
   "execution_count": 29,
   "id": "99a087de-aeeb-4234-a0bd-ebe97e3091d3",
   "metadata": {},
   "outputs": [],
   "source": [
    "d3.update({'college':'NSIT'})"
   ]
  },
  {
   "cell_type": "code",
   "execution_count": 31,
   "id": "6100b76b-7034-4429-929b-87e850b81b68",
   "metadata": {},
   "outputs": [
    {
     "data": {
      "text/plain": [
       "{'id': 234,\n",
       " 'name': 'mayank',\n",
       " 'course': 'HelloPython',\n",
       " 1000: 'Done',\n",
       " 'id3': 1000000000000,\n",
       " 'college': 'NSIT'}"
      ]
     },
     "execution_count": 31,
     "metadata": {},
     "output_type": "execute_result"
    }
   ],
   "source": [
    "d3"
   ]
  },
  {
   "cell_type": "code",
   "execution_count": 45,
   "id": "4d3ea73c-d7be-46bb-b935-3b0f78f304ed",
   "metadata": {},
   "outputs": [],
   "source": [
    "d3.update({'college':'NSIT', 'company':['Goldman Sachs','Mindtickle']})"
   ]
  },
  {
   "cell_type": "code",
   "execution_count": 47,
   "id": "2a38f29f-6b0c-41e7-a135-e16b2c2894fc",
   "metadata": {},
   "outputs": [
    {
     "data": {
      "text/plain": [
       "{'id': 234,\n",
       " 'name': 'mayank',\n",
       " 'course': 'HelloPython',\n",
       " 1000: 'Done',\n",
       " 'id3': 1000000000000,\n",
       " 'college': 'NSIT',\n",
       " 'company': ['Goldman Sachs', 'Mindtickle']}"
      ]
     },
     "execution_count": 47,
     "metadata": {},
     "output_type": "execute_result"
    }
   ],
   "source": [
    "d3"
   ]
  },
  {
   "cell_type": "code",
   "execution_count": 55,
   "id": "7c73495e-1add-42e1-8c06-841fa33adae0",
   "metadata": {},
   "outputs": [],
   "source": [
    "d3.update([('pass year',2019),('lang',\"Python\")])"
   ]
  },
  {
   "cell_type": "code",
   "execution_count": 57,
   "id": "78c8f8b3-d4c0-4e99-b7b4-ce051b37ac2c",
   "metadata": {},
   "outputs": [
    {
     "data": {
      "text/plain": [
       "{'id': 234,\n",
       " 'name': 'mayank',\n",
       " 'course': 'HelloPython',\n",
       " 1000: 'Done',\n",
       " 'id3': 1000000000000,\n",
       " 'college': 'NSIT',\n",
       " 'company': ['Goldman Sachs', 'Mindtickle'],\n",
       " 'pass year': 2019,\n",
       " 'lang': 'Python'}"
      ]
     },
     "execution_count": 57,
     "metadata": {},
     "output_type": "execute_result"
    }
   ],
   "source": [
    "d3"
   ]
  },
  {
   "cell_type": "code",
   "execution_count": 79,
   "id": "dd150db9-a74a-4ec6-b4a0-db641df720f8",
   "metadata": {},
   "outputs": [
    {
     "data": {
      "text/plain": [
       "'Not Found'"
      ]
     },
     "execution_count": 79,
     "metadata": {},
     "output_type": "execute_result"
    }
   ],
   "source": [
    "d3.pop('lang',\"Not Found\")"
   ]
  },
  {
   "cell_type": "code",
   "execution_count": 69,
   "id": "6eaa9fcd-7d49-4bb0-b269-138e6bfd8df3",
   "metadata": {},
   "outputs": [],
   "source": [
    "d4={}"
   ]
  },
  {
   "cell_type": "code",
   "execution_count": 75,
   "id": "2d7742a6-1626-4350-b34a-2467da7086f4",
   "metadata": {},
   "outputs": [
    {
     "data": {
      "text/plain": [
       "0"
      ]
     },
     "execution_count": 75,
     "metadata": {},
     "output_type": "execute_result"
    }
   ],
   "source": [
    "d4.pop('key',0)"
   ]
  },
  {
   "cell_type": "code",
   "execution_count": 85,
   "id": "03a03e0c-ceea-4348-a085-0c675e53f64e",
   "metadata": {},
   "outputs": [
    {
     "data": {
      "text/plain": [
       "{'company': 'Default', 'college': 'Default'}"
      ]
     },
     "execution_count": 85,
     "metadata": {},
     "output_type": "execute_result"
    }
   ],
   "source": [
    "d3.fromkeys(['company','college'],\"Default\")"
   ]
  },
  {
   "cell_type": "code",
   "execution_count": 105,
   "id": "fe1a6679-9261-45c8-a7b1-475910bbd051",
   "metadata": {},
   "outputs": [],
   "source": [
    "jsonExample = '{ \"id\": 111, \"name\": \"Mayank\", \"course\": \"Hello Python\", \"data\":}'"
   ]
  },
  {
   "cell_type": "code",
   "execution_count": null,
   "id": "41f4e8a4-98af-4d4d-b141-9efc6e731b42",
   "metadata": {},
   "outputs": [],
   "source": []
  },
  {
   "cell_type": "code",
   "execution_count": 103,
   "id": "d41c3997-3a4f-4990-b745-daf79b802c27",
   "metadata": {},
   "outputs": [],
   "source": [
    "import json"
   ]
  },
  {
   "cell_type": "code",
   "execution_count": 107,
   "id": "b705b95c-2eb3-4541-8014-2861e68834d8",
   "metadata": {},
   "outputs": [],
   "source": [
    "jsonDict = json.loads(jsonExample)"
   ]
  },
  {
   "cell_type": "code",
   "execution_count": 113,
   "id": "2185e125-e5d5-430c-93db-4ac5c0d4a6e0",
   "metadata": {},
   "outputs": [
    {
     "data": {
      "text/plain": [
       "{'id': 111, 'name': 'Mayank', 'course': 'Hello Python'}"
      ]
     },
     "execution_count": 113,
     "metadata": {},
     "output_type": "execute_result"
    }
   ],
   "source": [
    "jsonDict"
   ]
  },
  {
   "cell_type": "code",
   "execution_count": null,
   "id": "d83cab96-aba9-411a-bca1-a06affdbf276",
   "metadata": {},
   "outputs": [],
   "source": []
  },
  {
   "cell_type": "code",
   "execution_count": 99,
   "id": "ec9edcd9-0c73-42bc-8230-67cadffad123",
   "metadata": {},
   "outputs": [],
   "source": [
    "square= { x : 'value' + str(x**x)for x in range(1,5) if x %2==0} "
   ]
  },
  {
   "cell_type": "code",
   "execution_count": 101,
   "id": "7bdc8031-94ef-49fe-93fb-f09f6d188f1e",
   "metadata": {},
   "outputs": [
    {
     "data": {
      "text/plain": [
       "{2: 'value4', 4: 'value256'}"
      ]
     },
     "execution_count": 101,
     "metadata": {},
     "output_type": "execute_result"
    }
   ],
   "source": [
    "square"
   ]
  },
  {
   "cell_type": "code",
   "execution_count": null,
   "id": "699be88f-7bdb-4c1f-8ac6-9a8083e70481",
   "metadata": {},
   "outputs": [],
   "source": []
  }
 ],
 "metadata": {
  "kernelspec": {
   "display_name": "Python 3 (ipykernel)",
   "language": "python",
   "name": "python3"
  },
  "language_info": {
   "codemirror_mode": {
    "name": "ipython",
    "version": 3
   },
   "file_extension": ".py",
   "mimetype": "text/x-python",
   "name": "python",
   "nbconvert_exporter": "python",
   "pygments_lexer": "ipython3",
   "version": "3.11.5"
  }
 },
 "nbformat": 4,
 "nbformat_minor": 5
}
