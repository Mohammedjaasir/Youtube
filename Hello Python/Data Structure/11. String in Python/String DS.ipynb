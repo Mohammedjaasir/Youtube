{
 "cells": [
  {
   "cell_type": "markdown",
   "id": "0b8b5d3f-05e3-4c77-bf24-da55fd2de1a7",
   "metadata": {},
   "source": [
    "# String"
   ]
  },
  {
   "cell_type": "code",
   "execution_count": 5,
   "id": "0fc86d54-9056-4e43-b6c6-3849547633f7",
   "metadata": {},
   "outputs": [],
   "source": [
    "s1 = 'mayank'"
   ]
  },
  {
   "cell_type": "code",
   "execution_count": 9,
   "id": "441f09cc-f66c-4852-a261-f214abc541b8",
   "metadata": {},
   "outputs": [
    {
     "ename": "TypeError",
     "evalue": "'str' object does not support item assignment",
     "output_type": "error",
     "traceback": [
      "\u001b[0;31m---------------------------------------------------------------------------\u001b[0m",
      "\u001b[0;31mTypeError\u001b[0m                                 Traceback (most recent call last)",
      "Cell \u001b[0;32mIn[9], line 1\u001b[0m\n\u001b[0;32m----> 1\u001b[0m s1[\u001b[38;5;241m2\u001b[39m] \u001b[38;5;241m=\u001b[39m \u001b[38;5;124m'\u001b[39m\u001b[38;5;124mb\u001b[39m\u001b[38;5;124m'\u001b[39m\n",
      "\u001b[0;31mTypeError\u001b[0m: 'str' object does not support item assignment"
     ]
    }
   ],
   "source": [
    "s1[2] = 'b'"
   ]
  },
  {
   "cell_type": "code",
   "execution_count": 13,
   "id": "c4836cb5-c29e-4fe0-a268-6636bd4d602d",
   "metadata": {},
   "outputs": [],
   "source": [
    "s2 = \"mayank Aggarwal\""
   ]
  },
  {
   "cell_type": "code",
   "execution_count": 17,
   "id": "84b24670-adba-4eab-848d-1dccc398ec7c",
   "metadata": {},
   "outputs": [],
   "source": [
    "s3 = '''Hello \n",
    "\n",
    "Python \n",
    "\n",
    "Learn from the best'''"
   ]
  },
  {
   "cell_type": "code",
   "execution_count": 21,
   "id": "7cf08455-81f0-4c6e-ba5b-b2c16d56fa91",
   "metadata": {},
   "outputs": [
    {
     "data": {
      "text/plain": [
       "'mayank Aggarwal'"
      ]
     },
     "execution_count": 21,
     "metadata": {},
     "output_type": "execute_result"
    }
   ],
   "source": [
    "s2"
   ]
  },
  {
   "cell_type": "code",
   "execution_count": 25,
   "id": "f990b81e-50af-420c-941e-05b1bf648f6f",
   "metadata": {},
   "outputs": [
    {
     "name": "stdout",
     "output_type": "stream",
     "text": [
      "Hello \n",
      "\n",
      "Python \n",
      "\n",
      "Learn from the best\n"
     ]
    }
   ],
   "source": [
    "print(s3)"
   ]
  },
  {
   "cell_type": "code",
   "execution_count": null,
   "id": "5f59baa3-10e5-4c2f-87e3-a213ebb1d250",
   "metadata": {},
   "outputs": [],
   "source": []
  },
  {
   "cell_type": "code",
   "execution_count": 30,
   "id": "211ee8e4-79b2-40e4-a8a2-adeb917972bc",
   "metadata": {},
   "outputs": [],
   "source": [
    "s3 = 'ab'"
   ]
  },
  {
   "cell_type": "code",
   "execution_count": 34,
   "id": "51786307-cd98-48d0-bcc9-890047ec5b4e",
   "metadata": {},
   "outputs": [
    {
     "data": {
      "text/plain": [
       "'abcd'"
      ]
     },
     "execution_count": 34,
     "metadata": {},
     "output_type": "execute_result"
    }
   ],
   "source": [
    "'ab' + 'cd'"
   ]
  },
  {
   "cell_type": "code",
   "execution_count": 38,
   "id": "25dab336-c795-4072-ab0c-b97ce9388569",
   "metadata": {},
   "outputs": [
    {
     "data": {
      "text/plain": [
       "'abab'"
      ]
     },
     "execution_count": 38,
     "metadata": {},
     "output_type": "execute_result"
    }
   ],
   "source": [
    "s3*2"
   ]
  },
  {
   "cell_type": "code",
   "execution_count": 46,
   "id": "48cd5127-4f86-4227-97f6-81b30ff71b22",
   "metadata": {},
   "outputs": [
    {
     "data": {
      "text/plain": [
       "False"
      ]
     },
     "execution_count": 46,
     "metadata": {},
     "output_type": "execute_result"
    }
   ],
   "source": [
    "'c' in s3"
   ]
  },
  {
   "cell_type": "markdown",
   "id": "7cd06b9f-8008-42ed-b1df-82e9eea84c4e",
   "metadata": {},
   "source": [
    "# Function On Strings"
   ]
  },
  {
   "cell_type": "code",
   "execution_count": 54,
   "id": "c0492b09-25df-4170-a4f1-328e9989ac65",
   "metadata": {},
   "outputs": [
    {
     "data": {
      "text/plain": [
       "'mayank'"
      ]
     },
     "execution_count": 54,
     "metadata": {},
     "output_type": "execute_result"
    }
   ],
   "source": [
    "s1"
   ]
  },
  {
   "cell_type": "code",
   "execution_count": 52,
   "id": "9141c17f-3265-49ee-9c01-4c723ebf0b16",
   "metadata": {},
   "outputs": [
    {
     "data": {
      "text/plain": [
       "6"
      ]
     },
     "execution_count": 52,
     "metadata": {},
     "output_type": "execute_result"
    }
   ],
   "source": [
    "len(s1)"
   ]
  },
  {
   "cell_type": "code",
   "execution_count": 58,
   "id": "ff6e024d-3955-4b23-bd77-4f71885ca3c8",
   "metadata": {},
   "outputs": [
    {
     "data": {
      "text/plain": [
       "97"
      ]
     },
     "execution_count": 58,
     "metadata": {},
     "output_type": "execute_result"
    }
   ],
   "source": [
    "ord('a')"
   ]
  },
  {
   "cell_type": "code",
   "execution_count": 66,
   "id": "120c1a4d-dd4f-4e94-b3bd-d5d9dc12949b",
   "metadata": {},
   "outputs": [
    {
     "ename": "TypeError",
     "evalue": "ord() expected a character, but string of length 3 found",
     "output_type": "error",
     "traceback": [
      "\u001b[0;31m---------------------------------------------------------------------------\u001b[0m",
      "\u001b[0;31mTypeError\u001b[0m                                 Traceback (most recent call last)",
      "Cell \u001b[0;32mIn[66], line 1\u001b[0m\n\u001b[0;32m----> 1\u001b[0m \u001b[38;5;28mord\u001b[39m(\u001b[38;5;124m'\u001b[39m\u001b[38;5;124mabv\u001b[39m\u001b[38;5;124m'\u001b[39m)\n",
      "\u001b[0;31mTypeError\u001b[0m: ord() expected a character, but string of length 3 found"
     ]
    }
   ],
   "source": [
    "ord('abv')"
   ]
  },
  {
   "cell_type": "code",
   "execution_count": 70,
   "id": "85dcacbc-e442-4da4-b75d-ecfd76a7a02f",
   "metadata": {},
   "outputs": [
    {
     "name": "stdout",
     "output_type": "stream",
     "text": [
      "Ord of m is   109\n",
      "Ord of a is   97\n",
      "Ord of y is   121\n",
      "Ord of a is   97\n",
      "Ord of n is   110\n",
      "Ord of k is   107\n"
     ]
    }
   ],
   "source": [
    "for i in s1:\n",
    "    print(f\"Ord of {i} is   \" + str(ord(i)) )"
   ]
  },
  {
   "cell_type": "code",
   "execution_count": 64,
   "id": "60c351b8-0167-4421-8e17-36681bb12fac",
   "metadata": {},
   "outputs": [
    {
     "data": {
      "text/plain": [
       "'y'"
      ]
     },
     "execution_count": 64,
     "metadata": {},
     "output_type": "execute_result"
    }
   ],
   "source": [
    "max(s1)"
   ]
  },
  {
   "cell_type": "code",
   "execution_count": 74,
   "id": "8a0fe5e7-d6c4-4334-8b39-be167696a1e3",
   "metadata": {},
   "outputs": [
    {
     "data": {
      "text/plain": [
       "'a'"
      ]
     },
     "execution_count": 74,
     "metadata": {},
     "output_type": "execute_result"
    }
   ],
   "source": [
    "min(s1)"
   ]
  },
  {
   "cell_type": "code",
   "execution_count": 82,
   "id": "2c94346c-c1da-46a0-b36d-e5d0850fe2c1",
   "metadata": {},
   "outputs": [
    {
     "data": {
      "text/plain": [
       "'a'"
      ]
     },
     "execution_count": 82,
     "metadata": {},
     "output_type": "execute_result"
    }
   ],
   "source": [
    "chr(97)"
   ]
  },
  {
   "cell_type": "code",
   "execution_count": 88,
   "id": "11807b6f-58a0-45d2-ab49-fda5af5a6292",
   "metadata": {},
   "outputs": [
    {
     "data": {
      "text/plain": [
       "['a', 'a', 'k', 'm', 'n', 'y']"
      ]
     },
     "execution_count": 88,
     "metadata": {},
     "output_type": "execute_result"
    }
   ],
   "source": [
    "sorted(s1)"
   ]
  },
  {
   "cell_type": "code",
   "execution_count": null,
   "id": "ad1e7bf9-5fc6-41cf-83dd-e0bd3519dc5e",
   "metadata": {},
   "outputs": [],
   "source": []
  },
  {
   "cell_type": "code",
   "execution_count": 100,
   "id": "aee90f30-aa89-4416-8753-5ef385f65dda",
   "metadata": {},
   "outputs": [],
   "source": [
    "s1Caps = 'Mayank'"
   ]
  },
  {
   "cell_type": "code",
   "execution_count": null,
   "id": "bef350b5-bd7e-46d5-a64c-e6e77fa26c7c",
   "metadata": {},
   "outputs": [],
   "source": []
  },
  {
   "cell_type": "code",
   "execution_count": 130,
   "id": "fa92245f-231a-4b00-9cce-2ce226de884d",
   "metadata": {},
   "outputs": [],
   "source": [
    "s1 = 'hello PYTHOon is the best series to learn python'"
   ]
  },
  {
   "cell_type": "code",
   "execution_count": null,
   "id": "83d7b9d9-8f5a-4579-b3c3-2b9201f8507d",
   "metadata": {},
   "outputs": [],
   "source": []
  },
  {
   "cell_type": "code",
   "execution_count": 98,
   "id": "006c14ce-64ad-48d6-8685-8918d0051bc7",
   "metadata": {},
   "outputs": [
    {
     "data": {
      "text/plain": [
       "'MAYANK'"
      ]
     },
     "execution_count": 98,
     "metadata": {},
     "output_type": "execute_result"
    }
   ],
   "source": [
    "s1.upper()"
   ]
  },
  {
   "cell_type": "code",
   "execution_count": 108,
   "id": "fc5bd20e-ac78-4f19-b0d6-a169b1e3df7c",
   "metadata": {},
   "outputs": [
    {
     "data": {
      "text/plain": [
       "'mayank'"
      ]
     },
     "execution_count": 108,
     "metadata": {},
     "output_type": "execute_result"
    }
   ],
   "source": [
    "s1Caps.lower()"
   ]
  },
  {
   "cell_type": "code",
   "execution_count": null,
   "id": "31f87ef2-dbdc-46e9-847a-ec20b7c02c7f",
   "metadata": {},
   "outputs": [],
   "source": []
  },
  {
   "cell_type": "code",
   "execution_count": 118,
   "id": "b991c254-f52c-4054-8789-c20d0b9e6f24",
   "metadata": {},
   "outputs": [
    {
     "data": {
      "text/plain": [
       "'hello Python is the best series to learn python'"
      ]
     },
     "execution_count": 118,
     "metadata": {},
     "output_type": "execute_result"
    }
   ],
   "source": [
    "s1"
   ]
  },
  {
   "cell_type": "code",
   "execution_count": 126,
   "id": "b7f33967-137f-4ddb-8f2e-d29d5102ad14",
   "metadata": {},
   "outputs": [
    {
     "data": {
      "text/plain": [
       "'Hello python is the best series to learn python'"
      ]
     },
     "execution_count": 126,
     "metadata": {},
     "output_type": "execute_result"
    }
   ],
   "source": [
    "s1.capitalize()"
   ]
  },
  {
   "cell_type": "code",
   "execution_count": 134,
   "id": "389fc5c2-5e27-492d-84ce-1c381f92d472",
   "metadata": {},
   "outputs": [
    {
     "data": {
      "text/plain": [
       "'Hello Pythoon Is The Best Series To Learn Python'"
      ]
     },
     "execution_count": 134,
     "metadata": {},
     "output_type": "execute_result"
    }
   ],
   "source": [
    "s1.title()"
   ]
  },
  {
   "cell_type": "code",
   "execution_count": 140,
   "id": "736c6e98-aab2-49d7-a9ee-4b8ad4ac3679",
   "metadata": {},
   "outputs": [
    {
     "data": {
      "text/plain": [
       "'mAYANK'"
      ]
     },
     "execution_count": 140,
     "metadata": {},
     "output_type": "execute_result"
    }
   ],
   "source": [
    "s1Caps.swapcase()"
   ]
  },
  {
   "cell_type": "code",
   "execution_count": 152,
   "id": "ec5db3cc-9bf0-4df9-b7ff-9fed56c51f4c",
   "metadata": {},
   "outputs": [
    {
     "data": {
      "text/plain": [
       "['hello', 'PYTHOon', 'is', 'the', 'best', 'series', 'to', 'learn', 'python']"
      ]
     },
     "execution_count": 152,
     "metadata": {},
     "output_type": "execute_result"
    }
   ],
   "source": [
    "s1.split(' ')"
   ]
  },
  {
   "cell_type": "code",
   "execution_count": 154,
   "id": "b726dc54-d2fe-46f9-950b-211f2869f120",
   "metadata": {},
   "outputs": [
    {
     "name": "stdin",
     "output_type": "stream",
     "text": [
      " mayank aggarwal\n"
     ]
    }
   ],
   "source": [
    "name = input()"
   ]
  },
  {
   "cell_type": "markdown",
   "id": "cbe561ea-d8b5-4029-9f3f-5ab4b2bd5303",
   "metadata": {},
   "source": []
  },
  {
   "cell_type": "code",
   "execution_count": 158,
   "id": "0bcfdb95-b4fb-4346-bdaa-a482bfce53e3",
   "metadata": {},
   "outputs": [
    {
     "data": {
      "text/plain": [
       "'mayank aggarwal'"
      ]
     },
     "execution_count": 158,
     "metadata": {},
     "output_type": "execute_result"
    }
   ],
   "source": [
    "name"
   ]
  },
  {
   "cell_type": "code",
   "execution_count": 164,
   "id": "1991cb3e-822e-4b63-85d0-3e275e0a9526",
   "metadata": {},
   "outputs": [],
   "source": [
    "nameDivided=  name.split()"
   ]
  },
  {
   "cell_type": "code",
   "execution_count": 178,
   "id": "5a9e1b07-799a-4714-8928-8d9e66331bcb",
   "metadata": {},
   "outputs": [],
   "source": [
    "newStr = \"\\n\".join(['1', '2','3'])"
   ]
  },
  {
   "cell_type": "code",
   "execution_count": 185,
   "id": "4cb2b3e0-c6a0-4bcb-ba0f-bf46c29d68d4",
   "metadata": {},
   "outputs": [
    {
     "name": "stdout",
     "output_type": "stream",
     "text": [
      "1\n",
      "2\n",
      "3\n"
     ]
    }
   ],
   "source": [
    "print(newStr)"
   ]
  },
  {
   "cell_type": "code",
   "execution_count": 187,
   "id": "e627c623-d84e-423e-a0d4-184daaea7c00",
   "metadata": {},
   "outputs": [
    {
     "data": {
      "text/plain": [
       "122"
      ]
     },
     "execution_count": 187,
     "metadata": {},
     "output_type": "execute_result"
    }
   ],
   "source": [
    "ord('z')"
   ]
  },
  {
   "cell_type": "code",
   "execution_count": null,
   "id": "bfe746ec-14e8-4ce2-8571-e5222249d627",
   "metadata": {},
   "outputs": [],
   "source": [
    "a - 97\n",
    "z- 122"
   ]
  },
  {
   "cell_type": "code",
   "execution_count": null,
   "id": "abbe35a4-04da-4295-859b-14fe255c4e32",
   "metadata": {},
   "outputs": [],
   "source": [
    "0-9 - digits/numerics\n",
    "a-z, A-Z - Char/alphabet\n",
    "!,*, - special symbol\n",
    "_ "
   ]
  },
  {
   "cell_type": "code",
   "execution_count": 193,
   "id": "6e656a82-b411-44c4-baf5-0dd8888bc5b1",
   "metadata": {},
   "outputs": [],
   "source": [
    "s4 = 'anc123!!'"
   ]
  },
  {
   "cell_type": "code",
   "execution_count": 197,
   "id": "244b0130-c238-438d-878b-ecb04804e238",
   "metadata": {},
   "outputs": [
    {
     "data": {
      "text/plain": [
       "False"
      ]
     },
     "execution_count": 197,
     "metadata": {},
     "output_type": "execute_result"
    }
   ],
   "source": [
    "s4.isalnum()"
   ]
  },
  {
   "cell_type": "code",
   "execution_count": 203,
   "id": "52100c5f-6ba5-4810-80cb-11a880ab5b56",
   "metadata": {},
   "outputs": [],
   "source": [
    "s5 = '1234451a'"
   ]
  },
  {
   "cell_type": "code",
   "execution_count": 207,
   "id": "2c0c19b0-c3a1-4973-95dc-9903a7778bde",
   "metadata": {},
   "outputs": [
    {
     "data": {
      "text/plain": [
       "False"
      ]
     },
     "execution_count": 207,
     "metadata": {},
     "output_type": "execute_result"
    }
   ],
   "source": [
    "s5.isdigit()"
   ]
  },
  {
   "cell_type": "code",
   "execution_count": null,
   "id": "25a2addc-7401-4172-b911-731e87fafe79",
   "metadata": {},
   "outputs": [],
   "source": []
  },
  {
   "cell_type": "code",
   "execution_count": 228,
   "id": "9707b113-b6ce-4f19-8905-0b4f48cc3096",
   "metadata": {},
   "outputs": [
    {
     "data": {
      "text/plain": [
       "False"
      ]
     },
     "execution_count": 228,
     "metadata": {},
     "output_type": "execute_result"
    }
   ],
   "source": [
    "s5.endswith('a1')"
   ]
  },
  {
   "cell_type": "code",
   "execution_count": 232,
   "id": "10bde904-a753-4a44-bcf0-b44dc22f2f9c",
   "metadata": {},
   "outputs": [
    {
     "data": {
      "text/plain": [
       "'1234451a'"
      ]
     },
     "execution_count": 232,
     "metadata": {},
     "output_type": "execute_result"
    }
   ],
   "source": [
    "s5"
   ]
  },
  {
   "cell_type": "code",
   "execution_count": 242,
   "id": "99e11a04-dbbd-4178-902a-682e68aacf8c",
   "metadata": {},
   "outputs": [
    {
     "data": {
      "text/plain": [
       "1"
      ]
     },
     "execution_count": 242,
     "metadata": {},
     "output_type": "execute_result"
    }
   ],
   "source": [
    "s5.count('a')"
   ]
  },
  {
   "cell_type": "code",
   "execution_count": 260,
   "id": "eedf30e2-381f-494e-89ce-4142896baef4",
   "metadata": {},
   "outputs": [
    {
     "data": {
      "text/plain": [
       "-1"
      ]
     },
     "execution_count": 260,
     "metadata": {},
     "output_type": "execute_result"
    }
   ],
   "source": [
    "s5.find('z')"
   ]
  },
  {
   "cell_type": "code",
   "execution_count": 266,
   "id": "4a5971c4-88d6-43cf-9cef-91af6c8aee58",
   "metadata": {},
   "outputs": [],
   "source": [
    "s6 = \"mayank@gmail.com\""
   ]
  },
  {
   "cell_type": "code",
   "execution_count": 272,
   "id": "a81c2686-854c-4072-93fb-1e721e461caf",
   "metadata": {},
   "outputs": [
    {
     "data": {
      "text/plain": [
       "7"
      ]
     },
     "execution_count": 272,
     "metadata": {},
     "output_type": "execute_result"
    }
   ],
   "source": [
    "s6.find(\"gmail.com\")"
   ]
  },
  {
   "cell_type": "code",
   "execution_count": 274,
   "id": "06a96bdf-1415-4559-8e3b-355188f68c88",
   "metadata": {},
   "outputs": [
    {
     "data": {
      "text/plain": [
       "'gmail.com'"
      ]
     },
     "execution_count": 274,
     "metadata": {},
     "output_type": "execute_result"
    }
   ],
   "source": [
    "s6[7:7+9]"
   ]
  },
  {
   "cell_type": "code",
   "execution_count": 270,
   "id": "cd442ec1-79ed-44fc-98e3-8abfadad9c34",
   "metadata": {},
   "outputs": [
    {
     "data": {
      "text/plain": [
       "True"
      ]
     },
     "execution_count": 270,
     "metadata": {},
     "output_type": "execute_result"
    }
   ],
   "source": [
    "\"gmail\" in s6"
   ]
  }
 ],
 "metadata": {
  "kernelspec": {
   "display_name": "Python 3 (ipykernel)",
   "language": "python",
   "name": "python3"
  },
  "language_info": {
   "codemirror_mode": {
    "name": "ipython",
    "version": 3
   },
   "file_extension": ".py",
   "mimetype": "text/x-python",
   "name": "python",
   "nbconvert_exporter": "python",
   "pygments_lexer": "ipython3",
   "version": "3.11.5"
  }
 },
 "nbformat": 4,
 "nbformat_minor": 5
}
