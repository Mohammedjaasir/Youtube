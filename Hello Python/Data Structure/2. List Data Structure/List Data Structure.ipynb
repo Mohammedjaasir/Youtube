{
 "cells": [
  {
   "cell_type": "code",
   "execution_count": 2,
   "id": "f05a2ec0-8118-4098-9af4-96859979e854",
   "metadata": {},
   "outputs": [],
   "source": [
    "l1 = [1,2,3]"
   ]
  },
  {
   "cell_type": "code",
   "execution_count": 6,
   "id": "44c2bf21-4d7a-48ba-a292-daa4fa32d9be",
   "metadata": {},
   "outputs": [
    {
     "data": {
      "text/plain": [
       "[1, 2, 3]"
      ]
     },
     "execution_count": 6,
     "metadata": {},
     "output_type": "execute_result"
    }
   ],
   "source": [
    "l1\n"
   ]
  },
  {
   "cell_type": "code",
   "execution_count": 8,
   "id": "093c50a8-812a-4d89-b2dc-25b3eac4d8ca",
   "metadata": {},
   "outputs": [
    {
     "data": {
      "text/plain": [
       "list"
      ]
     },
     "execution_count": 8,
     "metadata": {},
     "output_type": "execute_result"
    }
   ],
   "source": [
    "type(l1)"
   ]
  },
  {
   "cell_type": "code",
   "execution_count": 10,
   "id": "52c121dd-619a-4100-af67-1dfd1fed09f3",
   "metadata": {},
   "outputs": [
    {
     "data": {
      "text/plain": [
       "1"
      ]
     },
     "execution_count": 10,
     "metadata": {},
     "output_type": "execute_result"
    }
   ],
   "source": [
    "l1[0]"
   ]
  },
  {
   "cell_type": "code",
   "execution_count": 12,
   "id": "d7fde98c-486d-49e4-955b-e0f5b20c0190",
   "metadata": {},
   "outputs": [],
   "source": [
    "l1[0] = 5353"
   ]
  },
  {
   "cell_type": "code",
   "execution_count": 16,
   "id": "430c037a-b4f3-486e-af99-94b66193db8a",
   "metadata": {},
   "outputs": [
    {
     "data": {
      "text/plain": [
       "[5353, 2, 3]"
      ]
     },
     "execution_count": 16,
     "metadata": {},
     "output_type": "execute_result"
    }
   ],
   "source": [
    "l1"
   ]
  },
  {
   "cell_type": "code",
   "execution_count": 18,
   "id": "95da2d10-8528-4de1-a5fa-6b17e9596d76",
   "metadata": {},
   "outputs": [],
   "source": [
    "l2 = [1,1,1]"
   ]
  },
  {
   "cell_type": "code",
   "execution_count": 22,
   "id": "52c863a8-009e-4cd0-b23f-965102ebeaf2",
   "metadata": {},
   "outputs": [
    {
     "data": {
      "text/plain": [
       "[1, 1, 1]"
      ]
     },
     "execution_count": 22,
     "metadata": {},
     "output_type": "execute_result"
    }
   ],
   "source": [
    "l2"
   ]
  },
  {
   "cell_type": "code",
   "execution_count": 28,
   "id": "c9a445d9-b321-4870-9e0a-401ca35c4823",
   "metadata": {},
   "outputs": [],
   "source": [
    "l3 = [\"mayank\",12,3.14,l2]"
   ]
  },
  {
   "cell_type": "code",
   "execution_count": 30,
   "id": "e1f90f9a-8d0e-4201-b930-213e2591bfd1",
   "metadata": {},
   "outputs": [
    {
     "data": {
      "text/plain": [
       "['mayank', 12, 3.14, [1, 1, 1]]"
      ]
     },
     "execution_count": 30,
     "metadata": {},
     "output_type": "execute_result"
    }
   ],
   "source": [
    "l3"
   ]
  },
  {
   "cell_type": "code",
   "execution_count": 36,
   "id": "22efe161-6689-4637-b9d3-4ba873323add",
   "metadata": {},
   "outputs": [],
   "source": [
    "l4 = list((1,2,3))"
   ]
  },
  {
   "cell_type": "code",
   "execution_count": 40,
   "id": "c3668a8f-77c5-409b-9632-72ab22278020",
   "metadata": {},
   "outputs": [
    {
     "data": {
      "text/plain": [
       "[1, 2, 3]"
      ]
     },
     "execution_count": 40,
     "metadata": {},
     "output_type": "execute_result"
    }
   ],
   "source": [
    "l4"
   ]
  },
  {
   "cell_type": "code",
   "execution_count": 42,
   "id": "b6074619-519b-4ce3-97d4-48b4a90204ac",
   "metadata": {},
   "outputs": [],
   "source": [
    "l5 = list()"
   ]
  },
  {
   "cell_type": "code",
   "execution_count": 46,
   "id": "29bc1c38-125f-4e38-8f84-af3c52bc7ded",
   "metadata": {},
   "outputs": [
    {
     "data": {
      "text/plain": [
       "[]"
      ]
     },
     "execution_count": 46,
     "metadata": {},
     "output_type": "execute_result"
    }
   ],
   "source": [
    "l5\n"
   ]
  },
  {
   "cell_type": "code",
   "execution_count": 50,
   "id": "fe095f73-bf0a-45ca-8de0-c3447bca3598",
   "metadata": {},
   "outputs": [
    {
     "data": {
      "text/plain": [
       "[]"
      ]
     },
     "execution_count": 50,
     "metadata": {},
     "output_type": "execute_result"
    }
   ],
   "source": [
    "l6 = []\n",
    "l6\n"
   ]
  },
  {
   "cell_type": "code",
   "execution_count": 54,
   "id": "f863bbb1-ed34-40c3-9f34-936276fd4c72",
   "metadata": {},
   "outputs": [
    {
     "data": {
      "text/plain": [
       "0"
      ]
     },
     "execution_count": 54,
     "metadata": {},
     "output_type": "execute_result"
    }
   ],
   "source": [
    "len(l6)"
   ]
  },
  {
   "cell_type": "code",
   "execution_count": null,
   "id": "96261a72-1abc-4212-b71c-d400ef68582c",
   "metadata": {},
   "outputs": [],
   "source": []
  },
  {
   "cell_type": "code",
   "execution_count": null,
   "id": "39742f3e-a770-46e5-8e77-a6ff7c8e9504",
   "metadata": {},
   "outputs": [],
   "source": []
  },
  {
   "cell_type": "markdown",
   "id": "c7147e05-78f0-462e-bf68-81bc92dd05d1",
   "metadata": {},
   "source": [
    "# SLicing AND Indexing"
   ]
  },
  {
   "cell_type": "code",
   "execution_count": 63,
   "id": "3674fc72-6c2c-403e-900b-cc71db95f45e",
   "metadata": {},
   "outputs": [
    {
     "data": {
      "text/plain": [
       "['mayank', 12, 3.14, [1, 1, 1]]"
      ]
     },
     "execution_count": 63,
     "metadata": {},
     "output_type": "execute_result"
    }
   ],
   "source": [
    "l3"
   ]
  },
  {
   "cell_type": "code",
   "execution_count": 73,
   "id": "54725f99-cb61-40d3-a9fd-28b12486a696",
   "metadata": {},
   "outputs": [
    {
     "data": {
      "text/plain": [
       "[1, 1, 1]"
      ]
     },
     "execution_count": 73,
     "metadata": {},
     "output_type": "execute_result"
    }
   ],
   "source": [
    "l3[-1]"
   ]
  },
  {
   "cell_type": "code",
   "execution_count": 81,
   "id": "597c1650-393e-4550-9948-9ead29952941",
   "metadata": {},
   "outputs": [
    {
     "data": {
      "text/plain": [
       "[3.14, 12]"
      ]
     },
     "execution_count": 81,
     "metadata": {},
     "output_type": "execute_result"
    }
   ],
   "source": [
    "l3[2:0:-1]"
   ]
  },
  {
   "cell_type": "code",
   "execution_count": null,
   "id": "cb12be62-95e7-440b-851f-a13584ce56f9",
   "metadata": {},
   "outputs": [],
   "source": []
  },
  {
   "cell_type": "code",
   "execution_count": null,
   "id": "451c7fd0-0452-43d8-b794-c35e0a658007",
   "metadata": {},
   "outputs": [],
   "source": []
  },
  {
   "cell_type": "markdown",
   "id": "b5ea9ac7-26d6-4017-a1f6-e2a269a2a31b",
   "metadata": {},
   "source": [
    "# List operations"
   ]
  },
  {
   "cell_type": "code",
   "execution_count": 90,
   "id": "48216d0e-14b8-472c-b188-8d14508df296",
   "metadata": {},
   "outputs": [
    {
     "data": {
      "text/plain": [
       "([5353, 2, 3], [1, 1, 1])"
      ]
     },
     "execution_count": 90,
     "metadata": {},
     "output_type": "execute_result"
    }
   ],
   "source": [
    "l1,l2"
   ]
  },
  {
   "cell_type": "code",
   "execution_count": 94,
   "id": "23bf8017-f4ed-41ca-8324-24175cd6269f",
   "metadata": {},
   "outputs": [
    {
     "data": {
      "text/plain": [
       "[5353, 2, 3, 1, 1, 1]"
      ]
     },
     "execution_count": 94,
     "metadata": {},
     "output_type": "execute_result"
    }
   ],
   "source": [
    "l1 + l2"
   ]
  },
  {
   "cell_type": "code",
   "execution_count": 100,
   "id": "47de2087-8683-45c0-997a-5b9ee7ef1b4b",
   "metadata": {},
   "outputs": [
    {
     "data": {
      "text/plain": [
       "'mayank'"
      ]
     },
     "execution_count": 100,
     "metadata": {},
     "output_type": "execute_result"
    }
   ],
   "source": [
    "\"may\" + \"ank\""
   ]
  },
  {
   "cell_type": "code",
   "execution_count": 109,
   "id": "e721891c-b150-43a9-9147-6d047aef3cc1",
   "metadata": {},
   "outputs": [
    {
     "data": {
      "text/plain": [
       "[5353, 2, 3, 5353, 2, 3, 5353, 2, 3]"
      ]
     },
     "execution_count": 109,
     "metadata": {},
     "output_type": "execute_result"
    }
   ],
   "source": [
    "l1+l1+l1"
   ]
  },
  {
   "cell_type": "code",
   "execution_count": null,
   "id": "2ff00b6b-dbd1-429c-ab05-183513eda843",
   "metadata": {},
   "outputs": [],
   "source": []
  },
  {
   "cell_type": "code",
   "execution_count": 111,
   "id": "4749df1a-c6c9-4105-827a-8de2a195b23b",
   "metadata": {},
   "outputs": [
    {
     "data": {
      "text/plain": [
       "[5353, 2, 3, 5353, 2, 3, 5353, 2, 3]"
      ]
     },
     "execution_count": 111,
     "metadata": {},
     "output_type": "execute_result"
    }
   ],
   "source": [
    "l1 * 3"
   ]
  },
  {
   "cell_type": "code",
   "execution_count": 115,
   "id": "47248bc7-afcd-4196-bb29-5fb114821a56",
   "metadata": {},
   "outputs": [
    {
     "ename": "TypeError",
     "evalue": "unsupported operand type(s) for -: 'list' and 'list'",
     "output_type": "error",
     "traceback": [
      "\u001b[0;31m---------------------------------------------------------------------------\u001b[0m",
      "\u001b[0;31mTypeError\u001b[0m                                 Traceback (most recent call last)",
      "Cell \u001b[0;32mIn[115], line 1\u001b[0m\n\u001b[0;32m----> 1\u001b[0m l1 \u001b[38;5;241m-\u001b[39m l2\n",
      "\u001b[0;31mTypeError\u001b[0m: unsupported operand type(s) for -: 'list' and 'list'"
     ]
    }
   ],
   "source": [
    "l1 - l2"
   ]
  },
  {
   "cell_type": "code",
   "execution_count": 119,
   "id": "19f253b8-7fc4-42f5-a89e-a03fc4faaa05",
   "metadata": {},
   "outputs": [
    {
     "ename": "TypeError",
     "evalue": "unsupported operand type(s) for /: 'list' and 'int'",
     "output_type": "error",
     "traceback": [
      "\u001b[0;31m---------------------------------------------------------------------------\u001b[0m",
      "\u001b[0;31mTypeError\u001b[0m                                 Traceback (most recent call last)",
      "Cell \u001b[0;32mIn[119], line 1\u001b[0m\n\u001b[0;32m----> 1\u001b[0m l2\u001b[38;5;241m/\u001b[39m\u001b[38;5;241m2\u001b[39m\n",
      "\u001b[0;31mTypeError\u001b[0m: unsupported operand type(s) for /: 'list' and 'int'"
     ]
    }
   ],
   "source": [
    "l2/2"
   ]
  },
  {
   "cell_type": "code",
   "execution_count": null,
   "id": "ee82bc55-63bd-4ba7-bc9b-1a56af1a1546",
   "metadata": {},
   "outputs": [],
   "source": []
  },
  {
   "cell_type": "code",
   "execution_count": null,
   "id": "60a147ac-aa56-4fa8-b265-7794c7867e28",
   "metadata": {},
   "outputs": [],
   "source": []
  },
  {
   "cell_type": "code",
   "execution_count": null,
   "id": "bf0eb98f-3b71-455a-a2b3-aca583591c5c",
   "metadata": {},
   "outputs": [],
   "source": []
  },
  {
   "cell_type": "code",
   "execution_count": 126,
   "id": "047e3fd4-219c-432c-949e-176bc40e5ee6",
   "metadata": {},
   "outputs": [
    {
     "data": {
      "text/plain": [
       "[5353, 2, 3]"
      ]
     },
     "execution_count": 126,
     "metadata": {},
     "output_type": "execute_result"
    }
   ],
   "source": [
    "l1"
   ]
  },
  {
   "cell_type": "code",
   "execution_count": 128,
   "id": "ed09bbdf-16e1-43bc-a768-c57bef1e31e4",
   "metadata": {},
   "outputs": [
    {
     "data": {
      "text/plain": [
       "True"
      ]
     },
     "execution_count": 128,
     "metadata": {},
     "output_type": "execute_result"
    }
   ],
   "source": [
    "3 in l1"
   ]
  },
  {
   "cell_type": "code",
   "execution_count": null,
   "id": "4b31f99a-07db-484d-b004-b30f346312dc",
   "metadata": {},
   "outputs": [],
   "source": []
  },
  {
   "cell_type": "code",
   "execution_count": 130,
   "id": "9733f59d-99bf-4567-b88a-066c51dd2607",
   "metadata": {},
   "outputs": [
    {
     "data": {
      "text/plain": [
       "['mayank', 12, 3.14, [1, 1, 1]]"
      ]
     },
     "execution_count": 130,
     "metadata": {},
     "output_type": "execute_result"
    }
   ],
   "source": [
    "l3"
   ]
  },
  {
   "cell_type": "code",
   "execution_count": 132,
   "id": "df173c1d-2406-465a-850e-e2cd90fe75e1",
   "metadata": {},
   "outputs": [
    {
     "data": {
      "text/plain": [
       "False"
      ]
     },
     "execution_count": 132,
     "metadata": {},
     "output_type": "execute_result"
    }
   ],
   "source": [
    "1 in l3"
   ]
  },
  {
   "cell_type": "code",
   "execution_count": 134,
   "id": "70f5d22d-4b3c-4831-b902-172c92cc3a72",
   "metadata": {},
   "outputs": [
    {
     "data": {
      "text/plain": [
       "True"
      ]
     },
     "execution_count": 134,
     "metadata": {},
     "output_type": "execute_result"
    }
   ],
   "source": [
    "[1,1,1] in l3"
   ]
  },
  {
   "cell_type": "code",
   "execution_count": 136,
   "id": "a2f2a802-b303-4ebd-8d00-6084f67eebf6",
   "metadata": {},
   "outputs": [
    {
     "name": "stdout",
     "output_type": "stream",
     "text": [
      "mayank\n",
      "12\n",
      "3.14\n",
      "[1, 1, 1]\n"
     ]
    }
   ],
   "source": [
    "for ele in l3:\n",
    "    print(ele)"
   ]
  },
  {
   "cell_type": "code",
   "execution_count": 138,
   "id": "aaa95cb8-f225-4ca8-901d-6a25d8e9bac7",
   "metadata": {},
   "outputs": [
    {
     "data": {
      "text/plain": [
       "False"
      ]
     },
     "execution_count": 138,
     "metadata": {},
     "output_type": "execute_result"
    }
   ],
   "source": [
    "'12' in l3"
   ]
  },
  {
   "cell_type": "code",
   "execution_count": null,
   "id": "c3f56bda-fa2a-45c6-8a15-d04f1f836388",
   "metadata": {},
   "outputs": [],
   "source": []
  },
  {
   "cell_type": "code",
   "execution_count": 140,
   "id": "998ae565-d567-4b81-9356-64159f691393",
   "metadata": {},
   "outputs": [],
   "source": [
    "fruits = ['orange','banana','apple']"
   ]
  },
  {
   "cell_type": "code",
   "execution_count": 144,
   "id": "83f99110-c739-41a6-88c6-9f962c9e3cff",
   "metadata": {},
   "outputs": [],
   "source": [
    "fruits[0] = 'pineapple'"
   ]
  },
  {
   "cell_type": "code",
   "execution_count": 148,
   "id": "11c7adef-6cc3-43e3-a7b1-32ae05173458",
   "metadata": {},
   "outputs": [
    {
     "data": {
      "text/plain": [
       "['pineapple', 'banana', 'apple']"
      ]
     },
     "execution_count": 148,
     "metadata": {},
     "output_type": "execute_result"
    }
   ],
   "source": [
    "fruits"
   ]
  },
  {
   "cell_type": "code",
   "execution_count": 154,
   "id": "7a945b3b-35c3-4386-b4c4-1b6350ae26c1",
   "metadata": {},
   "outputs": [
    {
     "ename": "IndexError",
     "evalue": "list assignment index out of range",
     "output_type": "error",
     "traceback": [
      "\u001b[0;31m---------------------------------------------------------------------------\u001b[0m",
      "\u001b[0;31mIndexError\u001b[0m                                Traceback (most recent call last)",
      "Cell \u001b[0;32mIn[154], line 1\u001b[0m\n\u001b[0;32m----> 1\u001b[0m fruits [\u001b[38;5;241m3\u001b[39m] \u001b[38;5;241m=\u001b[39m \u001b[38;5;124m'\u001b[39m\u001b[38;5;124mgain\u001b[39m\u001b[38;5;124m'\u001b[39m\n",
      "\u001b[0;31mIndexError\u001b[0m: list assignment index out of range"
     ]
    }
   ],
   "source": [
    "fruits [3] = 'gain'"
   ]
  }
 ],
 "metadata": {
  "kernelspec": {
   "display_name": "Python 3 (ipykernel)",
   "language": "python",
   "name": "python3"
  },
  "language_info": {
   "codemirror_mode": {
    "name": "ipython",
    "version": 3
   },
   "file_extension": ".py",
   "mimetype": "text/x-python",
   "name": "python",
   "nbconvert_exporter": "python",
   "pygments_lexer": "ipython3",
   "version": "3.11.5"
  }
 },
 "nbformat": 4,
 "nbformat_minor": 5
}
