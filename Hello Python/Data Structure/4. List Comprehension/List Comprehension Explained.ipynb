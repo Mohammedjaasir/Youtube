{
 "cells": [
  {
   "cell_type": "markdown",
   "metadata": {},
   "source": [
    "# List Comprehension\n",
    "\n",
    "List comprehension offers a shorter syntax when you want to create a new list based on the values of an existing list. Using list comprehensions, you can make your code more concise and readable.\n",
    "\n",
    "The syntax for list comprehension is:\n",
    "```\n",
    "[expression for item in iterable if condition]\n",
    "```\n",
    "\n",
    "Let's break this down:\n",
    "- `expression` is the current item in the iteration, but it is also the value that will be added to the new list.\n",
    "- `item` is the current item in the iterable.\n",
    "- `iterable` is the collection you are iterating over.\n",
    "- `condition` is optional; if provided, it filters the items to include in the new list."
   ]
  },
  {
   "cell_type": "markdown",
   "metadata": {},
   "source": [
    "## Examples of List Comprehensions\n",
    "\n",
    "### Basic Example\n",
    "\n",
    "Let's create a list of numbers from 0 to 9:"
   ]
  },
  {
   "cell_type": "code",
   "execution_count": null,
   "metadata": {},
   "outputs": [],
   "source": [
    "# Basic example of list comprehension\n",
    "numbers = [x for x in range(10)]\n",
    "print(numbers)  # Output: [0, 1, 2, 3, 4, 5, 6, 7, 8, 9]"
   ]
  },
  {
   "cell_type": "markdown",
   "metadata": {},
   "source": [
    "### Conditional List Comprehension\n",
    "\n",
    "Now let's create a list of even numbers from 0 to 9:"
   ]
  },
  {
   "cell_type": "code",
   "execution_count": null,
   "metadata": {},
   "outputs": [],
   "source": [
    "# Conditional list comprehension\n",
    "even_numbers = [x for x in range(10) if x % 2 == 0]\n",
    "print(even_numbers)  # Output: [0, 2, 4, 6, 8]"
   ]
  },
  {
   "cell_type": "markdown",
   "metadata": {},
   "source": [
    "### Nested List Comprehensions\n",
    "\n",
    "You can also use nested list comprehensions to create a list of lists. For example, let's create a 3x3 matrix:"
   ]
  },
  {
   "cell_type": "code",
   "execution_count": null,
   "metadata": {},
   "outputs": [],
   "source": [
    "# Nested list comprehension to create a 3x3 matrix\n",
    "matrix = [[x for x in range(3)] for y in range(3)]\n",
    "print(matrix)  # Output: [[0, 1, 2], [0, 1, 2], [0, 1, 2]]"
   ]
  },
  {
   "cell_type": "markdown",
   "metadata": {},
   "source": [
    "### Applying Functions in List Comprehension\n",
    "\n",
    "You can also apply functions to the elements in a list comprehension. For example, let's create a list of the squares of numbers from 0 to 9:"
   ]
  },
  {
   "cell_type": "code",
   "execution_count": null,
   "metadata": {},
   "outputs": [],
   "source": [
    "# Applying functions in list comprehension\n",
    "squares = [x**2 for x in range(10)]\n",
    "print(squares)  # Output: [0, 1, 4, 9, 16, 25, 36, 49, 64, 81]"
   ]
  },
  {
   "cell_type": "markdown",
   "metadata": {},
   "source": [
    "### List Comprehension with Strings\n",
    "\n",
    "List comprehensions can also be used with strings. For example, let's create a list of characters from a string:"
   ]
  },
  {
   "cell_type": "code",
   "execution_count": null,
   "metadata": {},
   "outputs": [],
   "source": [
    "# List comprehension with strings\n",
    "chars = [char for char in 'hello']\n",
    "print(chars)  # Output: ['h', 'e', 'l', 'l', 'o']"
   ]
  },
  {
   "cell_type": "markdown",
   "metadata": {},
   "source": [
    "### Combining Elements from Two Lists\n",
    "\n",
    "List comprehensions can also combine elements from two lists. For example, let's create a list of tuples with elements from two lists:"
   ]
  },
  {
   "cell_type": "code",
   "execution_count": null,
   "metadata": {},
   "outputs": [],
   "source": [
    "# Combining elements from two lists\n",
    "list1 = [1, 2, 3]\n",
    "list2 = ['a', 'b', 'c']\n",
    "combined = [(x, y) for x in list1 for y in list2]\n",
    "print(combined)  # Output: [(1, 'a'), (1, 'b'), (1, 'c'), (2, 'a'), (2, 'b'), (2, 'c'), (3, 'a'), (3, 'b'), (3, 'c')]"
   ]
  },
  {
   "cell_type": "markdown",
   "metadata": {},
   "source": [
    "### Industry Use Cases\n",
    "\n",
    "1. **Data Analysis**: List comprehensions are widely used in data analysis for filtering and transforming data.\n",
    "2. **Web Scraping**: When extracting data from web pages, list comprehensions can be used to clean and process the data efficiently.\n",
    "3. **Machine Learning**: In machine learning, list comprehensions are used for data preprocessing, such as normalizing and encoding data.\n",
    "4. **Game Development**: List comprehensions can be used to create and manage game boards, maps, and other elements.\n",
    "5. **File I/O**: When working with files, list comprehensions can be used to read and process lines of text."
   ]
  },
  {
   "cell_type": "markdown",
   "metadata": {},
   "source": [
    "# Questions\n",
    "\n",
    "1. What is the basic syntax of a list comprehension?\n",
    "2. How can you create a list of squares of numbers from 0 to 9 using list comprehension?\n",
    "3. Write a list comprehension to create a list of even numbers from 0 to 20.\n",
    "4. How can you create a 5x5 matrix using nested list comprehensions?\n",
    "5. Write a list comprehension to create a list of characters from the string 'python'.\n",
    "6. How can you combine elements from two lists into a list of tuples using list comprehension?\n",
    "7. Write a list comprehension to filter out vowels from a given string.\n",
    "8. How can you apply a function to each element in a list using list comprehension?\n",
    "9. Write a list comprehension to create a list of the first letters of each word in a given sentence.\n",
    "10. How can you use list comprehension to flatten a list of lists?"
   ]
  },
  {
   "cell_type": "markdown",
   "metadata": {},
   "source": [
    "# Answers\n",
    "\n",
    "1. The basic syntax of a list comprehension is `[expression for item in iterable if condition]`.\n",
    "2. `squares = [x**2 for x in range(10)]`\n",
    "3. `even_numbers = [x for x in range(21) if x % 2 == 0]`\n",
    "4. `matrix = [[x for x in range(5)] for y in range(5)]`\n",
    "5. `chars = [char for char in 'python']`\n",
    "6. `combined = [(x, y) for x in list1 for y in list2]`\n",
    "7. `no_vowels = [char for char in 'your_string' if char not in 'aeiou']`\n",
    "8. `results = [function(x) for x in list]`\n",
    "9. `first_letters = [word[0] for word in sentence.split()]`\n",
    "10. `flattened = [item for sublist in list_of_lists for item in sublist]`"
   ]
  }
 ],
 "metadata": {
  "kernelspec": {
   "display_name": "Python 3 (ipykernel)",
   "language": "python",
   "name": "python3"
  },
  "language_info": {
   "codemirror_mode": {
    "name": "ipython",
    "version": 3
   },
   "file_extension": ".py",
   "mimetype": "text/x-python",
   "name": "python",
   "nbconvert_exporter": "python",
   "pygments_lexer": "ipython3",
   "version": "3.11.7"
  }
 },
 "nbformat": 4,
 "nbformat_minor": 4
}
