{
 "cells": [
  {
   "cell_type": "markdown",
   "id": "c078d26a-4741-42e2-9b5d-039fd1657945",
   "metadata": {},
   "source": [
    "# Tuple"
   ]
  },
  {
   "cell_type": "code",
   "execution_count": 4,
   "id": "74dd2a65-a40c-49c1-a9ae-95ad1b1d82b1",
   "metadata": {},
   "outputs": [],
   "source": [
    "t1 = (1,2,3)"
   ]
  },
  {
   "cell_type": "code",
   "execution_count": 8,
   "id": "7648ffba-44ee-42ac-a92e-2c1aee4b480a",
   "metadata": {},
   "outputs": [
    {
     "data": {
      "text/plain": [
       "(1, 2, 3)"
      ]
     },
     "execution_count": 8,
     "metadata": {},
     "output_type": "execute_result"
    }
   ],
   "source": [
    "t1"
   ]
  },
  {
   "cell_type": "code",
   "execution_count": 10,
   "id": "db16d1d0-ffb1-4971-83a4-cfe1e5061808",
   "metadata": {},
   "outputs": [
    {
     "data": {
      "text/plain": [
       "tuple"
      ]
     },
     "execution_count": 10,
     "metadata": {},
     "output_type": "execute_result"
    }
   ],
   "source": [
    "type(t1)"
   ]
  },
  {
   "cell_type": "code",
   "execution_count": 16,
   "id": "be29ca3a-4208-41c4-8cdf-051236d19713",
   "metadata": {},
   "outputs": [],
   "source": [
    "t2 = tuple((1,.5,3))"
   ]
  },
  {
   "cell_type": "code",
   "execution_count": 20,
   "id": "15f3affa-4f87-4bf3-9975-84819a606b28",
   "metadata": {},
   "outputs": [
    {
     "data": {
      "text/plain": [
       "(1, 0.5, 3)"
      ]
     },
     "execution_count": 20,
     "metadata": {},
     "output_type": "execute_result"
    }
   ],
   "source": [
    "t2\n"
   ]
  },
  {
   "cell_type": "code",
   "execution_count": 22,
   "id": "54646c98-a19f-4889-806f-7bc86c9a1035",
   "metadata": {},
   "outputs": [
    {
     "data": {
      "text/plain": [
       "tuple"
      ]
     },
     "execution_count": 22,
     "metadata": {},
     "output_type": "execute_result"
    }
   ],
   "source": [
    "type(t2)"
   ]
  },
  {
   "cell_type": "code",
   "execution_count": 26,
   "id": "2bdff16d-7ed0-4c7c-9c75-9a25967c6cac",
   "metadata": {},
   "outputs": [],
   "source": [
    "t3 = (3)\n"
   ]
  },
  {
   "cell_type": "code",
   "execution_count": 32,
   "id": "5a838e5d-8e6e-4a0c-9d8a-0ffc27b760e5",
   "metadata": {},
   "outputs": [
    {
     "data": {
      "text/plain": [
       "3"
      ]
     },
     "execution_count": 32,
     "metadata": {},
     "output_type": "execute_result"
    }
   ],
   "source": [
    "t3"
   ]
  },
  {
   "cell_type": "code",
   "execution_count": 36,
   "id": "9a4f4326-6a6b-417e-a5e6-443032f2944e",
   "metadata": {},
   "outputs": [
    {
     "data": {
      "text/plain": [
       "int"
      ]
     },
     "execution_count": 36,
     "metadata": {},
     "output_type": "execute_result"
    }
   ],
   "source": [
    "type(t3)"
   ]
  },
  {
   "cell_type": "code",
   "execution_count": 42,
   "id": "aab6fbb1-e802-4c58-bf17-69d50badf968",
   "metadata": {},
   "outputs": [
    {
     "data": {
      "text/plain": [
       "(3,)"
      ]
     },
     "execution_count": 42,
     "metadata": {},
     "output_type": "execute_result"
    }
   ],
   "source": [
    "t4 = (3,)\n",
    "t4"
   ]
  },
  {
   "cell_type": "code",
   "execution_count": 46,
   "id": "80a57d2b-b7e2-462b-abab-ebd0e98a6a53",
   "metadata": {},
   "outputs": [
    {
     "data": {
      "text/plain": [
       "tuple"
      ]
     },
     "execution_count": 46,
     "metadata": {},
     "output_type": "execute_result"
    }
   ],
   "source": [
    "type(t4)"
   ]
  },
  {
   "cell_type": "code",
   "execution_count": 50,
   "id": "93bca414-97c3-4bf2-9789-9730c59a701c",
   "metadata": {},
   "outputs": [
    {
     "data": {
      "text/plain": [
       "1"
      ]
     },
     "execution_count": 50,
     "metadata": {},
     "output_type": "execute_result"
    }
   ],
   "source": [
    "len(t4)"
   ]
  },
  {
   "cell_type": "code",
   "execution_count": 54,
   "id": "73e23b29-6fb1-4010-8509-817075e3a570",
   "metadata": {},
   "outputs": [],
   "source": [
    "t5 = tuple((3,))"
   ]
  },
  {
   "cell_type": "code",
   "execution_count": 60,
   "id": "7c031429-243f-4ba3-852b-6830188f1562",
   "metadata": {},
   "outputs": [
    {
     "data": {
      "text/plain": [
       "(3,)"
      ]
     },
     "execution_count": 60,
     "metadata": {},
     "output_type": "execute_result"
    }
   ],
   "source": [
    "t5"
   ]
  },
  {
   "cell_type": "code",
   "execution_count": 72,
   "id": "80c74a85-63d8-484f-a6cc-5608d9665069",
   "metadata": {},
   "outputs": [],
   "source": [
    "outputTuple = len(t5),type(t5)"
   ]
  },
  {
   "cell_type": "code",
   "execution_count": 74,
   "id": "d195976a-7dfe-40db-ae0a-7dfbf97799fe",
   "metadata": {},
   "outputs": [
    {
     "data": {
      "text/plain": [
       "(1, tuple)"
      ]
     },
     "execution_count": 74,
     "metadata": {},
     "output_type": "execute_result"
    }
   ],
   "source": [
    "outputTuple"
   ]
  },
  {
   "cell_type": "code",
   "execution_count": 78,
   "id": "04f3542f-ff15-44e5-b575-f14bd3a93c36",
   "metadata": {},
   "outputs": [
    {
     "name": "stdout",
     "output_type": "stream",
     "text": [
      "(1, <class 'tuple'>)\n"
     ]
    }
   ],
   "source": [
    "print(outputTuple)"
   ]
  },
  {
   "cell_type": "code",
   "execution_count": 80,
   "id": "b4fbcd6d-fad0-45c2-860b-9f45e275c0c6",
   "metadata": {},
   "outputs": [
    {
     "data": {
      "text/plain": [
       "(1, 2, 3)"
      ]
     },
     "execution_count": 80,
     "metadata": {},
     "output_type": "execute_result"
    }
   ],
   "source": [
    "1,2,3"
   ]
  },
  {
   "cell_type": "code",
   "execution_count": 82,
   "id": "77d163eb-8bf8-4476-a967-de50a68d2624",
   "metadata": {},
   "outputs": [],
   "source": [
    "t1 = (1,2,3,4,5,6,7,8,9,10)"
   ]
  },
  {
   "cell_type": "code",
   "execution_count": 90,
   "id": "767d67ba-3346-4b8d-bb02-6bbc88a11707",
   "metadata": {},
   "outputs": [
    {
     "data": {
      "text/plain": [
       "(1, 2, 3, 4)"
      ]
     },
     "execution_count": 90,
     "metadata": {},
     "output_type": "execute_result"
    }
   ],
   "source": [
    "t1[0:4]"
   ]
  },
  {
   "cell_type": "code",
   "execution_count": 118,
   "id": "139ed125-a003-45c4-9d51-49947bad6641",
   "metadata": {},
   "outputs": [
    {
     "data": {
      "text/plain": [
       "(1,\n",
       " 0.5,\n",
       " 3,\n",
       " 1,\n",
       " 0.5,\n",
       " 3,\n",
       " 1,\n",
       " 0.5,\n",
       " 3,\n",
       " 1,\n",
       " 0.5,\n",
       " 3,\n",
       " 1,\n",
       " 0.5,\n",
       " 3,\n",
       " 1,\n",
       " 0.5,\n",
       " 3,\n",
       " 1,\n",
       " 0.5,\n",
       " 3,\n",
       " 1,\n",
       " 0.5,\n",
       " 3)"
      ]
     },
     "execution_count": 118,
     "metadata": {},
     "output_type": "execute_result"
    }
   ],
   "source": [
    "t2 + t2"
   ]
  },
  {
   "cell_type": "code",
   "execution_count": 120,
   "id": "55ecb631-9711-4ffd-b548-3b3cedbd5c42",
   "metadata": {},
   "outputs": [
    {
     "data": {
      "text/plain": [
       "(1, 0.5, 3, 1, 0.5, 3, 1, 0.5, 3, 1, 0.5, 3)"
      ]
     },
     "execution_count": 120,
     "metadata": {},
     "output_type": "execute_result"
    }
   ],
   "source": [
    "t2"
   ]
  },
  {
   "cell_type": "code",
   "execution_count": 108,
   "id": "12b1713c-508f-4e8d-9df2-78a6d740d55d",
   "metadata": {},
   "outputs": [],
   "source": [
    "t2 = t2+t2"
   ]
  },
  {
   "cell_type": "code",
   "execution_count": 112,
   "id": "fb003980-9b07-4bcc-a852-6784640d7c46",
   "metadata": {},
   "outputs": [
    {
     "data": {
      "text/plain": [
       "(1, 0.5, 3, 1, 0.5, 3, 1, 0.5, 3, 1, 0.5, 3)"
      ]
     },
     "execution_count": 112,
     "metadata": {},
     "output_type": "execute_result"
    }
   ],
   "source": [
    "t2"
   ]
  },
  {
   "cell_type": "code",
   "execution_count": 116,
   "id": "b4bc557c-02c8-4905-a891-caecd516fc6b",
   "metadata": {},
   "outputs": [
    {
     "data": {
      "text/plain": [
       "(1, 0.5, 3, 1, 0.5, 3, 1, 0.5, 3, 1, 0.5, 3)"
      ]
     },
     "execution_count": 116,
     "metadata": {},
     "output_type": "execute_result"
    }
   ],
   "source": [
    "t2"
   ]
  },
  {
   "cell_type": "code",
   "execution_count": 126,
   "id": "9cf85823-f788-4ecc-b758-7857cfb9877d",
   "metadata": {},
   "outputs": [
    {
     "ename": "TypeError",
     "evalue": "'tuple' object does not support item assignment",
     "output_type": "error",
     "traceback": [
      "\u001b[0;31m---------------------------------------------------------------------------\u001b[0m",
      "\u001b[0;31mTypeError\u001b[0m                                 Traceback (most recent call last)",
      "Cell \u001b[0;32mIn[126], line 1\u001b[0m\n\u001b[0;32m----> 1\u001b[0m t2[\u001b[38;5;241m0\u001b[39m] \u001b[38;5;241m=\u001b[39m \u001b[38;5;241m4\u001b[39m\n",
      "\u001b[0;31mTypeError\u001b[0m: 'tuple' object does not support item assignment"
     ]
    }
   ],
   "source": [
    "t2[0] = 4"
   ]
  },
  {
   "cell_type": "code",
   "execution_count": 130,
   "id": "c421d5cc-a764-472b-aee3-304fc7fe8f1b",
   "metadata": {},
   "outputs": [
    {
     "data": {
      "text/plain": [
       "4336985304"
      ]
     },
     "execution_count": 130,
     "metadata": {},
     "output_type": "execute_result"
    }
   ],
   "source": [
    "a = 1\n",
    "id(a)"
   ]
  },
  {
   "cell_type": "code",
   "execution_count": 136,
   "id": "b4adf816-772d-4ee2-bf3f-26ea13bbc0b8",
   "metadata": {},
   "outputs": [
    {
     "data": {
      "text/plain": [
       "4336985304"
      ]
     },
     "execution_count": 136,
     "metadata": {},
     "output_type": "execute_result"
    }
   ],
   "source": [
    "id(t2[0])"
   ]
  },
  {
   "cell_type": "code",
   "execution_count": 169,
   "id": "4690054b-acd8-45f7-8823-b712591f9cd6",
   "metadata": {},
   "outputs": [],
   "source": [
    "a,b,c = (1,2,3)"
   ]
  },
  {
   "cell_type": "code",
   "execution_count": 171,
   "id": "0510178e-0ebb-42b9-bf47-833ef398fc49",
   "metadata": {},
   "outputs": [
    {
     "data": {
      "text/plain": [
       "1"
      ]
     },
     "execution_count": 171,
     "metadata": {},
     "output_type": "execute_result"
    }
   ],
   "source": [
    "a"
   ]
  },
  {
   "cell_type": "code",
   "execution_count": 173,
   "id": "c56196e7-8968-4fb7-a003-0d6b34526159",
   "metadata": {},
   "outputs": [
    {
     "data": {
      "text/plain": [
       "2"
      ]
     },
     "execution_count": 173,
     "metadata": {},
     "output_type": "execute_result"
    }
   ],
   "source": [
    "b"
   ]
  },
  {
   "cell_type": "code",
   "execution_count": 177,
   "id": "951cb352-a0f3-48dc-aebb-7768d3e0a315",
   "metadata": {},
   "outputs": [
    {
     "data": {
      "text/plain": [
       "3"
      ]
     },
     "execution_count": 177,
     "metadata": {},
     "output_type": "execute_result"
    }
   ],
   "source": [
    "c"
   ]
  },
  {
   "cell_type": "code",
   "execution_count": 187,
   "id": "d4a8d016-a885-40c4-9420-00e24bb52d95",
   "metadata": {},
   "outputs": [],
   "source": [
    "t4 = (4,5,6)"
   ]
  },
  {
   "cell_type": "code",
   "execution_count": 193,
   "id": "71a1bc6e-0224-4e91-8d4d-10eaf1a77968",
   "metadata": {},
   "outputs": [],
   "source": [
    "t4 = a,b,c"
   ]
  },
  {
   "cell_type": "code",
   "execution_count": 197,
   "id": "d2d92e58-66a5-4a9a-a895-74955328524b",
   "metadata": {},
   "outputs": [
    {
     "data": {
      "text/plain": [
       "(1, 2, 3)"
      ]
     },
     "execution_count": 197,
     "metadata": {},
     "output_type": "execute_result"
    }
   ],
   "source": [
    "t4"
   ]
  },
  {
   "cell_type": "code",
   "execution_count": 201,
   "id": "e8ed9389-8ae0-4675-98ea-69ebe44b5138",
   "metadata": {},
   "outputs": [],
   "source": [
    "first,second = ('mayank',25)"
   ]
  },
  {
   "cell_type": "code",
   "execution_count": 207,
   "id": "d712ee82-a2d8-40bf-b5aa-1457a3bb5116",
   "metadata": {},
   "outputs": [
    {
     "data": {
      "text/plain": [
       "'mayank'"
      ]
     },
     "execution_count": 207,
     "metadata": {},
     "output_type": "execute_result"
    }
   ],
   "source": [
    "first"
   ]
  },
  {
   "cell_type": "code",
   "execution_count": 209,
   "id": "f6d0038b-f407-4615-b72d-d56638ceaaa4",
   "metadata": {},
   "outputs": [
    {
     "data": {
      "text/plain": [
       "25"
      ]
     },
     "execution_count": 209,
     "metadata": {},
     "output_type": "execute_result"
    }
   ],
   "source": [
    "second"
   ]
  }
 ],
 "metadata": {
  "kernelspec": {
   "display_name": "Python 3 (ipykernel)",
   "language": "python",
   "name": "python3"
  },
  "language_info": {
   "codemirror_mode": {
    "name": "ipython",
    "version": 3
   },
   "file_extension": ".py",
   "mimetype": "text/x-python",
   "name": "python",
   "nbconvert_exporter": "python",
   "pygments_lexer": "ipython3",
   "version": "3.11.5"
  }
 },
 "nbformat": 4,
 "nbformat_minor": 5
}
