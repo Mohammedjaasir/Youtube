{
 "cells": [
  {
   "cell_type": "markdown",
   "id": "9a1396f7-8ef1-46ea-a169-aad41b3a59d8",
   "metadata": {},
   "source": [
    "# Function On Sets"
   ]
  },
  {
   "cell_type": "markdown",
   "id": "5dda1249-7259-4835-85ee-572630f332e9",
   "metadata": {},
   "source": [
    "1. len()\n",
    "2. max()\n",
    "3. min()\n",
    "4. sum()\n",
    "5. any()\n",
    "6. all()"
   ]
  },
  {
   "cell_type": "code",
   "execution_count": 55,
   "id": "4e903d69-99bd-4643-978c-0c7b127ffce2",
   "metadata": {},
   "outputs": [],
   "source": [
    "s1 = {1,2,3,4,5}\n",
    "s2 = {0}\n",
    "even = {2,4,6,8,10}\n",
    "odd = {1,3,5,7,9}\n",
    "primes = {2,3,5,7,11,13}\n",
    "\n",
    "s3 = {1,2.5,\"Hello\",\"Python\",0}\n",
    "s5 = {1,True,(1,2,3),\"helloPython\",0,False}"
   ]
  },
  {
   "cell_type": "code",
   "execution_count": 57,
   "id": "2b12ad49-43ce-41b9-b64d-0e6d36de1950",
   "metadata": {},
   "outputs": [
    {
     "data": {
      "text/plain": [
       "False"
      ]
     },
     "execution_count": 57,
     "metadata": {},
     "output_type": "execute_result"
    }
   ],
   "source": [
    "all(s3)"
   ]
  },
  {
   "cell_type": "code",
   "execution_count": 49,
   "id": "1b6fb6b4-c3bf-4b90-a7bb-cf655106ae50",
   "metadata": {},
   "outputs": [
    {
     "data": {
      "text/plain": [
       "True"
      ]
     },
     "execution_count": 49,
     "metadata": {},
     "output_type": "execute_result"
    }
   ],
   "source": [
    "any({0,(),False,0j,1})"
   ]
  },
  {
   "cell_type": "code",
   "execution_count": 27,
   "id": "5f7d713b-73d5-4132-8195-270b22c4df1e",
   "metadata": {},
   "outputs": [
    {
     "ename": "TypeError",
     "evalue": "'<' not supported between instances of 'str' and 'int'",
     "output_type": "error",
     "traceback": [
      "\u001b[0;31m---------------------------------------------------------------------------\u001b[0m",
      "\u001b[0;31mTypeError\u001b[0m                                 Traceback (most recent call last)",
      "Cell \u001b[0;32mIn[27], line 1\u001b[0m\n\u001b[0;32m----> 1\u001b[0m \u001b[38;5;28mmin\u001b[39m(s3)\n",
      "\u001b[0;31mTypeError\u001b[0m: '<' not supported between instances of 'str' and 'int'"
     ]
    }
   ],
   "source": [
    "min(s3)"
   ]
  },
  {
   "cell_type": "code",
   "execution_count": 39,
   "id": "5a5087fc-cd72-41a3-a738-95c5bbdc7d3b",
   "metadata": {},
   "outputs": [
    {
     "data": {
      "text/plain": [
       "1"
      ]
     },
     "execution_count": 39,
     "metadata": {},
     "output_type": "execute_result"
    }
   ],
   "source": [
    "len({1,1,1,1,1})"
   ]
  },
  {
   "cell_type": "code",
   "execution_count": 59,
   "id": "b6b3d591-13f3-47a4-806c-6322b1395848",
   "metadata": {},
   "outputs": [
    {
     "data": {
      "text/plain": [
       "2"
      ]
     },
     "execution_count": 59,
     "metadata": {},
     "output_type": "execute_result"
    }
   ],
   "source": [
    "len({0,False,1,True})"
   ]
  },
  {
   "cell_type": "code",
   "execution_count": null,
   "id": "45da767e-7bdc-4782-83a4-9a0ff0e6b439",
   "metadata": {},
   "outputs": [],
   "source": []
  },
  {
   "cell_type": "code",
   "execution_count": null,
   "id": "4e16ca2c-c102-4154-aee8-69c91f73531e",
   "metadata": {},
   "outputs": [],
   "source": []
  },
  {
   "cell_type": "markdown",
   "id": "50f46d0a-a3a5-48de-a98f-4bc044decc42",
   "metadata": {},
   "source": [
    "# Methods in Sets"
   ]
  },
  {
   "cell_type": "code",
   "execution_count": null,
   "id": "34483828-1afa-4378-92c4-239c25af0fbb",
   "metadata": {},
   "outputs": [],
   "source": []
  },
  {
   "cell_type": "code",
   "execution_count": 182,
   "id": "1732e93d-8315-4f56-b2dd-295207ebe0f6",
   "metadata": {},
   "outputs": [],
   "source": [
    "s1 = {1,2,3,4,5}\n",
    "s11 = {2,4}\n",
    "s2 = {0}\n",
    "even = {2,4,6,8,10}\n",
    "odd = {1,3,5,7,9}\n",
    "primes = {2,3,5,7,11,13}\n",
    "\n",
    "s3 = {1,2.5,\"Hello\",\"Python\",0}\n",
    "s5 = {1,True,(1,2,3),\"helloPython\",0,False}"
   ]
  },
  {
   "cell_type": "code",
   "execution_count": 184,
   "id": "4d78d027-27a5-4696-9c27-7a4e2be6813a",
   "metadata": {},
   "outputs": [
    {
     "data": {
      "text/plain": [
       "{1, 3, 5}"
      ]
     },
     "execution_count": 184,
     "metadata": {},
     "output_type": "execute_result"
    }
   ],
   "source": [
    "s1 -s11"
   ]
  },
  {
   "cell_type": "markdown",
   "id": "8554084a-2056-4589-a354-11bd294487d5",
   "metadata": {},
   "source": [
    "# Update"
   ]
  },
  {
   "cell_type": "code",
   "execution_count": 176,
   "id": "2e4d29a9-da7b-4d1c-8712-ceaee1ac88ca",
   "metadata": {},
   "outputs": [],
   "source": [
    "s1.update(s2)"
   ]
  },
  {
   "cell_type": "code",
   "execution_count": 180,
   "id": "653a1bf8-c756-4c11-969d-fbf1fb76cb1a",
   "metadata": {},
   "outputs": [
    {
     "data": {
      "text/plain": [
       "{0, 1, 2, 3, 4, 5}"
      ]
     },
     "execution_count": 180,
     "metadata": {},
     "output_type": "execute_result"
    }
   ],
   "source": [
    "s1"
   ]
  },
  {
   "cell_type": "code",
   "execution_count": 162,
   "id": "fdff1501-fd56-4ace-b80f-34aa7c0451fb",
   "metadata": {},
   "outputs": [],
   "source": [
    "# Difference"
   ]
  },
  {
   "cell_type": "code",
   "execution_count": 168,
   "id": "5f303a66-a351-4301-970c-77f5c3227415",
   "metadata": {},
   "outputs": [
    {
     "data": {
      "text/plain": [
       "{1, 3, 5}"
      ]
     },
     "execution_count": 168,
     "metadata": {},
     "output_type": "execute_result"
    }
   ],
   "source": [
    "s1.difference(s11)"
   ]
  },
  {
   "cell_type": "code",
   "execution_count": 170,
   "id": "9bcc6797-bf21-402b-8204-446d86820fb7",
   "metadata": {},
   "outputs": [
    {
     "data": {
      "text/plain": [
       "set()"
      ]
     },
     "execution_count": 170,
     "metadata": {},
     "output_type": "execute_result"
    }
   ],
   "source": [
    "s11.difference(s1)"
   ]
  },
  {
   "cell_type": "code",
   "execution_count": 134,
   "id": "42825f81-57cc-419c-83cc-6fc123538008",
   "metadata": {},
   "outputs": [
    {
     "data": {
      "text/plain": [
       "set()"
      ]
     },
     "execution_count": 134,
     "metadata": {},
     "output_type": "execute_result"
    }
   ],
   "source": [
    "s1.clear()\n",
    "s1"
   ]
  },
  {
   "cell_type": "code",
   "execution_count": 140,
   "id": "a639e31f-f21d-43ec-af27-261ade42d713",
   "metadata": {},
   "outputs": [
    {
     "data": {
      "text/plain": [
       "{0}"
      ]
     },
     "execution_count": 140,
     "metadata": {},
     "output_type": "execute_result"
    }
   ],
   "source": [
    "s2"
   ]
  },
  {
   "cell_type": "code",
   "execution_count": 144,
   "id": "515bdfee-9ba4-4885-8b2e-7ca6f7f9b310",
   "metadata": {},
   "outputs": [],
   "source": [
    "s10 = s2"
   ]
  },
  {
   "cell_type": "code",
   "execution_count": 146,
   "id": "35c91c4c-4c5b-4711-9447-3a2057ef3876",
   "metadata": {},
   "outputs": [],
   "source": [
    "s2.add(1)"
   ]
  },
  {
   "cell_type": "code",
   "execution_count": 152,
   "id": "3bf9204d-137e-4083-8e8d-22f7682345fb",
   "metadata": {},
   "outputs": [
    {
     "data": {
      "text/plain": [
       "({0, 1}, {0, 1})"
      ]
     },
     "execution_count": 152,
     "metadata": {},
     "output_type": "execute_result"
    }
   ],
   "source": [
    "s10,s2"
   ]
  },
  {
   "cell_type": "code",
   "execution_count": 154,
   "id": "c74bf696-2c89-4f46-ad58-aa3a219f8059",
   "metadata": {},
   "outputs": [],
   "source": [
    "s2Copy = s2.copy()\n",
    "s2.add(2)\n"
   ]
  },
  {
   "cell_type": "code",
   "execution_count": 156,
   "id": "fbd24033-e840-4ece-b210-ebf065d6c74f",
   "metadata": {},
   "outputs": [
    {
     "data": {
      "text/plain": [
       "({0, 1, 2}, {0, 1})"
      ]
     },
     "execution_count": 156,
     "metadata": {},
     "output_type": "execute_result"
    }
   ],
   "source": [
    "s2,s2Copy"
   ]
  },
  {
   "cell_type": "code",
   "execution_count": 124,
   "id": "ae2ed9fe-e092-444a-8a11-eeae922f03d7",
   "metadata": {},
   "outputs": [
    {
     "data": {
      "text/plain": [
       "{1, 2, 3, 4, 5}"
      ]
     },
     "execution_count": 124,
     "metadata": {},
     "output_type": "execute_result"
    }
   ],
   "source": [
    "s1"
   ]
  },
  {
   "cell_type": "code",
   "execution_count": 126,
   "id": "bde97db8-0131-47b5-8fd9-2d8424368cf3",
   "metadata": {},
   "outputs": [
    {
     "data": {
      "text/plain": [
       "1"
      ]
     },
     "execution_count": 126,
     "metadata": {},
     "output_type": "execute_result"
    }
   ],
   "source": [
    "s1.pop()"
   ]
  },
  {
   "cell_type": "code",
   "execution_count": 92,
   "id": "d532bb43-f2c4-4d4f-a5f7-417424348c29",
   "metadata": {},
   "outputs": [
    {
     "data": {
      "text/plain": [
       "{1, 2, 3, 6}"
      ]
     },
     "execution_count": 92,
     "metadata": {},
     "output_type": "execute_result"
    }
   ],
   "source": [
    "s1.add(6)\n",
    "s1"
   ]
  },
  {
   "cell_type": "code",
   "execution_count": 82,
   "id": "3bb15d84-cd52-45c7-a238-ca508d59e8af",
   "metadata": {},
   "outputs": [],
   "source": [
    "s1.remove(4)"
   ]
  },
  {
   "cell_type": "code",
   "execution_count": 86,
   "id": "64456f1c-f290-4d8e-8d7a-bb3e9b940a77",
   "metadata": {},
   "outputs": [
    {
     "data": {
      "text/plain": [
       "{1, 2, 3, 6}"
      ]
     },
     "execution_count": 86,
     "metadata": {},
     "output_type": "execute_result"
    }
   ],
   "source": [
    "s1"
   ]
  },
  {
   "cell_type": "code",
   "execution_count": 94,
   "id": "cd763b50-f2ce-4eea-af9f-7dc9a41af9c4",
   "metadata": {},
   "outputs": [],
   "source": [
    "s1.remove(2)"
   ]
  },
  {
   "cell_type": "code",
   "execution_count": 96,
   "id": "4dc621ed-b6ce-4b63-ab9f-e7d35955742a",
   "metadata": {},
   "outputs": [
    {
     "data": {
      "text/plain": [
       "{1, 3, 6}"
      ]
     },
     "execution_count": 96,
     "metadata": {},
     "output_type": "execute_result"
    }
   ],
   "source": [
    "s1"
   ]
  },
  {
   "cell_type": "code",
   "execution_count": 100,
   "id": "141ae5cc-b455-4949-814b-bd6d489760ab",
   "metadata": {},
   "outputs": [],
   "source": [
    "'''Remove an element from a set if it is a member.\n",
    "\n",
    "Unlike set.remove(), the discard() method does not raise\n",
    "an exception when an element is missing from the set.'''\n",
    "\n",
    "s1.discard(12324)"
   ]
  },
  {
   "cell_type": "code",
   "execution_count": 104,
   "id": "a1100869-f29b-4c19-9281-829349a64838",
   "metadata": {},
   "outputs": [
    {
     "data": {
      "text/plain": [
       "{1, 3, 6}"
      ]
     },
     "execution_count": 104,
     "metadata": {},
     "output_type": "execute_result"
    }
   ],
   "source": [
    "s1"
   ]
  },
  {
   "cell_type": "code",
   "execution_count": 108,
   "id": "94970946-875f-4f82-889a-bda5e57ce352",
   "metadata": {},
   "outputs": [],
   "source": [
    "s1.discard(1)"
   ]
  },
  {
   "cell_type": "code",
   "execution_count": 112,
   "id": "00faa6fe-893f-4a07-b2ad-9dbb85ae80de",
   "metadata": {},
   "outputs": [
    {
     "data": {
      "text/plain": [
       "{3, 6}"
      ]
     },
     "execution_count": 112,
     "metadata": {},
     "output_type": "execute_result"
    }
   ],
   "source": [
    "s1"
   ]
  },
  {
   "cell_type": "code",
   "execution_count": 114,
   "id": "5557e38a-b819-4598-938e-5e4945655f6c",
   "metadata": {},
   "outputs": [
    {
     "data": {
      "text/plain": [
       "{3, 6}"
      ]
     },
     "execution_count": 114,
     "metadata": {},
     "output_type": "execute_result"
    }
   ],
   "source": [
    "s1"
   ]
  }
 ],
 "metadata": {
  "kernelspec": {
   "display_name": "Python 3 (ipykernel)",
   "language": "python",
   "name": "python3"
  },
  "language_info": {
   "codemirror_mode": {
    "name": "ipython",
    "version": 3
   },
   "file_extension": ".py",
   "mimetype": "text/x-python",
   "name": "python",
   "nbconvert_exporter": "python",
   "pygments_lexer": "ipython3",
   "version": "3.11.5"
  }
 },
 "nbformat": 4,
 "nbformat_minor": 5
}
