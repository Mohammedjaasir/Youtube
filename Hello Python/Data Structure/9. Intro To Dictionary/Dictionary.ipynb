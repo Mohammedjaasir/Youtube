{
 "cells": [
  {
   "cell_type": "markdown",
   "id": "a89d7396-0e36-47e1-837b-66139168bb52",
   "metadata": {},
   "source": [
    "# Dictionary"
   ]
  },
  {
   "cell_type": "code",
   "execution_count": 2,
   "id": "bc4ae999-a95a-4665-a94a-f99a58a8c103",
   "metadata": {},
   "outputs": [],
   "source": [
    "d1 = {'python':2,'hello':1}"
   ]
  },
  {
   "cell_type": "code",
   "execution_count": 6,
   "id": "fd9c0b19-2abc-4396-94f9-d19237fe640b",
   "metadata": {},
   "outputs": [
    {
     "data": {
      "text/plain": [
       "dict"
      ]
     },
     "execution_count": 6,
     "metadata": {},
     "output_type": "execute_result"
    }
   ],
   "source": [
    "type(d1)"
   ]
  },
  {
   "cell_type": "code",
   "execution_count": 10,
   "id": "6c9e231b-f57f-4a38-ad30-e9aa9cb567ac",
   "metadata": {},
   "outputs": [
    {
     "data": {
      "text/plain": [
       "2"
      ]
     },
     "execution_count": 10,
     "metadata": {},
     "output_type": "execute_result"
    }
   ],
   "source": [
    "d1['python']"
   ]
  },
  {
   "cell_type": "code",
   "execution_count": 14,
   "id": "4dbbd8b8-fe76-4d95-9cd9-97a9a1b8acc2",
   "metadata": {},
   "outputs": [
    {
     "ename": "KeyError",
     "evalue": "'p'",
     "output_type": "error",
     "traceback": [
      "\u001b[0;31m---------------------------------------------------------------------------\u001b[0m",
      "\u001b[0;31mKeyError\u001b[0m                                  Traceback (most recent call last)",
      "Cell \u001b[0;32mIn[14], line 1\u001b[0m\n\u001b[0;32m----> 1\u001b[0m d1[\u001b[38;5;124m'\u001b[39m\u001b[38;5;124mp\u001b[39m\u001b[38;5;124m'\u001b[39m]\n",
      "\u001b[0;31mKeyError\u001b[0m: 'p'"
     ]
    }
   ],
   "source": [
    "d1['p']"
   ]
  },
  {
   "cell_type": "code",
   "execution_count": 28,
   "id": "d169a705-303d-4685-8e58-ec9fecec5694",
   "metadata": {},
   "outputs": [],
   "source": [
    "d2 = {\"name\":\"mayank\",\"age\":30,\"gadgets\":['ipad','android','magicPencil'],0:1000}"
   ]
  },
  {
   "cell_type": "code",
   "execution_count": 24,
   "id": "c3788a2b-a4c0-4922-b5c4-2609da12383e",
   "metadata": {},
   "outputs": [
    {
     "data": {
      "text/plain": [
       "{'name': 'mayank', 'age': 30, 'gadgets': ['ipad', 'android', 'magicPencil']}"
      ]
     },
     "execution_count": 24,
     "metadata": {},
     "output_type": "execute_result"
    }
   ],
   "source": [
    "d2"
   ]
  },
  {
   "cell_type": "code",
   "execution_count": 32,
   "id": "2bab25e3-7c1d-41ed-be84-882b1a9fc6eb",
   "metadata": {},
   "outputs": [
    {
     "data": {
      "text/plain": [
       "1000"
      ]
     },
     "execution_count": 32,
     "metadata": {},
     "output_type": "execute_result"
    }
   ],
   "source": [
    "d2[0]"
   ]
  },
  {
   "cell_type": "code",
   "execution_count": 34,
   "id": "ffae08d8-b94e-4a56-b331-5c77a1ae0f46",
   "metadata": {},
   "outputs": [
    {
     "name": "stdout",
     "output_type": "stream",
     "text": [
      "name\n",
      "age\n",
      "gadgets\n",
      "0\n"
     ]
    }
   ],
   "source": [
    "for k in d2:\n",
    "    print(k)"
   ]
  },
  {
   "cell_type": "code",
   "execution_count": 38,
   "id": "41887625-d42c-4e5e-ab67-f86bd4863a5f",
   "metadata": {},
   "outputs": [
    {
     "data": {
      "text/plain": [
       "dict_keys(['name', 'age', 'gadgets', 0])"
      ]
     },
     "execution_count": 38,
     "metadata": {},
     "output_type": "execute_result"
    }
   ],
   "source": [
    "d2.keys()"
   ]
  },
  {
   "cell_type": "code",
   "execution_count": 42,
   "id": "1bee96d1-dc73-4ec1-a150-d64878c4fa00",
   "metadata": {},
   "outputs": [
    {
     "data": {
      "text/plain": [
       "dict_values(['mayank', 30, ['ipad', 'android', 'magicPencil'], 1000])"
      ]
     },
     "execution_count": 42,
     "metadata": {},
     "output_type": "execute_result"
    }
   ],
   "source": [
    "d2.values()"
   ]
  },
  {
   "cell_type": "code",
   "execution_count": 44,
   "id": "f3cbb904-91cf-4364-9a7a-88073e1c4f60",
   "metadata": {},
   "outputs": [
    {
     "name": "stdout",
     "output_type": "stream",
     "text": [
      "mayank\n",
      "30\n",
      "['ipad', 'android', 'magicPencil']\n",
      "1000\n"
     ]
    }
   ],
   "source": [
    "for v in d2.values():\n",
    "    print(v)"
   ]
  },
  {
   "cell_type": "code",
   "execution_count": 46,
   "id": "e849f7b2-c989-4266-9843-753ff12b8489",
   "metadata": {},
   "outputs": [
    {
     "name": "stdout",
     "output_type": "stream",
     "text": [
      "key : name  Value : mayank\n",
      "key : age  Value : 30\n",
      "key : gadgets  Value : ['ipad', 'android', 'magicPencil']\n",
      "key : 0  Value : 1000\n"
     ]
    }
   ],
   "source": [
    "for key,value in d2.items():\n",
    "    print(f\"key : {key}  Value : {value}\")"
   ]
  },
  {
   "cell_type": "code",
   "execution_count": 52,
   "id": "74675778-44fd-45e0-a4fe-82b435ac6a4a",
   "metadata": {},
   "outputs": [
    {
     "data": {
      "text/plain": [
       "dict_items([('name', 'mayank'), ('age', 30), ('gadgets', ['ipad', 'android', 'magicPencil']), (0, 1000)])"
      ]
     },
     "execution_count": 52,
     "metadata": {},
     "output_type": "execute_result"
    }
   ],
   "source": [
    "d2.items()"
   ]
  }
 ],
 "metadata": {
  "kernelspec": {
   "display_name": "Python 3 (ipykernel)",
   "language": "python",
   "name": "python3"
  },
  "language_info": {
   "codemirror_mode": {
    "name": "ipython",
    "version": 3
   },
   "file_extension": ".py",
   "mimetype": "text/x-python",
   "name": "python",
   "nbconvert_exporter": "python",
   "pygments_lexer": "ipython3",
   "version": "3.11.7"
  }
 },
 "nbformat": 4,
 "nbformat_minor": 5
}
