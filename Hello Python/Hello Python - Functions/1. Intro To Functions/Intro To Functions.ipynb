{
 "cells": [
  {
   "cell_type": "markdown",
   "id": "96840514-9b49-439f-ace1-ace582acb5fa",
   "metadata": {},
   "source": [
    "# Intro To Function"
   ]
  },
  {
   "cell_type": "code",
   "execution_count": 3,
   "id": "7dd2c9c0-26f7-40af-bd33-b60fe890c573",
   "metadata": {},
   "outputs": [
    {
     "name": "stdout",
     "output_type": "stream",
     "text": [
      "Hello Python\n"
     ]
    }
   ],
   "source": [
    "print(\"Hello Python\")"
   ]
  },
  {
   "cell_type": "code",
   "execution_count": 7,
   "id": "2c3aa399-0bca-40c4-a6c2-55b89a42de8c",
   "metadata": {},
   "outputs": [
    {
     "data": {
      "text/plain": [
       "6"
      ]
     },
     "execution_count": 7,
     "metadata": {},
     "output_type": "execute_result"
    }
   ],
   "source": [
    "len(\"mayank\")"
   ]
  },
  {
   "cell_type": "code",
   "execution_count": 11,
   "id": "4b6cc91f-de5c-457b-a8e1-2f79bd0be09b",
   "metadata": {},
   "outputs": [
    {
     "data": {
      "text/plain": [
       "12"
      ]
     },
     "execution_count": 11,
     "metadata": {},
     "output_type": "execute_result"
    }
   ],
   "source": [
    "len(\"hello Python\")"
   ]
  },
  {
   "cell_type": "code",
   "execution_count": 21,
   "id": "1359ea12-129a-43c7-9ec2-850d4a221266",
   "metadata": {},
   "outputs": [],
   "source": [
    "s1 = \"Mayank\"\n",
    "s2 = \"Hello Python\"\n",
    "s3 = \"bfabfasobnoan\""
   ]
  },
  {
   "cell_type": "code",
   "execution_count": 17,
   "id": "86bfed5a-9be1-4ef6-8aeb-a8833c3eddce",
   "metadata": {},
   "outputs": [
    {
     "name": "stdout",
     "output_type": "stream",
     "text": [
      "6\n"
     ]
    }
   ],
   "source": [
    "l1 = 0\n",
    "for i in s1:\n",
    "    l1+=1\n",
    "print(l1)"
   ]
  },
  {
   "cell_type": "code",
   "execution_count": 19,
   "id": "8d2c2d42-8a74-420b-a6de-fe7a7fee281b",
   "metadata": {},
   "outputs": [
    {
     "name": "stdout",
     "output_type": "stream",
     "text": [
      "12\n"
     ]
    }
   ],
   "source": [
    "l2 = 0\n",
    "for i in s2:\n",
    "    l2+=1\n",
    "print(l2)"
   ]
  },
  {
   "cell_type": "code",
   "execution_count": 29,
   "id": "03cabf2c-7b2c-4a04-b024-8d696c778d75",
   "metadata": {},
   "outputs": [
    {
     "name": "stdout",
     "output_type": "stream",
     "text": [
      "13\n"
     ]
    }
   ],
   "source": [
    "l3 = 0\n",
    "for i in s3:\n",
    "    l3+=1\n",
    "print(l3)"
   ]
  },
  {
   "cell_type": "code",
   "execution_count": null,
   "id": "dfaf831d-7c34-4fdc-bea2-54e4607ad67b",
   "metadata": {},
   "outputs": [],
   "source": [
    "l3 = 0\n",
    "i=0\n",
    "while i "
   ]
  },
  {
   "cell_type": "code",
   "execution_count": null,
   "id": "454efe05-8e87-482b-8cde-b8f69dbdd171",
   "metadata": {},
   "outputs": [],
   "source": []
  },
  {
   "cell_type": "code",
   "execution_count": null,
   "id": "18d4bd22-7da8-42c8-93ac-232f4417838e",
   "metadata": {},
   "outputs": [],
   "source": [
    "# Food\n",
    "\n",
    "gasOn()\n",
    "puttingThingsInPan()\n",
    "IncreasingTheFlame()"
   ]
  },
  {
   "cell_type": "code",
   "execution_count": null,
   "id": "44da75be-3942-402d-9605-375b3e0fa90d",
   "metadata": {},
   "outputs": [],
   "source": [
    "login()\n",
    "\n"
   ]
  },
  {
   "cell_type": "code",
   "execution_count": 31,
   "id": "08be0ecb-82b5-473e-b874-4bcc95dbe4f0",
   "metadata": {},
   "outputs": [],
   "source": [
    "import math"
   ]
  },
  {
   "cell_type": "code",
   "execution_count": 33,
   "id": "fc558e2d-4c76-4fbe-8c80-eb090e3f791c",
   "metadata": {},
   "outputs": [
    {
     "data": {
      "text/plain": [
       "2.23606797749979"
      ]
     },
     "execution_count": 33,
     "metadata": {},
     "output_type": "execute_result"
    }
   ],
   "source": [
    "math.sqrt(5)"
   ]
  },
  {
   "cell_type": "code",
   "execution_count": 35,
   "id": "65afdd80-d77e-4c29-a94d-26e48fbc7d0e",
   "metadata": {},
   "outputs": [
    {
     "data": {
      "text/plain": [
       "6"
      ]
     },
     "execution_count": 35,
     "metadata": {},
     "output_type": "execute_result"
    }
   ],
   "source": [
    "math.ceil(5.6)"
   ]
  }
 ],
 "metadata": {
  "kernelspec": {
   "display_name": "Python 3 (ipykernel)",
   "language": "python",
   "name": "python3"
  },
  "language_info": {
   "codemirror_mode": {
    "name": "ipython",
    "version": 3
   },
   "file_extension": ".py",
   "mimetype": "text/x-python",
   "name": "python",
   "nbconvert_exporter": "python",
   "pygments_lexer": "ipython3",
   "version": "3.11.5"
  }
 },
 "nbformat": 4,
 "nbformat_minor": 5
}
