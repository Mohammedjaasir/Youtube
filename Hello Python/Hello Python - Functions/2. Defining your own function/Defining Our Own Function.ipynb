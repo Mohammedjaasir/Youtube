{
 "cells": [
  {
   "cell_type": "markdown",
   "id": "b9076d49-24ef-48d1-96dd-2629f1ecdd05",
   "metadata": {},
   "source": [
    "# Define our Own Function\n"
   ]
  },
  {
   "cell_type": "raw",
   "id": "732617ac-d89d-446f-8277-146034a90b71",
   "metadata": {},
   "source": [
    "def Hello():\n",
    "    print(\"Hello Python\")\n"
   ]
  },
  {
   "cell_type": "code",
   "execution_count": 31,
   "id": "459fb848-c6f0-4d31-b3bd-f844fe04df76",
   "metadata": {},
   "outputs": [
    {
     "name": "stdout",
     "output_type": "stream",
     "text": [
      "Hello Python\n"
     ]
    }
   ],
   "source": [
    "ret = Hello()"
   ]
  },
  {
   "cell_type": "code",
   "execution_count": 35,
   "id": "456e68f3-2b1f-4851-bcf3-4a3ed1a9ab12",
   "metadata": {},
   "outputs": [
    {
     "name": "stdout",
     "output_type": "stream",
     "text": [
      "None\n"
     ]
    }
   ],
   "source": [
    "print(ret)"
   ]
  },
  {
   "cell_type": "code",
   "execution_count": 25,
   "id": "c5c788da-070e-437e-a96d-ed4bab00346d",
   "metadata": {},
   "outputs": [
    {
     "ename": "NameError",
     "evalue": "name 'Hello2' is not defined",
     "output_type": "error",
     "traceback": [
      "\u001b[0;31m---------------------------------------------------------------------------\u001b[0m",
      "\u001b[0;31mNameError\u001b[0m                                 Traceback (most recent call last)",
      "Cell \u001b[0;32mIn[25], line 1\u001b[0m\n\u001b[0;32m----> 1\u001b[0m Hello2()\n",
      "\u001b[0;31mNameError\u001b[0m: name 'Hello2' is not defined"
     ]
    }
   ],
   "source": [
    "Hello2()"
   ]
  },
  {
   "cell_type": "code",
   "execution_count": null,
   "id": "1bc748b1-587e-4a2f-b08b-ab09c569261a",
   "metadata": {},
   "outputs": [],
   "source": []
  },
  {
   "cell_type": "code",
   "execution_count": 37,
   "id": "260d936b-89ce-43f8-bb8a-3f68207fdf8b",
   "metadata": {},
   "outputs": [],
   "source": [
    "def Hello_return():\n",
    "    return \"Hello Python\""
   ]
  },
  {
   "cell_type": "code",
   "execution_count": 39,
   "id": "ee1831c3-692e-4413-ac6d-1219bb4e1c4d",
   "metadata": {},
   "outputs": [],
   "source": [
    "ret = Hello_return()"
   ]
  },
  {
   "cell_type": "code",
   "execution_count": 41,
   "id": "49600936-3445-487d-afbb-0b2a04424461",
   "metadata": {},
   "outputs": [
    {
     "name": "stdout",
     "output_type": "stream",
     "text": [
      "Hello Python\n"
     ]
    }
   ],
   "source": [
    "print(ret)"
   ]
  },
  {
   "cell_type": "code",
   "execution_count": 47,
   "id": "a33fd625-cebc-4a9f-a7da-7938d3ddfeac",
   "metadata": {},
   "outputs": [
    {
     "name": "stdout",
     "output_type": "stream",
     "text": [
      "hello\n"
     ]
    }
   ],
   "source": [
    "ret = print(\"hello\")"
   ]
  },
  {
   "cell_type": "code",
   "execution_count": 49,
   "id": "e2f69ba1-003f-421e-a6dc-b373a3fe7ae0",
   "metadata": {},
   "outputs": [
    {
     "name": "stdout",
     "output_type": "stream",
     "text": [
      "None\n"
     ]
    }
   ],
   "source": [
    "print(ret)"
   ]
  },
  {
   "cell_type": "code",
   "execution_count": 51,
   "id": "ab9855eb-423b-4669-a810-3017b606f264",
   "metadata": {},
   "outputs": [],
   "source": [
    "ret = len(\"Hello\")"
   ]
  },
  {
   "cell_type": "code",
   "execution_count": 53,
   "id": "45ae61b0-0aa2-433a-865a-74ee039ef3fc",
   "metadata": {},
   "outputs": [
    {
     "data": {
      "text/plain": [
       "5"
      ]
     },
     "execution_count": 53,
     "metadata": {},
     "output_type": "execute_result"
    }
   ],
   "source": [
    "ret"
   ]
  },
  {
   "cell_type": "code",
   "execution_count": 59,
   "id": "79bf99ce-6b38-41df-bfe8-f8f42fc22d25",
   "metadata": {},
   "outputs": [
    {
     "data": {
      "text/plain": [
       "'Hello Python'"
      ]
     },
     "execution_count": 59,
     "metadata": {},
     "output_type": "execute_result"
    }
   ],
   "source": [
    "Hello_return()"
   ]
  },
  {
   "cell_type": "code",
   "execution_count": null,
   "id": "11a181ce-bf1c-4bb8-b72c-9bcf070c745b",
   "metadata": {},
   "outputs": [],
   "source": []
  },
  {
   "cell_type": "code",
   "execution_count": 61,
   "id": "efa43070-9d2e-4fe3-a383-0e410f9c0feb",
   "metadata": {},
   "outputs": [
    {
     "ename": "TypeError",
     "evalue": "len() takes exactly one argument (0 given)",
     "output_type": "error",
     "traceback": [
      "\u001b[0;31m---------------------------------------------------------------------------\u001b[0m",
      "\u001b[0;31mTypeError\u001b[0m                                 Traceback (most recent call last)",
      "Cell \u001b[0;32mIn[61], line 1\u001b[0m\n\u001b[0;32m----> 1\u001b[0m \u001b[38;5;28mlen\u001b[39m()\n",
      "\u001b[0;31mTypeError\u001b[0m: len() takes exactly one argument (0 given)"
     ]
    }
   ],
   "source": [
    "len()"
   ]
  },
  {
   "cell_type": "markdown",
   "id": "ef7f378f-80f5-459c-b05a-b004f2de159d",
   "metadata": {},
   "source": [
    "### Length\n"
   ]
  },
  {
   "cell_type": "code",
   "execution_count": 63,
   "id": "bd2152ad-2f16-4f3d-9907-7bd6606fd60d",
   "metadata": {},
   "outputs": [],
   "source": [
    "def length(input):\n",
    "    ans =0\n",
    "    for i in input:\n",
    "        ans+=1\n",
    "    return ans"
   ]
  },
  {
   "cell_type": "code",
   "execution_count": 65,
   "id": "08b9853a-7cf4-4e26-a22c-d709985bdab1",
   "metadata": {},
   "outputs": [
    {
     "data": {
      "text/plain": [
       "6"
      ]
     },
     "execution_count": 65,
     "metadata": {},
     "output_type": "execute_result"
    }
   ],
   "source": [
    "\n",
    "s1 = \"Python\"\n",
    "length(s1)"
   ]
  }
 ],
 "metadata": {
  "kernelspec": {
   "display_name": "Python 3 (ipykernel)",
   "language": "python",
   "name": "python3"
  },
  "language_info": {
   "codemirror_mode": {
    "name": "ipython",
    "version": 3
   },
   "file_extension": ".py",
   "mimetype": "text/x-python",
   "name": "python",
   "nbconvert_exporter": "python",
   "pygments_lexer": "ipython3",
   "version": "3.11.5"
  }
 },
 "nbformat": 4,
 "nbformat_minor": 5
}
