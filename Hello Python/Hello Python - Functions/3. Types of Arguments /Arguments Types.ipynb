{
 "cells": [
  {
   "cell_type": "markdown",
   "id": "0ab7a471-8e14-48be-86f6-8667a1fc138c",
   "metadata": {},
   "source": [
    "# Arguments Types"
   ]
  },
  {
   "cell_type": "code",
   "execution_count": 7,
   "id": "65c7586b-ef82-49d7-bfed-6dc5ef04ce33",
   "metadata": {},
   "outputs": [],
   "source": [
    "def greet (inp):\n",
    "    print(\"Hello \" + str(inp))\n",
    "    "
   ]
  },
  {
   "cell_type": "code",
   "execution_count": 11,
   "id": "fcd8b7e5-469f-4fe9-a67d-1494f1c7b1a9",
   "metadata": {},
   "outputs": [
    {
     "name": "stdout",
     "output_type": "stream",
     "text": [
      "Hello Python\n"
     ]
    }
   ],
   "source": [
    "greet(\"Python\")"
   ]
  },
  {
   "cell_type": "code",
   "execution_count": 15,
   "id": "35932b70-b38d-4647-a2ef-ebac782315ab",
   "metadata": {},
   "outputs": [
    {
     "name": "stdout",
     "output_type": "stream",
     "text": [
      "Hello Mayank\n"
     ]
    }
   ],
   "source": [
    "greet(\"Mayank\")"
   ]
  },
  {
   "cell_type": "code",
   "execution_count": 19,
   "id": "a707ae2f-7d13-4c0b-8369-b949191e708d",
   "metadata": {},
   "outputs": [
    {
     "name": "stdout",
     "output_type": "stream",
     "text": [
      "Hello DSA \n"
     ]
    }
   ],
   "source": [
    "greet(\"DSA \")"
   ]
  },
  {
   "cell_type": "markdown",
   "id": "d78d12bc-adb0-40f1-a589-4a523cccccbc",
   "metadata": {},
   "source": [
    "# Positional Argument"
   ]
  },
  {
   "cell_type": "code",
   "execution_count": 27,
   "id": "38ca6d5e-7ed0-41e0-93e7-ef7edbf8468f",
   "metadata": {},
   "outputs": [],
   "source": [
    "def sum(firstNumber,secondNumber):\n",
    "    print(\"first Number\",firstNumber)\n",
    "    print(\"secondNumber\" , secondNumber)\n",
    "    return firstNumber + secondNumber"
   ]
  },
  {
   "cell_type": "code",
   "execution_count": 40,
   "id": "1ecb769e-4882-486e-90e6-f08e1ed0cc9b",
   "metadata": {},
   "outputs": [
    {
     "ename": "TypeError",
     "evalue": "sum() missing 1 required positional argument: 'c'",
     "output_type": "error",
     "traceback": [
      "\u001b[0;31m---------------------------------------------------------------------------\u001b[0m",
      "\u001b[0;31mTypeError\u001b[0m                                 Traceback (most recent call last)",
      "Cell \u001b[0;32mIn[40], line 1\u001b[0m\n\u001b[0;32m----> 1\u001b[0m \u001b[38;5;28msum\u001b[39m(\u001b[38;5;241m5\u001b[39m,\u001b[38;5;241m3\u001b[39m)\n",
      "\u001b[0;31mTypeError\u001b[0m: sum() missing 1 required positional argument: 'c'"
     ]
    }
   ],
   "source": [
    "sum(5,3)"
   ]
  },
  {
   "cell_type": "code",
   "execution_count": null,
   "id": "6652434a-7cbb-4ea0-95c3-4648fd42e383",
   "metadata": {},
   "outputs": [],
   "source": []
  },
  {
   "cell_type": "markdown",
   "id": "d71dd77e-5cd2-45b1-b85b-88c4562a4023",
   "metadata": {},
   "source": [
    "# Default Arguments"
   ]
  },
  {
   "cell_type": "code",
   "execution_count": 58,
   "id": "de8c9d58-9ab9-4941-ad41-0062fc7feceb",
   "metadata": {},
   "outputs": [],
   "source": [
    "def sum(a,b,c=0):\n",
    "    print(a,b,c)\n",
    "    return a+b+c"
   ]
  },
  {
   "cell_type": "code",
   "execution_count": 60,
   "id": "fb6b3284-9bf5-4a91-8dbf-a6961e67d148",
   "metadata": {},
   "outputs": [
    {
     "name": "stdout",
     "output_type": "stream",
     "text": [
      "1 2 3\n"
     ]
    },
    {
     "data": {
      "text/plain": [
       "6"
      ]
     },
     "execution_count": 60,
     "metadata": {},
     "output_type": "execute_result"
    }
   ],
   "source": [
    "sum(1,2,3)"
   ]
  },
  {
   "cell_type": "code",
   "execution_count": 62,
   "id": "2e528748-68da-4a65-a1a9-a773393f8f8d",
   "metadata": {},
   "outputs": [
    {
     "name": "stdout",
     "output_type": "stream",
     "text": [
      "4 5 6\n"
     ]
    },
    {
     "data": {
      "text/plain": [
       "15"
      ]
     },
     "execution_count": 62,
     "metadata": {},
     "output_type": "execute_result"
    }
   ],
   "source": [
    "sum(4,5,6)"
   ]
  },
  {
   "cell_type": "code",
   "execution_count": 66,
   "id": "ee55fcb2-42c3-4da1-9f3e-20a2d92a32d5",
   "metadata": {},
   "outputs": [
    {
     "name": "stdout",
     "output_type": "stream",
     "text": [
      "4 5 0\n"
     ]
    },
    {
     "data": {
      "text/plain": [
       "9"
      ]
     },
     "execution_count": 66,
     "metadata": {},
     "output_type": "execute_result"
    }
   ],
   "source": [
    "sum(4,5)"
   ]
  },
  {
   "cell_type": "code",
   "execution_count": null,
   "id": "43675015-d6bb-4302-9e72-1795ec63bec4",
   "metadata": {},
   "outputs": [],
   "source": []
  },
  {
   "cell_type": "code",
   "execution_count": 77,
   "id": "6b70a2ed-3e0c-419a-a628-6ef1e3f67cfb",
   "metadata": {},
   "outputs": [],
   "source": [
    "def getMobileNumber(mobileNumber,countryCode=\"+91\"):\n",
    "    return countryCode + mobileNumber"
   ]
  },
  {
   "cell_type": "code",
   "execution_count": 81,
   "id": "ca7f7cd7-a2bf-4a10-abbb-975541b4bd0e",
   "metadata": {},
   "outputs": [
    {
     "data": {
      "text/plain": [
       "'+01-99999999'"
      ]
     },
     "execution_count": 81,
     "metadata": {},
     "output_type": "execute_result"
    }
   ],
   "source": [
    "getMobileNumber(\"99999999\",\"+01-\")"
   ]
  },
  {
   "cell_type": "code",
   "execution_count": 83,
   "id": "46bd0c11-8d4c-4c72-ad9a-b6cad48bb260",
   "metadata": {},
   "outputs": [
    {
     "data": {
      "text/plain": [
       "'+9199999999'"
      ]
     },
     "execution_count": 83,
     "metadata": {},
     "output_type": "execute_result"
    }
   ],
   "source": [
    "getMobileNumber(\"99999999\")"
   ]
  },
  {
   "cell_type": "code",
   "execution_count": 85,
   "id": "9ed24c2d-76ef-433c-a984-dfc44c7c1492",
   "metadata": {},
   "outputs": [
    {
     "ename": "SyntaxError",
     "evalue": "non-default argument follows default argument (3858633727.py, line 1)",
     "output_type": "error",
     "traceback": [
      "\u001b[0;36m  Cell \u001b[0;32mIn[85], line 1\u001b[0;36m\u001b[0m\n\u001b[0;31m    def getMobileNumber(mobileNumber,countryCode=\"+91\",country):\u001b[0m\n\u001b[0m                                                       ^\u001b[0m\n\u001b[0;31mSyntaxError\u001b[0m\u001b[0;31m:\u001b[0m non-default argument follows default argument\n"
     ]
    }
   ],
   "source": [
    "def getMobileNumber(mobileNumber,countryCode=\"+91\",country):\n",
    "    return countryCode + mobileNumber"
   ]
  },
  {
   "cell_type": "code",
   "execution_count": null,
   "id": "8be3fb5e-90b8-4158-96a5-8d96e7bc918c",
   "metadata": {},
   "outputs": [],
   "source": [
    "getMobileNumber(\"9999\",\"India\",\"Bharat\")"
   ]
  },
  {
   "cell_type": "code",
   "execution_count": null,
   "id": "9cff7965-6062-4b25-a028-218f6a254658",
   "metadata": {},
   "outputs": [],
   "source": []
  },
  {
   "cell_type": "code",
   "execution_count": null,
   "id": "2295cad0-9588-4f42-ae87-60affa2310c8",
   "metadata": {},
   "outputs": [],
   "source": []
  },
  {
   "cell_type": "code",
   "execution_count": null,
   "id": "fbc4c5f4-7cd5-4a88-83c5-ee9bd592ccf0",
   "metadata": {},
   "outputs": [],
   "source": []
  },
  {
   "cell_type": "code",
   "execution_count": null,
   "id": "55323218-7cad-4239-9b3b-08218b464eec",
   "metadata": {},
   "outputs": [],
   "source": []
  },
  {
   "cell_type": "markdown",
   "id": "ab610812-ae92-400e-b271-8db7be8b75df",
   "metadata": {},
   "source": [
    "# Keyword Argument"
   ]
  },
  {
   "cell_type": "code",
   "execution_count": 92,
   "id": "310dd497-71b5-494d-b209-095d182ff24d",
   "metadata": {},
   "outputs": [],
   "source": [
    "def greet(First,Last,Country,Mobile):\n",
    "    print(f\"First name {First} and last name is {Last} {Country} {Mobile} \")"
   ]
  },
  {
   "cell_type": "code",
   "execution_count": 94,
   "id": "871cbc59-16bd-4ad8-90d9-19ace60e8cca",
   "metadata": {},
   "outputs": [
    {
     "name": "stdout",
     "output_type": "stream",
     "text": [
      "First name Mayank and last name is aggarwal India 99999 \n"
     ]
    }
   ],
   "source": [
    "greet(\"Mayank\",\"aggarwal\",\"India\",\"99999\")"
   ]
  },
  {
   "cell_type": "code",
   "execution_count": 108,
   "id": "e47c2462-2b03-4a29-8ecc-7a70cb1df189",
   "metadata": {},
   "outputs": [
    {
     "name": "stdout",
     "output_type": "stream",
     "text": [
      "First name john and last name is 999 USA DOe \n"
     ]
    }
   ],
   "source": [
    "greet(\"john\",\"999\",\"USA\",\"DOe\",)"
   ]
  },
  {
   "cell_type": "code",
   "execution_count": null,
   "id": "04e0c30d-ba83-494b-becf-a269ab7fea5a",
   "metadata": {},
   "outputs": [],
   "source": []
  },
  {
   "cell_type": "code",
   "execution_count": 104,
   "id": "009027e2-e82d-4a5d-82b3-a1da4f08de4b",
   "metadata": {},
   "outputs": [
    {
     "name": "stdout",
     "output_type": "stream",
     "text": [
      "First name Mayank and last name is Aggarwal India 9999 \n"
     ]
    }
   ],
   "source": [
    "greet(First = \"Mayank\",Mobile=\"9999\",Last = \"Aggarwal\",Country=\"India\")"
   ]
  },
  {
   "cell_type": "code",
   "execution_count": 112,
   "id": "95c49604-cce1-41a9-b507-974818849d76",
   "metadata": {},
   "outputs": [
    {
     "name": "stdout",
     "output_type": "stream",
     "text": [
      "My name   is    mayank\n"
     ]
    }
   ],
   "source": [
    "print(\"My name\" , \"is \", \"mayank\" , sep = '   ')"
   ]
  },
  {
   "cell_type": "code",
   "execution_count": 122,
   "id": "203fa834-41a1-40bc-8c18-b8508de25c12",
   "metadata": {},
   "outputs": [
    {
     "ename": "TypeError",
     "evalue": "greet() got multiple values for argument 'First'",
     "output_type": "error",
     "traceback": [
      "\u001b[0;31m---------------------------------------------------------------------------\u001b[0m",
      "\u001b[0;31mTypeError\u001b[0m                                 Traceback (most recent call last)",
      "Cell \u001b[0;32mIn[122], line 1\u001b[0m\n\u001b[0;32m----> 1\u001b[0m greet(\u001b[38;5;124m\"\u001b[39m\u001b[38;5;124mMayank\u001b[39m\u001b[38;5;124m\"\u001b[39m,\u001b[38;5;124m\"\u001b[39m\u001b[38;5;124maggarwal\u001b[39m\u001b[38;5;124m\"\u001b[39m, \u001b[38;5;124m'\u001b[39m\u001b[38;5;124mvoab\u001b[39m\u001b[38;5;124m'\u001b[39m,First\u001b[38;5;241m=\u001b[39m \u001b[38;5;124m'\u001b[39m\u001b[38;5;124m9358\u001b[39m\u001b[38;5;124m'\u001b[39m)\n",
      "\u001b[0;31mTypeError\u001b[0m: greet() got multiple values for argument 'First'"
     ]
    }
   ],
   "source": [
    "greet(\"Mayank\",\"aggarwal\", 'voab',First= '9358')"
   ]
  }
 ],
 "metadata": {
  "kernelspec": {
   "display_name": "Python 3 (ipykernel)",
   "language": "python",
   "name": "python3"
  },
  "language_info": {
   "codemirror_mode": {
    "name": "ipython",
    "version": 3
   },
   "file_extension": ".py",
   "mimetype": "text/x-python",
   "name": "python",
   "nbconvert_exporter": "python",
   "pygments_lexer": "ipython3",
   "version": "3.11.5"
  }
 },
 "nbformat": 4,
 "nbformat_minor": 5
}
