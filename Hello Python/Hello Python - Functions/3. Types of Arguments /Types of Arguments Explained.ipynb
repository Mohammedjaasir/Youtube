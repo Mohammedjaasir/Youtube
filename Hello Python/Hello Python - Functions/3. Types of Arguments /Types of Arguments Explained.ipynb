{
 "cells": [
  {
   "cell_type": "markdown",
   "metadata": {},
   "source": [
    "# Types of Arguments in Python"
   ]
  },
  {
   "cell_type": "markdown",
   "metadata": {},
   "source": [
    "## 1. Positional Arguments\n",
    "Positional arguments are the most common type of arguments in Python functions. The values passed into the function are assigned to the parameters in the order they are passed.\n",
    "\n",
    "### Example:\n",
    "```python\n",
    "def sum(a, b):\n",
    "    return a + b\n",
    "\n",
    "result = sum(3, 5)\n",
    "print(result)  # Output: 8\n",
    "```\n",
    "In this example, `a` will get the value `3` and `b` will get the value `5`."
   ]
  },
  {
   "cell_type": "code",
   "execution_count": null,
   "metadata": {},
   "outputs": [],
   "source": [
    "# Example of positional arguments\n",
    "def sum(a, b):\n",
    "    return a + b\n",
    "\n",
    "result = sum(3, 5)\n",
    "print(result)  # Output: 8"
   ]
  },
  {
   "cell_type": "markdown",
   "metadata": {},
   "source": [
    "## 2. Default Arguments\n",
    "Default arguments are used when you want to provide a default value to a parameter if no argument is passed for that parameter.\n",
    "\n",
    "### Example:\n",
    "```python\n",
    "def prod(a, b, c=1):\n",
    "    return a * b * c\n",
    "\n",
    "result1 = prod(3, 5)\n",
    "result2 = prod(3, 5, 2)\n",
    "print(result1)  # Output: 15\n",
    "print(result2)  # Output: 30\n",
    "```\n",
    "In this example, the default value for `c` is `1`. If `c` is not provided, it will use the default value."
   ]
  },
  {
   "cell_type": "code",
   "execution_count": null,
   "metadata": {},
   "outputs": [],
   "source": [
    "# Example of default arguments\n",
    "def prod(a, b, c=1):\n",
    "    return a * b * c\n",
    "\n",
    "result1 = prod(3, 5)\n",
    "result2 = prod(3, 5, 2)\n",
    "print(result1)  # Output: 15\n",
    "print(result2)  # Output: 30"
   ]
  },
  {
   "cell_type": "markdown",
   "metadata": {},
   "source": [
    "## 3. Keyword Arguments\n",
    "Keyword arguments are passed to the function by explicitly specifying the parameter name with its corresponding value. This allows you to pass arguments in a different order.\n",
    "\n",
    "### Example:\n",
    "```python\n",
    "def greet(first, last):\n",
    "    print(f\"Hello {first} {last}\")\n",
    "\n",
    "greet(last='Aggarwal', first='Mayank')  # Output: Hello Mayank Aggarwal\n",
    "```\n",
    "In this example, the arguments are passed using the parameter names, so the order does not matter."
   ]
  },
  {
   "cell_type": "code",
   "execution_count": null,
   "metadata": {},
   "outputs": [],
   "source": [
    "# Example of keyword arguments\n",
    "def greet(first, last):\n",
    "    print(f\"Hello {first} {last}\")\n",
    "\n",
    "greet(last='Aggarwal', first='Mayank')  # Output: Hello Mayank Aggarwal"
   ]
  },
  {
   "cell_type": "markdown",
   "metadata": {},
   "source": [
    "## 4. Variable-Length Arguments\n",
    "Python allows you to handle a variable number of arguments in a function using `*args` for non-keyword arguments and `**kwargs` for keyword arguments.\n",
    "\n",
    "### Example:\n",
    "```python\n",
    "def var_args(*args):\n",
    "    for arg in args:\n",
    "        print(arg)\n",
    "\n",
    "var_args(1, 2, 3, 4)  # Output: 1 2 3 4\n",
    "\n",
    "def var_kwargs(**kwargs):\n",
    "    for key, value in kwargs.items():\n",
    "        print(f\"{key}: {value}\")\n",
    "\n",
    "var_kwargs(name='Alice', age=25)  # Output: name: Alice, age: 25\n",
    "```\n",
    "In this example, `*args` collects all the positional arguments into a tuple, and `**kwargs` collects all the keyword arguments into a dictionary."
   ]
  },
  {
   "cell_type": "code",
   "execution_count": null,
   "metadata": {},
   "outputs": [],
   "source": [
    "# Example of variable-length arguments\n",
    "def var_args(*args):\n",
    "    for arg in args:\n",
    "        print(arg)\n",
    "\n",
    "var_args(1, 2, 3, 4)  # Output: 1 2 3 4\n",
    "\n",
    "def var_kwargs(**kwargs):\n",
    "    for key, value in kwargs.items():\n",
    "        print(f\"{key}: {value}\")\n",
    "\n",
    "var_kwargs(name='Alice', age=25)  # Output: name: Alice, age: 25"
   ]
  },
  {
   "cell_type": "markdown",
   "metadata": {},
   "source": [
    "## Industry Use Cases\n",
    "\n",
    "1. **Web Development**: Default arguments are commonly used in web frameworks like Django and Flask to handle optional parameters in views and routes.\n",
    "2. **Data Analysis**: In libraries like Pandas and Numpy, keyword arguments are used extensively to configure the behavior of functions and methods.\n",
    "3. **Machine Learning**: In machine learning libraries like Scikit-learn, functions often use keyword arguments to specify model parameters and configurations.\n",
    "4. **API Design**: When designing APIs, keyword and default arguments help in making the API more flexible and easier to use.\n",
    "5. **Automated Testing**: In testing frameworks like pytest, variable-length arguments are used to parametrize tests and handle different test cases efficiently."
   ]
  },
  {
   "cell_type": "markdown",
   "metadata": {},
   "source": [
    "# Questions\n",
    "\n",
    "1. What is a positional argument? Provide an example.\n",
    "2. How do default arguments work in Python? Provide an example.\n",
    "3. Explain keyword arguments with an example.\n",
    "4. What are variable-length arguments in Python? How are they useful?\n",
    "5. Write a function that uses both `*args` and `**kwargs`. Provide an example call to this function.\n",
    "6. How can default arguments be useful in API design?\n",
    "7. Write a function that takes a variable number of positional arguments and prints each one.\n",
    "8. Write a function that takes a variable number of keyword arguments and prints each key-value pair.\n",
    "9. How are keyword arguments used in data analysis libraries?\n",
    "10. Explain how variable-length arguments can be useful in automated testing."
   ]
  },
  {
   "cell_type": "markdown",
   "metadata": {},
   "source": [
    "# Answers\n",
    "\n",
    "1. A positional argument is an argument that is passed to a function in a specific position. For example:\n",
    "    ```python\n",
    "    def add(a, b):\n",
    "        return a + b\n",
    "    result = add(2, 3)  # 2 and 3 are positional arguments\n",
    "    ```\n",
    "2. Default arguments are used when you want to provide a default value to a parameter if no argument is passed for that parameter. For example:\n",
    "    ```python\n",
    "    def multiply(a, b=1):\n",
    "        return a * b\n",
    "    result = multiply(4)  # 4 * 1 = 4\n",
    "    ```\n",
    "3. Keyword arguments are arguments that are passed to a function by explicitly specifying the parameter name with its corresponding value. For example:\n",
    "    ```python\n",
    "    def greet(first, last):\n",
    "        print(f\"Hello, {first} {last}\")\n",
    "    greet(first='John', last='Doe')  # Output: Hello, John Doe\n",
    "    ```\n",
    "4. Variable-length arguments allow a function to accept an arbitrary number of positional or keyword arguments. They are useful when you do not know in advance how many arguments will be passed. For example:\n",
    "    ```python\n",
    "    def print_args(*args):\n",
    "        for arg in args:\n",
    "            print(arg)\n",
    "    print_args(1, 2, 3, 4)\n",
    "    ```\n",
    "5. Example function using both `*args` and `**kwargs`:\n",
    "    ```python\n",
    "    def example_function(*args, **kwargs):\n",
    "        print(\"Positional arguments:\", args)\n",
    "        print(\"Keyword arguments:\", kwargs)\n",
    "    example_function(1, 2, 3, a='apple', b='banana')\n",
    "    ```\n",
    "6. Default arguments can be useful in API design by allowing functions to have optional parameters, making the API more flexible and user-friendly.\n",
    "7. Function that takes a variable number of positional arguments:\n",
    "    ```python\n",
    "    def print_positional_args(*args):\n",
    "        for arg in args:\n",
    "            print(arg)\n",
    "    print_positional_args(10, 20, 30)\n",
    "    ```\n",
    "8. Function that takes a variable number of keyword arguments:\n",
    "    ```python\n",
    "    def print_keyword_args(**kwargs):\n",
    "        for key, value in kwargs.items():\n",
    "            print(f\"{key}: {value}\")\n",
    "    print_keyword_args(name='Alice', age=30)\n",
    "    ```\n",
    "9. In data analysis libraries like Pandas, keyword arguments are used to specify configurations for functions and methods. For example, the `read_csv` function in Pandas uses keyword arguments to specify parameters like `delimiter`, `header`, and `dtype`.\n",
    "10. Variable-length arguments can be useful in automated testing to handle different test cases efficiently. For example, a test function can accept multiple test inputs and expected outputs as `*args` and `**kwargs` to run multiple test scenarios."
   ]
  }
 ],
 "metadata": {
  "kernelspec": {
   "display_name": "Python 3 (ipykernel)",
   "language": "python",
   "name": "python3"
  },
  "language_info": {
   "codemirror_mode": {
    "name": "ipython",
    "version": 3
   },
   "file_extension": ".py",
   "mimetype": "text/x-python",
   "name": "python",
   "nbconvert_exporter": "python",
   "pygments_lexer": "ipython3",
   "version": "3.11.5"
  }
 },
 "nbformat": 4,
 "nbformat_minor": 4
}
