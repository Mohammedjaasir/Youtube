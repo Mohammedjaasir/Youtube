{
 "cells": [
  {
   "cell_type": "markdown",
   "id": "962dc480-a4cc-4f41-94be-b6371a5bd483",
   "metadata": {},
   "source": [
    "# *args and **Kwargs"
   ]
  },
  {
   "cell_type": "code",
   "execution_count": 4,
   "id": "24112682-8907-4c36-b07f-50c33c94231c",
   "metadata": {},
   "outputs": [],
   "source": [
    "def sum(a,b):\n",
    "    return a+ b"
   ]
  },
  {
   "cell_type": "code",
   "execution_count": 8,
   "id": "1c4f6248-af36-45b0-bf1d-c63bdc3d0425",
   "metadata": {},
   "outputs": [],
   "source": [
    "def sum(a,b,c=0,d=0):\n",
    "    return a+b+c"
   ]
  },
  {
   "cell_type": "code",
   "execution_count": 10,
   "id": "136c4653-6242-4e16-856a-b07a4e69141c",
   "metadata": {},
   "outputs": [
    {
     "data": {
      "text/plain": [
       "3"
      ]
     },
     "execution_count": 10,
     "metadata": {},
     "output_type": "execute_result"
    }
   ],
   "source": [
    "sum(1,2)"
   ]
  },
  {
   "cell_type": "code",
   "execution_count": 14,
   "id": "bc8dd5fc-1706-4bf8-b36d-df9d6f1600c0",
   "metadata": {},
   "outputs": [
    {
     "data": {
      "text/plain": [
       "9"
      ]
     },
     "execution_count": 14,
     "metadata": {},
     "output_type": "execute_result"
    }
   ],
   "source": [
    "sum(2,3,4)"
   ]
  },
  {
   "cell_type": "code",
   "execution_count": 18,
   "id": "d68cae16-b327-4b4e-99ff-33b7f640149b",
   "metadata": {},
   "outputs": [
    {
     "data": {
      "text/plain": [
       "15"
      ]
     },
     "execution_count": 18,
     "metadata": {},
     "output_type": "execute_result"
    }
   ],
   "source": [
    "sum(4,5,6,7)"
   ]
  },
  {
   "cell_type": "code",
   "execution_count": 20,
   "id": "5feebbd2-282f-4e6f-83a4-8676b99fbbde",
   "metadata": {},
   "outputs": [
    {
     "ename": "TypeError",
     "evalue": "sum() takes from 2 to 4 positional arguments but 5 were given",
     "output_type": "error",
     "traceback": [
      "\u001b[0;31m---------------------------------------------------------------------------\u001b[0m",
      "\u001b[0;31mTypeError\u001b[0m                                 Traceback (most recent call last)",
      "Cell \u001b[0;32mIn[20], line 1\u001b[0m\n\u001b[0;32m----> 1\u001b[0m \u001b[38;5;28msum\u001b[39m(\u001b[38;5;241m4\u001b[39m,\u001b[38;5;241m5\u001b[39m,\u001b[38;5;241m6\u001b[39m,\u001b[38;5;241m7\u001b[39m,\u001b[38;5;241m8\u001b[39m)\n",
      "\u001b[0;31mTypeError\u001b[0m: sum() takes from 2 to 4 positional arguments but 5 were given"
     ]
    }
   ],
   "source": [
    "sum(4,5,6,7,8)"
   ]
  },
  {
   "cell_type": "code",
   "execution_count": 22,
   "id": "dcba9f08-390f-4e41-9f50-fe02b3484d57",
   "metadata": {},
   "outputs": [
    {
     "name": "stdout",
     "output_type": "stream",
     "text": [
      "Hello\n"
     ]
    }
   ],
   "source": [
    "print(\"Hello\")"
   ]
  },
  {
   "cell_type": "code",
   "execution_count": 26,
   "id": "e6da6433-6c64-428a-b91d-3fd1b89c62b7",
   "metadata": {},
   "outputs": [
    {
     "name": "stdout",
     "output_type": "stream",
     "text": [
      "Hello python\n"
     ]
    }
   ],
   "source": [
    "print(\"Hello\",\"python\")"
   ]
  },
  {
   "cell_type": "code",
   "execution_count": 30,
   "id": "1135bdda-dba2-4d09-aae7-7e1e60879d65",
   "metadata": {},
   "outputs": [
    {
     "name": "stdout",
     "output_type": "stream",
     "text": [
      "Hello  Python  Taught by mayank\n"
     ]
    }
   ],
   "source": [
    "print(\"Hello \",\"Python \", \"Taught by mayank\")"
   ]
  },
  {
   "cell_type": "code",
   "execution_count": null,
   "id": "fcd3ebe5-ae5f-4cfa-b4dd-c41247c13170",
   "metadata": {},
   "outputs": [],
   "source": []
  },
  {
   "cell_type": "code",
   "execution_count": null,
   "id": "b0f77483-1be0-4ea0-8c3b-2c644dc68657",
   "metadata": {},
   "outputs": [],
   "source": []
  },
  {
   "cell_type": "markdown",
   "id": "6698bb7e-9690-4a13-961c-7ca2f169ab7f",
   "metadata": {},
   "source": [
    "*args - Variable Length Positional Arguments"
   ]
  },
  {
   "cell_type": "code",
   "execution_count": 42,
   "id": "e393ce9f-79a2-4d59-b318-080db99949bd",
   "metadata": {},
   "outputs": [],
   "source": [
    "def sum_Better(*args, operation = 'add'):\n",
    "    sum = 0\n",
    "    for i in args:\n",
    "        sum+=i\n",
    "    print(sum)"
   ]
  },
  {
   "cell_type": "code",
   "execution_count": 46,
   "id": "b33983d0-60bb-4c79-9d9b-89ceab17928e",
   "metadata": {},
   "outputs": [
    {
     "name": "stdout",
     "output_type": "stream",
     "text": [
      "55\n"
     ]
    }
   ],
   "source": [
    "sum_Better(1,2,3,4,5,6,7,8,9,10)"
   ]
  },
  {
   "cell_type": "code",
   "execution_count": null,
   "id": "80324db0-f2f1-4b32-9fea-7bf887432d72",
   "metadata": {},
   "outputs": [],
   "source": [
    "#  print(*args, sep=' ', end='\\n', file=None, flush=False)\n",
    "\n",
    "print"
   ]
  },
  {
   "cell_type": "code",
   "execution_count": null,
   "id": "ecf75354-fc67-45df-9389-ea180a2e2adf",
   "metadata": {},
   "outputs": [],
   "source": []
  },
  {
   "cell_type": "code",
   "execution_count": null,
   "id": "4d011113-2528-47ae-ad9b-608a2f961c23",
   "metadata": {},
   "outputs": [],
   "source": []
  },
  {
   "cell_type": "code",
   "execution_count": null,
   "id": "81dbaf6c-e5d7-450e-b5bf-51297388bac0",
   "metadata": {},
   "outputs": [],
   "source": []
  },
  {
   "cell_type": "code",
   "execution_count": null,
   "id": "451da0de-1787-4307-b534-102b2b2b77ab",
   "metadata": {},
   "outputs": [],
   "source": []
  },
  {
   "cell_type": "markdown",
   "id": "fb4dee5c-2fbf-43d2-8f76-ccf526fa465b",
   "metadata": {},
   "source": [
    "## *Kwargs"
   ]
  },
  {
   "cell_type": "code",
   "execution_count": null,
   "id": "6e0f12f8-d6fd-4b44-999d-d2ea2189ce50",
   "metadata": {},
   "outputs": [],
   "source": []
  },
  {
   "cell_type": "code",
   "execution_count": 74,
   "id": "ffb012d8-4e26-4d58-bca5-f8a1d577e183",
   "metadata": {},
   "outputs": [],
   "source": [
    "def greet(**kwargs):\n",
    "    print(kwargs)\n",
    "    \n",
    "    for k,v in kwargs.values():\n",
    "        print(k ,\"  -----> \", v)"
   ]
  },
  {
   "cell_type": "code",
   "execution_count": 76,
   "id": "13ae0ed3-c82d-46c5-bd6d-a46c2fbee445",
   "metadata": {},
   "outputs": [
    {
     "name": "stdout",
     "output_type": "stream",
     "text": [
      "{'first': 'Mayank', 'second': 'Aggarwal'}\n",
      "first   ----->  Mayank\n",
      "second   ----->  Aggarwal\n"
     ]
    }
   ],
   "source": [
    "greet(first= \"Mayank\", second = \"Aggarwal\")"
   ]
  },
  {
   "cell_type": "code",
   "execution_count": null,
   "id": "1ecbc678-8550-4d29-94d1-6e1deea09215",
   "metadata": {},
   "outputs": [],
   "source": []
  },
  {
   "cell_type": "code",
   "execution_count": null,
   "id": "a9c5abb0-6acf-4ee9-b32f-3667d38209d7",
   "metadata": {},
   "outputs": [],
   "source": []
  },
  {
   "cell_type": "code",
   "execution_count": 98,
   "id": "aa90fd86-0321-4e6f-8e8f-28a5f13bd410",
   "metadata": {},
   "outputs": [],
   "source": [
    "def fun1(*args, **kwargs):\n",
    "    print(args,kwargs)"
   ]
  },
  {
   "cell_type": "code",
   "execution_count": 104,
   "id": "23833391-7ef0-415f-88d9-af40dfbe61e7",
   "metadata": {},
   "outputs": [
    {
     "name": "stdout",
     "output_type": "stream",
     "text": [
      "() {'first': 1}\n"
     ]
    }
   ],
   "source": [
    "fun1(first = 1)"
   ]
  }
 ],
 "metadata": {
  "kernelspec": {
   "display_name": "Python 3 (ipykernel)",
   "language": "python",
   "name": "python3"
  },
  "language_info": {
   "codemirror_mode": {
    "name": "ipython",
    "version": 3
   },
   "file_extension": ".py",
   "mimetype": "text/x-python",
   "name": "python",
   "nbconvert_exporter": "python",
   "pygments_lexer": "ipython3",
   "version": "3.11.5"
  }
 },
 "nbformat": 4,
 "nbformat_minor": 5
}
