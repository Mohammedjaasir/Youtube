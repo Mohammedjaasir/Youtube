{
 "cells": [
  {
   "cell_type": "markdown",
   "id": "22dd4886-13c9-40dd-be6b-1d027afeb7b4",
   "metadata": {},
   "source": [
    "# Scope Of Variable"
   ]
  },
  {
   "cell_type": "code",
   "execution_count": 15,
   "id": "f0402630-6892-46f2-9ea0-a56961c2e764",
   "metadata": {},
   "outputs": [
    {
     "name": "stdout",
     "output_type": "stream",
     "text": [
      "5\n",
      "10\n"
     ]
    }
   ],
   "source": [
    "a = 10\n",
    "\n",
    "def greet(name):\n",
    "    print (\"Hello\",name)\n",
    "\n",
    "def fun():\n",
    "    a = 5\n",
    "    print(a)\n",
    "\n",
    "fun()\n",
    "print(a)\n"
   ]
  },
  {
   "cell_type": "code",
   "execution_count": null,
   "id": "82457a19-8579-49dd-bb81-9a18fcea8472",
   "metadata": {},
   "outputs": [],
   "source": []
  },
  {
   "cell_type": "code",
   "execution_count": 17,
   "id": "21a9ae39-6c00-4c5b-86ed-f213e53a699c",
   "metadata": {},
   "outputs": [
    {
     "name": "stdout",
     "output_type": "stream",
     "text": [
      "5\n",
      "10\n"
     ]
    },
    {
     "ename": "NameError",
     "evalue": "name 'c' is not defined",
     "output_type": "error",
     "traceback": [
      "\u001b[0;31m---------------------------------------------------------------------------\u001b[0m",
      "\u001b[0;31mNameError\u001b[0m                                 Traceback (most recent call last)",
      "Cell \u001b[0;32mIn[17], line 9\u001b[0m\n\u001b[1;32m      5\u001b[0m     \u001b[38;5;28mprint\u001b[39m(c)\n\u001b[1;32m      8\u001b[0m g()\n\u001b[0;32m----> 9\u001b[0m \u001b[38;5;28mprint\u001b[39m(c)\n",
      "\u001b[0;31mNameError\u001b[0m: name 'c' is not defined"
     ]
    }
   ],
   "source": [
    "a=5\n",
    "def g():\n",
    "    c = 10\n",
    "    print(a)\n",
    "    print(c)\n",
    "\n",
    "\n",
    "g()\n",
    "print(c)"
   ]
  },
  {
   "cell_type": "code",
   "execution_count": null,
   "id": "0c6ffda0-8938-4c5f-b654-4d343818536f",
   "metadata": {},
   "outputs": [],
   "source": []
  },
  {
   "cell_type": "code",
   "execution_count": null,
   "id": "8571272a-1188-4bbb-9d8d-af2886779add",
   "metadata": {},
   "outputs": [],
   "source": []
  },
  {
   "cell_type": "code",
   "execution_count": 23,
   "id": "40951188-db87-4d46-9269-4608707e571f",
   "metadata": {},
   "outputs": [
    {
     "name": "stdout",
     "output_type": "stream",
     "text": [
      "Hello Python\n",
      "Hello Python\n"
     ]
    }
   ],
   "source": [
    "name = \"Hello DSA\"\n",
    "\n",
    "\n",
    "def outputCourseName():\n",
    "    global name2 \n",
    "    name2 = \"Hello Python\"\n",
    "    print(name2)\n",
    "\n",
    "outputCourseName()\n",
    "print(name2)"
   ]
  },
  {
   "cell_type": "code",
   "execution_count": 25,
   "id": "0a5cfc07-8bd8-4fa8-8198-e19209adb6c9",
   "metadata": {},
   "outputs": [
    {
     "name": "stdout",
     "output_type": "stream",
     "text": [
      "Hello Python\n",
      "Hello Python\n"
     ]
    }
   ],
   "source": [
    "name = \"Hello DSA\"\n",
    "\n",
    "\n",
    "def outputCourseName():\n",
    "    global name \n",
    "    name = \"Hello Python\"\n",
    "    print(name)\n",
    "\n",
    "outputCourseName()\n",
    "print(name)"
   ]
  },
  {
   "cell_type": "code",
   "execution_count": null,
   "id": "53ed63c3-7bc8-41cc-8c0c-0e55961480d2",
   "metadata": {},
   "outputs": [],
   "source": []
  },
  {
   "cell_type": "code",
   "execution_count": 27,
   "id": "df31d553-1a4b-4106-aa53-0c52bbe0947a",
   "metadata": {},
   "outputs": [
    {
     "name": "stdout",
     "output_type": "stream",
     "text": [
      "I Love PythonI Love JS\n",
      "I Love PythonI Love JS\n"
     ]
    }
   ],
   "source": [
    "s1 = \"I Love Python\"\n",
    "\n",
    "def h():\n",
    "    global s1\n",
    "    s1 += \"I Love JS\"\n",
    "    print(s1)\n",
    "\n",
    "h()\n",
    "print(s1)"
   ]
  },
  {
   "cell_type": "code",
   "execution_count": 29,
   "id": "01bfb577-621c-4d2e-9bff-6b89941b5e1a",
   "metadata": {},
   "outputs": [
    {
     "name": "stdout",
     "output_type": "stream",
     "text": [
      "ABC\n",
      "ABC\n"
     ]
    }
   ],
   "source": [
    "s1 = \"I Love Python\"\n",
    "\n",
    "def h():\n",
    "    global s1 \n",
    "    s1=\"ABC\"\n",
    "    print(s1)\n",
    "\n",
    "h()\n",
    "print(s1)"
   ]
  }
 ],
 "metadata": {
  "kernelspec": {
   "display_name": "Python 3 (ipykernel)",
   "language": "python",
   "name": "python3"
  },
  "language_info": {
   "codemirror_mode": {
    "name": "ipython",
    "version": 3
   },
   "file_extension": ".py",
   "mimetype": "text/x-python",
   "name": "python",
   "nbconvert_exporter": "python",
   "pygments_lexer": "ipython3",
   "version": "3.11.5"
  }
 },
 "nbformat": 4,
 "nbformat_minor": 5
}
