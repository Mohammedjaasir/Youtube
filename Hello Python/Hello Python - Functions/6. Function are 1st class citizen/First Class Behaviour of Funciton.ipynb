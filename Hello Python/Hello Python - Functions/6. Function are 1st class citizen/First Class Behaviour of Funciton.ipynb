{
 "cells": [
  {
   "cell_type": "code",
   "execution_count": 3,
   "id": "7d25c1cc-1d31-4b95-be1f-ff6a98f45e8d",
   "metadata": {},
   "outputs": [],
   "source": [
    "def sum(a,b):\n",
    "    return a+b"
   ]
  },
  {
   "cell_type": "code",
   "execution_count": 5,
   "id": "0b14332e-281d-4f83-bcc0-f22ea1871df4",
   "metadata": {},
   "outputs": [],
   "source": [
    "fun1 = sum"
   ]
  },
  {
   "cell_type": "code",
   "execution_count": 7,
   "id": "cf3b6b72-a887-4320-b9a9-5f81afa3ee79",
   "metadata": {},
   "outputs": [
    {
     "data": {
      "text/plain": [
       "<function __main__.sum(a, b)>"
      ]
     },
     "execution_count": 7,
     "metadata": {},
     "output_type": "execute_result"
    }
   ],
   "source": [
    "fun1"
   ]
  },
  {
   "cell_type": "code",
   "execution_count": 9,
   "id": "156e6b45-7014-45dc-9d27-f988e7d18b10",
   "metadata": {},
   "outputs": [
    {
     "data": {
      "text/plain": [
       "4"
      ]
     },
     "execution_count": 9,
     "metadata": {},
     "output_type": "execute_result"
    }
   ],
   "source": [
    "fun1(1,3)"
   ]
  },
  {
   "cell_type": "code",
   "execution_count": 13,
   "id": "472b054e-cda1-4db6-8c16-008235701510",
   "metadata": {},
   "outputs": [
    {
     "data": {
      "text/plain": [
       "function"
      ]
     },
     "execution_count": 13,
     "metadata": {},
     "output_type": "execute_result"
    }
   ],
   "source": [
    "type(sum)"
   ]
  },
  {
   "cell_type": "code",
   "execution_count": 15,
   "id": "22a923d0-6a08-4464-93b4-5a3f94c778f5",
   "metadata": {},
   "outputs": [],
   "source": [
    "l1 = [1,2,3,4]"
   ]
  },
  {
   "cell_type": "code",
   "execution_count": 17,
   "id": "926a93c0-2d33-4289-ac7f-549f71080ec2",
   "metadata": {},
   "outputs": [],
   "source": [
    "l1.append(sum)"
   ]
  },
  {
   "cell_type": "code",
   "execution_count": null,
   "id": "4890d157-53cb-450a-b402-efe5797c5159",
   "metadata": {},
   "outputs": [],
   "source": []
  },
  {
   "cell_type": "code",
   "execution_count": 23,
   "id": "ec33b4f1-d9ac-4c4e-a0ac-f67f7ba5a28f",
   "metadata": {},
   "outputs": [
    {
     "name": "stdout",
     "output_type": "stream",
     "text": [
      "[1, 2, 3, 4, <function sum at 0x1294c1b20>]\n"
     ]
    }
   ],
   "source": [
    "print(l1)"
   ]
  },
  {
   "cell_type": "code",
   "execution_count": 29,
   "id": "994991f3-fcc8-4c45-b9af-54fff04ece97",
   "metadata": {},
   "outputs": [
    {
     "data": {
      "text/plain": [
       "4"
      ]
     },
     "execution_count": 29,
     "metadata": {},
     "output_type": "execute_result"
    }
   ],
   "source": [
    "l1[4](1,3)"
   ]
  },
  {
   "cell_type": "code",
   "execution_count": null,
   "id": "b6d43b07-1ced-4ba9-9ab5-c141b7c9ade3",
   "metadata": {},
   "outputs": [],
   "source": [
    "d1 = {'sum' : sum,\n",
    "     'diff' : diff,\n",
    "     'prod': prod,\n",
    "     'len':len }"
   ]
  },
  {
   "cell_type": "code",
   "execution_count": 42,
   "id": "c22bbd2d-62ea-419c-9527-94d6afad2460",
   "metadata": {},
   "outputs": [
    {
     "name": "stdout",
     "output_type": "stream",
     "text": [
      "<class 'int'>\n"
     ]
    }
   ],
   "source": [
    "print(type(5))"
   ]
  },
  {
   "cell_type": "markdown",
   "id": "67f7a25e-5527-4ec0-8867-8daad95c2c8b",
   "metadata": {},
   "source": [
    "# 5 is a object of Type (Integer)"
   ]
  },
  {
   "cell_type": "code",
   "execution_count": 36,
   "id": "181795b1-4b9d-421a-8938-f55538516fe9",
   "metadata": {},
   "outputs": [
    {
     "data": {
      "text/plain": [
       "<function __main__.sum(a, b)>"
      ]
     },
     "execution_count": 36,
     "metadata": {},
     "output_type": "execute_result"
    }
   ],
   "source": [
    "sum"
   ]
  },
  {
   "cell_type": "code",
   "execution_count": 38,
   "id": "6dfcb1b1-fd72-4e44-a585-23c7b1553787",
   "metadata": {},
   "outputs": [
    {
     "data": {
      "text/plain": [
       "function"
      ]
     },
     "execution_count": 38,
     "metadata": {},
     "output_type": "execute_result"
    }
   ],
   "source": [
    "type(sum)"
   ]
  },
  {
   "cell_type": "code",
   "execution_count": 40,
   "id": "31f0fb48-38db-41e7-a29f-6e427f4790c9",
   "metadata": {},
   "outputs": [
    {
     "name": "stdout",
     "output_type": "stream",
     "text": [
      "<class 'function'>\n"
     ]
    }
   ],
   "source": [
    "print(type(sum))"
   ]
  },
  {
   "cell_type": "code",
   "execution_count": null,
   "id": "178aab14-6ed2-4e7a-ba26-460bd4bdc478",
   "metadata": {},
   "outputs": [],
   "source": []
  },
  {
   "cell_type": "code",
   "execution_count": null,
   "id": "660fc6ce-c486-406c-ae48-85f34992821c",
   "metadata": {},
   "outputs": [],
   "source": []
  },
  {
   "cell_type": "markdown",
   "id": "da686e66-b188-472f-8130-044067f9de47",
   "metadata": {},
   "source": [
    "# Can be passed as an argument to another function"
   ]
  },
  {
   "cell_type": "code",
   "execution_count": 45,
   "id": "b0fb5c60-328e-4798-abb6-482d727ea15e",
   "metadata": {},
   "outputs": [],
   "source": [
    "def sum(a,b):\n",
    "    print(a+b)"
   ]
  },
  {
   "cell_type": "code",
   "execution_count": 53,
   "id": "65b12cc6-821e-4bcf-8445-7cac387442e9",
   "metadata": {},
   "outputs": [
    {
     "name": "stdout",
     "output_type": "stream",
     "text": [
      "34.5\n"
     ]
    }
   ],
   "source": [
    "sum('3','4.5')"
   ]
  },
  {
   "cell_type": "code",
   "execution_count": 83,
   "id": "d23fb13f-b6ac-4c5e-b488-9c7cc0a873a1",
   "metadata": {},
   "outputs": [],
   "source": [
    "def CubeOfaNumber(x):\n",
    "    return x**3"
   ]
  },
  {
   "cell_type": "code",
   "execution_count": 75,
   "id": "289c3242-cf96-417d-a4c3-4875291af65a",
   "metadata": {},
   "outputs": [],
   "source": [
    "def squareRootOfaNumber(x):\n",
    "    return x**0.5"
   ]
  },
  {
   "cell_type": "code",
   "execution_count": 77,
   "id": "b8338e8c-6617-4e44-a0cb-e9c499de3cc6",
   "metadata": {},
   "outputs": [],
   "source": [
    "def squareOfaNumber(x):\n",
    "    return x*x"
   ]
  },
  {
   "cell_type": "code",
   "execution_count": 59,
   "id": "5efb44a1-cdde-4c44-85ec-8c7703c28e26",
   "metadata": {},
   "outputs": [
    {
     "data": {
      "text/plain": [
       "25"
      ]
     },
     "execution_count": 59,
     "metadata": {},
     "output_type": "execute_result"
    }
   ],
   "source": [
    "squareOfaNumber(5)"
   ]
  },
  {
   "cell_type": "code",
   "execution_count": 71,
   "id": "87e88028-88bc-4466-bd96-39dd1288ed8b",
   "metadata": {},
   "outputs": [],
   "source": [
    "def squareOfaList(l1,functionWhichYouWantToApply):\n",
    "    l1Squared = []\n",
    "    for i in l1:\n",
    "        l1Squared.append(functionWhichYouWantToApply(i))\n",
    "\n",
    "    return l1Squared"
   ]
  },
  {
   "cell_type": "code",
   "execution_count": 87,
   "id": "15f8a419-a6f3-4e1b-85cf-8e65907c269d",
   "metadata": {},
   "outputs": [
    {
     "data": {
      "text/plain": [
       "[1, 8, 27, 64]"
      ]
     },
     "execution_count": 87,
     "metadata": {},
     "output_type": "execute_result"
    }
   ],
   "source": [
    "squareOfaList([1,2,3,4],CubeOfaNumber)"
   ]
  },
  {
   "cell_type": "code",
   "execution_count": null,
   "id": "de4bae00-71c3-4792-9c2c-3970d696e0a4",
   "metadata": {},
   "outputs": [],
   "source": []
  },
  {
   "cell_type": "code",
   "execution_count": null,
   "id": "c502650f-e04c-4a6c-9a64-331741a42d20",
   "metadata": {},
   "outputs": [],
   "source": []
  },
  {
   "cell_type": "code",
   "execution_count": 97,
   "id": "bdd21b0a-67d5-45ed-b7cc-e229afee3819",
   "metadata": {},
   "outputs": [],
   "source": [
    "# Write a program to get a list and return each and every element as a positive/abs value."
   ]
  },
  {
   "cell_type": "code",
   "execution_count": 107,
   "id": "c76d64a0-b3a4-4685-9b2a-9ac364f3e855",
   "metadata": {},
   "outputs": [],
   "source": [
    "import math"
   ]
  },
  {
   "cell_type": "code",
   "execution_count": null,
   "id": "eac85146-e489-4ee0-8392-97565ed07865",
   "metadata": {},
   "outputs": [],
   "source": [
    "math."
   ]
  },
  {
   "cell_type": "code",
   "execution_count": 115,
   "id": "3e285bd3-9a53-45f5-ac56-e887d2ff8544",
   "metadata": {},
   "outputs": [],
   "source": [
    "def factorialOfANumber(x):\n",
    "    return math.factorial(x)"
   ]
  },
  {
   "cell_type": "code",
   "execution_count": 117,
   "id": "02193599-a0c1-4d8c-bb12-c6d8b79bd744",
   "metadata": {},
   "outputs": [],
   "source": [
    "def OperationOnAList(l1,func):\n",
    "    l1Modified = []\n",
    "    for i in l1:\n",
    "        l1Modified.append(func(i))\n",
    "\n",
    "    return l1Modified"
   ]
  },
  {
   "cell_type": "code",
   "execution_count": 123,
   "id": "428a4334-b36e-4d66-85a4-bc921c16ec6f",
   "metadata": {},
   "outputs": [
    {
     "data": {
      "text/plain": [
       "[1, 2, 6, 24]"
      ]
     },
     "execution_count": 123,
     "metadata": {},
     "output_type": "execute_result"
    }
   ],
   "source": [
    "OperationOnAList([1,2,3,4],factorialOfANumber)"
   ]
  },
  {
   "cell_type": "code",
   "execution_count": null,
   "id": "042bd909-b34f-4e1e-9697-252bc1410f72",
   "metadata": {},
   "outputs": [],
   "source": []
  },
  {
   "cell_type": "code",
   "execution_count": 129,
   "id": "a29df5b1-3fd4-4333-9387-e05a92e1c22c",
   "metadata": {},
   "outputs": [],
   "source": [
    "def positive(x):\n",
    "    return x>=0"
   ]
  },
  {
   "cell_type": "code",
   "execution_count": 133,
   "id": "b2b9179c-cf2c-4c3e-b559-83aa6442bb6e",
   "metadata": {},
   "outputs": [],
   "source": [
    "def FilterMyList(l1,func):\n",
    "    l1Modified = []\n",
    "    for i in l1:\n",
    "        if(func(i)):\n",
    "            l1Modified.append(i)\n",
    "\n",
    "    return l1Modified"
   ]
  },
  {
   "cell_type": "code",
   "execution_count": 137,
   "id": "ce9f0a71-f4ec-4552-8f00-9d06a9a1a1a2",
   "metadata": {},
   "outputs": [
    {
     "data": {
      "text/plain": [
       "[1, 2, 100]"
      ]
     },
     "execution_count": 137,
     "metadata": {},
     "output_type": "execute_result"
    }
   ],
   "source": [
    "FilterMyList([1,2,-5,-4,-100,100],positive)"
   ]
  },
  {
   "cell_type": "code",
   "execution_count": null,
   "id": "a2307c0a-7aa7-4174-9676-745815d1958b",
   "metadata": {},
   "outputs": [],
   "source": []
  },
  {
   "cell_type": "code",
   "execution_count": null,
   "id": "95f3aa0e-fa49-4fb9-9614-5c5c304c0f41",
   "metadata": {},
   "outputs": [],
   "source": []
  },
  {
   "cell_type": "code",
   "execution_count": null,
   "id": "179281ef-1755-4d44-ab8e-3f812d4d3c01",
   "metadata": {},
   "outputs": [],
   "source": [
    "def sum(a,b):\n",
    "    return a+b"
   ]
  },
  {
   "cell_type": "code",
   "execution_count": 143,
   "id": "71adb6d8-b66f-4bb1-a848-f23ce91ed0b8",
   "metadata": {},
   "outputs": [],
   "source": [
    "def greet(name):\n",
    "    return f\"Namaste {name}\""
   ]
  },
  {
   "cell_type": "code",
   "execution_count": 149,
   "id": "01bd33f4-d772-4bd4-9259-a3862408f0c3",
   "metadata": {},
   "outputs": [],
   "source": [
    "def hello():\n",
    "    return greet(\"Mayank\")"
   ]
  },
  {
   "cell_type": "code",
   "execution_count": 153,
   "id": "6e30aa8c-b101-47a4-83ee-c3e9d6b94361",
   "metadata": {},
   "outputs": [
    {
     "data": {
      "text/plain": [
       "'Namaste Mayank'"
      ]
     },
     "execution_count": 153,
     "metadata": {},
     "output_type": "execute_result"
    }
   ],
   "source": [
    "hello()"
   ]
  },
  {
   "cell_type": "code",
   "execution_count": null,
   "id": "474b64fa-be2a-442a-92d7-e869c129d6dc",
   "metadata": {},
   "outputs": [],
   "source": []
  },
  {
   "cell_type": "code",
   "execution_count": 166,
   "id": "246dcb0c-aa41-4478-91cf-42662c9a174c",
   "metadata": {},
   "outputs": [],
   "source": [
    "def factorial():\n",
    "    return math.factorial"
   ]
  },
  {
   "cell_type": "code",
   "execution_count": 168,
   "id": "13ca2a8f-d82c-44e6-abab-5da73341c31c",
   "metadata": {},
   "outputs": [],
   "source": [
    "def FindFactorial(num):\n",
    "    f = factorial()\n",
    "    return f(num)"
   ]
  },
  {
   "cell_type": "code",
   "execution_count": 172,
   "id": "7ec25e2b-41ed-4155-81b3-3ebf25135929",
   "metadata": {},
   "outputs": [
    {
     "data": {
      "text/plain": [
       "120"
      ]
     },
     "execution_count": 172,
     "metadata": {},
     "output_type": "execute_result"
    }
   ],
   "source": [
    "FindFactorial(5)"
   ]
  },
  {
   "cell_type": "code",
   "execution_count": null,
   "id": "6fac4cf3-7b8d-4f7d-8598-9a5724418914",
   "metadata": {},
   "outputs": [],
   "source": []
  },
  {
   "cell_type": "code",
   "execution_count": 177,
   "id": "ce0ed42e-b136-4258-9d97-3700f8bede75",
   "metadata": {},
   "outputs": [],
   "source": [
    "def shout(text): \n",
    "    return text.upper() \n",
    "  \n",
    "def whisper(text): \n",
    "    return text.lower() \n",
    "\n",
    "def greet(func):\n",
    "    return func(\"Mayank\")"
   ]
  },
  {
   "cell_type": "code",
   "execution_count": 181,
   "id": "5ecb8310-2988-46d1-8759-897b056e15c3",
   "metadata": {},
   "outputs": [
    {
     "data": {
      "text/plain": [
       "'mayank'"
      ]
     },
     "execution_count": 181,
     "metadata": {},
     "output_type": "execute_result"
    }
   ],
   "source": [
    "greet(whisper)"
   ]
  },
  {
   "cell_type": "code",
   "execution_count": null,
   "id": "93c976db-78b8-4ea5-9ed9-eea6fbf3387a",
   "metadata": {},
   "outputs": [],
   "source": []
  },
  {
   "cell_type": "code",
   "execution_count": 183,
   "id": "0fa8a334-6f89-4531-9fa2-6acd78bd4e4a",
   "metadata": {},
   "outputs": [],
   "source": [
    "def squareRoot(x):\n",
    "\n",
    "    def square(y):\n",
    "        return y*y\n",
    "\n",
    "    return square"
   ]
  },
  {
   "cell_type": "code",
   "execution_count": null,
   "id": "801897b3-79b7-4740-91e3-8013de390342",
   "metadata": {},
   "outputs": [],
   "source": []
  },
  {
   "cell_type": "code",
   "execution_count": null,
   "id": "44647c97-6b72-4be7-92b8-c54cb1bd86ae",
   "metadata": {},
   "outputs": [],
   "source": []
  }
 ],
 "metadata": {
  "kernelspec": {
   "display_name": "Python 3 (ipykernel)",
   "language": "python",
   "name": "python3"
  },
  "language_info": {
   "codemirror_mode": {
    "name": "ipython",
    "version": 3
   },
   "file_extension": ".py",
   "mimetype": "text/x-python",
   "name": "python",
   "nbconvert_exporter": "python",
   "pygments_lexer": "ipython3",
   "version": "3.11.5"
  }
 },
 "nbformat": 4,
 "nbformat_minor": 5
}
