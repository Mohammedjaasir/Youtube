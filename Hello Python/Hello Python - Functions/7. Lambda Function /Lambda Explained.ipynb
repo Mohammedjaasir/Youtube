{
 "cells": [
  {
   "cell_type": "markdown",
   "metadata": {},
   "source": [
    "# Lambda Functions in Python"
   ]
  },
  {
   "cell_type": "markdown",
   "metadata": {},
   "source": [
    "Lambda functions, also known as anonymous functions, are small, single-expression functions that are not bound to a name. They are defined using the `lambda` keyword and can have any number of arguments but only one expression.\n",
    "\n",
    "## Syntax\n",
    "The syntax for a lambda function is:\n",
    "\n",
    "```\n",
    "lambda arguments: expression\n",
    "```\n",
    "The `arguments` are the parameters that the function takes, and the `expression` is the single line of code that the function will execute and return."
   ]
  },
  {
   "cell_type": "markdown",
   "metadata": {},
   "source": [
    "## Example 1: Basic Lambda Function\n",
    "```python\n",
    "multiply = lambda x, y: x * y\n",
    "print(multiply(5, 4))  # Output: 20\n",
    "```\n",
    "In this example, `multiply` is a lambda function that takes two arguments, `x` and `y`, and returns their product."
   ]
  },
  {
   "cell_type": "code",
   "execution_count": null,
   "metadata": {},
   "outputs": [],
   "source": [
    "# Example 1: Basic Lambda Function\n",
    "multiply = lambda x, y: x * y\n",
    "print(multiply(5, 4))  # Output: 20"
   ]
  },
  {
   "cell_type": "markdown",
   "metadata": {},
   "source": [
    "## Example 2: Lambda with Filter Function\n",
    "Lambda functions are often used with functions like `filter()`, `map()`, and `reduce()`.\n",
    "\n",
    "```python\n",
    "numbers = [1, 2, 3, 4, 5, 6, 7, 8, 9, 10]\n",
    "even_numbers = list(filter(lambda x: x % 2 == 0, numbers))\n",
    "print(even_numbers)  # Output: [2, 4, 6, 8, 10]\n",
    "```\n",
    "In this example, `filter()` is used with a lambda function to filter out even numbers from the list `numbers`."
   ]
  },
  {
   "cell_type": "code",
   "execution_count": null,
   "metadata": {},
   "outputs": [],
   "source": [
    "# Example 2: Lambda with Filter Function\n",
    "numbers = [1, 2, 3, 4, 5, 6, 7, 8, 9, 10]\n",
    "even_numbers = list(filter(lambda x: x % 2 == 0, numbers))\n",
    "print(even_numbers)  # Output: [2, 4, 6, 8, 10]"
   ]
  },
  {
   "cell_type": "markdown",
   "metadata": {},
   "source": [
    "## Example 3: Lambda with Map Function\n",
    "```python\n",
    "squares = list(map(lambda x: x ** 2, numbers))\n",
    "print(squares)  # Output: [1, 4, 9, 16, 25, 36, 49, 64, 81, 100]\n",
    "```\n",
    "In this example, `map()` is used with a lambda function to square each number in the list `numbers`."
   ]
  },
  {
   "cell_type": "code",
   "execution_count": null,
   "metadata": {},
   "outputs": [],
   "source": [
    "# Example 3: Lambda with Map Function\n",
    "squares = list(map(lambda x: x ** 2, numbers))\n",
    "print(squares)  # Output: [1, 4, 9, 16, 25, 36, 49, 64, 81, 100]"
   ]
  },
  {
   "cell_type": "markdown",
   "metadata": {},
   "source": [
    "## Example 4: Lambda with Reduce Function\n",
    "```python\n",
    "from functools import reduce\n",
    "product = reduce(lambda x, y: x * y, numbers)\n",
    "print(product)  # Output: 3628800\n",
    "```\n",
    "In this example, `reduce()` is used with a lambda function to calculate the product of all numbers in the list `numbers`."
   ]
  },
  {
   "cell_type": "code",
   "execution_count": null,
   "metadata": {},
   "outputs": [],
   "source": [
    "# Example 4: Lambda with Reduce Function\n",
    "from functools import reduce\n",
    "product = reduce(lambda x, y: x * y, numbers)\n",
    "print(product)  # Output: 3628800"
   ]
  },
  {
   "cell_type": "markdown",
   "metadata": {},
   "source": [
    "## Example 5: Lambda with Sorted Function\n",
    "Lambda functions can also be used as a `key` argument in functions like `sorted()`.\n",
    "\n",
    "```python\n",
    "points = [(2, 3), (1, 2), (4, 1), (3, 5)]\n",
    "points_sorted = sorted(points, key=lambda x: x[1])\n",
    "print(points_sorted)  # Output: [(4, 1), (1, 2), (2, 3), (3, 5)]\n",
    "```\n",
    "In this example, `sorted()` is used with a lambda function to sort a list of tuples by the second element."
   ]
  },
  {
   "cell_type": "code",
   "execution_count": null,
   "metadata": {},
   "outputs": [],
   "source": [
    "# Example 5: Lambda with Sorted Function\n",
    "points = [(2, 3), (1, 2), (4, 1), (3, 5)]\n",
    "points_sorted = sorted(points, key=lambda x: x[1])\n",
    "print(points_sorted)  # Output: [(4, 1), (1, 2), (2, 3), (3, 5)]"
   ]
  },
  {
   "cell_type": "markdown",
   "metadata": {},
   "source": [
    "## Industry Use Cases\n",
    "1. **Data Analysis**: Lambda functions are used in data analysis for operations like filtering, mapping, and reducing data.\n",
    "2. **Web Development**: They are used in web development frameworks like Django for defining small, one-off functions, such as sorting lists or manipulating data.\n",
    "3. **Automation**: In automation scripts, lambda functions are used for quick, on-the-fly calculations and data processing.\n",
    "4. **Testing**: In testing frameworks, lambda functions are used for defining simple test cases and assertions.\n",
    "5. **Machine Learning**: In machine learning, they are used for data preprocessing, feature engineering, and defining simple models."
   ]
  },
  {
   "cell_type": "markdown",
   "metadata": {},
   "source": [
    "# Questions\n",
    "\n",
    "1. What is a lambda function in Python?\n",
    "2. How does the syntax of a lambda function differ from a regular function?\n",
    "3. Give an example of using a lambda function with the `filter()` function.\n",
    "4. Explain how to use a lambda function with the `map()` function.\n",
    "5. How can a lambda function be used with the `reduce()` function?\n",
    "6. Write a lambda function that adds 10 to its input.\n",
    "7. What is the purpose of the `key` argument in the `sorted()` function?\n",
    "8. Can lambda functions have multiple expressions? Why or why not?\n",
    "9. How are lambda functions useful in data preprocessing?\n",
    "10. Write a lambda function that takes two arguments and returns their concatenation."
   ]
  },
  {
   "cell_type": "markdown",
   "metadata": {},
   "source": [
    "# Answers\n",
    "\n",
    "1. A lambda function is a small, anonymous function in Python that can have any number of arguments but only one expression.\n",
    "2. The syntax of a lambda function is: `lambda arguments: expression`. It differs from a regular function as it doesn't use the `def` keyword and doesn't have a name.\n",
    "3. Example of using a lambda function with the `filter()` function:\n",
    "    ```python\n",
    "    numbers = [1, 2, 3, 4, 5, 6, 7, 8, 9, 10]\n",
    "    even_numbers = list(filter(lambda x: x % 2 == 0, numbers))\n",
    "    print(even_numbers)  # Output: [2, 4, 6, 8, 10]\n",
    "    ```\n",
    "4. Example of using a lambda function with the `map()` function:\n",
    "    ```python\n",
    "    numbers = [1, 2, 3, 4, 5]\n",
    "    squares = list(map(lambda x: x ** 2, numbers))\n",
    "    print(squares)  # Output: [1, 4, 9, 16, 25]\n",
    "    ```\n",
    "5. Example of using a lambda function with the `reduce()` function:\n",
    "    ```python\n",
    "    from functools import reduce\n",
    "    numbers = [1, 2, 3, 4, 5]\n",
    "    product = reduce(lambda x, y: x * y, numbers)\n",
    "    print(product)  # Output: 120\n",
    "    ```\n",
    "6. Lambda function that adds 10 to its input:\n",
    "    ```python\n",
    "    add_ten = lambda x: x + 10\n",
    "    print(add_ten(5))  # Output: 15\n",
    "    ```\n",
    "7. The `key` argument in the `sorted()` function specifies a function that returns a value to be used for sorting the elements.\n",
    "8. Lambda functions cannot have multiple expressions because they are designed to be simple and concise, allowing only one expression.\n",
    "9. Lambda functions are useful in data preprocessing for tasks like filtering, transforming, and aggregating data in a concise manner.\n",
    "10. Lambda function that takes two arguments and returns their concatenation:\n",
    "    ```python\n",
    "    concatenate = lambda x, y: x + y\n",
    "    print(concatenate('Hello, ', 'World!'))  # Output: 'Hello, World!'\n",
    "    ```"
   ]
  }
 ],
 "metadata": {
  "kernelspec": {
   "display_name": "Python 3 (ipykernel)",
   "language": "python",
   "name": "python3"
  },
  "language_info": {
   "codemirror_mode": {
    "name": "ipython",
    "version": 3
   },
   "file_extension": ".py",
   "mimetype": "text/x-python",
   "name": "python",
   "nbconvert_exporter": "python",
   "pygments_lexer": "ipython3",
   "version": "3.11.5"
  }
 },
 "nbformat": 4,
 "nbformat_minor": 4
}
