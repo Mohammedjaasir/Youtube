{
 "cells": [
  {
   "cell_type": "markdown",
   "id": "a121b0a2-3ec3-4007-87db-48b684b0b251",
   "metadata": {},
   "source": [
    "# Lambda Function"
   ]
  },
  {
   "cell_type": "code",
   "execution_count": 30,
   "id": "d61e09c1-f42c-41b6-b77b-4dfe11cf487b",
   "metadata": {},
   "outputs": [],
   "source": [
    "def square(x):\n",
    "    return x*x"
   ]
  },
  {
   "cell_type": "code",
   "execution_count": 32,
   "id": "6386f775-df84-4d68-adab-e52a5abbba3b",
   "metadata": {},
   "outputs": [],
   "source": [
    "def absolute(x):\n",
    "    return abs(x)"
   ]
  },
  {
   "cell_type": "code",
   "execution_count": 18,
   "id": "06f74ef4-ba64-4d25-8fab-803e297f2961",
   "metadata": {},
   "outputs": [],
   "source": [
    "def cube(x):\n",
    "    return x*x*x"
   ]
  },
  {
   "cell_type": "code",
   "execution_count": 26,
   "id": "43a783ce-1ac4-44ce-a668-53d1297a5001",
   "metadata": {},
   "outputs": [],
   "source": [
    "def squareRoot(x):\n",
    "    return x**(1/2)"
   ]
  },
  {
   "cell_type": "code",
   "execution_count": 8,
   "id": "6f3562ac-7daf-4bbf-9d9c-194d6e047c14",
   "metadata": {},
   "outputs": [],
   "source": [
    "def ApplyOnList(l1,func):\n",
    "    l2 = []\n",
    "    for i in l1:\n",
    "        l2.append(func(i))\n",
    "    return l2"
   ]
  },
  {
   "cell_type": "code",
   "execution_count": 28,
   "id": "7a9dd69f-ef05-451a-895a-dd79c81e8a2f",
   "metadata": {},
   "outputs": [
    {
     "data": {
      "text/plain": [
       "[1.0, 1.4142135623730951, 1.7320508075688772, 2.0, 2.23606797749979]"
      ]
     },
     "execution_count": 28,
     "metadata": {},
     "output_type": "execute_result"
    }
   ],
   "source": [
    "ApplyOnList([1,2,3,4,5],squareRoot)"
   ]
  },
  {
   "cell_type": "code",
   "execution_count": null,
   "id": "545de5de-881c-4a2d-83cc-1df0a1e84ed4",
   "metadata": {},
   "outputs": [],
   "source": []
  },
  {
   "cell_type": "code",
   "execution_count": null,
   "id": "5741384d-84ab-494f-b09d-f5d5b7ebb0b4",
   "metadata": {},
   "outputs": [],
   "source": []
  },
  {
   "cell_type": "code",
   "execution_count": null,
   "id": "fe137225-6af6-4d85-8da3-fa3a6c21fa1f",
   "metadata": {},
   "outputs": [],
   "source": []
  },
  {
   "cell_type": "code",
   "execution_count": null,
   "id": "09f8aa53-df2e-47d6-b9ae-b916896e7954",
   "metadata": {},
   "outputs": [],
   "source": []
  },
  {
   "cell_type": "code",
   "execution_count": 38,
   "id": "dae55e69-827d-4d5e-9f73-dee8159dcbcc",
   "metadata": {},
   "outputs": [],
   "source": [
    "def square(x):\n",
    "    return x*x"
   ]
  },
  {
   "cell_type": "code",
   "execution_count": 42,
   "id": "2ad5e74f-db80-4fe4-8da2-9ee6e255cc28",
   "metadata": {},
   "outputs": [],
   "source": [
    "sqLambda = lambda x : x*x"
   ]
  },
  {
   "cell_type": "code",
   "execution_count": 46,
   "id": "59d67599-996a-4c7f-b8fd-6d41bede9920",
   "metadata": {},
   "outputs": [
    {
     "data": {
      "text/plain": [
       "25"
      ]
     },
     "execution_count": 46,
     "metadata": {},
     "output_type": "execute_result"
    }
   ],
   "source": [
    "sqLambda(5)"
   ]
  },
  {
   "cell_type": "code",
   "execution_count": 50,
   "id": "3039159a-c904-4c9b-aa3b-f34b349c9365",
   "metadata": {},
   "outputs": [
    {
     "data": {
      "text/plain": [
       "[1, 4, 9, 16, 25]"
      ]
     },
     "execution_count": 50,
     "metadata": {},
     "output_type": "execute_result"
    }
   ],
   "source": [
    "ApplyOnList([1,2,3,4,5],sqLambda)"
   ]
  },
  {
   "cell_type": "code",
   "execution_count": 54,
   "id": "b506d6f2-a8ea-45cd-bd1b-821cbed1229a",
   "metadata": {},
   "outputs": [
    {
     "data": {
      "text/plain": [
       "[1, 4, 9, 16, 25]"
      ]
     },
     "execution_count": 54,
     "metadata": {},
     "output_type": "execute_result"
    }
   ],
   "source": [
    "ApplyOnList([1,2,3,4,5],lambda x : x*x)"
   ]
  },
  {
   "cell_type": "code",
   "execution_count": 58,
   "id": "2e4c2478-8435-47ee-9f0e-3e43c88c9249",
   "metadata": {},
   "outputs": [
    {
     "data": {
      "text/plain": [
       "[1, 8, 27, 64, 125]"
      ]
     },
     "execution_count": 58,
     "metadata": {},
     "output_type": "execute_result"
    }
   ],
   "source": [
    "ApplyOnList([1,2,3,4,5],lambda x : x*x*x)"
   ]
  },
  {
   "cell_type": "code",
   "execution_count": 62,
   "id": "4d72659d-69a3-4dea-9b35-c0182115a38c",
   "metadata": {},
   "outputs": [
    {
     "data": {
      "text/plain": [
       "[1.0, 1.4142135623730951, 1.7320508075688772, 2.0, 2.23606797749979]"
      ]
     },
     "execution_count": 62,
     "metadata": {},
     "output_type": "execute_result"
    }
   ],
   "source": [
    "ApplyOnList([1,2,3,4,5],lambda x : x**(0.5))"
   ]
  },
  {
   "cell_type": "code",
   "execution_count": 66,
   "id": "d6da55d8-418f-4c9a-810f-86dfbc6d212c",
   "metadata": {},
   "outputs": [
    {
     "data": {
      "text/plain": [
       "[1, 2, 3, 4, 5]"
      ]
     },
     "execution_count": 66,
     "metadata": {},
     "output_type": "execute_result"
    }
   ],
   "source": [
    "ApplyOnList([1,2,3,4,5],lambda x : abs(x))"
   ]
  },
  {
   "cell_type": "code",
   "execution_count": null,
   "id": "1203e9b4-edb0-4023-8d6d-53e40d92cb6c",
   "metadata": {},
   "outputs": [],
   "source": []
  },
  {
   "cell_type": "code",
   "execution_count": 71,
   "id": "80fe56ab-d536-4a73-8b4f-f9311eb06019",
   "metadata": {},
   "outputs": [],
   "source": [
    "def sum(a,b):\n",
    "    return a+b"
   ]
  },
  {
   "cell_type": "code",
   "execution_count": 83,
   "id": "02ae8644-36d6-4d76-b0a6-d778d499db05",
   "metadata": {},
   "outputs": [],
   "source": [
    "sumLambda = lambda a,b : (a+b)"
   ]
  },
  {
   "cell_type": "code",
   "execution_count": 85,
   "id": "9dd854e3-1d1d-41c2-8ab0-ed96e2b73146",
   "metadata": {},
   "outputs": [
    {
     "data": {
      "text/plain": [
       "8"
      ]
     },
     "execution_count": 85,
     "metadata": {},
     "output_type": "execute_result"
    }
   ],
   "source": [
    "sumLambda(3,5)"
   ]
  },
  {
   "cell_type": "code",
   "execution_count": 89,
   "id": "f7a001fa-33e6-4328-9ae4-d53d488fce8e",
   "metadata": {},
   "outputs": [
    {
     "data": {
      "text/plain": [
       "8"
      ]
     },
     "execution_count": 89,
     "metadata": {},
     "output_type": "execute_result"
    }
   ],
   "source": [
    "(lambda a,b : (a+b))(3,5)"
   ]
  },
  {
   "cell_type": "code",
   "execution_count": null,
   "id": "6b7720e4-6077-4b8b-83f7-7b324a39511d",
   "metadata": {},
   "outputs": [],
   "source": []
  },
  {
   "cell_type": "code",
   "execution_count": null,
   "id": "15f38764-865b-47aa-a41e-c01730eb7c7d",
   "metadata": {},
   "outputs": [],
   "source": []
  },
  {
   "cell_type": "code",
   "execution_count": 93,
   "id": "2822dfb3-449f-4c9d-bb7f-55e17940d1e8",
   "metadata": {},
   "outputs": [
    {
     "data": {
      "text/plain": [
       "[1, 2, 3, 4, 5, 6, 100]"
      ]
     },
     "execution_count": 93,
     "metadata": {},
     "output_type": "execute_result"
    }
   ],
   "source": [
    "ApplyOnList([1,2,3,4,-5,-6,-100], lambda x : abs(x))"
   ]
  },
  {
   "cell_type": "code",
   "execution_count": null,
   "id": "07b88afc-91a9-4451-bcb0-fbb2dddbf73f",
   "metadata": {},
   "outputs": [],
   "source": []
  },
  {
   "cell_type": "code",
   "execution_count": null,
   "id": "60594aac-86b0-453c-995b-75adcb83b7e4",
   "metadata": {},
   "outputs": [],
   "source": []
  }
 ],
 "metadata": {
  "kernelspec": {
   "display_name": "Python 3 (ipykernel)",
   "language": "python",
   "name": "python3"
  },
  "language_info": {
   "codemirror_mode": {
    "name": "ipython",
    "version": 3
   },
   "file_extension": ".py",
   "mimetype": "text/x-python",
   "name": "python",
   "nbconvert_exporter": "python",
   "pygments_lexer": "ipython3",
   "version": "3.11.5"
  }
 },
 "nbformat": 4,
 "nbformat_minor": 5
}
