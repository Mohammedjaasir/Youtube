{
 "cells": [
  {
   "cell_type": "markdown",
   "id": "88bd488e-4e8f-4bbc-a1cd-ed6e5427506a",
   "metadata": {},
   "source": [
    "# Map Function"
   ]
  },
  {
   "cell_type": "code",
   "execution_count": 8,
   "id": "eb3df84d-2c23-4c9f-93b2-f83319689277",
   "metadata": {},
   "outputs": [],
   "source": [
    "def square(x):\n",
    "    return x*x"
   ]
  },
  {
   "cell_type": "code",
   "execution_count": 5,
   "id": "60feebd1-40e1-4bbd-a122-738c68417189",
   "metadata": {},
   "outputs": [],
   "source": [
    "def ApplyOnList(func,l1):\n",
    "    l2 = []\n",
    "    for i in l1:\n",
    "        l2.append(func(i))\n",
    "    return l2"
   ]
  },
  {
   "cell_type": "code",
   "execution_count": 23,
   "id": "1c565dd6-7985-4cc6-b8e2-9afdfc799338",
   "metadata": {},
   "outputs": [
    {
     "data": {
      "text/plain": [
       "(1, 4, 9, 16, 25)"
      ]
     },
     "execution_count": 23,
     "metadata": {},
     "output_type": "execute_result"
    }
   ],
   "source": [
    "tuple(map(square,(1,2,3,4,5)))"
   ]
  },
  {
   "cell_type": "code",
   "execution_count": 33,
   "id": "37f950f0-81da-45bf-9afe-b37be4034776",
   "metadata": {},
   "outputs": [
    {
     "data": {
      "text/plain": [
       "(6, 7, 8, 9, 10)"
      ]
     },
     "execution_count": 33,
     "metadata": {},
     "output_type": "execute_result"
    }
   ],
   "source": [
    "tuple(map(lambda x : x + 5,(1,2,3,4,5)))"
   ]
  },
  {
   "cell_type": "code",
   "execution_count": null,
   "id": "49709152-955a-4bb8-8e78-6fa784ddc1c1",
   "metadata": {},
   "outputs": [],
   "source": []
  },
  {
   "cell_type": "markdown",
   "id": "5b055fd0-6565-40a1-8696-46eee37c83d4",
   "metadata": {},
   "source": [
    "# Filter"
   ]
  },
  {
   "cell_type": "code",
   "execution_count": 105,
   "id": "dd71b2f9-b1d2-4c27-b939-21aea8cba566",
   "metadata": {},
   "outputs": [],
   "source": [
    "def FilterMyList(func,l1):\n",
    "    l1Modified = []\n",
    "    for i in l1:\n",
    "        if(func(i)):\n",
    "            l1Modified.append(i)\n",
    "\n",
    "    return l1Modified"
   ]
  },
  {
   "cell_type": "code",
   "execution_count": null,
   "id": "be6c32bf-fab7-49ad-a186-2d5d37e96948",
   "metadata": {},
   "outputs": [],
   "source": []
  },
  {
   "cell_type": "code",
   "execution_count": null,
   "id": "a79f1037-27f9-4b93-80f0-690213bcc829",
   "metadata": {},
   "outputs": [],
   "source": []
  },
  {
   "cell_type": "code",
   "execution_count": 44,
   "id": "faca87be-f829-48db-8949-184d051cb0b6",
   "metadata": {},
   "outputs": [],
   "source": [
    "def isEven(num):\n",
    "    return num%2==0"
   ]
  },
  {
   "cell_type": "code",
   "execution_count": 52,
   "id": "bb5a4e78-607a-475a-9eb9-7f61c75f460d",
   "metadata": {},
   "outputs": [
    {
     "data": {
      "text/plain": [
       "[2, 4]"
      ]
     },
     "execution_count": 52,
     "metadata": {},
     "output_type": "execute_result"
    }
   ],
   "source": [
    "FilterMyList(isEven,[1,2,3,4,5])"
   ]
  },
  {
   "cell_type": "code",
   "execution_count": 80,
   "id": "f7b4764f-ec19-4a11-9fd2-afaaa6969fb9",
   "metadata": {},
   "outputs": [],
   "source": [
    "f1 = list(filter(isEven,[1,2,3,4,5]))"
   ]
  },
  {
   "cell_type": "code",
   "execution_count": 84,
   "id": "9ef09c76-edec-4709-aebf-dabb548a1c90",
   "metadata": {},
   "outputs": [
    {
     "data": {
      "text/plain": [
       "[2, 4]"
      ]
     },
     "execution_count": 84,
     "metadata": {},
     "output_type": "execute_result"
    }
   ],
   "source": [
    "list(f1)"
   ]
  },
  {
   "cell_type": "code",
   "execution_count": null,
   "id": "67f60069-5230-48df-a7f2-553be5179265",
   "metadata": {},
   "outputs": [],
   "source": []
  },
  {
   "cell_type": "code",
   "execution_count": 108,
   "id": "5b721e4d-887c-44c7-87a9-05128469514c",
   "metadata": {},
   "outputs": [
    {
     "data": {
      "text/plain": [
       "[1, 2, 5, 10, 20, 100, 150, 9]"
      ]
     },
     "execution_count": 108,
     "metadata": {},
     "output_type": "execute_result"
    }
   ],
   "source": [
    "list(filter(lambda x : x*x , [1,2,5,10,20,100,150,9]))"
   ]
  },
  {
   "cell_type": "code",
   "execution_count": null,
   "id": "5a42d601-8b50-435a-8505-2d5db9c303c3",
   "metadata": {},
   "outputs": [],
   "source": []
  },
  {
   "cell_type": "code",
   "execution_count": null,
   "id": "e4d24a90-a0a1-4df1-a92b-bf7ee0baedcc",
   "metadata": {},
   "outputs": [],
   "source": []
  },
  {
   "cell_type": "code",
   "execution_count": 115,
   "id": "44fec970-c273-433d-8ff6-5603b555fa3f",
   "metadata": {},
   "outputs": [],
   "source": [
    "from functools import reduce"
   ]
  },
  {
   "cell_type": "code",
   "execution_count": 129,
   "id": "b2a75e72-b268-49b1-a4e3-1d9778f18767",
   "metadata": {},
   "outputs": [
    {
     "data": {
      "text/plain": [
       "120"
      ]
     },
     "execution_count": 129,
     "metadata": {},
     "output_type": "execute_result"
    }
   ],
   "source": [
    "reduce(lambda a,b: a*b ,[1,2,3,4,5])"
   ]
  },
  {
   "cell_type": "code",
   "execution_count": null,
   "id": "98bba574-47a8-4cf6-a8ea-5cfe260490b6",
   "metadata": {},
   "outputs": [],
   "source": []
  },
  {
   "cell_type": "code",
   "execution_count": null,
   "id": "ae9b8c09-d1c9-47ed-b5ce-3a4b06a08333",
   "metadata": {},
   "outputs": [],
   "source": []
  }
 ],
 "metadata": {
  "kernelspec": {
   "display_name": "Python 3 (ipykernel)",
   "language": "python",
   "name": "python3"
  },
  "language_info": {
   "codemirror_mode": {
    "name": "ipython",
    "version": 3
   },
   "file_extension": ".py",
   "mimetype": "text/x-python",
   "name": "python",
   "nbconvert_exporter": "python",
   "pygments_lexer": "ipython3",
   "version": "3.11.5"
  }
 },
 "nbformat": 4,
 "nbformat_minor": 5
}
