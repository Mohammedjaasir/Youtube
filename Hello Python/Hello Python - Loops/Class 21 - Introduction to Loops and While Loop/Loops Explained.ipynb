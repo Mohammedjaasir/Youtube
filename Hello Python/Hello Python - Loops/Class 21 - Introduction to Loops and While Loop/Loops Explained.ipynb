{
 "cells": [
  {
   "cell_type": "markdown",
   "id": "e471b166",
   "metadata": {},
   "source": [
    "# Introduction to Iteration & While Loop\n",
    "\n",
    "Iteration is the concept of looping through a block of code multiple times. Python provides two popular loops for iteration:\n",
    "\n",
    "1. The `while` loop\n",
    "2. The `for` loop\n",
    "\n",
    "Note: Python does not provide a `do while` loop."
   ]
  },
  {
   "cell_type": "markdown",
   "id": "cb1938df",
   "metadata": {},
   "source": [
    "## The `while` Loop\n",
    "\n",
    "A `while` loop in Python repeatedly executes a target statement as long as a given condition is true. The syntax of a `while` loop is:\n",
    "```python\n",
    "while condition:\n",
    "    statement(s)\n",
    "```\n",
    "\n",
    "### Example\n",
    "Let's see a basic example of a `while` loop that prints numbers from 1 to 5."
   ]
  },
  {
   "cell_type": "code",
   "execution_count": null,
   "id": "27ff7ad8",
   "metadata": {},
   "outputs": [],
   "source": [
    "# Example of a while loop\n",
    "count = 1\n",
    "while count <= 5:\n",
    "    print(count)\n",
    "    count += 1\n"
   ]
  },
  {
   "cell_type": "markdown",
   "id": "705cb521",
   "metadata": {},
   "source": [
    "In this example, the loop starts with `count` equal to 1 and increments `count` by 1 in each iteration. The loop stops when `count` is greater than 5.\n",
    "\n",
    "### Infinite Loop\n",
    "If the condition in a `while` loop never becomes false, the loop will run indefinitely. This is known as an infinite loop.\n",
    "\n",
    "#### Example of an Infinite Loop\n",
    "Be cautious with loops like this as they can cause your program to freeze or crash."
   ]
  },
  {
   "cell_type": "code",
   "execution_count": null,
   "id": "d44b3b77",
   "metadata": {},
   "outputs": [],
   "source": [
    "# Infinite loop example (uncomment to run with caution)\n",
    "# while True:\n",
    "#     print(\"This is an infinite loop!\")\n"
   ]
  },
  {
   "cell_type": "markdown",
   "id": "b1638c9f",
   "metadata": {},
   "source": [
    "### Using `break` to Exit a Loop\n",
    "The `break` statement in Python is used to exit a loop prematurely. When `break` is executed, the loop stops immediately, and the control moves to the next statement after the loop.\n",
    "\n",
    "#### Example"
   ]
  },
  {
   "cell_type": "code",
   "execution_count": null,
   "id": "935baf40",
   "metadata": {},
   "outputs": [],
   "source": [
    "# Using break to exit a loop\n",
    "count = 1\n",
    "while count <= 10:\n",
    "    if count == 6:\n",
    "        break\n",
    "    print(count)\n",
    "    count += 1\n"
   ]
  },
  {
   "cell_type": "markdown",
   "id": "45a79b27",
   "metadata": {},
   "source": [
    "In this example, the loop will stop when `count` equals 6.\n",
    "\n",
    "### Using `continue` to Skip an Iteration\n",
    "The `continue` statement in Python is used to skip the rest of the code inside the loop for the current iteration only. The loop does not terminate but continues with the next iteration.\n",
    "\n",
    "#### Example"
   ]
  },
  {
   "cell_type": "code",
   "execution_count": null,
   "id": "bbd0e407",
   "metadata": {},
   "outputs": [],
   "source": [
    "# Using continue to skip an iteration\n",
    "count = 0\n",
    "while count < 10:\n",
    "    count += 1\n",
    "    if count % 2 == 0:\n",
    "        continue\n",
    "    print(count)\n"
   ]
  },
  {
   "cell_type": "markdown",
   "id": "8af3707d",
   "metadata": {},
   "source": [
    "In this example, the `continue` statement skips the even numbers and prints only the odd numbers.\n",
    "\n",
    "## Nested `while` Loops\n",
    "You can use one `while` loop inside another `while` loop. These are called nested `while` loops.\n",
    "\n",
    "### Example"
   ]
  },
  {
   "cell_type": "code",
   "execution_count": null,
   "id": "275a111c",
   "metadata": {},
   "outputs": [],
   "source": [
    "# Nested while loop example\n",
    "i = 1\n",
    "while i <= 3:\n",
    "    j = 1\n",
    "    while j <= 3:\n",
    "        print(f\"i = {i}, j = {j}\")\n",
    "        j += 1\n",
    "    i += 1\n"
   ]
  },
  {
   "cell_type": "markdown",
   "id": "346f6b93",
   "metadata": {},
   "source": [
    "In this example, the outer loop runs 3 times, and for each iteration of the outer loop, the inner loop runs 3 times.\n",
    "\n",
    "## Industry Use Cases of `while` Loops\n",
    "1. **Automation**: Repeatedly performing tasks like monitoring file changes or checking the status of a process.\n",
    "2. **Game Development**: Handling game loops to continuously update game states and render graphics until the game is closed.\n",
    "3. **Data Processing**: Continuously processing incoming data until a certain condition is met, such as reading data from a stream.\n",
    "4. **User Input**: Repeatedly prompting users for input until valid input is received.\n",
    "5. **Web Scraping**: Continuously scraping web data until all required information is gathered.\n",
    "6. **Polling**: Periodically checking the status of a resource or condition (e.g., checking if a server is up).\n",
    "7. **Simulations**: Running simulations where certain conditions must be met before the simulation stops.\n",
    "8. **Machine Learning**: Training a model until a specific performance metric is achieved."
   ]
  },
  {
   "cell_type": "markdown",
   "id": "86677804",
   "metadata": {},
   "source": [
    "# Questions\n",
    "1. What is the purpose of a `while` loop in Python?\n",
    "2. How can you create an infinite loop using a `while` statement?\n",
    "3. What happens when the `break` statement is executed inside a loop?\n",
    "4. What is the purpose of the `continue` statement in a loop?\n",
    "5. How can you use nested `while` loops? Provide an example.\n",
    "6. Write a `while` loop that prints the numbers from 10 to 1.\n",
    "7. Write a `while` loop that prints all the even numbers between 1 and 20.\n",
    "8. How can `while` loops be used in game development?\n",
    "9. Explain how `while` loops can be used for data processing.\n",
    "10. Write a `while` loop that continuously asks the user for a number until they enter a negative number.\n",
    "\n",
    "## Answers\n",
    "1. A `while` loop repeatedly executes a block of code as long as the given condition is true.\n",
    "2. An infinite loop can be created using `while True:`.\n",
    "3. When the `break` statement is executed, the loop stops immediately, and control moves to the next statement after the loop.\n",
    "4. The `continue` statement skips the rest of the code inside the loop for the current iteration only and continues with the next iteration.\n",
    "5. Nested `while` loops are used by placing one `while` loop inside another `while` loop. Example:\n",
    "    ```python\n",
    "    i = 1\n",
    "    while i <= 3:\n",
    "        j = 1\n",
    "        while j <= 3:\n",
    "            print(f\"i = {i}, j = {j}\")\n",
    "            j += 1\n",
    "        i += 1\n",
    "    ```\n",
    "6. \n",
    "    ```python\n",
    "    count = 10\n",
    "    while count > 0:\n",
    "        print(count)\n",
    "        count -= 1\n",
    "    ```\n",
    "7. \n",
    "    ```python\n",
    "    count = 1\n",
    "    while count <= 20:\n",
    "        if count % 2 == 0:\n",
    "            print(count)\n",
    "        count += 1\n",
    "    ```\n",
    "8. In game development, `while` loops can handle game loops to continuously update game states and render graphics until the game is closed.\n",
    "9. For data processing, `while` loops can continuously process incoming data until a certain condition is met, such as reading data from a stream.\n",
    "10. \n",
    "    ```python\n",
    "    while True:\n",
    "        number = int(input(\"Enter a number: \"))\n",
    "        if number < 0:\n",
    "            break\n",
    "        print(f\"You entered: {number}\")\n",
    "    ```"
   ]
  }
 ],
 "metadata": {
  "kernelspec": {
   "display_name": "Python 3 (ipykernel)",
   "language": "python",
   "name": "python3"
  },
  "language_info": {
   "codemirror_mode": {
    "name": "ipython",
    "version": 3
   },
   "file_extension": ".py",
   "mimetype": "text/x-python",
   "name": "python",
   "nbconvert_exporter": "python",
   "pygments_lexer": "ipython3",
   "version": "3.11.5"
  }
 },
 "nbformat": 4,
 "nbformat_minor": 5
}
