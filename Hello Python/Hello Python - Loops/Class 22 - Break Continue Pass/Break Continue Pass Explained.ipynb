{
 "cells": [
  {
   "cell_type": "markdown",
   "id": "26230b1d",
   "metadata": {},
   "source": [
    "# Break, Continue, and Pass Statements\n",
    "\n",
    "In Python, `break`, `continue`, and `pass` statements are used to control the flow of loops. These statements provide a way to alter the normal flow of execution within loops.\n"
   ]
  },
  {
   "cell_type": "markdown",
   "id": "046231d6",
   "metadata": {},
   "source": [
    "## The `break` Statement\n",
    "\n",
    "The `break` statement is used to exit a loop prematurely. When `break` is executed, the loop stops immediately, and control moves to the next statement after the loop.\n",
    "\n",
    "### Example\n",
    "Let's see an example where we use the `break` statement to exit a loop when a certain condition is met."
   ]
  },
  {
   "cell_type": "code",
   "execution_count": 3,
   "id": "4b3c2e51",
   "metadata": {},
   "outputs": [
    {
     "name": "stdout",
     "output_type": "stream",
     "text": [
      "1\n",
      "2\n",
      "3\n",
      "4\n"
     ]
    }
   ],
   "source": [
    "# Example of using break statement\n",
    "for num in range(1, 11):\n",
    "    if num == 5:\n",
    "        break\n",
    "    print(num)\n",
    "\n",
    "# Output:\n",
    "# 1\n",
    "# 2\n",
    "# 3\n",
    "# 4\n"
   ]
  },
  {
   "cell_type": "markdown",
   "id": "c20223aa",
   "metadata": {},
   "source": [
    "In this example, the loop prints numbers from 1 to 4. When `num` equals 5, the `break` statement is executed, and the loop terminates.\n"
   ]
  },
  {
   "cell_type": "markdown",
   "id": "60741f85",
   "metadata": {},
   "source": [
    "## The `continue` Statement\n",
    "\n",
    "The `continue` statement is used to skip the rest of the code inside the loop for the current iteration only. The loop does not terminate but continues with the next iteration.\n",
    "\n",
    "### Example\n",
    "Let's see an example where we use the `continue` statement to skip even numbers in a loop."
   ]
  },
  {
   "cell_type": "code",
   "execution_count": 6,
   "id": "479b01bd",
   "metadata": {},
   "outputs": [
    {
     "name": "stdout",
     "output_type": "stream",
     "text": [
      "1\n",
      "3\n",
      "5\n",
      "7\n",
      "9\n"
     ]
    }
   ],
   "source": [
    "# Example of using continue statement\n",
    "for num in range(1, 11):\n",
    "    if num % 2 == 0:\n",
    "        continue\n",
    "    print(num)\n",
    "\n",
    "# Output:\n",
    "# 1\n",
    "# 3\n",
    "# 5\n",
    "# 7\n",
    "# 9\n"
   ]
  },
  {
   "cell_type": "markdown",
   "id": "a7cf6d53",
   "metadata": {},
   "source": [
    "In this example, the `continue` statement skips the even numbers, and the loop prints only the odd numbers from 1 to 10.\n"
   ]
  },
  {
   "cell_type": "markdown",
   "id": "08c1737a",
   "metadata": {},
   "source": [
    "## The `pass` Statement\n",
    "\n",
    "The `pass` statement is a null operation; it does nothing when executed. It is used as a placeholder in situations where a statement is syntactically required, but you have nothing specific to write at that time.\n",
    "\n",
    "### Example\n",
    "Let's see an example where we use the `pass` statement as a placeholder in a loop."
   ]
  },
  {
   "cell_type": "code",
   "execution_count": null,
   "id": "d48a7fda",
   "metadata": {},
   "outputs": [],
   "source": [
    "# Example of using pass statement\n",
    "for num in range(1, 6):\n",
    "    if num == 3:\n",
    "        pass  # Placeholder for future code\n",
    "    print(num)\n",
    "\n",
    "# Output:\n",
    "# 1\n",
    "# 2\n",
    "# 3\n",
    "# 4\n",
    "# 5\n"
   ]
  },
  {
   "cell_type": "markdown",
   "id": "d671d72d",
   "metadata": {},
   "source": [
    "In this example, the `pass` statement does nothing and allows the loop to continue executing normally. It is commonly used when the developer plans to add code at a later time.\n"
   ]
  },
  {
   "cell_type": "markdown",
   "id": "3529a3d9",
   "metadata": {},
   "source": [
    "## Questions\n",
    "1. What does the `break` statement do in a loop?\n",
    "2. How does the `continue` statement affect the flow of a loop?\n",
    "3. What is the purpose of the `pass` statement in Python?\n",
    "4. Write a loop that uses the `break` statement to exit when a certain condition is met.\n",
    "5. Write a loop that uses the `continue` statement to skip over certain iterations.\n",
    "6. Provide an example where the `pass` statement is useful as a placeholder.\n",
    "7. Explain the difference between `break` and `continue` statements with examples.\n",
    "8. How can `break` and `continue` statements be useful in nested loops?\n",
    "9. Write a loop that uses both `break` and `continue` statements.\n",
    "10. Discuss scenarios where the `pass` statement might be useful in real-world applications.\n",
    "\n",
    "## Answers\n",
    "1. The `break` statement exits the loop prematurely, stopping the loop immediately.\n",
    "2. The `continue` statement skips the rest of the code inside the loop for the current iteration and proceeds with the next iteration.\n",
    "3. The `pass` statement is a null operation used as a placeholder where a statement is syntactically required but no code is needed at that time.\n",
    "4. \n",
    "    ```python\n",
    "    for num in range(1, 11):\n",
    "        if num == 5:\n",
    "            break\n",
    "        print(num)\n",
    "    ```\n",
    "5. \n",
    "    ```python\n",
    "    for num in range(1, 11):\n",
    "        if num % 2 == 0:\n",
    "            continue\n",
    "        print(num)\n",
    "    ```\n",
    "6. \n",
    "    ```python\n",
    "    for num in range(1, 6):\n",
    "        if num == 3:\n",
    "            pass  # Placeholder for future code\n",
    "        print(num)\n",
    "    ```\n",
    "7. The `break` statement exits the loop immediately, while the `continue` statement skips the current iteration and continues with the next one. Examples:\n",
    "    - `break` example:\n",
    "    ```python\n",
    "    for num in range(1, 11):\n",
    "        if num == 5:\n",
    "            break\n",
    "        print(num)\n",
    "    ```\n",
    "    - `continue` example:\n",
    "    ```python\n",
    "    for num in range(1, 11):\n",
    "        if num % 2 == 0:\n",
    "            continue\n",
    "        print(num)\n",
    "    ```\n",
    "8. In nested loops, `break` and `continue` can control the flow of the inner loops without affecting the outer loop. Example:\n",
    "    ```python\n",
    "    for i in range(1, 4):\n",
    "        for j in range(1, 4):\n",
    "            if j == 2:\n",
    "                continue\n",
    "            if i == 3:\n",
    "                break\n",
    "            print(f\"i = {i}, j = {j}\")\n",
    "    ```\n",
    "9. \n",
    "    ```python\n",
    "    for num in range(1, 11):\n",
    "        if num % 3 == 0:\n",
    "            continue\n",
    "        if num == 8:\n",
    "            break\n",
    "        print(num)\n",
    "    ```\n",
    "10. The `pass` statement is useful in real-world applications when defining classes or functions where the implementation is not yet complete, allowing the developer to outline the structure without causing syntax errors. Example:\n",
    "    ```python\n",
    "    class MyClass:\n",
    "        def my_method(self):\n",
    "            pass  # Implementation will be added later\n",
    "    ```"
   ]
  }
 ],
 "metadata": {
  "kernelspec": {
   "display_name": "Python 3 (ipykernel)",
   "language": "python",
   "name": "python3"
  },
  "language_info": {
   "codemirror_mode": {
    "name": "ipython",
    "version": 3
   },
   "file_extension": ".py",
   "mimetype": "text/x-python",
   "name": "python",
   "nbconvert_exporter": "python",
   "pygments_lexer": "ipython3",
   "version": "3.11.7"
  }
 },
 "nbformat": 4,
 "nbformat_minor": 5
}
