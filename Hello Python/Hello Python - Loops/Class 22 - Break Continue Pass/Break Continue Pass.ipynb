{
 "cells": [
  {
   "cell_type": "markdown",
   "id": "4f8d5531-cbf2-490d-831a-c75f412dcb27",
   "metadata": {},
   "source": [
    "# Break Statement\n"
   ]
  },
  {
   "cell_type": "code",
   "execution_count": 22,
   "id": "26549d43-04d9-4a07-9b9e-fc240c7bd2a0",
   "metadata": {},
   "outputs": [],
   "source": [
    "start = -2\n",
    "end = 2\n",
    "num = 10"
   ]
  },
  {
   "cell_type": "code",
   "execution_count": 24,
   "id": "1995a5d7-73da-4444-b240-0d23db542110",
   "metadata": {},
   "outputs": [
    {
     "name": "stdout",
     "output_type": "stream",
     "text": [
      "-5.0\n",
      " ans printed \n",
      "-10.0\n",
      " ans printed \n",
      "Done\n"
     ]
    }
   ],
   "source": [
    "while (start <= end):\n",
    "    if(start == 0):\n",
    "        break\n",
    "    print(num/start)\n",
    "    start = start + 1\n",
    "    print(\" ans printed \")\n",
    "\n",
    "print(\"Done\")\n",
    "\n"
   ]
  },
  {
   "cell_type": "markdown",
   "id": "e373dcf6-2f38-4017-a2dc-1625804e9571",
   "metadata": {},
   "source": [
    "# Continue"
   ]
  },
  {
   "cell_type": "code",
   "execution_count": 32,
   "id": "bcce8659-0e8d-487f-8708-b48f9e14b7fe",
   "metadata": {},
   "outputs": [],
   "source": [
    "start = -2\n",
    "end = 2\n",
    "num = 10"
   ]
  },
  {
   "cell_type": "code",
   "execution_count": 37,
   "id": "38c8b3a9-95f4-46f9-9559-f79f2da994ac",
   "metadata": {},
   "outputs": [
    {
     "name": "stdout",
     "output_type": "stream",
     "text": [
      "Done\n"
     ]
    }
   ],
   "source": [
    "while (start <= end):\n",
    "    if(start == 0):\n",
    "        start = start + 1\n",
    "        continue\n",
    "    print(num/start)\n",
    "    start = start + 1\n",
    "    print(\" ans printed \")\n",
    "\n",
    "print(\"Done\")\n",
    "\n"
   ]
  },
  {
   "cell_type": "code",
   "execution_count": null,
   "id": "1643986d-4105-46ad-b510-48ec82518f46",
   "metadata": {},
   "outputs": [],
   "source": []
  },
  {
   "cell_type": "code",
   "execution_count": 42,
   "id": "7613786b-67dc-4e10-b443-b50960a59a8a",
   "metadata": {},
   "outputs": [
    {
     "name": "stdout",
     "output_type": "stream",
     "text": [
      " I am not hungry\n"
     ]
    }
   ],
   "source": [
    "hungry = False\n",
    "\n",
    "\n",
    "if(hungry):\n",
    "    pass\n",
    "else:\n",
    "    print(\" I am not hungry\")"
   ]
  },
  {
   "cell_type": "code",
   "execution_count": 44,
   "id": "fccb88d7-a4f7-46e4-884b-888af0d477bd",
   "metadata": {},
   "outputs": [],
   "source": [
    "start = -2\n",
    "end = 2\n",
    "num = 10\n",
    "\n",
    "while(start<=end):\n",
    "    start = start + 1\n",
    "    pass"
   ]
  }
 ],
 "metadata": {
  "kernelspec": {
   "display_name": "Python 3 (ipykernel)",
   "language": "python",
   "name": "python3"
  },
  "language_info": {
   "codemirror_mode": {
    "name": "ipython",
    "version": 3
   },
   "file_extension": ".py",
   "mimetype": "text/x-python",
   "name": "python",
   "nbconvert_exporter": "python",
   "pygments_lexer": "ipython3",
   "version": "3.11.5"
  }
 },
 "nbformat": 4,
 "nbformat_minor": 5
}
