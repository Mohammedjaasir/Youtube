{
 "cells": [
  {
   "cell_type": "markdown",
   "id": "ea6961a4-710b-4259-a530-a133b1072b6c",
   "metadata": {},
   "source": [
    "# For Loop"
   ]
  },
  {
   "cell_type": "code",
   "execution_count": 2,
   "id": "919fb0df-67fa-4ca9-8bf9-43dbad203a86",
   "metadata": {},
   "outputs": [],
   "source": [
    "name = \"Mayank\""
   ]
  },
  {
   "cell_type": "code",
   "execution_count": 4,
   "id": "b6881bbc-be59-44d0-8df0-a23c6584f4ca",
   "metadata": {},
   "outputs": [
    {
     "name": "stdout",
     "output_type": "stream",
     "text": [
      "M\n",
      "a\n",
      "y\n",
      "a\n",
      "n\n",
      "k\n"
     ]
    }
   ],
   "source": [
    "for ch in name:\n",
    "    print(ch)"
   ]
  },
  {
   "cell_type": "code",
   "execution_count": 14,
   "id": "0a5a52c9-96cf-4e64-ad5d-b090d156dba5",
   "metadata": {},
   "outputs": [
    {
     "name": "stdout",
     "output_type": "stream",
     "text": [
      "1\n",
      "2\n",
      "4\n",
      "5\n"
     ]
    }
   ],
   "source": [
    "l1 = [1,2,3,4,5]\n",
    "\n",
    "for i in l1:\n",
    "    if(i ==3):\n",
    "        i = i+1\n",
    "        continue\n",
    "    print(i)\n",
    "    "
   ]
  },
  {
   "cell_type": "code",
   "execution_count": 16,
   "id": "e124355d-bd36-460c-bcb8-f50513914c22",
   "metadata": {},
   "outputs": [
    {
     "name": "stdout",
     "output_type": "stream",
     "text": [
      "1\n",
      "2\n",
      "3\n",
      "4\n",
      "5\n"
     ]
    }
   ],
   "source": [
    "start = 0\n",
    "while(start < len(l1)):\n",
    "    print(l1[start])\n",
    "    start = start + 1"
   ]
  },
  {
   "cell_type": "code",
   "execution_count": null,
   "id": "c0ab1cd6-e8bf-4f48-8579-ba884fe50e8e",
   "metadata": {},
   "outputs": [],
   "source": []
  },
  {
   "cell_type": "code",
   "execution_count": null,
   "id": "9e9b07a3-f0d1-4783-ac94-736ae1859060",
   "metadata": {},
   "outputs": [],
   "source": []
  },
  {
   "cell_type": "code",
   "execution_count": 20,
   "id": "373ea9b7-1737-4c20-b05a-093d8cef5fe9",
   "metadata": {},
   "outputs": [
    {
     "name": "stdin",
     "output_type": "stream",
     "text": [
      " nvaljbnfoanbgoahnraipfbajlznfo\n"
     ]
    }
   ],
   "source": [
    "st = input()\n"
   ]
  },
  {
   "cell_type": "code",
   "execution_count": 22,
   "id": "8d20a5cc-5655-4aa3-9a34-efbbdd33a97d",
   "metadata": {},
   "outputs": [
    {
     "name": "stdout",
     "output_type": "stream",
     "text": [
      "n\n",
      "v\n",
      "l\n",
      "j\n",
      "b\n",
      "n\n",
      "f\n",
      "n\n",
      "b\n",
      "g\n",
      "h\n",
      "n\n",
      "r\n",
      "p\n",
      "f\n",
      "b\n",
      "j\n",
      "l\n",
      "z\n",
      "n\n",
      "f\n",
      "DONE\n"
     ]
    }
   ],
   "source": [
    "for ch in st:\n",
    "    if(ch in \"aeiou\"):\n",
    "        continue\n",
    "    print(ch)\n",
    "\n",
    "print(\"DONE\")"
   ]
  },
  {
   "cell_type": "code",
   "execution_count": null,
   "id": "8c2ddbf6-8b85-4673-80b7-f15d8d559b51",
   "metadata": {},
   "outputs": [],
   "source": []
  }
 ],
 "metadata": {
  "kernelspec": {
   "display_name": "Python 3 (ipykernel)",
   "language": "python",
   "name": "python3"
  },
  "language_info": {
   "codemirror_mode": {
    "name": "ipython",
    "version": 3
   },
   "file_extension": ".py",
   "mimetype": "text/x-python",
   "name": "python",
   "nbconvert_exporter": "python",
   "pygments_lexer": "ipython3",
   "version": "3.11.5"
  }
 },
 "nbformat": 4,
 "nbformat_minor": 5
}
