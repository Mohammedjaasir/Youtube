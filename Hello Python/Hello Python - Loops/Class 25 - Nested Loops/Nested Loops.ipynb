{
 "cells": [
  {
   "cell_type": "markdown",
   "id": "3ac18748-d810-4cf5-b254-12947e2053cc",
   "metadata": {},
   "source": [
    "# Nested Loops"
   ]
  },
  {
   "cell_type": "code",
   "execution_count": 11,
   "id": "1e10fa37-3687-42ec-acbf-b342ad983ff4",
   "metadata": {},
   "outputs": [
    {
     "name": "stdout",
     "output_type": "stream",
     "text": [
      "Outer Loop Number  1\n",
      "Inner Loop :-  3\n",
      "Inner Loop :-  4\n",
      "outside of Inner Loop for  1\n",
      "Outer Loop Number  2\n",
      "Inner Loop :-  6\n",
      "Inner Loop :-  8\n",
      "outside of Inner Loop for  2\n",
      "Outer Loop Number  3\n",
      "Inner Loop :-  9\n",
      "Inner Loop :-  12\n",
      "outside of Inner Loop for  3\n",
      "Outer Loop Number  4\n",
      "Inner Loop :-  12\n",
      "Inner Loop :-  16\n",
      "outside of Inner Loop for  4\n",
      "I am here\n"
     ]
    }
   ],
   "source": [
    "for var1 in range(1,11):\n",
    "\n",
    "    if(var1 == 5):\n",
    "        break\n",
    "    print(\"Outer Loop Number \",var1)\n",
    "    for var2 in range(3,5):\n",
    "        print(\"Inner Loop :- \" , var1 * var2)\n",
    "\n",
    "    print(\"outside of Inner Loop for \",var1)\n",
    "\n",
    "\n",
    "print(\"I am here\")"
   ]
  },
  {
   "cell_type": "code",
   "execution_count": null,
   "id": "2c64bff3-4949-45d3-9cd9-5dea16895111",
   "metadata": {},
   "outputs": [],
   "source": []
  },
  {
   "cell_type": "code",
   "execution_count": null,
   "id": "ea64195b-545f-461b-8eb6-c4973e3d65e3",
   "metadata": {},
   "outputs": [],
   "source": [
    "1\n",
    "22\n",
    "333\n",
    "4444\n",
    "55555"
   ]
  },
  {
   "cell_type": "code",
   "execution_count": 27,
   "id": "900cefd1-dd2e-4ce0-8a4c-c9213c5740ee",
   "metadata": {},
   "outputs": [],
   "source": [
    "n = 9"
   ]
  },
  {
   "cell_type": "code",
   "execution_count": 29,
   "id": "730b1bcf-da12-4f44-9f31-3ed3de95f2c1",
   "metadata": {},
   "outputs": [
    {
     "name": "stdout",
     "output_type": "stream",
     "text": [
      "1\n",
      "22\n",
      "333\n",
      "4444\n",
      "55555\n",
      "666666\n",
      "7777777\n",
      "88888888\n",
      "999999999\n"
     ]
    }
   ],
   "source": [
    "for outer in range(1,n+1):\n",
    "    # print(outer)\n",
    "    for inner in range(outer):\n",
    "        print(outer,end=\"\")\n",
    "    print()"
   ]
  },
  {
   "cell_type": "code",
   "execution_count": 32,
   "id": "f8ab783e-cb0a-4611-bd45-9be22704c56e",
   "metadata": {},
   "outputs": [
    {
     "name": "stdout",
     "output_type": "stream",
     "text": [
      "1\n",
      "2\n",
      "3\n",
      "4\n",
      "5\n",
      "4\n",
      "6\n",
      "8\n",
      "10\n",
      "9\n",
      "12\n",
      "15\n",
      "16\n",
      "20\n",
      "25\n"
     ]
    }
   ],
   "source": [
    "start = 1\n",
    "end = 5\n",
    "\n",
    "while(start <=end):\n",
    "    outer = start\n",
    "    while(outer <=end):\n",
    "        print(start * outer)\n",
    "        outer = outer + 1\n",
    "    start = start+1\n",
    "    "
   ]
  },
  {
   "cell_type": "code",
   "execution_count": null,
   "id": "6fa96449-1b8a-487a-a6be-65a7d00c2aa0",
   "metadata": {},
   "outputs": [],
   "source": []
  }
 ],
 "metadata": {
  "kernelspec": {
   "display_name": "Python 3 (ipykernel)",
   "language": "python",
   "name": "python3"
  },
  "language_info": {
   "codemirror_mode": {
    "name": "ipython",
    "version": 3
   },
   "file_extension": ".py",
   "mimetype": "text/x-python",
   "name": "python",
   "nbconvert_exporter": "python",
   "pygments_lexer": "ipython3",
   "version": "3.11.5"
  }
 },
 "nbformat": 4,
 "nbformat_minor": 5
}
